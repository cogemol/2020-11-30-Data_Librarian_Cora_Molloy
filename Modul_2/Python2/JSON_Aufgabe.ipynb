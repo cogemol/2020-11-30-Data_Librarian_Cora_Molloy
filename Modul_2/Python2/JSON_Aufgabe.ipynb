{
 "metadata": {
  "language_info": {
   "codemirror_mode": {
    "name": "ipython",
    "version": 3
   },
   "file_extension": ".py",
   "mimetype": "text/x-python",
   "name": "python",
   "nbconvert_exporter": "python",
   "pygments_lexer": "ipython3",
   "version": "3.8.6-final"
  },
  "orig_nbformat": 2,
  "kernelspec": {
   "name": "python3",
   "display_name": "Python 3.8.6 64-bit",
   "metadata": {
    "interpreter": {
     "hash": "4fac973d8b48a5fcf37e7d133428a31fb47ebbd054f5d1feed8c0da486f2af46"
    }
   }
  }
 },
 "nbformat": 4,
 "nbformat_minor": 2,
 "cells": [
  {
   "source": [
    "## Modul 2, Python Aufgaben Bearbeitung"
   ],
   "cell_type": "markdown",
   "metadata": {}
  },
  {
   "source": [
    "Erste Aufgaben: Dateien öffnen, lesen, schreiben.\n",
    "CSV öffnen siehe zbiw-data-librarian-module2-1.ipynb"
   ],
   "cell_type": "markdown",
   "metadata": {}
  },
  {
   "cell_type": "code",
   "execution_count": 1,
   "metadata": {},
   "outputs": [],
   "source": [
    "import json"
   ]
  },
  {
   "cell_type": "code",
   "execution_count": 2,
   "metadata": {},
   "outputs": [],
   "source": [
    "url = \"https://www.bibsonomy.org/json/search/Bibliothek?items=1000&duplicates=merged\" "
   ]
  },
  {
   "source": [
    "### Option 1 für Import  mit built-in library urllib"
   ],
   "cell_type": "markdown",
   "metadata": {}
  },
  {
   "cell_type": "code",
   "execution_count": 5,
   "metadata": {},
   "outputs": [],
   "source": [
    "import urllib.request\n",
    "import urllib.parse"
   ]
  },
  {
   "cell_type": "code",
   "execution_count": 6,
   "metadata": {},
   "outputs": [],
   "source": [
    "# nach den obigen Vorbereitungen eigentlicher Import:\n",
    "f = urllib.request.urlopen(url) # f ist eine HTTPResponse\n",
    "result = f.read().decode('utf-8') # utf-8 ist oft die richtige Wahl"
   ]
  },
  {
   "cell_type": "code",
   "execution_count": 7,
   "metadata": {},
   "outputs": [
    {
     "output_type": "stream",
     "name": "stdout",
     "text": [
      "<class 'dict'>\n"
     ]
    }
   ],
   "source": [
    "# Ergebnis ist str, muss erst noch als JSON verarbeitet werden (Ergebnis = dict)\n",
    "data = json.loads(result) # json.loads() lädt JSON Daten aus einem String\n",
    "print(type(data))"
   ]
  },
  {
   "source": [
    "### Option 2 für Import mit third party request"
   ],
   "cell_type": "markdown",
   "metadata": {}
  },
  {
   "cell_type": "code",
   "execution_count": 4,
   "metadata": {},
   "outputs": [],
   "source": [
    "import requests"
   ]
  },
  {
   "cell_type": "code",
   "execution_count": 5,
   "metadata": {},
   "outputs": [],
   "source": [
    "result = requests.get(url) # result ist ein requests.models.Response Objekt"
   ]
  },
  {
   "cell_type": "code",
   "execution_count": 11,
   "metadata": {},
   "outputs": [],
   "source": [
    "data = result.json() # das Response-Objekt kann direkt als JSON ausgelesen werden und man hat auch ein Dictionary, wie oben"
   ]
  },
  {
   "source": [
    "### jetzt geht es weiter mit der Verarbeitung der Daten: \"data\""
   ],
   "cell_type": "markdown",
   "metadata": {}
  },
  {
   "cell_type": "code",
   "execution_count": 3,
   "metadata": {
    "tags": []
   },
   "outputs": [
    {
     "output_type": "error",
     "ename": "NameError",
     "evalue": "name 'data' is not defined",
     "traceback": [
      "\u001b[1;31m---------------------------------------------------------------------------\u001b[0m",
      "\u001b[1;31mNameError\u001b[0m                                 Traceback (most recent call last)",
      "\u001b[1;32m<ipython-input-3-65728dcee517>\u001b[0m in \u001b[0;36m<module>\u001b[1;34m\u001b[0m\n\u001b[1;32m----> 1\u001b[1;33m \u001b[0mprint\u001b[0m\u001b[1;33m(\u001b[0m\u001b[0mdata\u001b[0m\u001b[1;33m)\u001b[0m \u001b[1;31m#dann sehe ich sie mal ...\u001b[0m\u001b[1;33m\u001b[0m\u001b[1;33m\u001b[0m\u001b[0m\n\u001b[0m",
      "\u001b[1;31mNameError\u001b[0m: name 'data' is not defined"
     ]
    }
   ],
   "source": [
    "print(data) #dann sehe ich sie mal ..."
   ]
  },
  {
   "cell_type": "code",
   "execution_count": 9,
   "metadata": {
    "tags": [
     "outputPrepend"
    ]
   },
   "outputs": [
    {
     "output_type": "stream",
     "name": "stdout",
     "text": [
      "        \"Ismail Prada\"\n      ],\n      \"authors\": [\n        {\n          \"first\": \"Michael\",\n          \"last\": \"Gasser\"\n        },\n        {\n          \"first\": \"Regina\",\n          \"last\": \"Wanger\"\n        },\n        {\n          \"first\": \"Ismail\",\n          \"last\": \"Prada\"\n        }\n      ],\n      \"volume\": \"5\",\n      \"number\": \"4\",\n      \"pages\": \"181--192\",\n      \"abstract\": \"In Zusammenarbeit mit dem Institut f\\u00fcr Computerlinguistik der Universit\\u00e4t Z\\u00fcrich (ICL UZH) lancierte die ETH-Bibliothek Z\\u00fcrich ein Pilotprojekt im Bereich automatisierter Textanreicherung. Grundlage f\\u00fcr den Piloten bildeten Volltextdateien der Schweizer Zeitschriftenplattform E-Periodica. Anhand eines ausgew\\u00e4hlten Korpus dieser OCR-Daten wurden mit automatisierten Verfahren Tests in den Bereichen OCR-Korrektur, Erkennung von Personen-, Orts- und L\\u00e4ndernamen sowie Verlinkung identifizierter Personen mit der Gemeinsamen Normdatei GND durchgef\\u00fchrt. Insgesamt wurden sehr positive Resultate erzielt. Das verwendete System dient nun als Grundlage f\\u00fcr den weiteren Kompetenzausbau der ETH-Bibliothek auf diesem Gebiet. Das gesamte bestehende Angebot der Plattform E-Periodica soll automatisiert angereichert und um neue Funktionalit\\u00e4ten erweitert werden. Dies mit dem Ziel, Forschenden einen Mehrwert bei der Informationsbeschaffung zu bieten. Im vorliegenden Beitrag werden Projektinhalt, Methodik und Resultate erl\\u00e4utert sowie das weitere Vorgehen skizziert.\",\n      \"language\": \"de-DE\",\n      \"issn\": \"2363-9814\",\n      \"doi\": \"10.5282/o-bib/2018H4S181-192\",\n      \"urldate\": \"2018-12-13\",\n      \"bibtexKey\": \"gasser_wenn_2018\"\n    },\n    {\n      \"type\": \"Publication\",\n      \"id\": \"https://www.bibsonomy.org/bibtex/24c306e232296d02e2b4a48b9de4dd283/thorade\",\n      \"tags\": [\n        \"2009\",\n        \"german\",\n        \"Modelica\",\n        \"merged:thorade\",\n        \"merged:dblp\",\n        \"control\",\n        \"dblp\"\n      ],\n      \"intraHash\": \"4c306e232296d02e2b4a48b9de4dd283\",\n      \"interHash\": \"47ab118690d288bdd617691c9f4a777e\",\n      \"label\": \"Modelica Predictive Control \\u2013 An MPC Library for Modelica Eine MPC-Bibliothek f\\u00fcr Modelica\",\n      \"user\": \"thorade\",\n      \"description\": \"\",\n      \"date\": \"2013-03-19 16:21:16\",\n      \"changeDate\": \"2015-04-08 09:27:11\",\n      \"count\": 2,\n      \"pub-type\": \"article\",\n      \"journal\": \"at - Automatisierungstechnik\",\n      \"booktitle\": \"at - Automatisierungstechnik\",\n      \"publisher\": \"Oldenbourg Wissenschaftsverlag GmbH\",\n      \"year\": \"2009\",\n      \"url\": \"http://dx.doi.org/10.1524/auto.2009.0766\",\n      \"author\": [\n        \"Sebastian H\\u00f6lemann\",\n        \"Dirk Abel\"\n      ],\n      \"authors\": [\n        {\n          \"first\": \"Sebastian\",\n          \"last\": \"H\\u00f6lemann\"\n        },\n        {\n          \"first\": \"Dirk\",\n          \"last\": \"Abel\"\n        }\n      ],\n      \"volume\": \"57\",\n      \"number\": \"4\",\n      \"pages\": \"187--194\",\n      \"abstract\": \"Modelica ist eine m\\u00e4chtige und flexible L\\u00f6sung zur objektorientierten komponentenweisen Modellierung dynamischer Systeme. Allerdings bietet es bislang nur wenige Ans\\u00e4tze h\\u00f6here Regelungsverfahren zu integrieren. In diesem Artikel wird eine Modelica Bibliothek f\\u00fcr modellgest\\u00fctze pr\\u00e4diktive Regler vorgestellt, die die Verwendung verschiedener linearer Modellrepr\\u00e4sentationen zur Pr\\u00e4diktion der zuk\\u00fcnftigen Regelgr\\u00f6\\u00dfen erm\\u00f6glicht. Weiterhin kann der Regler Beschr\\u00e4nkungen und St\\u00f6rgr\\u00f6\\u00dfen behandeln. Ein Reglerblock kann leicht in jedes Modelica Modell eingef\\u00fcgt werden und ist intuitiv parametrierbar. Die Bibliothek erspart die oftmals schwierige Kopplung von Modelica zu anderen Softwarepaketen. Sie leistet daher einen Beitrag zum durchg\\u00e4ngigen Reglerentwurf mit Modelica.\",\n      \"issn\": \"01782312\",\n      \"comment\": \"doi: 10.1524/auto.2009.0766\",\n      \"doi\": \"10.1524/auto.2009.0766\",\n      \"bibtexKey\": \"holemann2009modelica\"\n    },\n    {\n      \"type\": \"Publication\",\n      \"id\": \"https://www.bibsonomy.org/bibtex/26383ceab3b88e4400b201cf9c445cbcb/miba\",\n      \"tags\": [\n        \"imported\",\n        \"merged:miba\"\n      ],\n      \"intraHash\": \"6383ceab3b88e4400b201cf9c445cbcb\",\n      \"interHash\": \"116e61fc655e27138029f4ffdccece97\",\n      \"label\": \"Das RFID-Projekt an der Bibliothek der Humboldt-Universit\\u00e4t zu Berlin \\u2014 Stand und Perspektiven\",\n      \"user\": \"miba\",\n      \"description\": \"\",\n      \"date\": \"2012-10-22 13:36:33\",\n      \"changeDate\": \"2012-10-22 13:36:34\",\n      \"count\": 1,\n      \"pub-type\": \"article\",\n      \"journal\": \"Bibliotheksdienst\",\n      \"year\": \"2009\",\n      \"url\": \"\",\n      \"author\": [\n        \"Anke Berghaus-Sprengel\",\n        \"Tobias K\\u00fchne\"\n      ],\n      \"authors\": [\n        {\n          \"first\": \"Anke\",\n          \"last\": \"Berghaus-Sprengel\"\n        },\n        {\n          \"first\": \"Tobias\",\n          \"last\": \"K\\u00fchne\"\n        }\n      ],\n      \"volume\": \"43\",\n      \"number\": \"6\",\n      \"pages\": \"588--598\",\n      \"issn\": \"0006-1972\",\n      \"file\": \"Benutzung010609BD.pdf:C:\\\\Dokumente und Einstellungen\\\\mittelb\\\\Anwendungsdaten\\\\Mozilla\\\\Firefox\\\\bibo\\\\zotero\\\\storage\\\\Z38INX3W\\\\Benutzung010609BD.pdf:application/pdf\",\n      \"lccn\": \"0000\",\n      \"bibtexKey\": \"berghaus-sprengel_rfid-projekt_2009\"\n    },\n    {\n      \"type\": \"Publication\",\n      \"id\": \"https://www.bibsonomy.org/bibtex/219b84d6d95eeda7214f425d2bccb77c6/genealogie\",\n      \"tags\": [\n        \"dnb\",\n        \"merged:genealogie\",\n        \"Bibliotheks_und_Informationswissenschaft\"\n      ],\n      \"intraHash\": \"19b84d6d95eeda7214f425d2bccb77c6\",\n      \"interHash\": \"205db0361d997ae608d2103674e29435\",\n      \"label\": \"Membra disiecta: Inhalt und Wirkung der Bibliothek des G\\u00f6ttinger Professors L\\u00fcder Kulenkamp (1724 - 1794)\",\n      \"user\": \"genealogie\",\n      \"description\": \"\",\n      \"date\": \"2015-09-08 07:08:09\",\n      \"changeDate\": \"2015-09-08 07:08:09\",\n      \"count\": 1,\n      \"pub-type\": \"phdthesis\",\n      \"year\": \"2013\",\n      \"url\": \"\",\n      \"author\": [\n        \"Annette Pozzo\"\n      ],\n      \"authors\": [\n        {\n          \"first\": \"Annette\",\n          \"last\": \"Pozzo\"\n        }\n      ],\n      \"dnbtitleid\": \"1044973323\",\n      \"bibtexKey\": \"pozzo2013membra\"\n    },\n    {\n      \"type\": \"Publication\",\n      \"id\": \"https://www.bibsonomy.org/bibtex/24079f19b21424574ef2614f0a1b89e75/antje\",\n      \"tags\": [\n        \"web2.0\",\n        \"section-analyse\",\n        \"museum\",\n        \"merged:antje\",\n        \"bildung\"\n      ],\n      \"intraHash\": \"4079f19b21424574ef2614f0a1b89e75\",\n      \"interHash\": \"649bae2364d1ef70ffe27fae0b674a6f\",\n      \"label\": \"Web 2.0 und das Museum\",\n      \"user\": \"antje\",\n      \"description\": \"Der vorliegende Beitrag ist die schriftliche Fassung der Keynote von Professor Peter Weibel im Rahmen der MAI-Tagung 2007 \\u201emuseums and the internet\\u201c am 10. Mai 2007.\",\n      \"date\": \"2011-08-24 09:17:16\",\n      \"changeDate\": \"2011-08-24 09:17:40\",\n      \"count\": 1,\n      \"pub-type\": \"incollection\",\n      \"booktitle\": \"Vom Betrachter zum Gestalter. Neue Medien in Museen \\u2013 Strategien, Beispiele und Perspektiven fu\\u0308r die Bildung\",\n      \"publisher\": \"Nomos Verlagsgesellschaft\",\n      \"address\": \"Baden-Baden\",\n      \"year\": \"2007\",\n      \"url\": \"http://www.mediaculture-online.de/fileadmin/bibliothek/weibel_web2.0/weibel_web2.0museum.pdf\",\n      \"author\": [\n        \"Peter Weibel\"\n      ],\n      \"authors\": [\n        {\n          \"first\": \"Peter\",\n          \"last\": \"Weibel\"\n        }\n      ],\n      \"editor\": [\n        \"Michael Mangold\",\n        \"Peter Weibel\",\n        \"Julie Woletz\"\n      ],\n      \"editors\": [\n        {\n          \"first\": \"Michael\",\n          \"last\": \"Mangold\"\n        },\n        {\n          \"first\": \"Peter\",\n          \"last\": \"Weibel\"\n        },\n        {\n          \"first\": \"Julie\",\n          \"last\": \"Woletz\"\n        }\n      ],\n      \"pages\": \"23-32\",\n      \"bibtexKey\": \"weibel2007\"\n    },\n    {\n      \"type\": \"Publication\",\n      \"id\": \"https://www.bibsonomy.org/bibtex/2c21a3550d51608ad28aba9a4d1fb3685/genealogie\",\n      \"tags\": [\n        \"Verlagswesen\",\n        \"Bibliothek\",\n        \"merged:genealogie\",\n        \"Buch\",\n        \"Rtechnik_allgemein\",\n        \"Handschriften\",\n        \"Information_und_Dokumentation\",\n        \"Nachrichtenmedien\",\n        \"seltene_B\\u00fccher\",\n        \"dnb\",\n        \"Bibliotheks_und_Informationswissenschaft\",\n        \"Journalismus\",\n        \"Schrift\"\n      ],\n      \"intraHash\": \"c21a3550d51608ad28aba9a4d1fb3685\",\n      \"interHash\": \"1324f6924b178bf800d78565f061e663\",\n      \"label\": \"Technisch-wissenschaftliche Dokumentation in Deutschland von 1900 bis 1945: unter besonderer Ber\\u00fccksichtigung des Verh\\u00e4ltnisses von Bibliothek und Dokumentation\",\n      \"user\": \"genealogie\",\n      \"description\": \"\",\n      \"date\": \"2015-09-09 12:31:59\",\n      \"changeDate\": \"2015-09-09 13:46:06\",\n      \"count\": 1,\n      \"pub-type\": \"phdthesis\",\n      \"year\": \"1994\",\n      \"url\": \"\",\n      \"author\": [\n        \"Elke Behrends\"\n      ],\n      \"authors\": [\n        {\n          \"first\": \"Elke\",\n          \"last\": \"Behrends\"\n        }\n      ],\n      \"dnbtitleid\": \"945947992\",\n      \"bibtexKey\": \"behrends1994technischwissenschaftliche\"\n    },\n    {\n      \"type\": \"Publication\",\n      \"id\": \"https://www.bibsonomy.org/bibtex/26e276d462f487a39aa707919c464b692/genealogie\",\n      \"tags\": [\n        \"dnb\",\n        \"merged:genealogie\",\n        \"Romanische_Sprach_und_Literaturwissenschaft\",\n        \"Musik\"\n      ],\n      \"intraHash\": \"6e276d462f487a39aa707919c464b692\",\n      \"interHash\": \"22d56a8b59308e5c0f02048b1cb6df91\",\n      \"label\": \"Der Wolfenb\\u00fctteler Chansonnier: Wolfenb\\u00fcttel, Herzog-August-Bibliothek, Codex Guelf. 287 Extrav. ; Unters. zu Repertoire u. \\u00dcberlieferung e. Musikhs. d. 15. Jh. u. ihres Umkreises\",\n      \"user\": \"genealogie\",\n      \"description\": \"\",\n      \"date\": \"2015-09-09 05:55:59\",\n      \"changeDate\": \"2015-09-09 05:55:59\",\n      \"count\": 1,\n      \"pub-type\": \"phdthesis\",\n      \"year\": \"1982\",\n      \"url\": \"\",\n      \"author\": [\n        \"Martella Guti\\u00e9rrez-Denhoff\"\n      ],\n      \"authors\": [\n        {\n          \"first\": \"Martella\",\n          \"last\": \"Guti\\u00e9rrez-Denhoff\"\n        }\n      ],\n      \"dnbtitleid\": \"850911001\",\n      \"bibtexKey\": \"gutierrezdenhoff1982wolfenbtteler\"\n    },\n    {\n      \"type\": \"Publication\",\n      \"id\": \"https://www.bibsonomy.org/bibtex/2747e28f9ca79f6ebddb975eefaa7991c/genealogie\",\n      \"tags\": [\n        \"Geschichte_und_Historische_Hilfswissenschaften\",\n        \"dnb\",\n        \"merged:genealogie\",\n        \"Philosophie\"\n      ],\n      \"intraHash\": \"747e28f9ca79f6ebddb975eefaa7991c\",\n      \"interHash\": \"7f981cb5086ea753d349f299b336e91a\",\n      \"label\": \"Die Suche nach der symbolischen Form: d. Kreis um d. Kulturwiss. Bibliothek Warburg\",\n      \"user\": \"genealogie\",\n      \"description\": \"\",\n      \"date\": \"2015-09-09 05:25:09\",\n      \"changeDate\": \"2015-09-09 05:25:09\",\n      \"count\": 1,\n      \"pub-type\": \"phdthesis\",\n      \"year\": \"1981\",\n      \"url\": \"\",\n      \"author\": [\n        \"Martin Jesinghausen\"\n      ],\n      \"authors\": [\n        {\n          \"first\": \"Martin\",\n          \"last\": \"Jesinghausen\"\n        }\n      ],\n      \"dnbtitleid\": \"841122083\",\n      \"bibtexKey\": \"jesinghausen1981suche\"\n    },\n    {\n      \"type\": \"Publication\",\n      \"id\": \"https://www.bibsonomy.org/bibtex/2cd5f6b0accc1815a62598abb8bb95acc/schoeneweide\",\n      \"tags\": [\n        \"imported\",\n        \"merged:schoeneweide\"\n      ],\n      \"intraHash\": \"cd5f6b0accc1815a62598abb8bb95acc\",\n      \"interHash\": \"f703a8cedc533d177696bd8bf9d51c99\",\n      \"label\": \"Erinnern -- Bedenken -- Lernen : das Schicksal von Juden,\\r\\nZwangsarbeitern und Kriegsgefangenen zwischen Hochrhein und Bodensee in\\r\\nden Jahren 1933 bis 1945\",\n      \"user\": \"schoeneweide\",\n      \"description\": \"schoeneweide\",\n      \"date\": \"2007-09-06 14:49:52\",\n      \"changeDate\": \"2007-09-06 14:49:55\",\n      \"count\": 1,\n      \"pub-type\": \"book\",\n      \"series\": \"Hegau--Bibliothek\",\n      \"publisher\": \"Thorbecke\",\n      \"address\": \"Sigmaringen\",\n      \"year\": \"1993\",\n      \"url\": \"\",\n      \"editor\": [\n        \"Alfred G. Frei\"\n      ],\n      \"editors\": [\n        {\n          \"first\": \"Alfred G.\",\n          \"last\": \"Frei\"\n        }\n      ],\n      \"volume\": \"69\",\n      \"bibtexKey\": \"FreiErin1993\"\n    },\n    {\n      \"type\": \"Publication\",\n      \"id\": \"https://www.bibsonomy.org/bibtex/24499b0420ca5707c873423ab8249d63a/orcival\",\n      \"tags\": [\n        \"merged:orcival\",\n        \"Hit_der_Geschichtswissenschaft\",\n        \"PT-Die_Nachkriegslinke_in_Italien\"\n      ],\n      \"intraHash\": \"4499b0420ca5707c873423ab8249d63a\",\n      \"interHash\": \"861585cbcd51a4438d582ca9ab12be0f\",\n      \"label\": \"Zwischen Berichte: Zur Diskussion \\u00fcber die Politik der bewaffneten und militanten LInken, in der BRD, Italien und der Schweiz\",\n      \"user\": \"orcival\",\n      \"description\": \"\",\n      \"date\": \"2009-10-13 21:09:56\",\n      \"changeDate\": \"2009-10-13 21:09:56\",\n      \"count\": 1,\n      \"pub-type\": \"book\",\n      \"publisher\": \"ID Verlag\",\n      \"address\": \"Berlin\",\n      \"year\": \"1998\",\n      \"url\": \"\",\n      \"editor\": [\n        \"IG Rote Fabrik\"\n      ],\n      \"editors\": [\n        {\n          \"first\": \"IG Rote\",\n          \"last\": \"Fabrik\"\n        }\n      ],\n      \"location\": \"Eigene Bibliothek\",\n      \"shorttitle\": \"Zwischen Berichte\",\n      \"bibtexKey\": \"ig_rote_fabrik_zwischen_1998\"\n    },\n    {\n      \"type\": \"Publication\",\n      \"id\": \"https://www.bibsonomy.org/bibtex/2792c40cd7d61a36333e5a212901d9b63/giedenbacher\",\n      \"tags\": [\n        \"imported\",\n        \"merged:giedenbacher\"\n      ],\n      \"intraHash\": \"792c40cd7d61a36333e5a212901d9b63\",\n      \"interHash\": \"ab7817682fb4b86616e3debfdc941c88\",\n      \"label\": \"Aufri\\u00df der Historischen Wissenschaften. Band 7: Neue Themen und Methoden der Geschichtswissenschaft\",\n      \"user\": \"giedenbacher\",\n      \"description\": \"\",\n      \"date\": \"2014-08-12 16:44:19\",\n      \"changeDate\": \"2014-08-12 16:44:19\",\n      \"count\": 1,\n      \"pub-type\": \"book\",\n      \"series\": \"Universal-Bibliothek\",\n      \"publisher\": \"Philipp Reclam jun\",\n      \"address\": \"Stuttgart\",\n      \"year\": \"2003\",\n      \"url\": \"\",\n      \"editor\": [\n        \"Michael Maurer\"\n      ],\n      \"editors\": [\n        {\n          \"first\": \"Michael\",\n          \"last\": \"Maurer\"\n        }\n      ],\n      \"volume\": \"17033\",\n      \"bibtexKey\": \"Maurer.2003b\"\n    },\n    {\n      \"type\": \"Publication\",\n      \"id\": \"https://www.bibsonomy.org/bibtex/24759ee1f6cb40798f28cfe3d1fa0afe9/bhessen\",\n      \"tags\": [\n        \"construction,\",\n        \"merged:bhessen\",\n        \"Fahrzeugen,\",\n        \"in\",\n        \"clutch,\",\n        \"{VDI-Kongress}\",\n        \"simulation,\",\n        \"transmission,\",\n        \"Getriebe\",\n        \"for\",\n        \"lightweight\",\n        \"E-drive,\",\n        \"manual\",\n        \"tribology,\",\n        \"{VDI-Berichte},\",\n        \"hybrid,\",\n        \"dual\",\n        \"transmission\",\n        \"integration,\",\n        \"efficiency,\",\n        \"vehicles,\",\n        \"Drivetrain\",\n        \"control,\"\n      ],\n      \"intraHash\": \"4759ee1f6cb40798f28cfe3d1fa0afe9\",\n      \"interHash\": \"447f585fb91102d0d0c47dd215b81706\",\n      \"label\": \"Internationaler VDI-Kongress Getriebe in Fahrzeugen 2012 \\u2013 International VDI Congress Drivetrain for vehicles 2012\",\n      \"user\": \"bhessen\",\n      \"description\": \"\",\n      \"date\": \"2013-01-26 11:35:39\",\n      \"changeDate\": \"2013-01-26 11:35:47\",\n      \"count\": 1,\n      \"pub-type\": \"inproceedings\",\n      \"publisher\": \"VDI Verlag GmbH, D\\u00fcsseldorf\",\n      \"year\": \"2012\",\n      \"url\": \"\",\n      \"author\": [\n        \" diverse\",\n        \" \\\\VDI Society Product and Process Design\\\\\",\n        \" \\\\Internationaler VDI-Kongress Getriebe in Fahrzeugen 2012 Friedrichshafen, 19. und 20.06.2012\\\\\"\n      ],\n      \"authors\": [\n        {\n          \"first\": \"\",\n          \"last\": \"diverse\"\n        },\n        {\n          \"first\": \"\",\n          \"last\": \"\\\\VDI Society Product and Process Design\\\\\"\n        },\n        {\n          \"first\": \"\",\n          \"last\": \"\\\\Internationaler VDI-Kongress Getriebe in Fahrzeugen 2012 Friedrichshafen, 19. und 20.06.2012\\\\\"\n        }\n      ],\n      \"editor\": [\n        \"VDI Wissensforum GmbH\"\n      ],\n      \"editors\": [\n        {\n          \"first\": \"VDI Wissensforum\",\n          \"last\": \"GmbH\"\n        }\n      ],\n      \"abstract\": \"Solutions and approaches around vehicle driveline-technology. In 2012 the scope of vehicles covers passenger cars and construction/agricultural machines (construction and agricultural machines are covered by the connected conference \\\"transmissions for mobile machines\\\"). The connected conference \\\"production of transmissions for the automotive industry\\\" covers latest production technology. Within the VDI-Congress of 2012 you will find latest answers and solutions for concepts for automatic transmissions, automated manual and purely manual transmissions, efficiency-increasing measures, hybrid-drives, electric mobility, driveline-components, clutches and operation strategies, lightweight design, reduction of vibrations, development- and test-methods.\",\n      \"location\": \"Raum Bibliothek, Geb. 50.33\",\n      \"isbn\": \"9783180921\",\n      \"language\": \"englisch\",\n      \"bibtexKey\": \"diverse_internationaler_2012\"\n    },\n    {\n      \"type\": \"Publication\",\n      \"id\": \"https://www.bibsonomy.org/bibtex/24ff7d8a6513d129b597616d670a58ebb/genealogie\",\n      \"tags\": [\n        \"dnb\",\n        \"merged:genealogie\",\n        \"Deutsche_Literatur\",\n        \"Bibliotheks_und_Informationswissenschaft\",\n        \"Bibliografien\"\n      ],\n      \"intraHash\": \"4ff7d8a6513d129b597616d670a58ebb\",\n      \"interHash\": \"42a8dc074ba65fe4fb53399428e78d78\",\n      \"label\": \"Kommentierter Katalog der nachgelassenen Bibliothek von Johannes Bobrowski\",\n      \"user\": \"genealogie\",\n      \"description\": \"\",\n      \"date\": \"2015-09-09 23:37:57\",\n      \"changeDate\": \"2015-09-09 23:37:57\",\n      \"count\": 1,\n      \"pub-type\": \"phdthesis\",\n      \"year\": \"2006\",\n      \"url\": \"\",\n      \"author\": [\n        \"Dalia Bukauskait\"\n      ],\n      \"authors\": [\n        {\n          \"first\": \"Dalia\",\n          \"last\": \"Bukauskait\"\n        }\n      ],\n      \"dnbtitleid\": \"980163021\",\n      \"bibtexKey\": \"bukauskait2006kommentierter\"\n    },\n    {\n      \"type\": \"Publication\",\n      \"id\": \"https://www.bibsonomy.org/bibtex/24b9cd0d9e8ff8afa2281fbdab8e5b2fc/dblp\",\n      \"tags\": [\n        \"merged:dblp\",\n        \"dblp\"\n      ],\n      \"intraHash\": \"4b9cd0d9e8ff8afa2281fbdab8e5b2fc\",\n      \"interHash\": \"d05f4d472c6761a32d5bd3ad69b14491\",\n      \"label\": \"Datenbasis und Bibliothek f\\u00fcr ein Programmiersystem f\\u00fcr speicherprogrammierbare Steuerungen.\",\n      \"user\": \"dblp\",\n      \"description\": \"\",\n      \"date\": \"2017-01-09 00:00:00\",\n      \"changeDate\": \"2017-01-10 11:35:44\",\n      \"count\": 1,\n      \"pub-type\": \"phdthesis\",\n      \"year\": \"1992\",\n      \"url\": \"\",\n      \"author\": [\n        \"Maik K\\u00f6hler\"\n      ],\n      \"authors\": [\n        {\n          \"first\": \"Maik\",\n          \"last\": \"K\\u00f6hler\"\n        }\n      ],\n      \"ee\": \"http://d-nb.info/945697287\",\n      \"bibtexKey\": \"phd/dnb/Kohler92\"\n    },\n    {\n      \"type\": \"Publication\",\n      \"id\": \"https://www.bibsonomy.org/bibtex/29d2e5b89550f6b74c97f396b6f09504c/lepsky\",\n      \"tags\": [\n        \"zz-i\",\n        \"merged:lepsky\"\n      ],\n      \"intraHash\": \"9d2e5b89550f6b74c97f396b6f09504c\",\n      \"interHash\": \"acdb4eef241bd0511678f6db058ce5e6\",\n      \"label\": \"Lexikon Buch, Bibliothek, neue Medien\",\n      \"user\": \"lepsky\",\n      \"description\": \"\",\n      \"date\": \"2018-11-04 16:45:24\",\n      \"changeDate\": \"2018-11-04 16:45:24\",\n      \"count\": 1,\n      \"pub-type\": \"book\",\n      \"publisher\": \"Saur\",\n      \"address\": \"M\\u00fcnchen\",\n      \"year\": \"1991\",\n      \"url\": \"\",\n      \"author\": [\n        \"Margarete Rehm\"\n      ],\n      \"authors\": [\n        {\n          \"first\": \"Margarete\",\n          \"last\": \"Rehm\"\n        }\n      ],\n      \"isbn\": \"3-598-10851-6\",\n      \"bibtexKey\": \"rehm_lexikon_1991\"\n    }\n  ]\n}\n"
     ]
    }
   ],
   "source": [
    "print(json.dumps(data, indent=2)) #besser lesbar, und ich bestimme die Einrückung selbst"
   ]
  },
  {
   "cell_type": "code",
   "execution_count": 10,
   "metadata": {
    "tags": [
     "outputPrepend"
    ]
   },
   "outputs": [
    {
     "output_type": "stream",
     "name": "stdout",
     "text": [
      "y': 'holemann2009modelica',\n",
      "            'booktitle': 'at - Automatisierungstechnik',\n",
      "            'changeDate': '2015-04-08 09:27:11',\n",
      "            'comment': 'doi: 10.1524/auto.2009.0766',\n",
      "            'count': 2,\n",
      "            'date': '2013-03-19 16:21:16',\n",
      "            'description': '',\n",
      "            'doi': '10.1524/auto.2009.0766',\n",
      "            'id': 'https://www.bibsonomy.org/bibtex/24c306e232296d02e2b4a48b9de4dd283/thorade',\n",
      "            'interHash': '47ab118690d288bdd617691c9f4a777e',\n",
      "            'intraHash': '4c306e232296d02e2b4a48b9de4dd283',\n",
      "            'issn': '01782312',\n",
      "            'journal': 'at - Automatisierungstechnik',\n",
      "            'label': 'Modelica Predictive Control – An MPC Library for '\n",
      "                     'Modelica Eine MPC-Bibliothek für Modelica',\n",
      "            'number': '4',\n",
      "            'pages': '187--194',\n",
      "            'pub-type': 'article',\n",
      "            'publisher': 'Oldenbourg Wissenschaftsverlag GmbH',\n",
      "            'tags': ['2009',\n",
      "                     'german',\n",
      "                     'Modelica',\n",
      "                     'merged:thorade',\n",
      "                     'merged:dblp',\n",
      "                     'control',\n",
      "                     'dblp'],\n",
      "            'type': 'Publication',\n",
      "            'url': 'http://dx.doi.org/10.1524/auto.2009.0766',\n",
      "            'user': 'thorade',\n",
      "            'volume': '57',\n",
      "            'year': '2009'},\n",
      "           {'author': ['Anke Berghaus-Sprengel', 'Tobias Kühne'],\n",
      "            'authors': [{'first': 'Anke', 'last': 'Berghaus-Sprengel'},\n",
      "                        {'first': 'Tobias', 'last': 'Kühne'}],\n",
      "            'bibtexKey': 'berghaus-sprengel_rfid-projekt_2009',\n",
      "            'changeDate': '2012-10-22 13:36:34',\n",
      "            'count': 1,\n",
      "            'date': '2012-10-22 13:36:33',\n",
      "            'description': '',\n",
      "            'file': 'Benutzung010609BD.pdf:C:\\\\Dokumente und '\n",
      "                    'Einstellungen\\\\mittelb\\\\Anwendungsdaten\\\\Mozilla\\\\Firefox\\\\bibo\\\\zotero\\\\storage\\\\Z38INX3W\\\\Benutzung010609BD.pdf:application/pdf',\n",
      "            'id': 'https://www.bibsonomy.org/bibtex/26383ceab3b88e4400b201cf9c445cbcb/miba',\n",
      "            'interHash': '116e61fc655e27138029f4ffdccece97',\n",
      "            'intraHash': '6383ceab3b88e4400b201cf9c445cbcb',\n",
      "            'issn': '0006-1972',\n",
      "            'journal': 'Bibliotheksdienst',\n",
      "            'label': 'Das RFID-Projekt an der Bibliothek der '\n",
      "                     'Humboldt-Universität zu Berlin — Stand und Perspektiven',\n",
      "            'lccn': '0000',\n",
      "            'number': '6',\n",
      "            'pages': '588--598',\n",
      "            'pub-type': 'article',\n",
      "            'tags': ['imported', 'merged:miba'],\n",
      "            'type': 'Publication',\n",
      "            'url': '',\n",
      "            'user': 'miba',\n",
      "            'volume': '43',\n",
      "            'year': '2009'},\n",
      "           {'author': ['Annette Pozzo'],\n",
      "            'authors': [{'first': 'Annette', 'last': 'Pozzo'}],\n",
      "            'bibtexKey': 'pozzo2013membra',\n",
      "            'changeDate': '2015-09-08 07:08:09',\n",
      "            'count': 1,\n",
      "            'date': '2015-09-08 07:08:09',\n",
      "            'description': '',\n",
      "            'dnbtitleid': '1044973323',\n",
      "            'id': 'https://www.bibsonomy.org/bibtex/219b84d6d95eeda7214f425d2bccb77c6/genealogie',\n",
      "            'interHash': '205db0361d997ae608d2103674e29435',\n",
      "            'intraHash': '19b84d6d95eeda7214f425d2bccb77c6',\n",
      "            'label': 'Membra disiecta: Inhalt und Wirkung der Bibliothek des '\n",
      "                     'Göttinger Professors Lüder Kulenkamp (1724 - 1794)',\n",
      "            'pub-type': 'phdthesis',\n",
      "            'tags': ['dnb',\n",
      "                     'merged:genealogie',\n",
      "                     'Bibliotheks_und_Informationswissenschaft'],\n",
      "            'type': 'Publication',\n",
      "            'url': '',\n",
      "            'user': 'genealogie',\n",
      "            'year': '2013'},\n",
      "           {'address': 'Baden-Baden',\n",
      "            'author': ['Peter Weibel'],\n",
      "            'authors': [{'first': 'Peter', 'last': 'Weibel'}],\n",
      "            'bibtexKey': 'weibel2007',\n",
      "            'booktitle': 'Vom Betrachter zum Gestalter. Neue Medien in Museen '\n",
      "                         '– Strategien, Beispiele und Perspektiven für die '\n",
      "                         'Bildung',\n",
      "            'changeDate': '2011-08-24 09:17:40',\n",
      "            'count': 1,\n",
      "            'date': '2011-08-24 09:17:16',\n",
      "            'description': 'Der vorliegende Beitrag ist die schriftliche '\n",
      "                           'Fassung der Keynote von Professor Peter Weibel im '\n",
      "                           'Rahmen der MAI-Tagung 2007 „museums and the '\n",
      "                           'internet“ am 10. Mai 2007.',\n",
      "            'editor': ['Michael Mangold', 'Peter Weibel', 'Julie Woletz'],\n",
      "            'editors': [{'first': 'Michael', 'last': 'Mangold'},\n",
      "                        {'first': 'Peter', 'last': 'Weibel'},\n",
      "                        {'first': 'Julie', 'last': 'Woletz'}],\n",
      "            'id': 'https://www.bibsonomy.org/bibtex/24079f19b21424574ef2614f0a1b89e75/antje',\n",
      "            'interHash': '649bae2364d1ef70ffe27fae0b674a6f',\n",
      "            'intraHash': '4079f19b21424574ef2614f0a1b89e75',\n",
      "            'label': 'Web 2.0 und das Museum',\n",
      "            'pages': '23-32',\n",
      "            'pub-type': 'incollection',\n",
      "            'publisher': 'Nomos Verlagsgesellschaft',\n",
      "            'tags': ['web2.0',\n",
      "                     'section-analyse',\n",
      "                     'museum',\n",
      "                     'merged:antje',\n",
      "                     'bildung'],\n",
      "            'type': 'Publication',\n",
      "            'url': 'http://www.mediaculture-online.de/fileadmin/bibliothek/weibel_web2.0/weibel_web2.0museum.pdf',\n",
      "            'user': 'antje',\n",
      "            'year': '2007'},\n",
      "           {'author': ['Elke Behrends'],\n",
      "            'authors': [{'first': 'Elke', 'last': 'Behrends'}],\n",
      "            'bibtexKey': 'behrends1994technischwissenschaftliche',\n",
      "            'changeDate': '2015-09-09 13:46:06',\n",
      "            'count': 1,\n",
      "            'date': '2015-09-09 12:31:59',\n",
      "            'description': '',\n",
      "            'dnbtitleid': '945947992',\n",
      "            'id': 'https://www.bibsonomy.org/bibtex/2c21a3550d51608ad28aba9a4d1fb3685/genealogie',\n",
      "            'interHash': '1324f6924b178bf800d78565f061e663',\n",
      "            'intraHash': 'c21a3550d51608ad28aba9a4d1fb3685',\n",
      "            'label': 'Technisch-wissenschaftliche Dokumentation in Deutschland '\n",
      "                     'von 1900 bis 1945: unter besonderer Berücksichtigung des '\n",
      "                     'Verhältnisses von Bibliothek und Dokumentation',\n",
      "            'pub-type': 'phdthesis',\n",
      "            'tags': ['Verlagswesen',\n",
      "                     'Bibliothek',\n",
      "                     'merged:genealogie',\n",
      "                     'Buch',\n",
      "                     'Rtechnik_allgemein',\n",
      "                     'Handschriften',\n",
      "                     'Information_und_Dokumentation',\n",
      "                     'Nachrichtenmedien',\n",
      "                     'seltene_Bücher',\n",
      "                     'dnb',\n",
      "                     'Bibliotheks_und_Informationswissenschaft',\n",
      "                     'Journalismus',\n",
      "                     'Schrift'],\n",
      "            'type': 'Publication',\n",
      "            'url': '',\n",
      "            'user': 'genealogie',\n",
      "            'year': '1994'},\n",
      "           {'author': ['Martella Gutiérrez-Denhoff'],\n",
      "            'authors': [{'first': 'Martella', 'last': 'Gutiérrez-Denhoff'}],\n",
      "            'bibtexKey': 'gutierrezdenhoff1982wolfenbtteler',\n",
      "            'changeDate': '2015-09-09 05:55:59',\n",
      "            'count': 1,\n",
      "            'date': '2015-09-09 05:55:59',\n",
      "            'description': '',\n",
      "            'dnbtitleid': '850911001',\n",
      "            'id': 'https://www.bibsonomy.org/bibtex/26e276d462f487a39aa707919c464b692/genealogie',\n",
      "            'interHash': '22d56a8b59308e5c0f02048b1cb6df91',\n",
      "            'intraHash': '6e276d462f487a39aa707919c464b692',\n",
      "            'label': 'Der Wolfenbütteler Chansonnier: Wolfenbüttel, '\n",
      "                     'Herzog-August-Bibliothek, Codex Guelf. 287 Extrav. ; '\n",
      "                     'Unters. zu Repertoire u. Überlieferung e. Musikhs. d. '\n",
      "                     '15. Jh. u. ihres Umkreises',\n",
      "            'pub-type': 'phdthesis',\n",
      "            'tags': ['dnb',\n",
      "                     'merged:genealogie',\n",
      "                     'Romanische_Sprach_und_Literaturwissenschaft',\n",
      "                     'Musik'],\n",
      "            'type': 'Publication',\n",
      "            'url': '',\n",
      "            'user': 'genealogie',\n",
      "            'year': '1982'},\n",
      "           {'author': ['Martin Jesinghausen'],\n",
      "            'authors': [{'first': 'Martin', 'last': 'Jesinghausen'}],\n",
      "            'bibtexKey': 'jesinghausen1981suche',\n",
      "            'changeDate': '2015-09-09 05:25:09',\n",
      "            'count': 1,\n",
      "            'date': '2015-09-09 05:25:09',\n",
      "            'description': '',\n",
      "            'dnbtitleid': '841122083',\n",
      "            'id': 'https://www.bibsonomy.org/bibtex/2747e28f9ca79f6ebddb975eefaa7991c/genealogie',\n",
      "            'interHash': '7f981cb5086ea753d349f299b336e91a',\n",
      "            'intraHash': '747e28f9ca79f6ebddb975eefaa7991c',\n",
      "            'label': 'Die Suche nach der symbolischen Form: d. Kreis um d. '\n",
      "                     'Kulturwiss. Bibliothek Warburg',\n",
      "            'pub-type': 'phdthesis',\n",
      "            'tags': ['Geschichte_und_Historische_Hilfswissenschaften',\n",
      "                     'dnb',\n",
      "                     'merged:genealogie',\n",
      "                     'Philosophie'],\n",
      "            'type': 'Publication',\n",
      "            'url': '',\n",
      "            'user': 'genealogie',\n",
      "            'year': '1981'},\n",
      "           {'address': 'Sigmaringen',\n",
      "            'bibtexKey': 'FreiErin1993',\n",
      "            'changeDate': '2007-09-06 14:49:55',\n",
      "            'count': 1,\n",
      "            'date': '2007-09-06 14:49:52',\n",
      "            'description': 'schoeneweide',\n",
      "            'editor': ['Alfred G. Frei'],\n",
      "            'editors': [{'first': 'Alfred G.', 'last': 'Frei'}],\n",
      "            'id': 'https://www.bibsonomy.org/bibtex/2cd5f6b0accc1815a62598abb8bb95acc/schoeneweide',\n",
      "            'interHash': 'f703a8cedc533d177696bd8bf9d51c99',\n",
      "            'intraHash': 'cd5f6b0accc1815a62598abb8bb95acc',\n",
      "            'label': 'Erinnern -- Bedenken -- Lernen : das Schicksal von '\n",
      "                     'Juden,\\r\\n'\n",
      "                     'Zwangsarbeitern und Kriegsgefangenen zwischen Hochrhein '\n",
      "                     'und Bodensee in\\r\\n'\n",
      "                     'den Jahren 1933 bis 1945',\n",
      "            'pub-type': 'book',\n",
      "            'publisher': 'Thorbecke',\n",
      "            'series': 'Hegau--Bibliothek',\n",
      "            'tags': ['imported', 'merged:schoeneweide'],\n",
      "            'type': 'Publication',\n",
      "            'url': '',\n",
      "            'user': 'schoeneweide',\n",
      "            'volume': '69',\n",
      "            'year': '1993'},\n",
      "           {'address': 'Berlin',\n",
      "            'bibtexKey': 'ig_rote_fabrik_zwischen_1998',\n",
      "            'changeDate': '2009-10-13 21:09:56',\n",
      "            'count': 1,\n",
      "            'date': '2009-10-13 21:09:56',\n",
      "            'description': '',\n",
      "            'editor': ['IG Rote Fabrik'],\n",
      "            'editors': [{'first': 'IG Rote', 'last': 'Fabrik'}],\n",
      "            'id': 'https://www.bibsonomy.org/bibtex/24499b0420ca5707c873423ab8249d63a/orcival',\n",
      "            'interHash': '861585cbcd51a4438d582ca9ab12be0f',\n",
      "            'intraHash': '4499b0420ca5707c873423ab8249d63a',\n",
      "            'label': 'Zwischen Berichte: Zur Diskussion über die Politik der '\n",
      "                     'bewaffneten und militanten LInken, in der BRD, Italien '\n",
      "                     'und der Schweiz',\n",
      "            'location': 'Eigene Bibliothek',\n",
      "            'pub-type': 'book',\n",
      "            'publisher': 'ID Verlag',\n",
      "            'shorttitle': 'Zwischen Berichte',\n",
      "            'tags': ['merged:orcival',\n",
      "                     'Hit_der_Geschichtswissenschaft',\n",
      "                     'PT-Die_Nachkriegslinke_in_Italien'],\n",
      "            'type': 'Publication',\n",
      "            'url': '',\n",
      "            'user': 'orcival',\n",
      "            'year': '1998'},\n",
      "           {'address': 'Stuttgart',\n",
      "            'bibtexKey': 'Maurer.2003b',\n",
      "            'changeDate': '2014-08-12 16:44:19',\n",
      "            'count': 1,\n",
      "            'date': '2014-08-12 16:44:19',\n",
      "            'description': '',\n",
      "            'editor': ['Michael Maurer'],\n",
      "            'editors': [{'first': 'Michael', 'last': 'Maurer'}],\n",
      "            'id': 'https://www.bibsonomy.org/bibtex/2792c40cd7d61a36333e5a212901d9b63/giedenbacher',\n",
      "            'interHash': 'ab7817682fb4b86616e3debfdc941c88',\n",
      "            'intraHash': '792c40cd7d61a36333e5a212901d9b63',\n",
      "            'label': 'Aufriß der Historischen Wissenschaften. Band 7: Neue '\n",
      "                     'Themen und Methoden der Geschichtswissenschaft',\n",
      "            'pub-type': 'book',\n",
      "            'publisher': 'Philipp Reclam jun',\n",
      "            'series': 'Universal-Bibliothek',\n",
      "            'tags': ['imported', 'merged:giedenbacher'],\n",
      "            'type': 'Publication',\n",
      "            'url': '',\n",
      "            'user': 'giedenbacher',\n",
      "            'volume': '17033',\n",
      "            'year': '2003'},\n",
      "           {'abstract': 'Solutions and approaches around vehicle '\n",
      "                        'driveline-technology. In 2012 the scope of vehicles '\n",
      "                        'covers passenger cars and construction/agricultural '\n",
      "                        'machines (construction and agricultural machines are '\n",
      "                        'covered by the connected conference \"transmissions '\n",
      "                        'for mobile machines\"). The connected conference '\n",
      "                        '\"production of transmissions for the automotive '\n",
      "                        'industry\" covers latest production technology. Within '\n",
      "                        'the VDI-Congress of 2012 you will find latest answers '\n",
      "                        'and solutions for concepts for automatic '\n",
      "                        'transmissions, automated manual and purely manual '\n",
      "                        'transmissions, efficiency-increasing measures, '\n",
      "                        'hybrid-drives, electric mobility, '\n",
      "                        'driveline-components, clutches and operation '\n",
      "                        'strategies, lightweight design, reduction of '\n",
      "                        'vibrations, development- and test-methods.',\n",
      "            'author': [' diverse',\n",
      "                       ' \\\\VDI Society Product and Process Design\\\\',\n",
      "                       ' \\\\Internationaler VDI-Kongress Getriebe in Fahrzeugen '\n",
      "                       '2012 Friedrichshafen, 19. und 20.06.2012\\\\'],\n",
      "            'authors': [{'first': '', 'last': 'diverse'},\n",
      "                        {'first': '',\n",
      "                         'last': '\\\\VDI Society Product and Process Design\\\\'},\n",
      "                        {'first': '',\n",
      "                         'last': '\\\\Internationaler VDI-Kongress Getriebe in '\n",
      "                                 'Fahrzeugen 2012 Friedrichshafen, 19. und '\n",
      "                                 '20.06.2012\\\\'}],\n",
      "            'bibtexKey': 'diverse_internationaler_2012',\n",
      "            'changeDate': '2013-01-26 11:35:47',\n",
      "            'count': 1,\n",
      "            'date': '2013-01-26 11:35:39',\n",
      "            'description': '',\n",
      "            'editor': ['VDI Wissensforum GmbH'],\n",
      "            'editors': [{'first': 'VDI Wissensforum', 'last': 'GmbH'}],\n",
      "            'id': 'https://www.bibsonomy.org/bibtex/24759ee1f6cb40798f28cfe3d1fa0afe9/bhessen',\n",
      "            'interHash': '447f585fb91102d0d0c47dd215b81706',\n",
      "            'intraHash': '4759ee1f6cb40798f28cfe3d1fa0afe9',\n",
      "            'isbn': '9783180921',\n",
      "            'label': 'Internationaler VDI-Kongress Getriebe in Fahrzeugen 2012 '\n",
      "                     '– International VDI Congress Drivetrain for vehicles '\n",
      "                     '2012',\n",
      "            'language': 'englisch',\n",
      "            'location': 'Raum Bibliothek, Geb. 50.33',\n",
      "            'pub-type': 'inproceedings',\n",
      "            'publisher': 'VDI Verlag GmbH, Düsseldorf',\n",
      "            'tags': ['construction,',\n",
      "                     'merged:bhessen',\n",
      "                     'Fahrzeugen,',\n",
      "                     'in',\n",
      "                     'clutch,',\n",
      "                     '{VDI-Kongress}',\n",
      "                     'simulation,',\n",
      "                     'transmission,',\n",
      "                     'Getriebe',\n",
      "                     'for',\n",
      "                     'lightweight',\n",
      "                     'E-drive,',\n",
      "                     'manual',\n",
      "                     'tribology,',\n",
      "                     '{VDI-Berichte},',\n",
      "                     'hybrid,',\n",
      "                     'dual',\n",
      "                     'transmission',\n",
      "                     'integration,',\n",
      "                     'efficiency,',\n",
      "                     'vehicles,',\n",
      "                     'Drivetrain',\n",
      "                     'control,'],\n",
      "            'type': 'Publication',\n",
      "            'url': '',\n",
      "            'user': 'bhessen',\n",
      "            'year': '2012'},\n",
      "           {'author': ['Dalia Bukauskait'],\n",
      "            'authors': [{'first': 'Dalia', 'last': 'Bukauskait'}],\n",
      "            'bibtexKey': 'bukauskait2006kommentierter',\n",
      "            'changeDate': '2015-09-09 23:37:57',\n",
      "            'count': 1,\n",
      "            'date': '2015-09-09 23:37:57',\n",
      "            'description': '',\n",
      "            'dnbtitleid': '980163021',\n",
      "            'id': 'https://www.bibsonomy.org/bibtex/24ff7d8a6513d129b597616d670a58ebb/genealogie',\n",
      "            'interHash': '42a8dc074ba65fe4fb53399428e78d78',\n",
      "            'intraHash': '4ff7d8a6513d129b597616d670a58ebb',\n",
      "            'label': 'Kommentierter Katalog der nachgelassenen Bibliothek von '\n",
      "                     'Johannes Bobrowski',\n",
      "            'pub-type': 'phdthesis',\n",
      "            'tags': ['dnb',\n",
      "                     'merged:genealogie',\n",
      "                     'Deutsche_Literatur',\n",
      "                     'Bibliotheks_und_Informationswissenschaft',\n",
      "                     'Bibliografien'],\n",
      "            'type': 'Publication',\n",
      "            'url': '',\n",
      "            'user': 'genealogie',\n",
      "            'year': '2006'},\n",
      "           {'author': ['Maik Köhler'],\n",
      "            'authors': [{'first': 'Maik', 'last': 'Köhler'}],\n",
      "            'bibtexKey': 'phd/dnb/Kohler92',\n",
      "            'changeDate': '2017-01-10 11:35:44',\n",
      "            'count': 1,\n",
      "            'date': '2017-01-09 00:00:00',\n",
      "            'description': '',\n",
      "            'ee': 'http://d-nb.info/945697287',\n",
      "            'id': 'https://www.bibsonomy.org/bibtex/24b9cd0d9e8ff8afa2281fbdab8e5b2fc/dblp',\n",
      "            'interHash': 'd05f4d472c6761a32d5bd3ad69b14491',\n",
      "            'intraHash': '4b9cd0d9e8ff8afa2281fbdab8e5b2fc',\n",
      "            'label': 'Datenbasis und Bibliothek für ein Programmiersystem für '\n",
      "                     'speicherprogrammierbare Steuerungen.',\n",
      "            'pub-type': 'phdthesis',\n",
      "            'tags': ['merged:dblp', 'dblp'],\n",
      "            'type': 'Publication',\n",
      "            'url': '',\n",
      "            'user': 'dblp',\n",
      "            'year': '1992'},\n",
      "           {'address': 'München',\n",
      "            'author': ['Margarete Rehm'],\n",
      "            'authors': [{'first': 'Margarete', 'last': 'Rehm'}],\n",
      "            'bibtexKey': 'rehm_lexikon_1991',\n",
      "            'changeDate': '2018-11-04 16:45:24',\n",
      "            'count': 1,\n",
      "            'date': '2018-11-04 16:45:24',\n",
      "            'description': '',\n",
      "            'id': 'https://www.bibsonomy.org/bibtex/29d2e5b89550f6b74c97f396b6f09504c/lepsky',\n",
      "            'interHash': 'acdb4eef241bd0511678f6db058ce5e6',\n",
      "            'intraHash': '9d2e5b89550f6b74c97f396b6f09504c',\n",
      "            'isbn': '3-598-10851-6',\n",
      "            'label': 'Lexikon Buch, Bibliothek, neue Medien',\n",
      "            'pub-type': 'book',\n",
      "            'publisher': 'Saur',\n",
      "            'tags': ['zz-i', 'merged:lepsky'],\n",
      "            'type': 'Publication',\n",
      "            'url': '',\n",
      "            'user': 'lepsky',\n",
      "            'year': '1991'}],\n",
      " 'properties': {'changeDate': {'valueType': 'date'},\n",
      "                'count': {'valueType': 'number'},\n",
      "                'date': {'valueType': 'date'},\n",
      "                'id': {'valueType': 'url'},\n",
      "                'tags': {'valueType': 'item'},\n",
      "                'url': {'valueType': 'url'},\n",
      "                'user': {'valueType': 'item'}},\n",
      " 'types': {'Bookmark': {'pluralLabel': 'Bookmarks'},\n",
      "           'GoldStandardBookmark': {'pluralLabel': 'GoldStandardBookmarks'},\n",
      "           'GoldStandardPublication': {'pluralLabel': 'GoldStandardPublications'},\n",
      "           'Publication': {'pluralLabel': 'Publications'},\n",
      "           'Sphere': {'pluralLabel': 'Spheres'},\n",
      "           'Tag': {'pluralLabel': 'Tags'},\n",
      "           'User': {'pluralLabel': 'Users'}}}\n"
     ]
    }
   ],
   "source": [
    "#alternative Darstellung durch pprint = pretty print Modul\n",
    "from pprint import pprint\n",
    "pprint(data)"
   ]
  },
  {
   "cell_type": "code",
   "execution_count": 11,
   "metadata": {},
   "outputs": [
    {
     "output_type": "stream",
     "name": "stdout",
     "text": [
      "dict_keys(['types', 'properties', 'items'])\n"
     ]
    }
   ],
   "source": [
    "print(data.keys()) # Kennenlernen der Datei Anzeige der vorhandenen Keys auf oberster Ebene"
   ]
  },
  {
   "cell_type": "code",
   "execution_count": 12,
   "metadata": {},
   "outputs": [
    {
     "output_type": "stream",
     "name": "stdout",
     "text": [
      "<class 'list'>\n1913\n"
     ]
    }
   ],
   "source": [
    "items = data['items'] #was\n",
    "print(type(items))    #welcher Typ\n",
    "print(len(items))     #wie viele"
   ]
  },
  {
   "cell_type": "code",
   "execution_count": 13,
   "metadata": {},
   "outputs": [
    {
     "output_type": "stream",
     "name": "stdout",
     "text": [
      "913\n"
     ]
    }
   ],
   "source": [
    "# Abfrage in Variable \"items\" (oben definiert) und zählen lassen, in neue Variabel \"publications\"\n",
    "publications = [item for item in items if item['type'] == 'Publication']\n",
    "print(len(publications))"
   ]
  },
  {
   "cell_type": "code",
   "execution_count": 14,
   "metadata": {},
   "outputs": [
    {
     "output_type": "stream",
     "name": "stdout",
     "text": [
      "159\n"
     ]
    }
   ],
   "source": [
    "# Abfrage wie viele davon einen \"Abstract\" haben\n",
    "pubs_with_abstracts = [item for item in publications if 'abstract' in item]\n",
    "print(len(pubs_with_abstracts))"
   ]
  },
  {
   "source": [
    "### Funktion zum Sprachfiltern\n",
    "\n",
    "Installieren von externen Libraries über Terminal: pip install, aber aufpassen für welche Python-Version!"
   ],
   "cell_type": "markdown",
   "metadata": {}
  },
  {
   "cell_type": "code",
   "execution_count": 21,
   "metadata": {},
   "outputs": [],
   "source": [
    "from langdetect import detect"
   ]
  },
  {
   "cell_type": "code",
   "execution_count": 22,
   "metadata": {},
   "outputs": [
    {
     "output_type": "execute_result",
     "data": {
      "text/plain": [
       "'de'"
      ]
     },
     "metadata": {},
     "execution_count": 22
    }
   ],
   "source": [
    "ex1 = \"Ein Beispielstring auf Deutsch\"\n",
    "detect(ex1)"
   ]
  },
  {
   "cell_type": "code",
   "execution_count": 23,
   "metadata": {},
   "outputs": [
    {
     "output_type": "execute_result",
     "data": {
      "text/plain": [
       "'en'"
      ]
     },
     "metadata": {},
     "execution_count": 23
    }
   ],
   "source": [
    "ex2 = \"Some sample text in English\"\n",
    "detect(ex2)"
   ]
  },
  {
   "cell_type": "code",
   "execution_count": 24,
   "metadata": {},
   "outputs": [],
   "source": [
    "#anwendung auf unsere runtergeladenen Daten\n",
    "#\"Label\" ist die Bezeichnung für das Titelfeld\n",
    "# gibt Titel zurück wenn er sie aus dem Titel für \"deutsch\" klassifiziert\n",
    "german_pubs = [item for item in publications if detect(item['label']) == 'de']"
   ]
  },
  {
   "cell_type": "code",
   "execution_count": 25,
   "metadata": {},
   "outputs": [
    {
     "output_type": "execute_result",
     "data": {
      "text/plain": [
       "781"
      ]
     },
     "metadata": {},
     "execution_count": 25
    }
   ],
   "source": [
    "len(german_pubs) # wie viele sind es?"
   ]
  },
  {
   "source": [
    "#### man kann auch JSON-Dateien schreiben"
   ],
   "cell_type": "markdown",
   "metadata": {}
  },
  {
   "cell_type": "code",
   "execution_count": 27,
   "metadata": {},
   "outputs": [],
   "source": [
    "# schreiben in die genannte Datei, per json.dump (oder als string json.dumps) - das die Daten als Dictionary oder List erwartet - mit Einrückung 4\n",
    "with open('german_publications.json', 'w') as outfile:\n",
    "    json.dump(german_pubs, outfile, indent=4)"
   ]
  },
  {
   "cell_type": "code",
   "execution_count": 28,
   "metadata": {
    "tags": [
     "outputPrepend"
    ]
   },
   "outputs": [
    {
     "output_type": "stream",
     "name": "stdout",
     "text": [
      "April~2002\",\n        \"bibtexKey\": \"Capurro1996\"\n    },\n    {\n        \"type\": \"Publication\",\n        \"id\": \"https://www.bibsonomy.org/bibtex/24fa1f1edc1f0895b1abb92932ab7366a/lepsky\",\n        \"tags\": [\n            \"texttechnologie\",\n            \"merged:lepsky\"\n        ],\n        \"intraHash\": \"4fa1f1edc1f0895b1abb92932ab7366a\",\n        \"interHash\": \"745142dfc7ca718896752310c17a6e7e\",\n        \"label\": \"Wenn Algorithmen Zeitschriften lesen\",\n        \"user\": \"lepsky\",\n        \"description\": \"\",\n        \"date\": \"2018-12-16 09:22:42\",\n        \"changeDate\": \"2018-12-16 09:22:42\",\n        \"count\": 1,\n        \"pub-type\": \"article\",\n        \"journal\": \"o-bib. Das offene Bibliotheksjournal / Herausgeber VDB\",\n        \"year\": \"2018\",\n        \"url\": \"https://www.o-bib.de/article/view/5382\",\n        \"author\": [\n            \"Michael Gasser\",\n            \"Regina Wanger\",\n            \"Ismail Prada\"\n        ],\n        \"authors\": [\n            {\n                \"first\": \"Michael\",\n                \"last\": \"Gasser\"\n            },\n            {\n                \"first\": \"Regina\",\n                \"last\": \"Wanger\"\n            },\n            {\n                \"first\": \"Ismail\",\n                \"last\": \"Prada\"\n            }\n        ],\n        \"volume\": \"5\",\n        \"number\": \"4\",\n        \"pages\": \"181--192\",\n        \"abstract\": \"In Zusammenarbeit mit dem Institut f\\u00fcr Computerlinguistik der Universit\\u00e4t Z\\u00fcrich (ICL UZH) lancierte die ETH-Bibliothek Z\\u00fcrich ein Pilotprojekt im Bereich automatisierter Textanreicherung. Grundlage f\\u00fcr den Piloten bildeten Volltextdateien der Schweizer Zeitschriftenplattform E-Periodica. Anhand eines ausgew\\u00e4hlten Korpus dieser OCR-Daten wurden mit automatisierten Verfahren Tests in den Bereichen OCR-Korrektur, Erkennung von Personen-, Orts- und L\\u00e4ndernamen sowie Verlinkung identifizierter Personen mit der Gemeinsamen Normdatei GND durchgef\\u00fchrt. Insgesamt wurden sehr positive Resultate erzielt. Das verwendete System dient nun als Grundlage f\\u00fcr den weiteren Kompetenzausbau der ETH-Bibliothek auf diesem Gebiet. Das gesamte bestehende Angebot der Plattform E-Periodica soll automatisiert angereichert und um neue Funktionalit\\u00e4ten erweitert werden. Dies mit dem Ziel, Forschenden einen Mehrwert bei der Informationsbeschaffung zu bieten. Im vorliegenden Beitrag werden Projektinhalt, Methodik und Resultate erl\\u00e4utert sowie das weitere Vorgehen skizziert.\",\n        \"language\": \"de-DE\",\n        \"issn\": \"2363-9814\",\n        \"doi\": \"10.5282/o-bib/2018H4S181-192\",\n        \"urldate\": \"2018-12-13\",\n        \"bibtexKey\": \"gasser_wenn_2018\"\n    },\n    {\n        \"type\": \"Publication\",\n        \"id\": \"https://www.bibsonomy.org/bibtex/26383ceab3b88e4400b201cf9c445cbcb/miba\",\n        \"tags\": [\n            \"imported\",\n            \"merged:miba\"\n        ],\n        \"intraHash\": \"6383ceab3b88e4400b201cf9c445cbcb\",\n        \"interHash\": \"116e61fc655e27138029f4ffdccece97\",\n        \"label\": \"Das RFID-Projekt an der Bibliothek der Humboldt-Universit\\u00e4t zu Berlin \\u2014 Stand und Perspektiven\",\n        \"user\": \"miba\",\n        \"description\": \"\",\n        \"date\": \"2012-10-22 13:36:33\",\n        \"changeDate\": \"2012-10-22 13:36:34\",\n        \"count\": 1,\n        \"pub-type\": \"article\",\n        \"journal\": \"Bibliotheksdienst\",\n        \"year\": \"2009\",\n        \"url\": \"\",\n        \"author\": [\n            \"Anke Berghaus-Sprengel\",\n            \"Tobias K\\u00fchne\"\n        ],\n        \"authors\": [\n            {\n                \"first\": \"Anke\",\n                \"last\": \"Berghaus-Sprengel\"\n            },\n            {\n                \"first\": \"Tobias\",\n                \"last\": \"K\\u00fchne\"\n            }\n        ],\n        \"volume\": \"43\",\n        \"number\": \"6\",\n        \"pages\": \"588--598\",\n        \"issn\": \"0006-1972\",\n        \"file\": \"Benutzung010609BD.pdf:C:\\\\Dokumente und Einstellungen\\\\mittelb\\\\Anwendungsdaten\\\\Mozilla\\\\Firefox\\\\bibo\\\\zotero\\\\storage\\\\Z38INX3W\\\\Benutzung010609BD.pdf:application/pdf\",\n        \"lccn\": \"0000\",\n        \"bibtexKey\": \"berghaus-sprengel_rfid-projekt_2009\"\n    },\n    {\n        \"type\": \"Publication\",\n        \"id\": \"https://www.bibsonomy.org/bibtex/219b84d6d95eeda7214f425d2bccb77c6/genealogie\",\n        \"tags\": [\n            \"dnb\",\n            \"merged:genealogie\",\n            \"Bibliotheks_und_Informationswissenschaft\"\n        ],\n        \"intraHash\": \"19b84d6d95eeda7214f425d2bccb77c6\",\n        \"interHash\": \"205db0361d997ae608d2103674e29435\",\n        \"label\": \"Membra disiecta: Inhalt und Wirkung der Bibliothek des G\\u00f6ttinger Professors L\\u00fcder Kulenkamp (1724 - 1794)\",\n        \"user\": \"genealogie\",\n        \"description\": \"\",\n        \"date\": \"2015-09-08 07:08:09\",\n        \"changeDate\": \"2015-09-08 07:08:09\",\n        \"count\": 1,\n        \"pub-type\": \"phdthesis\",\n        \"year\": \"2013\",\n        \"url\": \"\",\n        \"author\": [\n            \"Annette Pozzo\"\n        ],\n        \"authors\": [\n            {\n                \"first\": \"Annette\",\n                \"last\": \"Pozzo\"\n            }\n        ],\n        \"dnbtitleid\": \"1044973323\",\n        \"bibtexKey\": \"pozzo2013membra\"\n    },\n    {\n        \"type\": \"Publication\",\n        \"id\": \"https://www.bibsonomy.org/bibtex/24079f19b21424574ef2614f0a1b89e75/antje\",\n        \"tags\": [\n            \"web2.0\",\n            \"section-analyse\",\n            \"museum\",\n            \"merged:antje\",\n            \"bildung\"\n        ],\n        \"intraHash\": \"4079f19b21424574ef2614f0a1b89e75\",\n        \"interHash\": \"649bae2364d1ef70ffe27fae0b674a6f\",\n        \"label\": \"Web 2.0 und das Museum\",\n        \"user\": \"antje\",\n        \"description\": \"Der vorliegende Beitrag ist die schriftliche Fassung der Keynote von Professor Peter Weibel im Rahmen der MAI-Tagung 2007 \\u201emuseums and the internet\\u201c am 10. Mai 2007.\",\n        \"date\": \"2011-08-24 09:17:16\",\n        \"changeDate\": \"2011-08-24 09:17:40\",\n        \"count\": 1,\n        \"pub-type\": \"incollection\",\n        \"booktitle\": \"Vom Betrachter zum Gestalter. Neue Medien in Museen \\u2013 Strategien, Beispiele und Perspektiven fu\\u0308r die Bildung\",\n        \"publisher\": \"Nomos Verlagsgesellschaft\",\n        \"address\": \"Baden-Baden\",\n        \"year\": \"2007\",\n        \"url\": \"http://www.mediaculture-online.de/fileadmin/bibliothek/weibel_web2.0/weibel_web2.0museum.pdf\",\n        \"author\": [\n            \"Peter Weibel\"\n        ],\n        \"authors\": [\n            {\n                \"first\": \"Peter\",\n                \"last\": \"Weibel\"\n            }\n        ],\n        \"editor\": [\n            \"Michael Mangold\",\n            \"Peter Weibel\",\n            \"Julie Woletz\"\n        ],\n        \"editors\": [\n            {\n                \"first\": \"Michael\",\n                \"last\": \"Mangold\"\n            },\n            {\n                \"first\": \"Peter\",\n                \"last\": \"Weibel\"\n            },\n            {\n                \"first\": \"Julie\",\n                \"last\": \"Woletz\"\n            }\n        ],\n        \"pages\": \"23-32\",\n        \"bibtexKey\": \"weibel2007\"\n    },\n    {\n        \"type\": \"Publication\",\n        \"id\": \"https://www.bibsonomy.org/bibtex/2c21a3550d51608ad28aba9a4d1fb3685/genealogie\",\n        \"tags\": [\n            \"Verlagswesen\",\n            \"Bibliothek\",\n            \"merged:genealogie\",\n            \"Buch\",\n            \"Rtechnik_allgemein\",\n            \"Handschriften\",\n            \"Information_und_Dokumentation\",\n            \"Nachrichtenmedien\",\n            \"seltene_B\\u00fccher\",\n            \"dnb\",\n            \"Bibliotheks_und_Informationswissenschaft\",\n            \"Journalismus\",\n            \"Schrift\"\n        ],\n        \"intraHash\": \"c21a3550d51608ad28aba9a4d1fb3685\",\n        \"interHash\": \"1324f6924b178bf800d78565f061e663\",\n        \"label\": \"Technisch-wissenschaftliche Dokumentation in Deutschland von 1900 bis 1945: unter besonderer Ber\\u00fccksichtigung des Verh\\u00e4ltnisses von Bibliothek und Dokumentation\",\n        \"user\": \"genealogie\",\n        \"description\": \"\",\n        \"date\": \"2015-09-09 12:31:59\",\n        \"changeDate\": \"2015-09-09 13:46:06\",\n        \"count\": 1,\n        \"pub-type\": \"phdthesis\",\n        \"year\": \"1994\",\n        \"url\": \"\",\n        \"author\": [\n            \"Elke Behrends\"\n        ],\n        \"authors\": [\n            {\n                \"first\": \"Elke\",\n                \"last\": \"Behrends\"\n            }\n        ],\n        \"dnbtitleid\": \"945947992\",\n        \"bibtexKey\": \"behrends1994technischwissenschaftliche\"\n    },\n    {\n        \"type\": \"Publication\",\n        \"id\": \"https://www.bibsonomy.org/bibtex/26e276d462f487a39aa707919c464b692/genealogie\",\n        \"tags\": [\n            \"dnb\",\n            \"merged:genealogie\",\n            \"Romanische_Sprach_und_Literaturwissenschaft\",\n            \"Musik\"\n        ],\n        \"intraHash\": \"6e276d462f487a39aa707919c464b692\",\n        \"interHash\": \"22d56a8b59308e5c0f02048b1cb6df91\",\n        \"label\": \"Der Wolfenb\\u00fctteler Chansonnier: Wolfenb\\u00fcttel, Herzog-August-Bibliothek, Codex Guelf. 287 Extrav. ; Unters. zu Repertoire u. \\u00dcberlieferung e. Musikhs. d. 15. Jh. u. ihres Umkreises\",\n        \"user\": \"genealogie\",\n        \"description\": \"\",\n        \"date\": \"2015-09-09 05:55:59\",\n        \"changeDate\": \"2015-09-09 05:55:59\",\n        \"count\": 1,\n        \"pub-type\": \"phdthesis\",\n        \"year\": \"1982\",\n        \"url\": \"\",\n        \"author\": [\n            \"Martella Guti\\u00e9rrez-Denhoff\"\n        ],\n        \"authors\": [\n            {\n                \"first\": \"Martella\",\n                \"last\": \"Guti\\u00e9rrez-Denhoff\"\n            }\n        ],\n        \"dnbtitleid\": \"850911001\",\n        \"bibtexKey\": \"gutierrezdenhoff1982wolfenbtteler\"\n    },\n    {\n        \"type\": \"Publication\",\n        \"id\": \"https://www.bibsonomy.org/bibtex/2747e28f9ca79f6ebddb975eefaa7991c/genealogie\",\n        \"tags\": [\n            \"Geschichte_und_Historische_Hilfswissenschaften\",\n            \"dnb\",\n            \"merged:genealogie\",\n            \"Philosophie\"\n        ],\n        \"intraHash\": \"747e28f9ca79f6ebddb975eefaa7991c\",\n        \"interHash\": \"7f981cb5086ea753d349f299b336e91a\",\n        \"label\": \"Die Suche nach der symbolischen Form: d. Kreis um d. Kulturwiss. Bibliothek Warburg\",\n        \"user\": \"genealogie\",\n        \"description\": \"\",\n        \"date\": \"2015-09-09 05:25:09\",\n        \"changeDate\": \"2015-09-09 05:25:09\",\n        \"count\": 1,\n        \"pub-type\": \"phdthesis\",\n        \"year\": \"1981\",\n        \"url\": \"\",\n        \"author\": [\n            \"Martin Jesinghausen\"\n        ],\n        \"authors\": [\n            {\n                \"first\": \"Martin\",\n                \"last\": \"Jesinghausen\"\n            }\n        ],\n        \"dnbtitleid\": \"841122083\",\n        \"bibtexKey\": \"jesinghausen1981suche\"\n    },\n    {\n        \"type\": \"Publication\",\n        \"id\": \"https://www.bibsonomy.org/bibtex/2cd5f6b0accc1815a62598abb8bb95acc/schoeneweide\",\n        \"tags\": [\n            \"imported\",\n            \"merged:schoeneweide\"\n        ],\n        \"intraHash\": \"cd5f6b0accc1815a62598abb8bb95acc\",\n        \"interHash\": \"f703a8cedc533d177696bd8bf9d51c99\",\n        \"label\": \"Erinnern -- Bedenken -- Lernen : das Schicksal von Juden,\\r\\nZwangsarbeitern und Kriegsgefangenen zwischen Hochrhein und Bodensee in\\r\\nden Jahren 1933 bis 1945\",\n        \"user\": \"schoeneweide\",\n        \"description\": \"schoeneweide\",\n        \"date\": \"2007-09-06 14:49:52\",\n        \"changeDate\": \"2007-09-06 14:49:55\",\n        \"count\": 1,\n        \"pub-type\": \"book\",\n        \"series\": \"Hegau--Bibliothek\",\n        \"publisher\": \"Thorbecke\",\n        \"address\": \"Sigmaringen\",\n        \"year\": \"1993\",\n        \"url\": \"\",\n        \"editor\": [\n            \"Alfred G. Frei\"\n        ],\n        \"editors\": [\n            {\n                \"first\": \"Alfred G.\",\n                \"last\": \"Frei\"\n            }\n        ],\n        \"volume\": \"69\",\n        \"bibtexKey\": \"FreiErin1993\"\n    },\n    {\n        \"type\": \"Publication\",\n        \"id\": \"https://www.bibsonomy.org/bibtex/24499b0420ca5707c873423ab8249d63a/orcival\",\n        \"tags\": [\n            \"merged:orcival\",\n            \"Hit_der_Geschichtswissenschaft\",\n            \"PT-Die_Nachkriegslinke_in_Italien\"\n        ],\n        \"intraHash\": \"4499b0420ca5707c873423ab8249d63a\",\n        \"interHash\": \"861585cbcd51a4438d582ca9ab12be0f\",\n        \"label\": \"Zwischen Berichte: Zur Diskussion \\u00fcber die Politik der bewaffneten und militanten LInken, in der BRD, Italien und der Schweiz\",\n        \"user\": \"orcival\",\n        \"description\": \"\",\n        \"date\": \"2009-10-13 21:09:56\",\n        \"changeDate\": \"2009-10-13 21:09:56\",\n        \"count\": 1,\n        \"pub-type\": \"book\",\n        \"publisher\": \"ID Verlag\",\n        \"address\": \"Berlin\",\n        \"year\": \"1998\",\n        \"url\": \"\",\n        \"editor\": [\n            \"IG Rote Fabrik\"\n        ],\n        \"editors\": [\n            {\n                \"first\": \"IG Rote\",\n                \"last\": \"Fabrik\"\n            }\n        ],\n        \"location\": \"Eigene Bibliothek\",\n        \"shorttitle\": \"Zwischen Berichte\",\n        \"bibtexKey\": \"ig_rote_fabrik_zwischen_1998\"\n    },\n    {\n        \"type\": \"Publication\",\n        \"id\": \"https://www.bibsonomy.org/bibtex/2792c40cd7d61a36333e5a212901d9b63/giedenbacher\",\n        \"tags\": [\n            \"imported\",\n            \"merged:giedenbacher\"\n        ],\n        \"intraHash\": \"792c40cd7d61a36333e5a212901d9b63\",\n        \"interHash\": \"ab7817682fb4b86616e3debfdc941c88\",\n        \"label\": \"Aufri\\u00df der Historischen Wissenschaften. Band 7: Neue Themen und Methoden der Geschichtswissenschaft\",\n        \"user\": \"giedenbacher\",\n        \"description\": \"\",\n        \"date\": \"2014-08-12 16:44:19\",\n        \"changeDate\": \"2014-08-12 16:44:19\",\n        \"count\": 1,\n        \"pub-type\": \"book\",\n        \"series\": \"Universal-Bibliothek\",\n        \"publisher\": \"Philipp Reclam jun\",\n        \"address\": \"Stuttgart\",\n        \"year\": \"2003\",\n        \"url\": \"\",\n        \"editor\": [\n            \"Michael Maurer\"\n        ],\n        \"editors\": [\n            {\n                \"first\": \"Michael\",\n                \"last\": \"Maurer\"\n            }\n        ],\n        \"volume\": \"17033\",\n        \"bibtexKey\": \"Maurer.2003b\"\n    },\n    {\n        \"type\": \"Publication\",\n        \"id\": \"https://www.bibsonomy.org/bibtex/24759ee1f6cb40798f28cfe3d1fa0afe9/bhessen\",\n        \"tags\": [\n            \"construction,\",\n            \"merged:bhessen\",\n            \"Fahrzeugen,\",\n            \"in\",\n            \"clutch,\",\n            \"{VDI-Kongress}\",\n            \"simulation,\",\n            \"transmission,\",\n            \"Getriebe\",\n            \"for\",\n            \"lightweight\",\n            \"E-drive,\",\n            \"manual\",\n            \"tribology,\",\n            \"{VDI-Berichte},\",\n            \"hybrid,\",\n            \"dual\",\n            \"transmission\",\n            \"integration,\",\n            \"efficiency,\",\n            \"vehicles,\",\n            \"Drivetrain\",\n            \"control,\"\n        ],\n        \"intraHash\": \"4759ee1f6cb40798f28cfe3d1fa0afe9\",\n        \"interHash\": \"447f585fb91102d0d0c47dd215b81706\",\n        \"label\": \"Internationaler VDI-Kongress Getriebe in Fahrzeugen 2012 \\u2013 International VDI Congress Drivetrain for vehicles 2012\",\n        \"user\": \"bhessen\",\n        \"description\": \"\",\n        \"date\": \"2013-01-26 11:35:39\",\n        \"changeDate\": \"2013-01-26 11:35:47\",\n        \"count\": 1,\n        \"pub-type\": \"inproceedings\",\n        \"publisher\": \"VDI Verlag GmbH, D\\u00fcsseldorf\",\n        \"year\": \"2012\",\n        \"url\": \"\",\n        \"author\": [\n            \" diverse\",\n            \" \\\\VDI Society Product and Process Design\\\\\",\n            \" \\\\Internationaler VDI-Kongress Getriebe in Fahrzeugen 2012 Friedrichshafen, 19. und 20.06.2012\\\\\"\n        ],\n        \"authors\": [\n            {\n                \"first\": \"\",\n                \"last\": \"diverse\"\n            },\n            {\n                \"first\": \"\",\n                \"last\": \"\\\\VDI Society Product and Process Design\\\\\"\n            },\n            {\n                \"first\": \"\",\n                \"last\": \"\\\\Internationaler VDI-Kongress Getriebe in Fahrzeugen 2012 Friedrichshafen, 19. und 20.06.2012\\\\\"\n            }\n        ],\n        \"editor\": [\n            \"VDI Wissensforum GmbH\"\n        ],\n        \"editors\": [\n            {\n                \"first\": \"VDI Wissensforum\",\n                \"last\": \"GmbH\"\n            }\n        ],\n        \"abstract\": \"Solutions and approaches around vehicle driveline-technology. In 2012 the scope of vehicles covers passenger cars and construction/agricultural machines (construction and agricultural machines are covered by the connected conference \\\"transmissions for mobile machines\\\"). The connected conference \\\"production of transmissions for the automotive industry\\\" covers latest production technology. Within the VDI-Congress of 2012 you will find latest answers and solutions for concepts for automatic transmissions, automated manual and purely manual transmissions, efficiency-increasing measures, hybrid-drives, electric mobility, driveline-components, clutches and operation strategies, lightweight design, reduction of vibrations, development- and test-methods.\",\n        \"location\": \"Raum Bibliothek, Geb. 50.33\",\n        \"isbn\": \"9783180921\",\n        \"language\": \"englisch\",\n        \"bibtexKey\": \"diverse_internationaler_2012\"\n    },\n    {\n        \"type\": \"Publication\",\n        \"id\": \"https://www.bibsonomy.org/bibtex/24ff7d8a6513d129b597616d670a58ebb/genealogie\",\n        \"tags\": [\n            \"dnb\",\n            \"merged:genealogie\",\n            \"Deutsche_Literatur\",\n            \"Bibliotheks_und_Informationswissenschaft\",\n            \"Bibliografien\"\n        ],\n        \"intraHash\": \"4ff7d8a6513d129b597616d670a58ebb\",\n        \"interHash\": \"42a8dc074ba65fe4fb53399428e78d78\",\n        \"label\": \"Kommentierter Katalog der nachgelassenen Bibliothek von Johannes Bobrowski\",\n        \"user\": \"genealogie\",\n        \"description\": \"\",\n        \"date\": \"2015-09-09 23:37:57\",\n        \"changeDate\": \"2015-09-09 23:37:57\",\n        \"count\": 1,\n        \"pub-type\": \"phdthesis\",\n        \"year\": \"2006\",\n        \"url\": \"\",\n        \"author\": [\n            \"Dalia Bukauskait\"\n        ],\n        \"authors\": [\n            {\n                \"first\": \"Dalia\",\n                \"last\": \"Bukauskait\"\n            }\n        ],\n        \"dnbtitleid\": \"980163021\",\n        \"bibtexKey\": \"bukauskait2006kommentierter\"\n    },\n    {\n        \"type\": \"Publication\",\n        \"id\": \"https://www.bibsonomy.org/bibtex/24b9cd0d9e8ff8afa2281fbdab8e5b2fc/dblp\",\n        \"tags\": [\n            \"merged:dblp\",\n            \"dblp\"\n        ],\n        \"intraHash\": \"4b9cd0d9e8ff8afa2281fbdab8e5b2fc\",\n        \"interHash\": \"d05f4d472c6761a32d5bd3ad69b14491\",\n        \"label\": \"Datenbasis und Bibliothek f\\u00fcr ein Programmiersystem f\\u00fcr speicherprogrammierbare Steuerungen.\",\n        \"user\": \"dblp\",\n        \"description\": \"\",\n        \"date\": \"2017-01-09 00:00:00\",\n        \"changeDate\": \"2017-01-10 11:35:44\",\n        \"count\": 1,\n        \"pub-type\": \"phdthesis\",\n        \"year\": \"1992\",\n        \"url\": \"\",\n        \"author\": [\n            \"Maik K\\u00f6hler\"\n        ],\n        \"authors\": [\n            {\n                \"first\": \"Maik\",\n                \"last\": \"K\\u00f6hler\"\n            }\n        ],\n        \"ee\": \"http://d-nb.info/945697287\",\n        \"bibtexKey\": \"phd/dnb/Kohler92\"\n    },\n    {\n        \"type\": \"Publication\",\n        \"id\": \"https://www.bibsonomy.org/bibtex/29d2e5b89550f6b74c97f396b6f09504c/lepsky\",\n        \"tags\": [\n            \"zz-i\",\n            \"merged:lepsky\"\n        ],\n        \"intraHash\": \"9d2e5b89550f6b74c97f396b6f09504c\",\n        \"interHash\": \"acdb4eef241bd0511678f6db058ce5e6\",\n        \"label\": \"Lexikon Buch, Bibliothek, neue Medien\",\n        \"user\": \"lepsky\",\n        \"description\": \"\",\n        \"date\": \"2018-11-04 16:45:24\",\n        \"changeDate\": \"2018-11-04 16:45:24\",\n        \"count\": 1,\n        \"pub-type\": \"book\",\n        \"publisher\": \"Saur\",\n        \"address\": \"M\\u00fcnchen\",\n        \"year\": \"1991\",\n        \"url\": \"\",\n        \"author\": [\n            \"Margarete Rehm\"\n        ],\n        \"authors\": [\n            {\n                \"first\": \"Margarete\",\n                \"last\": \"Rehm\"\n            }\n        ],\n        \"isbn\": \"3-598-10851-6\",\n        \"bibtexKey\": \"rehm_lexikon_1991\"\n    }\n]\n"
     ]
    }
   ],
   "source": [
    "print(json.dumps(german_pubs, indent=4))"
   ]
  },
  {
   "source": [
    "# Hausaufgabe "
   ],
   "cell_type": "markdown",
   "metadata": {}
  },
  {
   "source": [
    "### 1. Auf Bibsonomy Suche nach Publikationen mit vielen Treffern, und über JSON-API runterladen"
   ],
   "cell_type": "markdown",
   "metadata": {}
  },
  {
   "cell_type": "code",
   "execution_count": 6,
   "metadata": {},
   "outputs": [],
   "source": [
    "#Suche nach Titeln zu \"Forschungsdaten\"\n",
    "urlpath = \"https://www.bibsonomy.org/json/search/Forschungsdaten?items=1000&duplicates=merged\""
   ]
  },
  {
   "cell_type": "code",
   "execution_count": 7,
   "metadata": {},
   "outputs": [],
   "source": [
    "import requests\n",
    "import json"
   ]
  },
  {
   "cell_type": "code",
   "execution_count": 8,
   "metadata": {},
   "outputs": [],
   "source": [
    "result2 = requests.get(urlpath)\n",
    "data2 = result2.json()"
   ]
  },
  {
   "cell_type": "code",
   "execution_count": 12,
   "metadata": {
    "tags": []
   },
   "outputs": [
    {
     "output_type": "error",
     "ename": "TypeError",
     "evalue": "'module' object is not callable",
     "traceback": [
      "\u001b[1;31m---------------------------------------------------------------------------\u001b[0m",
      "\u001b[1;31mTypeError\u001b[0m                                 Traceback (most recent call last)",
      "\u001b[1;32m<ipython-input-12-4da7000fde03>\u001b[0m in \u001b[0;36m<module>\u001b[1;34m\u001b[0m\n\u001b[1;32m----> 1\u001b[1;33m \u001b[0mpprint\u001b[0m\u001b[1;33m(\u001b[0m\u001b[0mdata2\u001b[0m\u001b[1;33m)\u001b[0m\u001b[1;33m\u001b[0m\u001b[1;33m\u001b[0m\u001b[0m\n\u001b[0m",
      "\u001b[1;31mTypeError\u001b[0m: 'module' object is not callable"
     ]
    }
   ],
   "source": [
    "pprint(data2)"
   ]
  },
  {
   "cell_type": "code",
   "execution_count": 13,
   "metadata": {},
   "outputs": [
    {
     "output_type": "stream",
     "name": "stdout",
     "text": [
      "dict_keys(['types', 'properties', 'items'])\n"
     ]
    }
   ],
   "source": [
    "print(data2.keys())"
   ]
  },
  {
   "cell_type": "code",
   "execution_count": 14,
   "metadata": {},
   "outputs": [
    {
     "output_type": "stream",
     "name": "stdout",
     "text": [
      "<class 'list'>\n390\n"
     ]
    }
   ],
   "source": [
    "items2 = data2['items']\n",
    "print(type(items2))\n",
    "print(len(items2))"
   ]
  },
  {
   "cell_type": "code",
   "execution_count": 52,
   "metadata": {
    "tags": [
     "outputPrepend"
    ]
   },
   "outputs": [
    {
     "output_type": "stream",
     "name": "stdout",
     "text": [
      "71/journal.pone.0078080\\r\\n3 http://www.re3data.org\",\n        \"bibtexKey\": \"noauthororeditor\"\n    },\n    {\n        \"type\": \"Publication\",\n        \"id\": \"https://www.bibsonomy.org/bibtex/2409e3014f52c59ddcf2e309f40f889aa/acka47\",\n        \"tags\": [\n            \"researchdata\",\n            \"opendata\",\n            \"merged:acka47\",\n            \"DINI\"\n        ],\n        \"intraHash\": \"409e3014f52c59ddcf2e309f40f889aa\",\n        \"interHash\": \"806c29ab6afa513a9aaaea0ec5a7bc53\",\n        \"label\": \"Positionspapier Forschungsdaten\",\n        \"user\": \"acka47\",\n        \"description\": \"\",\n        \"date\": \"2009-06-15 09:46:50\",\n        \"changeDate\": \"2009-06-15 09:46:50\",\n        \"count\": 1,\n        \"pub-type\": \"techreport\",\n        \"address\": \"G\\u00f6ttingen\",\n        \"year\": \"2009\",\n        \"url\": \"http://edoc.hu-berlin.de/series/dini-schriften/2009-10/PDF/10.pdf\",\n        \"author\": [\n            \"Arbeitsgruppe Forschungsdaten\"\n        ],\n        \"authors\": [\n            {\n                \"first\": \"Arbeitsgruppe\",\n                \"last\": \"Forschungsdaten\"\n            }\n        ],\n        \"note\": \"Version 1.0, April 2009\\r\\nDINI Schriften 10-de\",\n        \"abstract\": \"Dieses Positionspapier beleuchtet \\u2013 aus interdisziplin\\u00e4rer Sicht \\u2013 f\\u00fcnf Kernthemen:\\r\\nDisziplinarit\\u00e4t, Organisation, Zugang, Qualit\\u00e4t und Technik, welche bei der Ann\\u00e4herung an das Themenfeld Forschungsdaten von grundlegender Bedeutung sind.\",\n        \"bibtexKey\": \"DINI_2009_forschungsdaten\"\n    },\n    {\n        \"type\": \"Publication\",\n        \"id\": \"https://www.bibsonomy.org/bibtex/239126783d1976e08f811c991ca043de7/zotero\",\n        \"tags\": [\n            \"de\",\n            \"impact\",\n            \"Forschungsdaten\",\n            \"Zitationsimpact\",\n            \"ddm\",\n            \"Wahrnehmung\",\n            \"Publikation\",\n            \"BMBF\",\n            \"Innovation\",\n            \"PFI\",\n            \"wl\",\n            \"merged:zotero\",\n            \"Pakt_f\\u00fcr_Forschung_und_Innovation\",\n            \"Publikationsprofil\",\n            \"Zitation\",\n            \"GWK\"\n        ],\n        \"intraHash\": \"39126783d1976e08f811c991ca043de7\",\n        \"interHash\": \"5e667fbb9ead2eda1178605a0f1307cd\",\n        \"label\": \"Erfassung und Analyse bibliometrischer Indikatoren f\\u00fcr den PFI-Monitoringbericht 2019\",\n        \"user\": \"zotero\",\n        \"description\": \"\",\n        \"date\": \"2020-08-13 13:52:31\",\n        \"changeDate\": \"2020-08-17 14:17:13\",\n        \"count\": 1,\n        \"pub-type\": \"book\",\n        \"year\": \"2019\",\n        \"url\": \"\",\n        \"author\": [\n            \"Bernhard Mittermaier\",\n            \"Christoph Holzke\",\n            \"Andreas Meier\",\n            \"W. Gl\\u00e4nzel\",\n            \"B. Thijs\",\n            \"P.-S. Chi\"\n        ],\n        \"authors\": [\n            {\n                \"first\": \"Bernhard\",\n                \"last\": \"Mittermaier\"\n            },\n            {\n                \"first\": \"Christoph\",\n                \"last\": \"Holzke\"\n            },\n            {\n                \"first\": \"Andreas\",\n                \"last\": \"Meier\"\n            },\n            {\n                \"first\": \"W.\",\n                \"last\": \"Gl\\u00e4nzel\"\n            },\n            {\n                \"first\": \"B.\",\n                \"last\": \"Thijs\"\n            },\n            {\n                \"first\": \"P.-S.\",\n                \"last\": \"Chi\"\n            }\n        ],\n        \"bibtexKey\": \"mittermaier_erfassung_2019\"\n    },\n    {\n        \"type\": \"Publication\",\n        \"id\": \"https://www.bibsonomy.org/bibtex/2573a119676200b7e59c3fbf8b555a22c/wdees\",\n        \"tags\": [\n            \"kollaboration\",\n            \"forschungsdaten\",\n            \"bibliothek\",\n            \"merged:wdees\",\n            \"digitalisierung\",\n            \"politikwissenschaft\"\n        ],\n        \"intraHash\": \"573a119676200b7e59c3fbf8b555a22c\",\n        \"interHash\": \"6cf7f5c57968e16c839b5d70c666549d\",\n        \"label\": \"Digitization, Data Curation, and Human Rights Documents: Case Study of a Library-Researcher-Practitioner Collaboration\",\n        \"user\": \"wdees\",\n        \"description\": \"\",\n        \"date\": \"2016-09-21 09:54:25\",\n        \"changeDate\": \"2016-09-21 09:54:25\",\n        \"count\": 1,\n        \"pub-type\": \"article\",\n        \"journal\": \"IASSIST Quarterly\",\n        \"year\": \"2016\",\n        \"url\": \"http://www.iassistdata.org/sites/default/files/vol_40_1_barton.pdf\",\n        \"author\": [\n            \"Amy Barton\",\n            \"Paul Bracke\",\n            \"Ann Clark\"\n        ],\n        \"authors\": [\n            {\n                \"first\": \"Amy\",\n                \"last\": \"Barton\"\n            },\n            {\n                \"first\": \"Paul\",\n                \"last\": \"Bracke\"\n            },\n            {\n                \"first\": \"Ann\",\n                \"last\": \"Clark\"\n            }\n        ],\n        \"volume\": \"40\",\n        \"number\": \"1\",\n        \"pages\": \"27-34\",\n        \"bibtexKey\": \"barton2016digitization\"\n    },\n    {\n        \"type\": \"Publication\",\n        \"id\": \"https://www.bibsonomy.org/bibtex/2f676ed039a9bc10207985093d1b87518/zotero\",\n        \"tags\": [\n            \"Datensicherung\",\n            \"Forschungsdatenmanagement\",\n            \"PfL\",\n            \"merged:zotero\",\n            \"Forschungsdaten\",\n            \"en\",\n            \"m5.1\",\n            \"Datenschutz\",\n            \"Data_sharing\",\n            \"open_access\",\n            \"data_repository\",\n            \"ddm\"\n        ],\n        \"intraHash\": \"f676ed039a9bc10207985093d1b87518\",\n        \"interHash\": \"6274151a993002ed33e44a8b382aca98\",\n        \"label\": \"Datenschutz im Forschungsdatenmanagement\",\n        \"user\": \"zotero\",\n        \"description\": \"\",\n        \"date\": \"2020-08-13 12:50:15\",\n        \"changeDate\": \"2020-08-17 14:17:13\",\n        \"count\": 2,\n        \"pub-type\": \"incollection\",\n        \"booktitle\": \"Forschungsdatenmanagement sozialwissenschaftlicher Umfragedaten: Grundlagen und praktische L\\u00f6sungen f\\u00fcr den Umgang mit quantitativen Forschungsdaten\",\n        \"publisher\": \"Barbara Budrich\",\n        \"address\": \"Opladen Berlin Toronto\",\n        \"year\": \"2019\",\n        \"url\": \"https://doi.org/10.3224/84742233\",\n        \"author\": [\n            \"Oliver Watteler\",\n            \"Thomas Ebel\"\n        ],\n        \"authors\": [\n            {\n                \"first\": \"Oliver\",\n                \"last\": \"Watteler\"\n            },\n            {\n                \"first\": \"Thomas\",\n                \"last\": \"Ebel\"\n            }\n        ],\n        \"editor\": [\n            \"Uwe Jensen\",\n            \"Sebastian Netscher\",\n            \"Katrin Weller\"\n        ],\n        \"editors\": [\n            {\n                \"first\": \"Uwe\",\n                \"last\": \"Jensen\"\n            },\n            {\n                \"first\": \"Sebastian\",\n                \"last\": \"Netscher\"\n            },\n            {\n                \"first\": \"Katrin\",\n                \"last\": \"Weller\"\n            }\n        ],\n        \"pages\": \"57--80\",\n        \"abstract\": \"Die elf Beitr\\u00e4ge des vorliegenden Sammelbandes behandeln Grundlagen und L\\u00f6sungen zu unterschiedlichen Themen des Forschungsdatenmanagements, wie etwa zu Datentypen und Lebenszyklen von Daten, zur systematischen Planung und Umsetzung des Forschungsdatenmanagements, zum Datenschutz und den aktuellen Rechtsnormen, zu Regeln der Datenorganisation und zu den Abl\\u00e4ufen in der Datenaufbereitung, zum Data Sharing sowie zur Sekund\\u00e4ranalyse von Forschungsdaten. Darauf aufbauend werden in weiteren Beitr\\u00e4gen die Anwendung von Metadaten sowie die Zitation von Forschungsdaten thematisiert. Aktuelle Herausforderungen beim Umgang mit \\u201aneuen\\u2018 Datentypen werden abschlie\\u00dfend anhand von Social-Media- und Geo-Daten beispielhaft er\\u00f6rtert. Die dabei vorgestellten Konzepte und Ma\\u00dfnahmen bieten ein wichtiges Handwerkszeug f\\u00fcr Sozialwissenschaftlerinnen und Sozialwissenschaftler und ihre Forschungsprojekte\",\n        \"copyright\": \"CC BY-SA 4.0\",\n        \"isbn\": \"978-3-8474-1260-1 978-3-8474-2233-4\",\n        \"language\": \"ger\",\n        \"urldate\": \"2020-04-11\",\n        \"bibtexKey\": \"jensen_datenschutz_2019\"\n    },\n    {\n        \"type\": \"Publication\",\n        \"id\": \"https://www.bibsonomy.org/bibtex/2d08b98b16cd402d62b7970d9600a1929/wdees\",\n        \"tags\": [\n            \"forschungsdaten\",\n            \"bibliothek\",\n            \"merged:wdees\",\n            \"open_access\",\n            \"repository\"\n        ],\n        \"intraHash\": \"d08b98b16cd402d62b7970d9600a1929\",\n        \"interHash\": \"7b5e5dc8d86dfed40de0de1d35517d34\",\n        \"label\": \"From Meow to ROAR: Expanding Open Access Repository Services at the University of Houston Libraries\",\n        \"user\": \"wdees\",\n        \"description\": \"From Meow to ROAR: Expanding Open Access Repository Services at the University of Houston Libraries\",\n        \"date\": \"2019-12-18 09:57:59\",\n        \"changeDate\": \"2019-12-18 09:57:59\",\n        \"count\": 1,\n        \"pub-type\": \"article\",\n        \"journal\": \"Journal of Librarianship and Scholarly Communication\",\n        \"publisher\": \"Pacific University Library\",\n        \"year\": \"2019\",\n        \"url\": \"https://doi.org/10.7710%2F2162-3309.2309\",\n        \"author\": [\n            \"Annie Wu\",\n            \"Taylor Davis-Van Atta\",\n            \"Santi Thompson\",\n            \"Bethany Scott\",\n            \"Anne Washington\",\n            \"Xiping Liu\"\n        ],\n        \"authors\": [\n            {\n                \"first\": \"Annie\",\n                \"last\": \"Wu\"\n            },\n            {\n                \"first\": \"Taylor Davis-Van\",\n                \"last\": \"Atta\"\n            },\n            {\n                \"first\": \"Santi\",\n                \"last\": \"Thompson\"\n            },\n            {\n                \"first\": \"Bethany\",\n                \"last\": \"Scott\"\n            },\n            {\n                \"first\": \"Anne\",\n                \"last\": \"Washington\"\n            },\n            {\n                \"first\": \"Xiping\",\n                \"last\": \"Liu\"\n            }\n        ],\n        \"volume\": \"7\",\n        \"number\": \"1\",\n        \"doi\": \"10.7710/2162-3309.2309\",\n        \"bibtexKey\": \"wu2019expanding\"\n    },\n    {\n        \"type\": \"Publication\",\n        \"id\": \"https://www.bibsonomy.org/bibtex/22359475b9a1320a89522126162658d17/schrang\",\n        \"tags\": [\n            \"merged:schrang\",\n            \"Forschungsdaten\"\n        ],\n        \"intraHash\": \"2359475b9a1320a89522126162658d17\",\n        \"interHash\": \"5f75543b260c27d50c39a8c795c7aa6d\",\n        \"label\": \"EOSC Portal\",\n        \"user\": \"schrang\",\n        \"description\": \"\",\n        \"date\": \"2018-11-27 16:05:53\",\n        \"changeDate\": \"2018-11-27 16:05:53\",\n        \"count\": 1,\n        \"pub-type\": \"article\",\n        \"year\": \"2018\",\n        \"url\": \"\",\n        \"author\": [\n            \" EU-Kommission\"\n        ],\n        \"authors\": [\n            {\n                \"first\": \"\",\n                \"last\": \"EU-Kommission\"\n            }\n        ],\n        \"bibtexKey\": \"max-width:460px).hideonmobiledisplay:none\"\n    },\n    {\n        \"type\": \"Publication\",\n        \"id\": \"https://www.bibsonomy.org/bibtex/2b6dcfffe50f02a7402f23f6b3a868bd3/wdees\",\n        \"tags\": [\n            \"forschungsdaten\",\n            \"merged:wdees\",\n            \"informationskompetenz\"\n        ],\n        \"intraHash\": \"b6dcfffe50f02a7402f23f6b3a868bd3\",\n        \"interHash\": \"12e3a0b98904c1c348dc81aef856c011\",\n        \"label\": \"Understanding data search as a socio-technical practice\",\n        \"user\": \"wdees\",\n        \"description\": \"Understanding data search as a socio-technical practice - Kathleen M Gregory, Helena Cousijn, Paul Groth, Andrea Scharnhorst, Sally Wyatt, 2020\",\n        \"date\": \"2020-07-14 12:34:27\",\n        \"changeDate\": \"2020-07-14 12:34:27\",\n        \"count\": 1,\n        \"pub-type\": \"article\",\n        \"journal\": \"Journal of Information Science\",\n        \"publisher\": \"SAGE Publications\",\n        \"year\": \"2019\",\n        \"url\": \"https://doi.org/10.1177%2F0165551519837182\",\n        \"author\": [\n            \"Kathleen M Gregory\",\n            \"Helena Cousijn\",\n            \"Paul Groth\",\n            \"Andrea Scharnhorst\",\n            \"Sally Wyatt\"\n        ],\n        \"authors\": [\n            {\n                \"first\": \"Kathleen M\",\n                \"last\": \"Gregory\"\n            },\n            {\n                \"first\": \"Helena\",\n                \"last\": \"Cousijn\"\n            },\n            {\n                \"first\": \"Paul\",\n                \"last\": \"Groth\"\n            },\n            {\n                \"first\": \"Andrea\",\n                \"last\": \"Scharnhorst\"\n            },\n            {\n                \"first\": \"Sally\",\n                \"last\": \"Wyatt\"\n            }\n        ],\n        \"volume\": \"46\",\n        \"number\": \"4\",\n        \"pages\": \"459--475\",\n        \"doi\": \"10.1177/0165551519837182\",\n        \"bibtexKey\": \"gregory2019understanding\"\n    },\n    {\n        \"type\": \"Publication\",\n        \"id\": \"https://www.bibsonomy.org/bibtex/255ba5941a6d97b7bdf368877409c7180/privtec\",\n        \"tags\": [\n            \"merged:privtec\"\n        ],\n        \"intraHash\": \"55ba5941a6d97b7bdf368877409c7180\",\n        \"interHash\": \"8f947021783637456ce0a8e9471ecd18\",\n        \"label\": \"Ein organisationsunterst\\u00fctztes Verfahren zur Anonymisierung von Forschungsdaten\",\n        \"user\": \"privtec\",\n        \"description\": \"\",\n        \"date\": \"2013-03-25 19:03:53\",\n        \"changeDate\": \"2013-03-25 19:10:51\",\n        \"count\": 1,\n        \"pub-type\": \"incollection\",\n        \"booktitle\": \"Datenzugang und Datenschutz\",\n        \"series\": \"Monographien: Sozialwissenschaftliche Methoden\",\n        \"publisher\": \"Athen\\u00e4um\",\n        \"address\": \"K\\u00f6nigstein/Ts.\",\n        \"year\": \"1980\",\n        \"url\": \"\",\n        \"author\": [\n            \"Wilhelm Steinm\\u00fcller\"\n        ],\n        \"authors\": [\n            {\n                \"first\": \"Wilhelm\",\n                \"last\": \"Steinm\\u00fcller\"\n            }\n        ],\n        \"editor\": [\n            \"Max Kaase\",\n            \"Hans-J\\u00fcrgen Krupp\",\n            \"Manfred Pflanz\",\n            \"Erwin K. Scheuch\",\n            \"Spiros Simitis\"\n        ],\n        \"editors\": [\n            {\n                \"first\": \"Max\",\n                \"last\": \"Kaase\"\n            },\n            {\n                \"first\": \"Hans-J\\u00fcrgen\",\n                \"last\": \"Krupp\"\n            },\n            {\n                \"first\": \"Manfred\",\n                \"last\": \"Pflanz\"\n            },\n            {\n                \"first\": \"Erwin K.\",\n                \"last\": \"Scheuch\"\n            },\n            {\n                \"first\": \"Spiros\",\n                \"last\": \"Simitis\"\n            }\n        ],\n        \"number\": \"3\",\n        \"pages\": \"111--117\",\n        \"owner\": \"jonny\",\n        \"bibtexKey\": \"Kaase:1980:Steinmueller\"\n    },\n    {\n        \"type\": \"Publication\",\n        \"id\": \"https://www.bibsonomy.org/bibtex/2d1afe0a55c4ef8dd85df47938f923b9b/zotero\",\n        \"tags\": [\n            \"de\",\n            \"Forschungsdatenmanagement\",\n            \"merged:zotero\",\n            \"Methoden\",\n            \"m5.1\",\n            \"RDM\",\n            \"ddm\",\n            \"FDM\"\n        ],\n        \"intraHash\": \"d1afe0a55c4ef8dd85df47938f923b9b\",\n        \"interHash\": \"505128cf9a2932cc484f1bf8c4baca0b\",\n        \"label\": \"Forschungsdaten managen - Bausteine f\\u00fcr eine dezentrale, forschungsnahe Unterst\\u00fctzung\",\n        \"user\": \"zotero\",\n        \"description\": \"\",\n        \"date\": \"2020-08-19 12:35:52\",\n        \"changeDate\": \"2020-08-19 12:35:52\",\n        \"count\": 1,\n        \"pub-type\": \"article\",\n        \"journal\": \"o.bib\",\n        \"year\": \"2018\",\n        \"url\": \"\",\n        \"author\": [\n            \"Dominik Schmitz\",\n            \"Marius Politze\"\n        ],\n        \"authors\": [\n            {\n                \"first\": \"Dominik\",\n                \"last\": \"Schmitz\"\n            },\n            {\n                \"first\": \"Marius\",\n                \"last\": \"Politze\"\n            }\n        ],\n        \"number\": \"3\",\n        \"doi\": \"htps://doi.org/10.5282/o-bib/2018H3S104-117\",\n        \"bibtexKey\": \"schmitz_forschungsdaten_2018\"\n    },\n    {\n        \"type\": \"Publication\",\n        \"id\": \"963\",\n        \"tags\": [\n            \"forschungsdaten\",\n            \"merged:wdees\",\n            \"informationskompetenz\"\n        ],\n        \"intraHash\": \"050e0cdb34b24dd32fa6f8ba1c914ed3\",\n        \"interHash\": \"01431a69fcc4a1ce0a6b5c6ea79ff18c\",\n        \"label\": \"How many ways can we teach data literacy?\",\n        \"user\": \"wdees\",\n        \"description\": \"How many ways can we teach data literacy? | IASSIST Quarterly\",\n        \"date\": \"2020-01-09 09:04:22\",\n        \"changeDate\": \"2020-01-09 09:04:22\",\n        \"count\": 1,\n        \"pub-type\": \"misc\",\n        \"year\": \"2019\",\n        \"url\": \"https://www.iassistquarterly.com/index.php/iassist/article/view/963\",\n        \"author\": [\n            \"Yun Dai\"\n        ],\n        \"authors\": [\n            {\n                \"first\": \"Yun\",\n                \"last\": \"Dai\"\n            }\n        ],\n        \"volume\": \"43\",\n        \"number\": \"4\",\n        \"pages\": \"1-11\",\n        \"abstract\": \"Academic Libraries are ideally positioned to teach data literacy. What is \\u2018data literacy\\u2019 in the first place? Is it the new information literacy? Will the ways we teach information literacy limit imaginative ways to teach data literacy?\\r\\nWith those questions in mind, the Library of New York University Shanghai has explored multiple ways to teach data literacy to undergraduate students through university events, \\u2018for-class\\u2019 instruction and workshops, and online casebooks. (1) We initiated the yearlong series of events titled \\u2018Lying with Data\\u2019, inviting faculty across disciplines to each address one core data literacy question that students of data science may elude. (2) We offered workshops and in-class instruction that are up-to-date with the latest technology and that fit with the curriculum. (3) We created online casebooks on various topics in the data lifecycle, tackling user needs at different levels. Essential to our teaching activities are two core values: \\u2018let the quality speak for itself\\u2019, and \\u2018outreach by teaching\\u2019.&amp;nbsp;\",\n        \"source\": \"IASSIST Quarterly\",\n        \"uri\": \"https://www.iassistquarterly.com/index.php/iassist\",\n        \"issn\": \"0739-1137\",\n        \"doi\": \"10.29173/iq963\",\n        \"bibtexKey\": \"dai2019teach\"\n    },\n    {\n        \"type\": \"Publication\",\n        \"id\": \"https://www.bibsonomy.org/bibtex/20d220d8679d18b5def95dc823e8a4363/dblp\",\n        \"tags\": [\n            \"merged:dblp\",\n            \"dblp\"\n        ],\n        \"intraHash\": \"0d220d8679d18b5def95dc823e8a4363\",\n        \"interHash\": \"71b84d721815af926a6d4de504cda097\",\n        \"label\": \"Rechtliche Probleme der elektronischen Langzeitarchivierung von Forschungsdaten.\",\n        \"user\": \"dblp\",\n        \"description\": \"\",\n        \"date\": \"2016-09-06 00:00:00\",\n        \"changeDate\": \"2016-09-07 11:34:53\",\n        \"count\": 2,\n        \"pub-type\": \"incollection\",\n        \"booktitle\": \"Handbuch Forschungsdatenmanagement\",\n        \"publisher\": \"Bock + Herchen, Bad Honnef\",\n        \"year\": \"2011\",\n        \"url\": \"http://dblp.uni-trier.de/db/books/collections/FDM2011.html#SpindlerH11\",\n        \"author\": [\n            \"Gerald Spindler\",\n            \"Tobias Hillegeist\"\n        ],\n        \"authors\": [\n            {\n                \"first\": \"Gerald\",\n                \"last\": \"Spindler\"\n            },\n            {\n                \"first\": \"Tobias\",\n                \"last\": \"Hillegeist\"\n            }\n        ],\n        \"editor\": [\n            \"Stephan B\\u00fcttner\",\n            \"Hans-Christoph Hobohm\",\n            \"Lars M\\u00fcller\"\n        ],\n        \"editors\": [\n            {\n                \"first\": \"Stephan\",\n                \"last\": \"B\\u00fcttner\"\n            },\n            {\n                \"first\": \"Hans-Christoph\",\n                \"last\": \"Hobohm\"\n            },\n            {\n                \"first\": \"Lars\",\n                \"last\": \"M\\u00fcller\"\n            }\n        ],\n        \"pages\": \"63-70\",\n        \"ee\": \"https://nbn-resolving.org/urn:nbn:de:kobv:525-opus-2298\",\n        \"isbn\": \"978-3-88347-283-6\",\n        \"bibtexKey\": \"books/x/p/SpindlerH11\"\n    }\n]\n"
     ]
    }
   ],
   "source": [
    "print(json.dumps(items2, indent=4))"
   ]
  },
  {
   "cell_type": "code",
   "execution_count": 15,
   "metadata": {},
   "outputs": [],
   "source": [
    "with open('forschungsdaten.json', 'w') as outfile:\n",
    "    json.dump(items2, outfile, indent=4)              \n",
    "    #sollte eigentlich Datei schreiben, macht er aber nicht"
   ]
  },
  {
   "cell_type": "code",
   "execution_count": 16,
   "metadata": {},
   "outputs": [
    {
     "output_type": "stream",
     "name": "stdout",
     "text": [
      "{'type': 'Bookmark', 'id': 'https://www.bibsonomy.org/url/4a86535cb81c294ed44e63e7e36e3504/ch.gutknecht', 'tags': ['forschungsdaten', 'Deutschland', 'DFG', 'Allianz', 'Primärdaten', 'Langzeitarchivierung'], 'intraHash': '4a86535cb81c294ed44e63e7e36e3504', 'label': 'Schwerpunktinitative \"Digitale Information\" Forschungsdaten', 'user': 'ch.gutknecht', 'description': '', 'date': '2010-07-21 10:17:53', 'changeDate': '2010-07-21 10:17:53', 'count': 2, 'url': 'http://www.allianzinitiative.de/de/handlungsfelder/forschungsdaten/'}\n"
     ]
    }
   ],
   "source": [
    "first_item = items2[1]\n",
    "print(first_item)"
   ]
  },
  {
   "cell_type": "code",
   "execution_count": 43,
   "metadata": {},
   "outputs": [
    {
     "output_type": "stream",
     "name": "stdout",
     "text": [
      "192\n"
     ]
    }
   ],
   "source": [
    "fd_publications = [item for item in items2 if item['type'] == 'Publication']\n",
    "print(len(fd_publications))\n",
    "# jetzt habe ich nur die Publikationen, Booksmarks sind raus"
   ]
  },
  {
   "cell_type": "code",
   "execution_count": 19,
   "metadata": {},
   "outputs": [
    {
     "output_type": "stream",
     "name": "stdout",
     "text": [
      "{'type': 'Publication', 'id': 'https://www.bibsonomy.org/bibtex/2abe9d6dc786671cb0986cb59fc4658a2/wdees', 'tags': ['forschungsdaten', 'merged:wdees', 'informationskompetenz'], 'intraHash': 'abe9d6dc786671cb0986cb59fc4658a2', 'interHash': 'bb02cb82af4ece15f1700ead3e95a87f', 'label': 'Doing Data Science: A Framework and Case Study', 'user': 'wdees', 'description': '', 'date': '2020-02-03 09:33:18', 'changeDate': '2020-02-03 09:33:18', 'count': 1, 'pub-type': 'article', 'journal': 'Harvard Data Science Review', 'year': '2020', 'url': 'https://hdsr.mitpress.mit.edu/pub/hnptx6lq', 'author': ['Sallie Ann Keller', 'Stephanie S. Shipp', 'Aaron D. Schroeder', 'Gizem Korkmaz'], 'authors': [{'first': 'Sallie Ann', 'last': 'Keller'}, {'first': 'Stephanie S.', 'last': 'Shipp'}, {'first': 'Aaron D.', 'last': 'Schroeder'}, {'first': 'Gizem', 'last': 'Korkmaz'}], 'volume': '2', 'number': '1', 'bibtexKey': 'keller2020doing'}\n"
     ]
    }
   ],
   "source": [
    "first_item = fd_publications[0]\n",
    "print(first_item)"
   ]
  },
  {
   "cell_type": "code",
   "execution_count": 75,
   "metadata": {},
   "outputs": [
    {
     "output_type": "stream",
     "name": "stdout",
     "text": [
      "{'author': ['Christina Kläre', 'Kim-Sarah Jung'],\n 'authors': [{'first': 'Christina', 'last': 'Kläre'},\n             {'first': 'Kim-Sarah', 'last': 'Jung'}],\n 'bibtexKey': 'klre2019education',\n 'changeDate': '2019-12-16 10:31:41',\n 'count': 1,\n 'date': '2019-12-16 10:31:41',\n 'description': 'Data EDUcation an der UDE – Eine OER für Bibliotheken : '\n                'Bibliothek Forschung und Praxis',\n 'doi': '10.1515/bfp-2019-2078',\n 'id': 'https://www.bibsonomy.org/bibtex/26134ca4f1047738d19be7aab9fa3191d/wdees',\n 'interHash': '832c51690660dc4168a2906c9cae3e42',\n 'intraHash': '6134ca4f1047738d19be7aab9fa3191d',\n 'issn': '03414183',\n 'journal': 'Bibliothek Forschung und Praxis',\n 'label': 'Data EDUcation an der UDE – Eine OER für Bibliotheken',\n 'number': '3',\n 'pages': '387--398',\n 'pub-type': 'article',\n 'tags': ['forschungsdaten', 'bibliothek', 'merged:wdees', 'oer'],\n 'type': 'Publication',\n 'url': 'https://www.degruyter.com/view/j/bfup.2019.43.issue-3/bfp-2019-2078/bfp-2019-2078.xml',\n 'user': 'wdees',\n 'volume': '43',\n 'year': '2019'}\n"
     ]
    }
   ],
   "source": [
    "second_item = fd_publications[1]\n",
    "pprint(second_item)"
   ]
  },
  {
   "cell_type": "code",
   "execution_count": 20,
   "metadata": {},
   "outputs": [
    {
     "output_type": "error",
     "ename": "NameError",
     "evalue": "name 'fd_header' is not defined",
     "traceback": [
      "\u001b[1;31m---------------------------------------------------------------------------\u001b[0m",
      "\u001b[1;31mNameError\u001b[0m                                 Traceback (most recent call last)",
      "\u001b[1;32m<ipython-input-20-a96b88c4005b>\u001b[0m in \u001b[0;36m<module>\u001b[1;34m\u001b[0m\n\u001b[1;32m----> 1\u001b[1;33m \u001b[0mprint\u001b[0m\u001b[1;33m(\u001b[0m\u001b[0mfd_header\u001b[0m\u001b[1;33m.\u001b[0m\u001b[0mkeys\u001b[0m\u001b[1;33m(\u001b[0m\u001b[1;33m)\u001b[0m\u001b[1;33m)\u001b[0m\u001b[1;33m\u001b[0m\u001b[1;33m\u001b[0m\u001b[0m\n\u001b[0m",
      "\u001b[1;31mNameError\u001b[0m: name 'fd_header' is not defined"
     ]
    }
   ],
   "source": [
    "print(fd_header.keys()) # ist dir hier eine Zelle im Notebook verloren gegangen? fd_header ist nicht definiert"
   ]
  },
  {
   "cell_type": "code",
   "execution_count": 22,
   "metadata": {},
   "outputs": [
    {
     "output_type": "stream",
     "name": "stdout",
     "text": [
      "[{'first': 'Sallie Ann', 'last': 'Keller'}, {'first': 'Stephanie S.', 'last': 'Shipp'}, {'first': 'Aaron D.', 'last': 'Schroeder'}, {'first': 'Gizem', 'last': 'Korkmaz'}]\n"
     ]
    }
   ],
   "source": [
    "first_author = first_item['authors']\n",
    "print(first_author)\n",
    "# Ergebnis ist eine Liste, die aber aus Dictionaries besteht"
   ]
  },
  {
   "cell_type": "code",
   "execution_count": 23,
   "metadata": {
    "tags": []
   },
   "outputs": [
    {
     "output_type": "stream",
     "name": "stdout",
     "text": [
      "{'first': 'Sallie Ann', 'last': 'Keller'}\n{'first': 'Stephanie S.', 'last': 'Shipp'}\n{'first': 'Aaron D.', 'last': 'Schroeder'}\n{'first': 'Gizem', 'last': 'Korkmaz'}\n"
     ]
    }
   ],
   "source": [
    "for person in first_item['authors']:\n",
    "    print(person)"
   ]
  },
  {
   "cell_type": "code",
   "execution_count": 24,
   "metadata": {},
   "outputs": [
    {
     "output_type": "execute_result",
     "data": {
      "text/plain": [
       "{'first': 'Sallie Ann', 'last': 'Keller'}"
      ]
     },
     "metadata": {},
     "execution_count": 24
    }
   ],
   "source": [
    "first_author[0] # Erster eintrag in Autorenliste"
   ]
  },
  {
   "cell_type": "code",
   "execution_count": 25,
   "metadata": {},
   "outputs": [
    {
     "output_type": "stream",
     "name": "stdout",
     "text": [
      "Keller, Sallie Ann\nShipp, Stephanie S.\nSchroeder, Aaron D.\nKorkmaz, Gizem\n"
     ]
    }
   ],
   "source": [
    "for names in first_author:\n",
    "    print(names[\"last\"] + ', ' + names[\"first\"])"
   ]
  },
  {
   "cell_type": "code",
   "execution_count": 26,
   "metadata": {},
   "outputs": [
    {
     "output_type": "stream",
     "name": "stdout",
     "text": [
      "<creator> Keller, Sallie Ann </creator>\n<creator> Shipp, Stephanie S. </creator>\n<creator> Schroeder, Aaron D. </creator>\n<creator> Korkmaz, Gizem </creator>\n"
     ]
    }
   ],
   "source": [
    "for names in first_author:\n",
    "    print('<creator> ' + names[\"last\"] + ', ' + names[\"first\"] + ' </creator>')"
   ]
  },
  {
   "cell_type": "code",
   "execution_count": 27,
   "metadata": {},
   "outputs": [
    {
     "output_type": "stream",
     "name": "stdout",
     "text": [
      "<publications>\n<publication>\n<creators>\n</creators>\n</publication>\n</publications>\n"
     ]
    }
   ],
   "source": [
    "print(\"<publications>\")\n",
    "print(\"<publication>\")\n",
    "print(\"<creators>\")  \n",
    "with open('publications.txt', 'w+') as outfile:\n",
    "    for names in first_author:     \n",
    "        outfile.write('<creator> ' + names[\"last\"] + ', ' + names[\"first\"] + ' </creator>')\n",
    "print(\"</creators>\")  \n",
    "print(\"</publication>\")     \n",
    "print(\"</publications>\")"
   ]
  },
  {
   "cell_type": "code",
   "execution_count": 28,
   "metadata": {},
   "outputs": [],
   "source": [
    "# brauche ich nur als Kopf\n",
    "with open('publications.txt', 'w') as outfile:\n",
    "    outfile.write(\"<publications>\")\n",
    "    "
   ]
  },
  {
   "cell_type": "code",
   "execution_count": 29,
   "metadata": {},
   "outputs": [],
   "source": [
    "# Einträge, die für alle Publikationen ausgeführt werden müssen\n",
    "with open('publications.txt', 'a') as outfile:\n",
    "    outfile.write(\"<publication>\")\n",
    "    outfile.write(\"<type>\" + first_item['pub-type'] + \"</type>\")\n",
    "    outfile.write(\"<creators>\")\n",
    "    for names in first_item['authors']:\n",
    "        outfile.write('<creator> ' + names[\"last\"] + ', ' + names[\"first\"] + ' </creator>')"
   ]
  },
  {
   "cell_type": "code",
   "execution_count": 144,
   "metadata": {},
   "outputs": [
    {
     "output_type": "error",
     "ename": "KeyError",
     "evalue": "'pages'",
     "traceback": [
      "\u001b[1;31m---------------------------------------------------------------------------\u001b[0m",
      "\u001b[1;31mKeyError\u001b[0m                                  Traceback (most recent call last)",
      "\u001b[1;32m<ipython-input-144-1082fd59d328>\u001b[0m in \u001b[0;36m<module>\u001b[1;34m\u001b[0m\n\u001b[0;32m      6\u001b[0m     \u001b[0moutfile\u001b[0m\u001b[1;33m.\u001b[0m\u001b[0mwrite\u001b[0m\u001b[1;33m(\u001b[0m\u001b[1;34m'<volume> '\u001b[0m \u001b[1;33m+\u001b[0m \u001b[0mfirst_item\u001b[0m\u001b[1;33m[\u001b[0m\u001b[1;34m'volume'\u001b[0m\u001b[1;33m]\u001b[0m \u001b[1;33m+\u001b[0m \u001b[1;34m' </volume>'\u001b[0m\u001b[1;33m)\u001b[0m\u001b[1;33m\u001b[0m\u001b[1;33m\u001b[0m\u001b[0m\n\u001b[0;32m      7\u001b[0m     \u001b[0moutfile\u001b[0m\u001b[1;33m.\u001b[0m\u001b[0mwrite\u001b[0m\u001b[1;33m(\u001b[0m\u001b[1;34m'<number> '\u001b[0m \u001b[1;33m+\u001b[0m \u001b[0mfirst_item\u001b[0m\u001b[1;33m[\u001b[0m\u001b[1;34m'number'\u001b[0m\u001b[1;33m]\u001b[0m \u001b[1;33m+\u001b[0m \u001b[1;34m' </number>'\u001b[0m\u001b[1;33m)\u001b[0m\u001b[1;33m\u001b[0m\u001b[1;33m\u001b[0m\u001b[0m\n\u001b[1;32m----> 8\u001b[1;33m     \u001b[0moutfile\u001b[0m\u001b[1;33m.\u001b[0m\u001b[0mwrite\u001b[0m\u001b[1;33m(\u001b[0m\u001b[1;34m'<pages> '\u001b[0m \u001b[1;33m+\u001b[0m \u001b[0mfirst_item\u001b[0m\u001b[1;33m[\u001b[0m\u001b[1;34m'pages'\u001b[0m\u001b[1;33m]\u001b[0m \u001b[1;33m+\u001b[0m \u001b[1;34m' </pages>'\u001b[0m\u001b[1;33m)\u001b[0m\u001b[1;33m\u001b[0m\u001b[1;33m\u001b[0m\u001b[0m\n\u001b[0m\u001b[0;32m      9\u001b[0m     \u001b[0moutfile\u001b[0m\u001b[1;33m.\u001b[0m\u001b[0mwrite\u001b[0m\u001b[1;33m(\u001b[0m\u001b[1;34m'<url> '\u001b[0m \u001b[1;33m+\u001b[0m \u001b[0mfirst_item\u001b[0m\u001b[1;33m[\u001b[0m\u001b[1;34m'url'\u001b[0m\u001b[1;33m]\u001b[0m \u001b[1;33m+\u001b[0m \u001b[1;34m' </url>'\u001b[0m\u001b[1;33m)\u001b[0m\u001b[1;33m\u001b[0m\u001b[1;33m\u001b[0m\u001b[0m\n\u001b[0;32m     10\u001b[0m     \u001b[0moutfile\u001b[0m\u001b[1;33m.\u001b[0m\u001b[0mwrite\u001b[0m\u001b[1;33m(\u001b[0m\u001b[1;34m\"</publication>\"\u001b[0m\u001b[1;33m)\u001b[0m\u001b[1;33m\u001b[0m\u001b[1;33m\u001b[0m\u001b[0m\n",
      "\u001b[1;31mKeyError\u001b[0m: 'pages'"
     ]
    }
   ],
   "source": [
    "with open('publications.txt', 'a') as outfile:\n",
    "    outfile.write(\"</creator>\")\n",
    "    outfile.write('<title> ' + first_item['label'] + ' </title>')\n",
    "    outfile.write('<journal> ' + first_item['journal'] + ' </journal>')\n",
    "    outfile.write('<year> ' + first_item['year'] + ' </year>')\n",
    "    outfile.write('<volume> ' + first_item['volume'] + ' </volume>')\n",
    "    outfile.write('<number> ' + first_item['number'] + ' </number>')\n",
    "    outfile.write('<pages> ' + first_item['pages'] + ' </pages>')\n",
    "    outfile.write('<url> ' + first_item['url'] + ' </url>')\n",
    "    outfile.write(\"</publication>\")\n"
   ]
  },
  {
   "source": [
    "Problem hier, dass es keine Seitenangabe gibt."
   ],
   "cell_type": "markdown",
   "metadata": {}
  },
  {
   "cell_type": "code",
   "execution_count": null,
   "metadata": {},
   "outputs": [],
   "source": [
    "# brauche ich nur als Abschluss\n",
    "with open('publications.txt', 'a') as outfile:\n",
    "    outfile.write(\"</publications>\")"
   ]
  },
  {
   "cell_type": "code",
   "execution_count": 30,
   "metadata": {},
   "outputs": [
    {
     "output_type": "error",
     "ename": "KeyError",
     "evalue": "'pages'",
     "traceback": [
      "\u001b[1;31m---------------------------------------------------------------------------\u001b[0m",
      "\u001b[1;31mKeyError\u001b[0m                                  Traceback (most recent call last)",
      "\u001b[1;32m<ipython-input-30-a2f8dd3dd991>\u001b[0m in \u001b[0;36m<module>\u001b[1;34m\u001b[0m\n\u001b[1;32m----> 1\u001b[1;33m \u001b[0mprint\u001b[0m\u001b[1;33m(\u001b[0m\u001b[0mfirst_item\u001b[0m\u001b[1;33m[\u001b[0m\u001b[1;34m'pages'\u001b[0m\u001b[1;33m]\u001b[0m\u001b[1;33m)\u001b[0m\u001b[1;33m\u001b[0m\u001b[1;33m\u001b[0m\u001b[0m\n\u001b[0m",
      "\u001b[1;31mKeyError\u001b[0m: 'pages'"
     ]
    }
   ],
   "source": [
    "print(first_item['pages'])\n"
   ]
  },
  {
   "cell_type": "code",
   "execution_count": 32,
   "metadata": {},
   "outputs": [
    {
     "output_type": "stream",
     "name": "stdout",
     "text": [
      "dict_keys(['type', 'id', 'tags', 'intraHash', 'interHash', 'label', 'user', 'description', 'date', 'changeDate', 'count', 'pub-type', 'journal', 'year', 'url', 'author', 'authors', 'volume', 'number', 'bibtexKey'])\n"
     ]
    }
   ],
   "source": [
    "print(first_item.keys())"
   ]
  },
  {
   "cell_type": "code",
   "execution_count": 33,
   "metadata": {},
   "outputs": [
    {
     "output_type": "stream",
     "name": "stdout",
     "text": [
      "dict_keys(['type', 'id', 'tags', 'intraHash', 'interHash', 'label', 'user', 'description', 'date', 'changeDate', 'count', 'pub-type', 'journal', 'year', 'url', 'author', 'authors', 'volume', 'number', 'pages', 'issn', 'doi', 'bibtexKey'])\n"
     ]
    }
   ],
   "source": [
    "print(fd_publications[1].keys()) #so kann ich auch die einzelnen Einträge abfragen"
   ]
  },
  {
   "cell_type": "code",
   "execution_count": 37,
   "metadata": {},
   "outputs": [],
   "source": [
    "page_missing = [item for item in items2 if 'pages' in item]\n",
    "print(len(page_missing))"
   ]
  },
  {
   "cell_type": "code",
   "execution_count": 42,
   "metadata": {
    "tags": []
   },
   "outputs": [],
   "source": [
    "fd_publications_page = [item for item in fd_publications if 'pages' in item]\n",
    "print(len(fd_publications_page))"
   ]
  },
  {
   "cell_type": "markdown",
   "metadata": {},
   "source": [
    "[Mandy] hier hast du dich vielleicht gewundert, warum du jeweils 0 Ergebnisse hattest - es lag nur an einem Schreibfehler. Der richtige Key ist \"pages\", nicht \"page\"."
   ]
  },
  {
   "cell_type": "code",
   "execution_count": 47,
   "metadata": {},
   "outputs": [
    {
     "output_type": "error",
     "ename": "TypeError",
     "evalue": "expected str, bytes or os.PathLike object, not list",
     "traceback": [
      "\u001b[1;31m---------------------------------------------------------------------------\u001b[0m",
      "\u001b[1;31mTypeError\u001b[0m                                 Traceback (most recent call last)",
      "\u001b[1;32m<ipython-input-47-fec093036336>\u001b[0m in \u001b[0;36m<module>\u001b[1;34m\u001b[0m\n\u001b[1;32m----> 1\u001b[1;33m \u001b[1;32mwith\u001b[0m \u001b[0mopen\u001b[0m\u001b[1;33m(\u001b[0m\u001b[0mfd_publications\u001b[0m\u001b[1;33m)\u001b[0m \u001b[1;32mas\u001b[0m \u001b[0minfile\u001b[0m\u001b[1;33m:\u001b[0m\u001b[1;33m\u001b[0m\u001b[1;33m\u001b[0m\u001b[0m\n\u001b[0m\u001b[0;32m      2\u001b[0m     \u001b[1;32mfor\u001b[0m \u001b[0mi\u001b[0m \u001b[1;32min\u001b[0m \u001b[0mrange\u001b[0m\u001b[1;33m(\u001b[0m\u001b[0mlen\u001b[0m\u001b[1;33m(\u001b[0m\u001b[0mfirst_line\u001b[0m\u001b[1;33m)\u001b[0m\u001b[1;33m)\u001b[0m\u001b[1;33m:\u001b[0m\u001b[1;33m\u001b[0m\u001b[1;33m\u001b[0m\u001b[0m\n\u001b[0;32m      3\u001b[0m         \u001b[0mprint\u001b[0m\u001b[1;33m(\u001b[0m\u001b[0mheader\u001b[0m\u001b[1;33m[\u001b[0m\u001b[0mi\u001b[0m\u001b[1;33m]\u001b[0m\u001b[1;33m,\u001b[0m \u001b[1;34m':'\u001b[0m \u001b[1;33m,\u001b[0m \u001b[0mfirst_line\u001b[0m\u001b[1;33m[\u001b[0m\u001b[0mi\u001b[0m\u001b[1;33m]\u001b[0m\u001b[1;33m)\u001b[0m\u001b[1;33m\u001b[0m\u001b[1;33m\u001b[0m\u001b[0m\n",
      "\u001b[1;31mTypeError\u001b[0m: expected str, bytes or os.PathLike object, not list"
     ]
    }
   ],
   "source": [
    "with open(fd_publications) as infile:\n",
    "    for i in range(len(first_line)):\n",
    "        print(header[i], ':' , first_line[i])"
   ]
  },
  {
   "cell_type": "markdown",
   "metadata": {},
   "source": [
    "[Mandy] Wie die Fehlermeldung schon andeutet, ist `fd_publications` eine Variable vom Typ list. Diese kannst du nicht mit der `open`-Methode verwenden."
   ]
  },
  {
   "cell_type": "code",
   "execution_count": 51,
   "metadata": {},
   "outputs": [
    {
     "output_type": "stream",
     "name": "stdout",
     "text": [
      "{'label': 'Doing Data Science: A Framework and Case Study', 'count': 1, 'pub-type': 'article', 'journal': 'Harvard Data Science Review', 'year': '2020', 'url': 'https://hdsr.mitpress.mit.edu/pub/hnptx6lq', 'author': ['Sallie Ann Keller', 'Stephanie S. Shipp', 'Aaron D. Schroeder', 'Gizem Korkmaz'], 'authors': [{'first': 'Sallie Ann', 'last': 'Keller'}, {'first': 'Stephanie S.', 'last': 'Shipp'}, {'first': 'Aaron D.', 'last': 'Schroeder'}, {'first': 'Gizem', 'last': 'Korkmaz'}], 'volume': '2', 'number': '1'}\n"
     ]
    }
   ],
   "source": [
    "first_item.pop('user', None)\n",
    "first_item.pop('type', None)\n",
    "first_item.pop('tags', None)\n",
    "first_item.pop('id', None)\n",
    "first_item.pop('intraHash', None)\n",
    "first_item.pop('interHash', None)\n",
    "first_item.pop('date', None)\n",
    "first_item.pop('bibtexKey', None)\n",
    "first_item.pop('description', None)\n",
    "first_item.pop('changeDate', None)\n",
    "print(first_item)"
   ]
  },
  {
   "cell_type": "code",
   "execution_count": 61,
   "metadata": {},
   "outputs": [
    {
     "output_type": "stream",
     "name": "stdout",
     "text": [
      "dict_keys(['label', 'count', 'pub-type', 'journal', 'year', 'url', 'author', 'authors', 'volume', 'number'])\n"
     ]
    }
   ],
   "source": [
    "f = first_item\n",
    "f.pop('user', None)\n",
    "f.pop('type', None)\n",
    "f.pop('tags', None)\n",
    "f.pop('id', None)\n",
    "f.pop('intraHash', None) \n",
    "f.pop('interHash', None)\n",
    "f.pop('date', None)\n",
    "f.pop('bibtexKey', None)\n",
    "f.pop('description', None)\n",
    "f.pop('changeDate', None)\n",
    "print(f.keys())"
   ]
  },
  {
   "cell_type": "code",
   "execution_count": 63,
   "metadata": {},
   "outputs": [
    {
     "output_type": "error",
     "ename": "TypeError",
     "evalue": "'str' object cannot be interpreted as an integer",
     "traceback": [
      "\u001b[1;31m---------------------------------------------------------------------------\u001b[0m",
      "\u001b[1;31mTypeError\u001b[0m                                 Traceback (most recent call last)",
      "\u001b[1;32m<ipython-input-63-650e2c8d3540>\u001b[0m in \u001b[0;36m<module>\u001b[1;34m\u001b[0m\n\u001b[1;32m----> 1\u001b[1;33m \u001b[0mfd_publications\u001b[0m\u001b[1;33m[\u001b[0m\u001b[1;34m'label'\u001b[0m\u001b[1;33m]\u001b[0m \u001b[1;33m=\u001b[0m \u001b[0mfd_publications\u001b[0m\u001b[1;33m.\u001b[0m\u001b[0mpop\u001b[0m\u001b[1;33m(\u001b[0m\u001b[1;34m'title'\u001b[0m\u001b[1;33m)\u001b[0m\u001b[1;33m\u001b[0m\u001b[1;33m\u001b[0m\u001b[0m\n\u001b[0m\u001b[0;32m      2\u001b[0m \u001b[0mprint\u001b[0m\u001b[1;33m(\u001b[0m\u001b[0mfd_publications\u001b[0m\u001b[1;33m.\u001b[0m\u001b[0mkeys\u001b[0m\u001b[1;33m(\u001b[0m\u001b[1;33m)\u001b[0m\u001b[1;33m)\u001b[0m\u001b[1;33m\u001b[0m\u001b[1;33m\u001b[0m\u001b[0m\n",
      "\u001b[1;31mTypeError\u001b[0m: 'str' object cannot be interpreted as an integer"
     ]
    }
   ],
   "source": [
    "fd_publications['label'] = fd_publications.pop('title')\n",
    "print(fd_publications.keys())"
   ]
  },
  {
   "cell_type": "markdown",
   "metadata": {},
   "source": [
    "[Mandy] da `fd_publications` eine Variable vom Typ list ist, kannst du darauf leider nicht die Methode `pop` anwenden, jedenfalls nicht so. Das möchte dir diese Fehlermeldung sagen - auf Elemente in Listen kannst du ja nur per Index zugreifen, der numerisch ist, also vom Typ `integer`."
   ]
  },
  {
   "cell_type": "markdown",
   "metadata": {},
   "source": [
    "Die folgenden Zellen zeigen dir, was du mit `pop` auf einer Liste erreichen kannst: Das Element am gegebenen Index wird aus der Liste entfernt. Man kann das Ergebnis der Methode auch einer Variablen zuweisen und mit diesem einen Element weiter arbeiten."
   ]
  },
  {
   "cell_type": "code",
   "execution_count": 40,
   "metadata": {},
   "outputs": [
    {
     "data": {
      "text/plain": [
       "190"
      ]
     },
     "execution_count": 40,
     "metadata": {},
     "output_type": "execute_result"
    }
   ],
   "source": [
    "len(fd_publications)"
   ]
  },
  {
   "cell_type": "code",
   "execution_count": 41,
   "metadata": {},
   "outputs": [
    {
     "data": {
      "text/plain": [
       "{'type': 'Publication', 'id': 'https://www.bibsonomy.org/bibtex/221c3768cc67666da400d9b5c52d4be69/blostben', 'tags': ['enhancing', 'merged:blostben', 'e-science', 'Forschungsdaten', 'research-data', 'scientific-communication', 'scholarly-communication', 'publications'], 'intraHash': '21c3768cc67666da400d9b5c52d4be69', 'interHash': '1dbc38231b41caa23d3268d313e1f327', 'label': 'Enhancing research publications using Rich Interactive Narratives', 'user': 'blostben', 'description': 'Enhancing research publications using Rich Interactive Narratives', 'date': '2013-08-22 12:28:43', 'changeDate': '2013-08-22 12:29:45', 'count': 1, 'pub-type': 'article', 'journal': 'Philosophical Transactions of the Royal Society A: Mathematical,\\t\\t\\t\\tPhysical and Engineering Sciences', 'year': '2013', 'url': 'http://rsta.royalsocietypublishing.org/content/371/1983/20120090.abstract', 'author': ['Kenji Takeda', 'Graeme Earl', 'Jeremy Frey', 'Simon Keay', 'Alex Wade'], 'authors': [{'first': 'Kenji', 'last': 'Takeda'}, {'first': 'Graeme', 'last': 'Earl'}, {'first': 'Jeremy', 'last': 'Frey'}, {'first': 'Simon', 'last': 'Keay'}, {'first': 'Alex', 'last': 'Wade'}], 'volume': '371', 'number': '1983', 'abstract': 'It is desirable in many disciplines to include supplementary information to add value to research publications, particularly in digital form. The concept of interactive publications, in which the reader can browse and navigate through in a nonlinear manner, is one such medium that is explored in this paper. We describe the application of the Rich Interactive Narrative framework to provide such a mechanism in the fields of archaeology and chemistry, to supplement academic journal papers. This system provides both passive (pre-recorded) and active (user-led) interaction modes to navigate through data, including experimental datasets, maps, photos, video and three-dimensional models, and supports event-based audio and text narration. It includes an extensive authoring tool for deployment to the Web. We conclude by discussing the future possibilities of such a platform for e-science and scholarly communication.', 'doi': '10.1098/rsta.2012.0090', 'eprint': 'http://rsta.royalsocietypublishing.org/content/371/1983/20120090.full.pdf+html', 'bibtexKey': 'Takeda28012013'}"
      ]
     },
     "execution_count": 41,
     "metadata": {},
     "output_type": "execute_result"
    }
   ],
   "source": [
    "fd_publications.pop(0)"
   ]
  },
  {
   "cell_type": "code",
   "execution_count": 42,
   "metadata": {},
   "outputs": [
    {
     "data": {
      "text/plain": [
       "189"
      ]
     },
     "execution_count": 42,
     "metadata": {},
     "output_type": "execute_result"
    }
   ],
   "source": [
    "len(fd_publications)"
   ]
  },
  {
   "cell_type": "code",
   "execution_count": 43,
   "metadata": {},
   "outputs": [
    {
     "data": {
      "text/plain": [
       "{'type': 'Publication', 'id': 'https://www.bibsonomy.org/bibtex/25cf7d0ecd2c5dd6f84c29f384e3a236b/hermann', 'tags': ['citedby:scholar:timestamp:2018-2-15', 'citedby:scholar:count:1', 'VFU', 'merged:hermann'], 'intraHash': '5cf7d0ecd2c5dd6f84c29f384e3a236b', 'interHash': '2e6178a31ada559e240d8ea3cb1228ec', 'label': 'Virtuelle Forschungsumgebungen und Forschungsdaten für Lehre und Forschung: Informationsinfrastrukturen für die (Natur-) Wissenschaften', 'user': 'hermann', 'description': '', 'date': '2018-02-15 12:01:39', 'changeDate': '2018-02-15 12:01:39', 'count': 1, 'pub-type': 'article', 'year': '2010', 'url': '', 'author': ['Matthias Schulze'], 'authors': [{'first': 'Matthias', 'last': 'Schulze'}], 'bibtexKey': 'schulze2010virtuelle'}"
      ]
     },
     "execution_count": 43,
     "metadata": {},
     "output_type": "execute_result"
    }
   ],
   "source": [
    "one_element = fd_publications.pop(0)\n",
    "one_element"
   ]
  },
  {
   "cell_type": "code",
   "execution_count": null,
   "metadata": {},
   "outputs": [],
   "source": []
  }
 ]
}