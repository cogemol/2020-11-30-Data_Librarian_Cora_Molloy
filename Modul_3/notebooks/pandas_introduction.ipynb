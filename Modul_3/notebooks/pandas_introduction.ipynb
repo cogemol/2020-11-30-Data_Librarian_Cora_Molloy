{
 "metadata": {
  "language_info": {
   "codemirror_mode": {
    "name": "ipython",
    "version": 3
   },
   "file_extension": ".py",
   "mimetype": "text/x-python",
   "name": "python",
   "nbconvert_exporter": "python",
   "pygments_lexer": "ipython3",
   "version": "3.8.8-final"
  },
  "orig_nbformat": 2,
  "kernelspec": {
   "name": "python3",
   "display_name": "Python 3.8.8 64-bit",
   "metadata": {
    "interpreter": {
     "hash": "4fac973d8b48a5fcf37e7d133428a31fb47ebbd054f5d1feed8c0da486f2af46"
    }
   }
  }
 },
 "nbformat": 4,
 "nbformat_minor": 2,
 "cells": [
  {
   "source": [
    "# Aufgabe 1.1. Daten runterladen"
   ],
   "cell_type": "markdown",
   "metadata": {}
  },
  {
   "cell_type": "code",
   "execution_count": 35,
   "metadata": {},
   "outputs": [
    {
     "output_type": "execute_result",
     "data": {
      "text/plain": [
       "('../data/Library_Usage.csv', <http.client.HTTPMessage at 0x27b77108d60>)"
      ]
     },
     "metadata": {},
     "execution_count": 35
    }
   ],
   "source": [
    "import urllib.request\n",
    "url = \"https://data.sfgov.org/api/views/qzz6-2jup/rows.csv?accessType=DOWNLOAD\"\n",
    "checkout_file = \"../data/Library_Usage.csv\"\n",
    "urllib.request.urlretrieve(url, checkout_file)"
   ]
  },
  {
   "source": [
    "# Beispiel Numpy"
   ],
   "cell_type": "markdown",
   "metadata": {}
  },
  {
   "cell_type": "code",
   "execution_count": 2,
   "metadata": {},
   "outputs": [
    {
     "output_type": "execute_result",
     "data": {
      "text/plain": [
       "111.94900661175355"
      ]
     },
     "metadata": {},
     "execution_count": 2
    }
   ],
   "source": [
    "# import the library and give it a shorter name 'np'\n",
    "import numpy as np\n",
    "\n",
    "# create 100 randomly distributed numbers\n",
    "X = np.random.normal(size=100)\n",
    "\n",
    "# transform X into a 2-dimensional array of size 20x5\n",
    "X.reshape((20, 5))\n",
    "\n",
    "# calculate the matrix dot product: X*X', where X' is the transpose of X\n",
    "X.dot(X.T)\n"
   ]
  },
  {
   "source": [
    "# Beispiel Pandas"
   ],
   "cell_type": "markdown",
   "metadata": {}
  },
  {
   "cell_type": "code",
   "execution_count": 3,
   "metadata": {},
   "outputs": [
    {
     "output_type": "execute_result",
     "data": {
      "text/plain": [
       "       month  temperatur\n",
       "count    3.0    3.000000\n",
       "mean     2.0    0.000000\n",
       "std      1.0   10.816654\n",
       "min      1.0  -12.000000\n",
       "25%      1.5   -4.500000\n",
       "50%      2.0    3.000000\n",
       "75%      2.5    6.000000\n",
       "max      3.0    9.000000"
      ],
      "text/html": "<div>\n<style scoped>\n    .dataframe tbody tr th:only-of-type {\n        vertical-align: middle;\n    }\n\n    .dataframe tbody tr th {\n        vertical-align: top;\n    }\n\n    .dataframe thead th {\n        text-align: right;\n    }\n</style>\n<table border=\"1\" class=\"dataframe\">\n  <thead>\n    <tr style=\"text-align: right;\">\n      <th></th>\n      <th>month</th>\n      <th>temperatur</th>\n    </tr>\n  </thead>\n  <tbody>\n    <tr>\n      <th>count</th>\n      <td>3.0</td>\n      <td>3.000000</td>\n    </tr>\n    <tr>\n      <th>mean</th>\n      <td>2.0</td>\n      <td>0.000000</td>\n    </tr>\n    <tr>\n      <th>std</th>\n      <td>1.0</td>\n      <td>10.816654</td>\n    </tr>\n    <tr>\n      <th>min</th>\n      <td>1.0</td>\n      <td>-12.000000</td>\n    </tr>\n    <tr>\n      <th>25%</th>\n      <td>1.5</td>\n      <td>-4.500000</td>\n    </tr>\n    <tr>\n      <th>50%</th>\n      <td>2.0</td>\n      <td>3.000000</td>\n    </tr>\n    <tr>\n      <th>75%</th>\n      <td>2.5</td>\n      <td>6.000000</td>\n    </tr>\n    <tr>\n      <th>max</th>\n      <td>3.0</td>\n      <td>9.000000</td>\n    </tr>\n  </tbody>\n</table>\n</div>"
     },
     "metadata": {},
     "execution_count": 3
    }
   ],
   "source": [
    "# import the library and give it a shorter name 'pd'\n",
    "import pandas as pd\n",
    "\n",
    "# create a dataframe by hand with two columns and three rows\n",
    "df = pd.DataFrame({\n",
    "        'month': [1, 2, 3],\n",
    "        'temperatur': [-12, 3, 9]\n",
    "})\n",
    "\n",
    "# print out some descriptive statistics\n",
    "df.describe()\n"
   ]
  },
  {
   "source": [
    "# Bsp. Matplotlib"
   ],
   "cell_type": "markdown",
   "metadata": {}
  },
  {
   "cell_type": "code",
   "execution_count": 4,
   "metadata": {},
   "outputs": [
    {
     "output_type": "execute_result",
     "data": {
      "text/plain": [
       "[<matplotlib.lines.Line2D at 0x27b62ecafd0>]"
      ]
     },
     "metadata": {},
     "execution_count": 4
    },
    {
     "output_type": "display_data",
     "data": {
      "text/plain": "<Figure size 432x288 with 1 Axes>",
      "image/svg+xml": "<?xml version=\"1.0\" encoding=\"utf-8\" standalone=\"no\"?>\r\n<!DOCTYPE svg PUBLIC \"-//W3C//DTD SVG 1.1//EN\"\r\n  \"http://www.w3.org/Graphics/SVG/1.1/DTD/svg11.dtd\">\r\n<!-- Created with matplotlib (https://matplotlib.org/) -->\r\n<svg height=\"248.518125pt\" version=\"1.1\" viewBox=\"0 0 362.5625 248.518125\" width=\"362.5625pt\" xmlns=\"http://www.w3.org/2000/svg\" xmlns:xlink=\"http://www.w3.org/1999/xlink\">\r\n <metadata>\r\n  <rdf:RDF xmlns:cc=\"http://creativecommons.org/ns#\" xmlns:dc=\"http://purl.org/dc/elements/1.1/\" xmlns:rdf=\"http://www.w3.org/1999/02/22-rdf-syntax-ns#\">\r\n   <cc:Work>\r\n    <dc:type rdf:resource=\"http://purl.org/dc/dcmitype/StillImage\"/>\r\n    <dc:date>2021-03-08T12:37:36.081736</dc:date>\r\n    <dc:format>image/svg+xml</dc:format>\r\n    <dc:creator>\r\n     <cc:Agent>\r\n      <dc:title>Matplotlib v3.3.3, https://matplotlib.org/</dc:title>\r\n     </cc:Agent>\r\n    </dc:creator>\r\n   </cc:Work>\r\n  </rdf:RDF>\r\n </metadata>\r\n <defs>\r\n  <style type=\"text/css\">*{stroke-linecap:butt;stroke-linejoin:round;}</style>\r\n </defs>\r\n <g id=\"figure_1\">\r\n  <g id=\"patch_1\">\r\n   <path d=\"M 0 248.518125 \r\nL 362.5625 248.518125 \r\nL 362.5625 0 \r\nL 0 0 \r\nz\r\n\" style=\"fill:none;\"/>\r\n  </g>\r\n  <g id=\"axes_1\">\r\n   <g id=\"patch_2\">\r\n    <path d=\"M 20.5625 224.64 \r\nL 355.3625 224.64 \r\nL 355.3625 7.2 \r\nL 20.5625 7.2 \r\nz\r\n\" style=\"fill:#ffffff;\"/>\r\n   </g>\r\n   <g id=\"matplotlib.axis_1\">\r\n    <g id=\"xtick_1\">\r\n     <g id=\"line2d_1\">\r\n      <defs>\r\n       <path d=\"M 0 0 \r\nL 0 3.5 \r\n\" id=\"m979063fbf5\" style=\"stroke:#000000;stroke-width:0.8;\"/>\r\n      </defs>\r\n      <g>\r\n       <use style=\"stroke:#000000;stroke-width:0.8;\" x=\"35.780682\" xlink:href=\"#m979063fbf5\" y=\"224.64\"/>\r\n      </g>\r\n     </g>\r\n     <g id=\"text_1\">\r\n      <!-- 1 -->\r\n      <g transform=\"translate(32.599432 239.238437)scale(0.1 -0.1)\">\r\n       <defs>\r\n        <path d=\"M 12.40625 8.296875 \r\nL 28.515625 8.296875 \r\nL 28.515625 63.921875 \r\nL 10.984375 60.40625 \r\nL 10.984375 69.390625 \r\nL 28.421875 72.90625 \r\nL 38.28125 72.90625 \r\nL 38.28125 8.296875 \r\nL 54.390625 8.296875 \r\nL 54.390625 0 \r\nL 12.40625 0 \r\nz\r\n\" id=\"DejaVuSans-49\"/>\r\n       </defs>\r\n       <use xlink:href=\"#DejaVuSans-49\"/>\r\n      </g>\r\n     </g>\r\n    </g>\r\n    <g id=\"xtick_2\">\r\n     <g id=\"line2d_2\">\r\n      <g>\r\n       <use style=\"stroke:#000000;stroke-width:0.8;\" x=\"73.826136\" xlink:href=\"#m979063fbf5\" y=\"224.64\"/>\r\n      </g>\r\n     </g>\r\n     <g id=\"text_2\">\r\n      <!-- 2 -->\r\n      <g transform=\"translate(70.644886 239.238437)scale(0.1 -0.1)\">\r\n       <defs>\r\n        <path d=\"M 19.1875 8.296875 \r\nL 53.609375 8.296875 \r\nL 53.609375 0 \r\nL 7.328125 0 \r\nL 7.328125 8.296875 \r\nQ 12.9375 14.109375 22.625 23.890625 \r\nQ 32.328125 33.6875 34.8125 36.53125 \r\nQ 39.546875 41.84375 41.421875 45.53125 \r\nQ 43.3125 49.21875 43.3125 52.78125 \r\nQ 43.3125 58.59375 39.234375 62.25 \r\nQ 35.15625 65.921875 28.609375 65.921875 \r\nQ 23.96875 65.921875 18.8125 64.3125 \r\nQ 13.671875 62.703125 7.8125 59.421875 \r\nL 7.8125 69.390625 \r\nQ 13.765625 71.78125 18.9375 73 \r\nQ 24.125 74.21875 28.421875 74.21875 \r\nQ 39.75 74.21875 46.484375 68.546875 \r\nQ 53.21875 62.890625 53.21875 53.421875 \r\nQ 53.21875 48.921875 51.53125 44.890625 \r\nQ 49.859375 40.875 45.40625 35.40625 \r\nQ 44.1875 33.984375 37.640625 27.21875 \r\nQ 31.109375 20.453125 19.1875 8.296875 \r\nz\r\n\" id=\"DejaVuSans-50\"/>\r\n       </defs>\r\n       <use xlink:href=\"#DejaVuSans-50\"/>\r\n      </g>\r\n     </g>\r\n    </g>\r\n    <g id=\"xtick_3\">\r\n     <g id=\"line2d_3\">\r\n      <g>\r\n       <use style=\"stroke:#000000;stroke-width:0.8;\" x=\"111.871591\" xlink:href=\"#m979063fbf5\" y=\"224.64\"/>\r\n      </g>\r\n     </g>\r\n     <g id=\"text_3\">\r\n      <!-- 3 -->\r\n      <g transform=\"translate(108.690341 239.238437)scale(0.1 -0.1)\">\r\n       <defs>\r\n        <path d=\"M 40.578125 39.3125 \r\nQ 47.65625 37.796875 51.625 33 \r\nQ 55.609375 28.21875 55.609375 21.1875 \r\nQ 55.609375 10.40625 48.1875 4.484375 \r\nQ 40.765625 -1.421875 27.09375 -1.421875 \r\nQ 22.515625 -1.421875 17.65625 -0.515625 \r\nQ 12.796875 0.390625 7.625 2.203125 \r\nL 7.625 11.71875 \r\nQ 11.71875 9.328125 16.59375 8.109375 \r\nQ 21.484375 6.890625 26.8125 6.890625 \r\nQ 36.078125 6.890625 40.9375 10.546875 \r\nQ 45.796875 14.203125 45.796875 21.1875 \r\nQ 45.796875 27.640625 41.28125 31.265625 \r\nQ 36.765625 34.90625 28.71875 34.90625 \r\nL 20.21875 34.90625 \r\nL 20.21875 43.015625 \r\nL 29.109375 43.015625 \r\nQ 36.375 43.015625 40.234375 45.921875 \r\nQ 44.09375 48.828125 44.09375 54.296875 \r\nQ 44.09375 59.90625 40.109375 62.90625 \r\nQ 36.140625 65.921875 28.71875 65.921875 \r\nQ 24.65625 65.921875 20.015625 65.03125 \r\nQ 15.375 64.15625 9.8125 62.3125 \r\nL 9.8125 71.09375 \r\nQ 15.4375 72.65625 20.34375 73.4375 \r\nQ 25.25 74.21875 29.59375 74.21875 \r\nQ 40.828125 74.21875 47.359375 69.109375 \r\nQ 53.90625 64.015625 53.90625 55.328125 \r\nQ 53.90625 49.265625 50.4375 45.09375 \r\nQ 46.96875 40.921875 40.578125 39.3125 \r\nz\r\n\" id=\"DejaVuSans-51\"/>\r\n       </defs>\r\n       <use xlink:href=\"#DejaVuSans-51\"/>\r\n      </g>\r\n     </g>\r\n    </g>\r\n    <g id=\"xtick_4\">\r\n     <g id=\"line2d_4\">\r\n      <g>\r\n       <use style=\"stroke:#000000;stroke-width:0.8;\" x=\"149.917045\" xlink:href=\"#m979063fbf5\" y=\"224.64\"/>\r\n      </g>\r\n     </g>\r\n     <g id=\"text_4\">\r\n      <!-- 4 -->\r\n      <g transform=\"translate(146.735795 239.238437)scale(0.1 -0.1)\">\r\n       <defs>\r\n        <path d=\"M 37.796875 64.3125 \r\nL 12.890625 25.390625 \r\nL 37.796875 25.390625 \r\nz\r\nM 35.203125 72.90625 \r\nL 47.609375 72.90625 \r\nL 47.609375 25.390625 \r\nL 58.015625 25.390625 \r\nL 58.015625 17.1875 \r\nL 47.609375 17.1875 \r\nL 47.609375 0 \r\nL 37.796875 0 \r\nL 37.796875 17.1875 \r\nL 4.890625 17.1875 \r\nL 4.890625 26.703125 \r\nz\r\n\" id=\"DejaVuSans-52\"/>\r\n       </defs>\r\n       <use xlink:href=\"#DejaVuSans-52\"/>\r\n      </g>\r\n     </g>\r\n    </g>\r\n    <g id=\"xtick_5\">\r\n     <g id=\"line2d_5\">\r\n      <g>\r\n       <use style=\"stroke:#000000;stroke-width:0.8;\" x=\"187.9625\" xlink:href=\"#m979063fbf5\" y=\"224.64\"/>\r\n      </g>\r\n     </g>\r\n     <g id=\"text_5\">\r\n      <!-- 5 -->\r\n      <g transform=\"translate(184.78125 239.238437)scale(0.1 -0.1)\">\r\n       <defs>\r\n        <path d=\"M 10.796875 72.90625 \r\nL 49.515625 72.90625 \r\nL 49.515625 64.59375 \r\nL 19.828125 64.59375 \r\nL 19.828125 46.734375 \r\nQ 21.96875 47.46875 24.109375 47.828125 \r\nQ 26.265625 48.1875 28.421875 48.1875 \r\nQ 40.625 48.1875 47.75 41.5 \r\nQ 54.890625 34.8125 54.890625 23.390625 \r\nQ 54.890625 11.625 47.5625 5.09375 \r\nQ 40.234375 -1.421875 26.90625 -1.421875 \r\nQ 22.3125 -1.421875 17.546875 -0.640625 \r\nQ 12.796875 0.140625 7.71875 1.703125 \r\nL 7.71875 11.625 \r\nQ 12.109375 9.234375 16.796875 8.0625 \r\nQ 21.484375 6.890625 26.703125 6.890625 \r\nQ 35.15625 6.890625 40.078125 11.328125 \r\nQ 45.015625 15.765625 45.015625 23.390625 \r\nQ 45.015625 31 40.078125 35.4375 \r\nQ 35.15625 39.890625 26.703125 39.890625 \r\nQ 22.75 39.890625 18.8125 39.015625 \r\nQ 14.890625 38.140625 10.796875 36.28125 \r\nz\r\n\" id=\"DejaVuSans-53\"/>\r\n       </defs>\r\n       <use xlink:href=\"#DejaVuSans-53\"/>\r\n      </g>\r\n     </g>\r\n    </g>\r\n    <g id=\"xtick_6\">\r\n     <g id=\"line2d_6\">\r\n      <g>\r\n       <use style=\"stroke:#000000;stroke-width:0.8;\" x=\"226.007955\" xlink:href=\"#m979063fbf5\" y=\"224.64\"/>\r\n      </g>\r\n     </g>\r\n     <g id=\"text_6\">\r\n      <!-- 6 -->\r\n      <g transform=\"translate(222.826705 239.238437)scale(0.1 -0.1)\">\r\n       <defs>\r\n        <path d=\"M 33.015625 40.375 \r\nQ 26.375 40.375 22.484375 35.828125 \r\nQ 18.609375 31.296875 18.609375 23.390625 \r\nQ 18.609375 15.53125 22.484375 10.953125 \r\nQ 26.375 6.390625 33.015625 6.390625 \r\nQ 39.65625 6.390625 43.53125 10.953125 \r\nQ 47.40625 15.53125 47.40625 23.390625 \r\nQ 47.40625 31.296875 43.53125 35.828125 \r\nQ 39.65625 40.375 33.015625 40.375 \r\nz\r\nM 52.59375 71.296875 \r\nL 52.59375 62.3125 \r\nQ 48.875 64.0625 45.09375 64.984375 \r\nQ 41.3125 65.921875 37.59375 65.921875 \r\nQ 27.828125 65.921875 22.671875 59.328125 \r\nQ 17.53125 52.734375 16.796875 39.40625 \r\nQ 19.671875 43.65625 24.015625 45.921875 \r\nQ 28.375 48.1875 33.59375 48.1875 \r\nQ 44.578125 48.1875 50.953125 41.515625 \r\nQ 57.328125 34.859375 57.328125 23.390625 \r\nQ 57.328125 12.15625 50.6875 5.359375 \r\nQ 44.046875 -1.421875 33.015625 -1.421875 \r\nQ 20.359375 -1.421875 13.671875 8.265625 \r\nQ 6.984375 17.96875 6.984375 36.375 \r\nQ 6.984375 53.65625 15.1875 63.9375 \r\nQ 23.390625 74.21875 37.203125 74.21875 \r\nQ 40.921875 74.21875 44.703125 73.484375 \r\nQ 48.484375 72.75 52.59375 71.296875 \r\nz\r\n\" id=\"DejaVuSans-54\"/>\r\n       </defs>\r\n       <use xlink:href=\"#DejaVuSans-54\"/>\r\n      </g>\r\n     </g>\r\n    </g>\r\n    <g id=\"xtick_7\">\r\n     <g id=\"line2d_7\">\r\n      <g>\r\n       <use style=\"stroke:#000000;stroke-width:0.8;\" x=\"264.053409\" xlink:href=\"#m979063fbf5\" y=\"224.64\"/>\r\n      </g>\r\n     </g>\r\n     <g id=\"text_7\">\r\n      <!-- 7 -->\r\n      <g transform=\"translate(260.872159 239.238437)scale(0.1 -0.1)\">\r\n       <defs>\r\n        <path d=\"M 8.203125 72.90625 \r\nL 55.078125 72.90625 \r\nL 55.078125 68.703125 \r\nL 28.609375 0 \r\nL 18.3125 0 \r\nL 43.21875 64.59375 \r\nL 8.203125 64.59375 \r\nz\r\n\" id=\"DejaVuSans-55\"/>\r\n       </defs>\r\n       <use xlink:href=\"#DejaVuSans-55\"/>\r\n      </g>\r\n     </g>\r\n    </g>\r\n    <g id=\"xtick_8\">\r\n     <g id=\"line2d_8\">\r\n      <g>\r\n       <use style=\"stroke:#000000;stroke-width:0.8;\" x=\"302.098864\" xlink:href=\"#m979063fbf5\" y=\"224.64\"/>\r\n      </g>\r\n     </g>\r\n     <g id=\"text_8\">\r\n      <!-- 8 -->\r\n      <g transform=\"translate(298.917614 239.238437)scale(0.1 -0.1)\">\r\n       <defs>\r\n        <path d=\"M 31.78125 34.625 \r\nQ 24.75 34.625 20.71875 30.859375 \r\nQ 16.703125 27.09375 16.703125 20.515625 \r\nQ 16.703125 13.921875 20.71875 10.15625 \r\nQ 24.75 6.390625 31.78125 6.390625 \r\nQ 38.8125 6.390625 42.859375 10.171875 \r\nQ 46.921875 13.96875 46.921875 20.515625 \r\nQ 46.921875 27.09375 42.890625 30.859375 \r\nQ 38.875 34.625 31.78125 34.625 \r\nz\r\nM 21.921875 38.8125 \r\nQ 15.578125 40.375 12.03125 44.71875 \r\nQ 8.5 49.078125 8.5 55.328125 \r\nQ 8.5 64.0625 14.71875 69.140625 \r\nQ 20.953125 74.21875 31.78125 74.21875 \r\nQ 42.671875 74.21875 48.875 69.140625 \r\nQ 55.078125 64.0625 55.078125 55.328125 \r\nQ 55.078125 49.078125 51.53125 44.71875 \r\nQ 48 40.375 41.703125 38.8125 \r\nQ 48.828125 37.15625 52.796875 32.3125 \r\nQ 56.78125 27.484375 56.78125 20.515625 \r\nQ 56.78125 9.90625 50.3125 4.234375 \r\nQ 43.84375 -1.421875 31.78125 -1.421875 \r\nQ 19.734375 -1.421875 13.25 4.234375 \r\nQ 6.78125 9.90625 6.78125 20.515625 \r\nQ 6.78125 27.484375 10.78125 32.3125 \r\nQ 14.796875 37.15625 21.921875 38.8125 \r\nz\r\nM 18.3125 54.390625 \r\nQ 18.3125 48.734375 21.84375 45.5625 \r\nQ 25.390625 42.390625 31.78125 42.390625 \r\nQ 38.140625 42.390625 41.71875 45.5625 \r\nQ 45.3125 48.734375 45.3125 54.390625 \r\nQ 45.3125 60.0625 41.71875 63.234375 \r\nQ 38.140625 66.40625 31.78125 66.40625 \r\nQ 25.390625 66.40625 21.84375 63.234375 \r\nQ 18.3125 60.0625 18.3125 54.390625 \r\nz\r\n\" id=\"DejaVuSans-56\"/>\r\n       </defs>\r\n       <use xlink:href=\"#DejaVuSans-56\"/>\r\n      </g>\r\n     </g>\r\n    </g>\r\n    <g id=\"xtick_9\">\r\n     <g id=\"line2d_9\">\r\n      <g>\r\n       <use style=\"stroke:#000000;stroke-width:0.8;\" x=\"340.144318\" xlink:href=\"#m979063fbf5\" y=\"224.64\"/>\r\n      </g>\r\n     </g>\r\n     <g id=\"text_9\">\r\n      <!-- 9 -->\r\n      <g transform=\"translate(336.963068 239.238437)scale(0.1 -0.1)\">\r\n       <defs>\r\n        <path d=\"M 10.984375 1.515625 \r\nL 10.984375 10.5 \r\nQ 14.703125 8.734375 18.5 7.8125 \r\nQ 22.3125 6.890625 25.984375 6.890625 \r\nQ 35.75 6.890625 40.890625 13.453125 \r\nQ 46.046875 20.015625 46.78125 33.40625 \r\nQ 43.953125 29.203125 39.59375 26.953125 \r\nQ 35.25 24.703125 29.984375 24.703125 \r\nQ 19.046875 24.703125 12.671875 31.3125 \r\nQ 6.296875 37.9375 6.296875 49.421875 \r\nQ 6.296875 60.640625 12.9375 67.421875 \r\nQ 19.578125 74.21875 30.609375 74.21875 \r\nQ 43.265625 74.21875 49.921875 64.515625 \r\nQ 56.59375 54.828125 56.59375 36.375 \r\nQ 56.59375 19.140625 48.40625 8.859375 \r\nQ 40.234375 -1.421875 26.421875 -1.421875 \r\nQ 22.703125 -1.421875 18.890625 -0.6875 \r\nQ 15.09375 0.046875 10.984375 1.515625 \r\nz\r\nM 30.609375 32.421875 \r\nQ 37.25 32.421875 41.125 36.953125 \r\nQ 45.015625 41.5 45.015625 49.421875 \r\nQ 45.015625 57.28125 41.125 61.84375 \r\nQ 37.25 66.40625 30.609375 66.40625 \r\nQ 23.96875 66.40625 20.09375 61.84375 \r\nQ 16.21875 57.28125 16.21875 49.421875 \r\nQ 16.21875 41.5 20.09375 36.953125 \r\nQ 23.96875 32.421875 30.609375 32.421875 \r\nz\r\n\" id=\"DejaVuSans-57\"/>\r\n       </defs>\r\n       <use xlink:href=\"#DejaVuSans-57\"/>\r\n      </g>\r\n     </g>\r\n    </g>\r\n   </g>\r\n   <g id=\"matplotlib.axis_2\">\r\n    <g id=\"ytick_1\">\r\n     <g id=\"line2d_10\">\r\n      <defs>\r\n       <path d=\"M 0 0 \r\nL -3.5 0 \r\n\" id=\"mfacb5bc4b6\" style=\"stroke:#000000;stroke-width:0.8;\"/>\r\n      </defs>\r\n      <g>\r\n       <use style=\"stroke:#000000;stroke-width:0.8;\" x=\"20.5625\" xlink:href=\"#mfacb5bc4b6\" y=\"214.756364\"/>\r\n      </g>\r\n     </g>\r\n     <g id=\"text_10\">\r\n      <!-- 1 -->\r\n      <g transform=\"translate(7.2 218.555582)scale(0.1 -0.1)\">\r\n       <use xlink:href=\"#DejaVuSans-49\"/>\r\n      </g>\r\n     </g>\r\n    </g>\r\n    <g id=\"ytick_2\">\r\n     <g id=\"line2d_11\">\r\n      <g>\r\n       <use style=\"stroke:#000000;stroke-width:0.8;\" x=\"20.5625\" xlink:href=\"#mfacb5bc4b6\" y=\"190.047273\"/>\r\n      </g>\r\n     </g>\r\n     <g id=\"text_11\">\r\n      <!-- 2 -->\r\n      <g transform=\"translate(7.2 193.846491)scale(0.1 -0.1)\">\r\n       <use xlink:href=\"#DejaVuSans-50\"/>\r\n      </g>\r\n     </g>\r\n    </g>\r\n    <g id=\"ytick_3\">\r\n     <g id=\"line2d_12\">\r\n      <g>\r\n       <use style=\"stroke:#000000;stroke-width:0.8;\" x=\"20.5625\" xlink:href=\"#mfacb5bc4b6\" y=\"165.338182\"/>\r\n      </g>\r\n     </g>\r\n     <g id=\"text_12\">\r\n      <!-- 3 -->\r\n      <g transform=\"translate(7.2 169.137401)scale(0.1 -0.1)\">\r\n       <use xlink:href=\"#DejaVuSans-51\"/>\r\n      </g>\r\n     </g>\r\n    </g>\r\n    <g id=\"ytick_4\">\r\n     <g id=\"line2d_13\">\r\n      <g>\r\n       <use style=\"stroke:#000000;stroke-width:0.8;\" x=\"20.5625\" xlink:href=\"#mfacb5bc4b6\" y=\"140.629091\"/>\r\n      </g>\r\n     </g>\r\n     <g id=\"text_13\">\r\n      <!-- 4 -->\r\n      <g transform=\"translate(7.2 144.42831)scale(0.1 -0.1)\">\r\n       <use xlink:href=\"#DejaVuSans-52\"/>\r\n      </g>\r\n     </g>\r\n    </g>\r\n    <g id=\"ytick_5\">\r\n     <g id=\"line2d_14\">\r\n      <g>\r\n       <use style=\"stroke:#000000;stroke-width:0.8;\" x=\"20.5625\" xlink:href=\"#mfacb5bc4b6\" y=\"115.92\"/>\r\n      </g>\r\n     </g>\r\n     <g id=\"text_14\">\r\n      <!-- 5 -->\r\n      <g transform=\"translate(7.2 119.719219)scale(0.1 -0.1)\">\r\n       <use xlink:href=\"#DejaVuSans-53\"/>\r\n      </g>\r\n     </g>\r\n    </g>\r\n    <g id=\"ytick_6\">\r\n     <g id=\"line2d_15\">\r\n      <g>\r\n       <use style=\"stroke:#000000;stroke-width:0.8;\" x=\"20.5625\" xlink:href=\"#mfacb5bc4b6\" y=\"91.210909\"/>\r\n      </g>\r\n     </g>\r\n     <g id=\"text_15\">\r\n      <!-- 6 -->\r\n      <g transform=\"translate(7.2 95.010128)scale(0.1 -0.1)\">\r\n       <use xlink:href=\"#DejaVuSans-54\"/>\r\n      </g>\r\n     </g>\r\n    </g>\r\n    <g id=\"ytick_7\">\r\n     <g id=\"line2d_16\">\r\n      <g>\r\n       <use style=\"stroke:#000000;stroke-width:0.8;\" x=\"20.5625\" xlink:href=\"#mfacb5bc4b6\" y=\"66.501818\"/>\r\n      </g>\r\n     </g>\r\n     <g id=\"text_16\">\r\n      <!-- 7 -->\r\n      <g transform=\"translate(7.2 70.301037)scale(0.1 -0.1)\">\r\n       <use xlink:href=\"#DejaVuSans-55\"/>\r\n      </g>\r\n     </g>\r\n    </g>\r\n    <g id=\"ytick_8\">\r\n     <g id=\"line2d_17\">\r\n      <g>\r\n       <use style=\"stroke:#000000;stroke-width:0.8;\" x=\"20.5625\" xlink:href=\"#mfacb5bc4b6\" y=\"41.792727\"/>\r\n      </g>\r\n     </g>\r\n     <g id=\"text_17\">\r\n      <!-- 8 -->\r\n      <g transform=\"translate(7.2 45.591946)scale(0.1 -0.1)\">\r\n       <use xlink:href=\"#DejaVuSans-56\"/>\r\n      </g>\r\n     </g>\r\n    </g>\r\n    <g id=\"ytick_9\">\r\n     <g id=\"line2d_18\">\r\n      <g>\r\n       <use style=\"stroke:#000000;stroke-width:0.8;\" x=\"20.5625\" xlink:href=\"#mfacb5bc4b6\" y=\"17.083636\"/>\r\n      </g>\r\n     </g>\r\n     <g id=\"text_18\">\r\n      <!-- 9 -->\r\n      <g transform=\"translate(7.2 20.882855)scale(0.1 -0.1)\">\r\n       <use xlink:href=\"#DejaVuSans-57\"/>\r\n      </g>\r\n     </g>\r\n    </g>\r\n   </g>\r\n   <g id=\"line2d_19\">\r\n    <defs>\r\n     <path d=\"M -3 0 \r\nL 3 0 \r\nM 0 3 \r\nL 0 -3 \r\n\" id=\"md71c77e243\" style=\"stroke:#008000;\"/>\r\n    </defs>\r\n    <g clip-path=\"url(#p6afadb56c6)\">\r\n     <use style=\"fill:#008000;stroke:#008000;\" x=\"35.780682\" xlink:href=\"#md71c77e243\" y=\"214.756364\"/>\r\n     <use style=\"fill:#008000;stroke:#008000;\" x=\"73.826136\" xlink:href=\"#md71c77e243\" y=\"190.047273\"/>\r\n     <use style=\"fill:#008000;stroke:#008000;\" x=\"111.871591\" xlink:href=\"#md71c77e243\" y=\"165.338182\"/>\r\n     <use style=\"fill:#008000;stroke:#008000;\" x=\"149.917045\" xlink:href=\"#md71c77e243\" y=\"140.629091\"/>\r\n     <use style=\"fill:#008000;stroke:#008000;\" x=\"187.9625\" xlink:href=\"#md71c77e243\" y=\"115.92\"/>\r\n     <use style=\"fill:#008000;stroke:#008000;\" x=\"226.007955\" xlink:href=\"#md71c77e243\" y=\"91.210909\"/>\r\n     <use style=\"fill:#008000;stroke:#008000;\" x=\"264.053409\" xlink:href=\"#md71c77e243\" y=\"66.501818\"/>\r\n     <use style=\"fill:#008000;stroke:#008000;\" x=\"302.098864\" xlink:href=\"#md71c77e243\" y=\"41.792727\"/>\r\n     <use style=\"fill:#008000;stroke:#008000;\" x=\"340.144318\" xlink:href=\"#md71c77e243\" y=\"17.083636\"/>\r\n    </g>\r\n   </g>\r\n   <g id=\"patch_3\">\r\n    <path d=\"M 20.5625 224.64 \r\nL 20.5625 7.2 \r\n\" style=\"fill:none;stroke:#000000;stroke-linecap:square;stroke-linejoin:miter;stroke-width:0.8;\"/>\r\n   </g>\r\n   <g id=\"patch_4\">\r\n    <path d=\"M 355.3625 224.64 \r\nL 355.3625 7.2 \r\n\" style=\"fill:none;stroke:#000000;stroke-linecap:square;stroke-linejoin:miter;stroke-width:0.8;\"/>\r\n   </g>\r\n   <g id=\"patch_5\">\r\n    <path d=\"M 20.5625 224.64 \r\nL 355.3625 224.64 \r\n\" style=\"fill:none;stroke:#000000;stroke-linecap:square;stroke-linejoin:miter;stroke-width:0.8;\"/>\r\n   </g>\r\n   <g id=\"patch_6\">\r\n    <path d=\"M 20.5625 7.2 \r\nL 355.3625 7.2 \r\n\" style=\"fill:none;stroke:#000000;stroke-linecap:square;stroke-linejoin:miter;stroke-width:0.8;\"/>\r\n   </g>\r\n  </g>\r\n </g>\r\n <defs>\r\n  <clipPath id=\"p6afadb56c6\">\r\n   <rect height=\"217.44\" width=\"334.8\" x=\"20.5625\" y=\"7.2\"/>\r\n  </clipPath>\r\n </defs>\r\n</svg>\r\n",
      "image/png": "[encoded data removed]"
     },
     "metadata": {
      "needs_background": "light"
     }
    }
   ],
   "source": [
    "# import the package and give it the shorter name 'plt'\n",
    "%matplotlib inline\n",
    "import matplotlib.pyplot as plt\n",
    "\n",
    "# create some dummy data\n",
    "x = range(1, 10)\n",
    "\n",
    "# make a simple scatter plot of the data\n",
    "plt.plot(x, x, c=\"green\", linestyle='', marker='+')\n"
   ]
  },
  {
   "source": [
    "# Aufgabe 1.6. matplotlib\n",
    "\n",
    "Ändere die Farbe der Pukte im Plot von grün auf schwarz.  \n",
    "\n",
    "> c=\"black\"\n",
    "\n",
    "Ändere den Aufruf so um, dass statt Punkte, Linien angezeigt werden\n",
    "\n",
    "> linestyle='dashed\""
   ],
   "cell_type": "markdown",
   "metadata": {}
  },
  {
   "cell_type": "code",
   "execution_count": 7,
   "metadata": {},
   "outputs": [
    {
     "output_type": "execute_result",
     "data": {
      "text/plain": [
       "[<matplotlib.lines.Line2D at 0x27b6f528250>]"
      ]
     },
     "metadata": {},
     "execution_count": 7
    },
    {
     "output_type": "display_data",
     "data": {
      "text/plain": "<Figure size 432x288 with 1 Axes>",
      "image/svg+xml": "<?xml version=\"1.0\" encoding=\"utf-8\" standalone=\"no\"?>\r\n<!DOCTYPE svg PUBLIC \"-//W3C//DTD SVG 1.1//EN\"\r\n  \"http://www.w3.org/Graphics/SVG/1.1/DTD/svg11.dtd\">\r\n<!-- Created with matplotlib (https://matplotlib.org/) -->\r\n<svg height=\"251.399844pt\" version=\"1.1\" viewBox=\"0 0 364.817031 251.399844\" width=\"364.817031pt\" xmlns=\"http://www.w3.org/2000/svg\" xmlns:xlink=\"http://www.w3.org/1999/xlink\">\r\n <metadata>\r\n  <rdf:RDF xmlns:cc=\"http://creativecommons.org/ns#\" xmlns:dc=\"http://purl.org/dc/elements/1.1/\" xmlns:rdf=\"http://www.w3.org/1999/02/22-rdf-syntax-ns#\">\r\n   <cc:Work>\r\n    <dc:type rdf:resource=\"http://purl.org/dc/dcmitype/StillImage\"/>\r\n    <dc:date>2021-03-08T12:41:28.436865</dc:date>\r\n    <dc:format>image/svg+xml</dc:format>\r\n    <dc:creator>\r\n     <cc:Agent>\r\n      <dc:title>Matplotlib v3.3.3, https://matplotlib.org/</dc:title>\r\n     </cc:Agent>\r\n    </dc:creator>\r\n   </cc:Work>\r\n  </rdf:RDF>\r\n </metadata>\r\n <defs>\r\n  <style type=\"text/css\">*{stroke-linecap:butt;stroke-linejoin:round;}</style>\r\n </defs>\r\n <g id=\"figure_1\">\r\n  <g id=\"patch_1\">\r\n   <path d=\"M 0 251.399844 \r\nL 364.817031 251.399844 \r\nL 364.817031 0 \r\nL 0 0 \r\nz\r\n\" style=\"fill:#ffffff;\"/>\r\n  </g>\r\n  <g id=\"axes_1\">\r\n   <g id=\"patch_2\">\r\n    <path d=\"M 22.817031 224.64 \r\nL 357.617031 224.64 \r\nL 357.617031 7.2 \r\nL 22.817031 7.2 \r\nz\r\n\" style=\"fill:#eaeaf2;\"/>\r\n   </g>\r\n   <g id=\"matplotlib.axis_1\">\r\n    <g id=\"xtick_1\">\r\n     <g id=\"line2d_1\">\r\n      <path clip-path=\"url(#p1251833f8f)\" d=\"M 38.035213 224.64 \r\nL 38.035213 7.2 \r\n\" style=\"fill:none;stroke:#ffffff;stroke-linecap:round;\"/>\r\n     </g>\r\n     <g id=\"text_1\">\r\n      <!-- 1 -->\r\n      <g style=\"fill:#262626;\" transform=\"translate(34.976697 242.013594)scale(0.11 -0.11)\">\r\n       <defs>\r\n        <path d=\"M 37.25 0 \r\nL 28.46875 0 \r\nL 28.46875 56 \r\nQ 25.296875 52.984375 20.140625 49.953125 \r\nQ 14.984375 46.921875 10.890625 45.40625 \r\nL 10.890625 53.90625 \r\nQ 18.265625 57.375 23.78125 62.296875 \r\nQ 29.296875 67.234375 31.59375 71.875 \r\nL 37.25 71.875 \r\nz\r\n\" id=\"ArialMT-49\"/>\r\n       </defs>\r\n       <use xlink:href=\"#ArialMT-49\"/>\r\n      </g>\r\n     </g>\r\n    </g>\r\n    <g id=\"xtick_2\">\r\n     <g id=\"line2d_2\">\r\n      <path clip-path=\"url(#p1251833f8f)\" d=\"M 76.080668 224.64 \r\nL 76.080668 7.2 \r\n\" style=\"fill:none;stroke:#ffffff;stroke-linecap:round;\"/>\r\n     </g>\r\n     <g id=\"text_2\">\r\n      <!-- 2 -->\r\n      <g style=\"fill:#262626;\" transform=\"translate(73.022152 242.013594)scale(0.11 -0.11)\">\r\n       <defs>\r\n        <path d=\"M 50.34375 8.453125 \r\nL 50.34375 0 \r\nL 3.03125 0 \r\nQ 2.9375 3.171875 4.046875 6.109375 \r\nQ 5.859375 10.9375 9.828125 15.625 \r\nQ 13.8125 20.3125 21.34375 26.46875 \r\nQ 33.015625 36.03125 37.109375 41.625 \r\nQ 41.21875 47.21875 41.21875 52.203125 \r\nQ 41.21875 57.421875 37.46875 61 \r\nQ 33.734375 64.59375 27.734375 64.59375 \r\nQ 21.390625 64.59375 17.578125 60.78125 \r\nQ 13.765625 56.984375 13.71875 50.25 \r\nL 4.6875 51.171875 \r\nQ 5.609375 61.28125 11.65625 66.578125 \r\nQ 17.71875 71.875 27.9375 71.875 \r\nQ 38.234375 71.875 44.234375 66.15625 \r\nQ 50.25 60.453125 50.25 52 \r\nQ 50.25 47.703125 48.484375 43.546875 \r\nQ 46.734375 39.40625 42.65625 34.8125 \r\nQ 38.578125 30.21875 29.109375 22.21875 \r\nQ 21.1875 15.578125 18.9375 13.203125 \r\nQ 16.703125 10.84375 15.234375 8.453125 \r\nz\r\n\" id=\"ArialMT-50\"/>\r\n       </defs>\r\n       <use xlink:href=\"#ArialMT-50\"/>\r\n      </g>\r\n     </g>\r\n    </g>\r\n    <g id=\"xtick_3\">\r\n     <g id=\"line2d_3\">\r\n      <path clip-path=\"url(#p1251833f8f)\" d=\"M 114.126122 224.64 \r\nL 114.126122 7.2 \r\n\" style=\"fill:none;stroke:#ffffff;stroke-linecap:round;\"/>\r\n     </g>\r\n     <g id=\"text_3\">\r\n      <!-- 3 -->\r\n      <g style=\"fill:#262626;\" transform=\"translate(111.067607 242.013594)scale(0.11 -0.11)\">\r\n       <defs>\r\n        <path d=\"M 4.203125 18.890625 \r\nL 12.984375 20.0625 \r\nQ 14.5 12.59375 18.140625 9.296875 \r\nQ 21.78125 6 27 6 \r\nQ 33.203125 6 37.46875 10.296875 \r\nQ 41.75 14.59375 41.75 20.953125 \r\nQ 41.75 27 37.796875 30.921875 \r\nQ 33.84375 34.859375 27.734375 34.859375 \r\nQ 25.25 34.859375 21.53125 33.890625 \r\nL 22.515625 41.609375 \r\nQ 23.390625 41.5 23.921875 41.5 \r\nQ 29.546875 41.5 34.03125 44.421875 \r\nQ 38.53125 47.359375 38.53125 53.46875 \r\nQ 38.53125 58.296875 35.25 61.46875 \r\nQ 31.984375 64.65625 26.8125 64.65625 \r\nQ 21.6875 64.65625 18.265625 61.421875 \r\nQ 14.84375 58.203125 13.875 51.765625 \r\nL 5.078125 53.328125 \r\nQ 6.6875 62.15625 12.390625 67.015625 \r\nQ 18.109375 71.875 26.609375 71.875 \r\nQ 32.46875 71.875 37.390625 69.359375 \r\nQ 42.328125 66.84375 44.9375 62.5 \r\nQ 47.5625 58.15625 47.5625 53.265625 \r\nQ 47.5625 48.640625 45.0625 44.828125 \r\nQ 42.578125 41.015625 37.703125 38.765625 \r\nQ 44.046875 37.3125 47.5625 32.6875 \r\nQ 51.078125 28.078125 51.078125 21.140625 \r\nQ 51.078125 11.765625 44.234375 5.25 \r\nQ 37.40625 -1.265625 26.953125 -1.265625 \r\nQ 17.53125 -1.265625 11.296875 4.34375 \r\nQ 5.078125 9.96875 4.203125 18.890625 \r\nz\r\n\" id=\"ArialMT-51\"/>\r\n       </defs>\r\n       <use xlink:href=\"#ArialMT-51\"/>\r\n      </g>\r\n     </g>\r\n    </g>\r\n    <g id=\"xtick_4\">\r\n     <g id=\"line2d_4\">\r\n      <path clip-path=\"url(#p1251833f8f)\" d=\"M 152.171577 224.64 \r\nL 152.171577 7.2 \r\n\" style=\"fill:none;stroke:#ffffff;stroke-linecap:round;\"/>\r\n     </g>\r\n     <g id=\"text_4\">\r\n      <!-- 4 -->\r\n      <g style=\"fill:#262626;\" transform=\"translate(149.113061 242.013594)scale(0.11 -0.11)\">\r\n       <defs>\r\n        <path d=\"M 32.328125 0 \r\nL 32.328125 17.140625 \r\nL 1.265625 17.140625 \r\nL 1.265625 25.203125 \r\nL 33.9375 71.578125 \r\nL 41.109375 71.578125 \r\nL 41.109375 25.203125 \r\nL 50.78125 25.203125 \r\nL 50.78125 17.140625 \r\nL 41.109375 17.140625 \r\nL 41.109375 0 \r\nz\r\nM 32.328125 25.203125 \r\nL 32.328125 57.46875 \r\nL 9.90625 25.203125 \r\nz\r\n\" id=\"ArialMT-52\"/>\r\n       </defs>\r\n       <use xlink:href=\"#ArialMT-52\"/>\r\n      </g>\r\n     </g>\r\n    </g>\r\n    <g id=\"xtick_5\">\r\n     <g id=\"line2d_5\">\r\n      <path clip-path=\"url(#p1251833f8f)\" d=\"M 190.217031 224.64 \r\nL 190.217031 7.2 \r\n\" style=\"fill:none;stroke:#ffffff;stroke-linecap:round;\"/>\r\n     </g>\r\n     <g id=\"text_5\">\r\n      <!-- 5 -->\r\n      <g style=\"fill:#262626;\" transform=\"translate(187.158516 242.013594)scale(0.11 -0.11)\">\r\n       <defs>\r\n        <path d=\"M 4.15625 18.75 \r\nL 13.375 19.53125 \r\nQ 14.40625 12.796875 18.140625 9.390625 \r\nQ 21.875 6 27.15625 6 \r\nQ 33.5 6 37.890625 10.78125 \r\nQ 42.28125 15.578125 42.28125 23.484375 \r\nQ 42.28125 31 38.0625 35.34375 \r\nQ 33.84375 39.703125 27 39.703125 \r\nQ 22.75 39.703125 19.328125 37.765625 \r\nQ 15.921875 35.84375 13.96875 32.765625 \r\nL 5.71875 33.84375 \r\nL 12.640625 70.609375 \r\nL 48.25 70.609375 \r\nL 48.25 62.203125 \r\nL 19.671875 62.203125 \r\nL 15.828125 42.96875 \r\nQ 22.265625 47.46875 29.34375 47.46875 \r\nQ 38.71875 47.46875 45.15625 40.96875 \r\nQ 51.609375 34.46875 51.609375 24.265625 \r\nQ 51.609375 14.546875 45.953125 7.46875 \r\nQ 39.0625 -1.21875 27.15625 -1.21875 \r\nQ 17.390625 -1.21875 11.203125 4.25 \r\nQ 5.03125 9.71875 4.15625 18.75 \r\nz\r\n\" id=\"ArialMT-53\"/>\r\n       </defs>\r\n       <use xlink:href=\"#ArialMT-53\"/>\r\n      </g>\r\n     </g>\r\n    </g>\r\n    <g id=\"xtick_6\">\r\n     <g id=\"line2d_6\">\r\n      <path clip-path=\"url(#p1251833f8f)\" d=\"M 228.262486 224.64 \r\nL 228.262486 7.2 \r\n\" style=\"fill:none;stroke:#ffffff;stroke-linecap:round;\"/>\r\n     </g>\r\n     <g id=\"text_6\">\r\n      <!-- 6 -->\r\n      <g style=\"fill:#262626;\" transform=\"translate(225.20397 242.013594)scale(0.11 -0.11)\">\r\n       <defs>\r\n        <path d=\"M 49.75 54.046875 \r\nL 41.015625 53.375 \r\nQ 39.84375 58.546875 37.703125 60.890625 \r\nQ 34.125 64.65625 28.90625 64.65625 \r\nQ 24.703125 64.65625 21.53125 62.3125 \r\nQ 17.390625 59.28125 14.984375 53.46875 \r\nQ 12.59375 47.65625 12.5 36.921875 \r\nQ 15.671875 41.75 20.265625 44.09375 \r\nQ 24.859375 46.4375 29.890625 46.4375 \r\nQ 38.671875 46.4375 44.84375 39.96875 \r\nQ 51.03125 33.5 51.03125 23.25 \r\nQ 51.03125 16.5 48.125 10.71875 \r\nQ 45.21875 4.9375 40.140625 1.859375 \r\nQ 35.0625 -1.21875 28.609375 -1.21875 \r\nQ 17.625 -1.21875 10.6875 6.859375 \r\nQ 3.765625 14.9375 3.765625 33.5 \r\nQ 3.765625 54.25 11.421875 63.671875 \r\nQ 18.109375 71.875 29.4375 71.875 \r\nQ 37.890625 71.875 43.28125 67.140625 \r\nQ 48.6875 62.40625 49.75 54.046875 \r\nz\r\nM 13.875 23.1875 \r\nQ 13.875 18.65625 15.796875 14.5 \r\nQ 17.71875 10.359375 21.1875 8.171875 \r\nQ 24.65625 6 28.46875 6 \r\nQ 34.03125 6 38.03125 10.484375 \r\nQ 42.046875 14.984375 42.046875 22.703125 \r\nQ 42.046875 30.125 38.078125 34.390625 \r\nQ 34.125 38.671875 28.125 38.671875 \r\nQ 22.171875 38.671875 18.015625 34.390625 \r\nQ 13.875 30.125 13.875 23.1875 \r\nz\r\n\" id=\"ArialMT-54\"/>\r\n       </defs>\r\n       <use xlink:href=\"#ArialMT-54\"/>\r\n      </g>\r\n     </g>\r\n    </g>\r\n    <g id=\"xtick_7\">\r\n     <g id=\"line2d_7\">\r\n      <path clip-path=\"url(#p1251833f8f)\" d=\"M 266.30794 224.64 \r\nL 266.30794 7.2 \r\n\" style=\"fill:none;stroke:#ffffff;stroke-linecap:round;\"/>\r\n     </g>\r\n     <g id=\"text_7\">\r\n      <!-- 7 -->\r\n      <g style=\"fill:#262626;\" transform=\"translate(263.249425 242.013594)scale(0.11 -0.11)\">\r\n       <defs>\r\n        <path d=\"M 4.734375 62.203125 \r\nL 4.734375 70.65625 \r\nL 51.078125 70.65625 \r\nL 51.078125 63.8125 \r\nQ 44.234375 56.546875 37.515625 44.484375 \r\nQ 30.8125 32.421875 27.15625 19.671875 \r\nQ 24.515625 10.6875 23.78125 0 \r\nL 14.75 0 \r\nQ 14.890625 8.453125 18.0625 20.40625 \r\nQ 21.234375 32.375 27.171875 43.484375 \r\nQ 33.109375 54.59375 39.796875 62.203125 \r\nz\r\n\" id=\"ArialMT-55\"/>\r\n       </defs>\r\n       <use xlink:href=\"#ArialMT-55\"/>\r\n      </g>\r\n     </g>\r\n    </g>\r\n    <g id=\"xtick_8\">\r\n     <g id=\"line2d_8\">\r\n      <path clip-path=\"url(#p1251833f8f)\" d=\"M 304.353395 224.64 \r\nL 304.353395 7.2 \r\n\" style=\"fill:none;stroke:#ffffff;stroke-linecap:round;\"/>\r\n     </g>\r\n     <g id=\"text_8\">\r\n      <!-- 8 -->\r\n      <g style=\"fill:#262626;\" transform=\"translate(301.294879 242.013594)scale(0.11 -0.11)\">\r\n       <defs>\r\n        <path d=\"M 17.671875 38.8125 \r\nQ 12.203125 40.828125 9.5625 44.53125 \r\nQ 6.9375 48.25 6.9375 53.421875 \r\nQ 6.9375 61.234375 12.546875 66.546875 \r\nQ 18.171875 71.875 27.484375 71.875 \r\nQ 36.859375 71.875 42.578125 66.421875 \r\nQ 48.296875 60.984375 48.296875 53.171875 \r\nQ 48.296875 48.1875 45.671875 44.5 \r\nQ 43.0625 40.828125 37.75 38.8125 \r\nQ 44.34375 36.671875 47.78125 31.875 \r\nQ 51.21875 27.09375 51.21875 20.453125 \r\nQ 51.21875 11.28125 44.71875 5.03125 \r\nQ 38.234375 -1.21875 27.640625 -1.21875 \r\nQ 17.046875 -1.21875 10.546875 5.046875 \r\nQ 4.046875 11.328125 4.046875 20.703125 \r\nQ 4.046875 27.6875 7.59375 32.390625 \r\nQ 11.140625 37.109375 17.671875 38.8125 \r\nz\r\nM 15.921875 53.71875 \r\nQ 15.921875 48.640625 19.1875 45.40625 \r\nQ 22.46875 42.1875 27.6875 42.1875 \r\nQ 32.765625 42.1875 36.015625 45.375 \r\nQ 39.265625 48.578125 39.265625 53.21875 \r\nQ 39.265625 58.0625 35.90625 61.359375 \r\nQ 32.5625 64.65625 27.59375 64.65625 \r\nQ 22.5625 64.65625 19.234375 61.421875 \r\nQ 15.921875 58.203125 15.921875 53.71875 \r\nz\r\nM 13.09375 20.65625 \r\nQ 13.09375 16.890625 14.875 13.375 \r\nQ 16.65625 9.859375 20.171875 7.921875 \r\nQ 23.6875 6 27.734375 6 \r\nQ 34.03125 6 38.125 10.046875 \r\nQ 42.234375 14.109375 42.234375 20.359375 \r\nQ 42.234375 26.703125 38.015625 30.859375 \r\nQ 33.796875 35.015625 27.4375 35.015625 \r\nQ 21.234375 35.015625 17.15625 30.90625 \r\nQ 13.09375 26.8125 13.09375 20.65625 \r\nz\r\n\" id=\"ArialMT-56\"/>\r\n       </defs>\r\n       <use xlink:href=\"#ArialMT-56\"/>\r\n      </g>\r\n     </g>\r\n    </g>\r\n    <g id=\"xtick_9\">\r\n     <g id=\"line2d_9\">\r\n      <path clip-path=\"url(#p1251833f8f)\" d=\"M 342.398849 224.64 \r\nL 342.398849 7.2 \r\n\" style=\"fill:none;stroke:#ffffff;stroke-linecap:round;\"/>\r\n     </g>\r\n     <g id=\"text_9\">\r\n      <!-- 9 -->\r\n      <g style=\"fill:#262626;\" transform=\"translate(339.340334 242.013594)scale(0.11 -0.11)\">\r\n       <defs>\r\n        <path d=\"M 5.46875 16.546875 \r\nL 13.921875 17.328125 \r\nQ 14.984375 11.375 18.015625 8.6875 \r\nQ 21.046875 6 25.78125 6 \r\nQ 29.828125 6 32.875 7.859375 \r\nQ 35.9375 9.71875 37.890625 12.8125 \r\nQ 39.84375 15.921875 41.15625 21.1875 \r\nQ 42.484375 26.46875 42.484375 31.9375 \r\nQ 42.484375 32.515625 42.4375 33.6875 \r\nQ 39.796875 29.5 35.234375 26.875 \r\nQ 30.671875 24.265625 25.34375 24.265625 \r\nQ 16.453125 24.265625 10.296875 30.703125 \r\nQ 4.15625 37.15625 4.15625 47.703125 \r\nQ 4.15625 58.59375 10.578125 65.234375 \r\nQ 17 71.875 26.65625 71.875 \r\nQ 33.640625 71.875 39.421875 68.109375 \r\nQ 45.21875 64.359375 48.21875 57.390625 \r\nQ 51.21875 50.4375 51.21875 37.25 \r\nQ 51.21875 23.53125 48.234375 15.40625 \r\nQ 45.265625 7.28125 39.375 3.03125 \r\nQ 33.5 -1.21875 25.59375 -1.21875 \r\nQ 17.1875 -1.21875 11.859375 3.4375 \r\nQ 6.546875 8.109375 5.46875 16.546875 \r\nz\r\nM 41.453125 48.140625 \r\nQ 41.453125 55.71875 37.421875 60.15625 \r\nQ 33.40625 64.59375 27.734375 64.59375 \r\nQ 21.875 64.59375 17.53125 59.8125 \r\nQ 13.1875 55.03125 13.1875 47.40625 \r\nQ 13.1875 40.578125 17.3125 36.296875 \r\nQ 21.4375 32.03125 27.484375 32.03125 \r\nQ 33.59375 32.03125 37.515625 36.296875 \r\nQ 41.453125 40.578125 41.453125 48.140625 \r\nz\r\n\" id=\"ArialMT-57\"/>\r\n       </defs>\r\n       <use xlink:href=\"#ArialMT-57\"/>\r\n      </g>\r\n     </g>\r\n    </g>\r\n   </g>\r\n   <g id=\"matplotlib.axis_2\">\r\n    <g id=\"ytick_1\">\r\n     <g id=\"line2d_10\">\r\n      <path clip-path=\"url(#p1251833f8f)\" d=\"M 22.817031 214.756364 \r\nL 357.617031 214.756364 \r\n\" style=\"fill:none;stroke:#ffffff;stroke-linecap:round;\"/>\r\n     </g>\r\n     <g id=\"text_10\">\r\n      <!-- 1 -->\r\n      <g style=\"fill:#262626;\" transform=\"translate(7.2 218.693161)scale(0.11 -0.11)\">\r\n       <use xlink:href=\"#ArialMT-49\"/>\r\n      </g>\r\n     </g>\r\n    </g>\r\n    <g id=\"ytick_2\">\r\n     <g id=\"line2d_11\">\r\n      <path clip-path=\"url(#p1251833f8f)\" d=\"M 22.817031 190.047273 \r\nL 357.617031 190.047273 \r\n\" style=\"fill:none;stroke:#ffffff;stroke-linecap:round;\"/>\r\n     </g>\r\n     <g id=\"text_11\">\r\n      <!-- 2 -->\r\n      <g style=\"fill:#262626;\" transform=\"translate(7.2 193.98407)scale(0.11 -0.11)\">\r\n       <use xlink:href=\"#ArialMT-50\"/>\r\n      </g>\r\n     </g>\r\n    </g>\r\n    <g id=\"ytick_3\">\r\n     <g id=\"line2d_12\">\r\n      <path clip-path=\"url(#p1251833f8f)\" d=\"M 22.817031 165.338182 \r\nL 357.617031 165.338182 \r\n\" style=\"fill:none;stroke:#ffffff;stroke-linecap:round;\"/>\r\n     </g>\r\n     <g id=\"text_12\">\r\n      <!-- 3 -->\r\n      <g style=\"fill:#262626;\" transform=\"translate(7.2 169.274979)scale(0.11 -0.11)\">\r\n       <use xlink:href=\"#ArialMT-51\"/>\r\n      </g>\r\n     </g>\r\n    </g>\r\n    <g id=\"ytick_4\">\r\n     <g id=\"line2d_13\">\r\n      <path clip-path=\"url(#p1251833f8f)\" d=\"M 22.817031 140.629091 \r\nL 357.617031 140.629091 \r\n\" style=\"fill:none;stroke:#ffffff;stroke-linecap:round;\"/>\r\n     </g>\r\n     <g id=\"text_13\">\r\n      <!-- 4 -->\r\n      <g style=\"fill:#262626;\" transform=\"translate(7.2 144.565888)scale(0.11 -0.11)\">\r\n       <use xlink:href=\"#ArialMT-52\"/>\r\n      </g>\r\n     </g>\r\n    </g>\r\n    <g id=\"ytick_5\">\r\n     <g id=\"line2d_14\">\r\n      <path clip-path=\"url(#p1251833f8f)\" d=\"M 22.817031 115.92 \r\nL 357.617031 115.92 \r\n\" style=\"fill:none;stroke:#ffffff;stroke-linecap:round;\"/>\r\n     </g>\r\n     <g id=\"text_14\">\r\n      <!-- 5 -->\r\n      <g style=\"fill:#262626;\" transform=\"translate(7.2 119.856797)scale(0.11 -0.11)\">\r\n       <use xlink:href=\"#ArialMT-53\"/>\r\n      </g>\r\n     </g>\r\n    </g>\r\n    <g id=\"ytick_6\">\r\n     <g id=\"line2d_15\">\r\n      <path clip-path=\"url(#p1251833f8f)\" d=\"M 22.817031 91.210909 \r\nL 357.617031 91.210909 \r\n\" style=\"fill:none;stroke:#ffffff;stroke-linecap:round;\"/>\r\n     </g>\r\n     <g id=\"text_15\">\r\n      <!-- 6 -->\r\n      <g style=\"fill:#262626;\" transform=\"translate(7.2 95.147706)scale(0.11 -0.11)\">\r\n       <use xlink:href=\"#ArialMT-54\"/>\r\n      </g>\r\n     </g>\r\n    </g>\r\n    <g id=\"ytick_7\">\r\n     <g id=\"line2d_16\">\r\n      <path clip-path=\"url(#p1251833f8f)\" d=\"M 22.817031 66.501818 \r\nL 357.617031 66.501818 \r\n\" style=\"fill:none;stroke:#ffffff;stroke-linecap:round;\"/>\r\n     </g>\r\n     <g id=\"text_16\">\r\n      <!-- 7 -->\r\n      <g style=\"fill:#262626;\" transform=\"translate(7.2 70.438615)scale(0.11 -0.11)\">\r\n       <use xlink:href=\"#ArialMT-55\"/>\r\n      </g>\r\n     </g>\r\n    </g>\r\n    <g id=\"ytick_8\">\r\n     <g id=\"line2d_17\">\r\n      <path clip-path=\"url(#p1251833f8f)\" d=\"M 22.817031 41.792727 \r\nL 357.617031 41.792727 \r\n\" style=\"fill:none;stroke:#ffffff;stroke-linecap:round;\"/>\r\n     </g>\r\n     <g id=\"text_17\">\r\n      <!-- 8 -->\r\n      <g style=\"fill:#262626;\" transform=\"translate(7.2 45.729524)scale(0.11 -0.11)\">\r\n       <use xlink:href=\"#ArialMT-56\"/>\r\n      </g>\r\n     </g>\r\n    </g>\r\n    <g id=\"ytick_9\">\r\n     <g id=\"line2d_18\">\r\n      <path clip-path=\"url(#p1251833f8f)\" d=\"M 22.817031 17.083636 \r\nL 357.617031 17.083636 \r\n\" style=\"fill:none;stroke:#ffffff;stroke-linecap:round;\"/>\r\n     </g>\r\n     <g id=\"text_18\">\r\n      <!-- 9 -->\r\n      <g style=\"fill:#262626;\" transform=\"translate(7.2 21.020433)scale(0.11 -0.11)\">\r\n       <use xlink:href=\"#ArialMT-57\"/>\r\n      </g>\r\n     </g>\r\n    </g>\r\n   </g>\r\n   <g id=\"line2d_19\">\r\n    <path clip-path=\"url(#p1251833f8f)\" d=\"M 38.035213 214.756364 \r\nL 76.080668 190.047273 \r\nL 114.126122 165.338182 \r\nL 152.171577 140.629091 \r\nL 190.217031 115.92 \r\nL 228.262486 91.210909 \r\nL 266.30794 66.501818 \r\nL 304.353395 41.792727 \r\nL 342.398849 17.083636 \r\n\" style=\"fill:none;stroke:#000000;stroke-dasharray:5.55,2.4;stroke-dashoffset:0;stroke-width:1.5;\"/>\r\n    <defs>\r\n     <path d=\"M -3 0 \r\nL 3 0 \r\nM 0 3 \r\nL 0 -3 \r\n\" id=\"m76dc910ca0\" style=\"stroke:#000000;\"/>\r\n    </defs>\r\n    <g clip-path=\"url(#p1251833f8f)\">\r\n     <use style=\"stroke:#000000;\" x=\"38.035213\" xlink:href=\"#m76dc910ca0\" y=\"214.756364\"/>\r\n     <use style=\"stroke:#000000;\" x=\"76.080668\" xlink:href=\"#m76dc910ca0\" y=\"190.047273\"/>\r\n     <use style=\"stroke:#000000;\" x=\"114.126122\" xlink:href=\"#m76dc910ca0\" y=\"165.338182\"/>\r\n     <use style=\"stroke:#000000;\" x=\"152.171577\" xlink:href=\"#m76dc910ca0\" y=\"140.629091\"/>\r\n     <use style=\"stroke:#000000;\" x=\"190.217031\" xlink:href=\"#m76dc910ca0\" y=\"115.92\"/>\r\n     <use style=\"stroke:#000000;\" x=\"228.262486\" xlink:href=\"#m76dc910ca0\" y=\"91.210909\"/>\r\n     <use style=\"stroke:#000000;\" x=\"266.30794\" xlink:href=\"#m76dc910ca0\" y=\"66.501818\"/>\r\n     <use style=\"stroke:#000000;\" x=\"304.353395\" xlink:href=\"#m76dc910ca0\" y=\"41.792727\"/>\r\n     <use style=\"stroke:#000000;\" x=\"342.398849\" xlink:href=\"#m76dc910ca0\" y=\"17.083636\"/>\r\n    </g>\r\n   </g>\r\n   <g id=\"patch_3\">\r\n    <path d=\"M 22.817031 224.64 \r\nL 22.817031 7.2 \r\n\" style=\"fill:none;stroke:#ffffff;stroke-linecap:square;stroke-linejoin:miter;stroke-width:1.25;\"/>\r\n   </g>\r\n   <g id=\"patch_4\">\r\n    <path d=\"M 357.617031 224.64 \r\nL 357.617031 7.2 \r\n\" style=\"fill:none;stroke:#ffffff;stroke-linecap:square;stroke-linejoin:miter;stroke-width:1.25;\"/>\r\n   </g>\r\n   <g id=\"patch_5\">\r\n    <path d=\"M 22.817031 224.64 \r\nL 357.617031 224.64 \r\n\" style=\"fill:none;stroke:#ffffff;stroke-linecap:square;stroke-linejoin:miter;stroke-width:1.25;\"/>\r\n   </g>\r\n   <g id=\"patch_6\">\r\n    <path d=\"M 22.817031 7.2 \r\nL 357.617031 7.2 \r\n\" style=\"fill:none;stroke:#ffffff;stroke-linecap:square;stroke-linejoin:miter;stroke-width:1.25;\"/>\r\n   </g>\r\n  </g>\r\n </g>\r\n <defs>\r\n  <clipPath id=\"p1251833f8f\">\r\n   <rect height=\"217.44\" width=\"334.8\" x=\"22.817031\" y=\"7.2\"/>\r\n  </clipPath>\r\n </defs>\r\n</svg>\r\n",
      "image/png": "[encoded data removed]"
     },
     "metadata": {}
    }
   ],
   "source": [
    "x = range(1, 10)\n",
    "\n",
    "# make a simple scatter plot of the data\n",
    "plt.plot(x, x, c=\"black\", linestyle='dashed', marker='+')"
   ]
  },
  {
   "source": [
    "# Bsp. Seaborn"
   ],
   "cell_type": "markdown",
   "metadata": {}
  },
  {
   "cell_type": "code",
   "execution_count": 6,
   "metadata": {},
   "outputs": [
    {
     "output_type": "execute_result",
     "data": {
      "text/plain": [
       "[<matplotlib.lines.Line2D at 0x27b6f49bc10>]"
      ]
     },
     "metadata": {},
     "execution_count": 6
    },
    {
     "output_type": "display_data",
     "data": {
      "text/plain": "<Figure size 432x288 with 1 Axes>",
      "image/svg+xml": "<?xml version=\"1.0\" encoding=\"utf-8\" standalone=\"no\"?>\r\n<!DOCTYPE svg PUBLIC \"-//W3C//DTD SVG 1.1//EN\"\r\n  \"http://www.w3.org/Graphics/SVG/1.1/DTD/svg11.dtd\">\r\n<!-- Created with matplotlib (https://matplotlib.org/) -->\r\n<svg height=\"251.399844pt\" version=\"1.1\" viewBox=\"0 0 364.817031 251.399844\" width=\"364.817031pt\" xmlns=\"http://www.w3.org/2000/svg\" xmlns:xlink=\"http://www.w3.org/1999/xlink\">\r\n <metadata>\r\n  <rdf:RDF xmlns:cc=\"http://creativecommons.org/ns#\" xmlns:dc=\"http://purl.org/dc/elements/1.1/\" xmlns:rdf=\"http://www.w3.org/1999/02/22-rdf-syntax-ns#\">\r\n   <cc:Work>\r\n    <dc:type rdf:resource=\"http://purl.org/dc/dcmitype/StillImage\"/>\r\n    <dc:date>2021-03-08T12:38:52.460998</dc:date>\r\n    <dc:format>image/svg+xml</dc:format>\r\n    <dc:creator>\r\n     <cc:Agent>\r\n      <dc:title>Matplotlib v3.3.3, https://matplotlib.org/</dc:title>\r\n     </cc:Agent>\r\n    </dc:creator>\r\n   </cc:Work>\r\n  </rdf:RDF>\r\n </metadata>\r\n <defs>\r\n  <style type=\"text/css\">*{stroke-linecap:butt;stroke-linejoin:round;}</style>\r\n </defs>\r\n <g id=\"figure_1\">\r\n  <g id=\"patch_1\">\r\n   <path d=\"M 0 251.399844 \r\nL 364.817031 251.399844 \r\nL 364.817031 0 \r\nL 0 0 \r\nz\r\n\" style=\"fill:#ffffff;\"/>\r\n  </g>\r\n  <g id=\"axes_1\">\r\n   <g id=\"patch_2\">\r\n    <path d=\"M 22.817031 224.64 \r\nL 357.617031 224.64 \r\nL 357.617031 7.2 \r\nL 22.817031 7.2 \r\nz\r\n\" style=\"fill:#eaeaf2;\"/>\r\n   </g>\r\n   <g id=\"matplotlib.axis_1\">\r\n    <g id=\"xtick_1\">\r\n     <g id=\"line2d_1\">\r\n      <path clip-path=\"url(#p5b371d65c1)\" d=\"M 38.035213 224.64 \r\nL 38.035213 7.2 \r\n\" style=\"fill:none;stroke:#ffffff;stroke-linecap:round;\"/>\r\n     </g>\r\n     <g id=\"text_1\">\r\n      <!-- 1 -->\r\n      <g style=\"fill:#262626;\" transform=\"translate(34.976697 242.013594)scale(0.11 -0.11)\">\r\n       <defs>\r\n        <path d=\"M 37.25 0 \r\nL 28.46875 0 \r\nL 28.46875 56 \r\nQ 25.296875 52.984375 20.140625 49.953125 \r\nQ 14.984375 46.921875 10.890625 45.40625 \r\nL 10.890625 53.90625 \r\nQ 18.265625 57.375 23.78125 62.296875 \r\nQ 29.296875 67.234375 31.59375 71.875 \r\nL 37.25 71.875 \r\nz\r\n\" id=\"ArialMT-49\"/>\r\n       </defs>\r\n       <use xlink:href=\"#ArialMT-49\"/>\r\n      </g>\r\n     </g>\r\n    </g>\r\n    <g id=\"xtick_2\">\r\n     <g id=\"line2d_2\">\r\n      <path clip-path=\"url(#p5b371d65c1)\" d=\"M 76.080668 224.64 \r\nL 76.080668 7.2 \r\n\" style=\"fill:none;stroke:#ffffff;stroke-linecap:round;\"/>\r\n     </g>\r\n     <g id=\"text_2\">\r\n      <!-- 2 -->\r\n      <g style=\"fill:#262626;\" transform=\"translate(73.022152 242.013594)scale(0.11 -0.11)\">\r\n       <defs>\r\n        <path d=\"M 50.34375 8.453125 \r\nL 50.34375 0 \r\nL 3.03125 0 \r\nQ 2.9375 3.171875 4.046875 6.109375 \r\nQ 5.859375 10.9375 9.828125 15.625 \r\nQ 13.8125 20.3125 21.34375 26.46875 \r\nQ 33.015625 36.03125 37.109375 41.625 \r\nQ 41.21875 47.21875 41.21875 52.203125 \r\nQ 41.21875 57.421875 37.46875 61 \r\nQ 33.734375 64.59375 27.734375 64.59375 \r\nQ 21.390625 64.59375 17.578125 60.78125 \r\nQ 13.765625 56.984375 13.71875 50.25 \r\nL 4.6875 51.171875 \r\nQ 5.609375 61.28125 11.65625 66.578125 \r\nQ 17.71875 71.875 27.9375 71.875 \r\nQ 38.234375 71.875 44.234375 66.15625 \r\nQ 50.25 60.453125 50.25 52 \r\nQ 50.25 47.703125 48.484375 43.546875 \r\nQ 46.734375 39.40625 42.65625 34.8125 \r\nQ 38.578125 30.21875 29.109375 22.21875 \r\nQ 21.1875 15.578125 18.9375 13.203125 \r\nQ 16.703125 10.84375 15.234375 8.453125 \r\nz\r\n\" id=\"ArialMT-50\"/>\r\n       </defs>\r\n       <use xlink:href=\"#ArialMT-50\"/>\r\n      </g>\r\n     </g>\r\n    </g>\r\n    <g id=\"xtick_3\">\r\n     <g id=\"line2d_3\">\r\n      <path clip-path=\"url(#p5b371d65c1)\" d=\"M 114.126122 224.64 \r\nL 114.126122 7.2 \r\n\" style=\"fill:none;stroke:#ffffff;stroke-linecap:round;\"/>\r\n     </g>\r\n     <g id=\"text_3\">\r\n      <!-- 3 -->\r\n      <g style=\"fill:#262626;\" transform=\"translate(111.067607 242.013594)scale(0.11 -0.11)\">\r\n       <defs>\r\n        <path d=\"M 4.203125 18.890625 \r\nL 12.984375 20.0625 \r\nQ 14.5 12.59375 18.140625 9.296875 \r\nQ 21.78125 6 27 6 \r\nQ 33.203125 6 37.46875 10.296875 \r\nQ 41.75 14.59375 41.75 20.953125 \r\nQ 41.75 27 37.796875 30.921875 \r\nQ 33.84375 34.859375 27.734375 34.859375 \r\nQ 25.25 34.859375 21.53125 33.890625 \r\nL 22.515625 41.609375 \r\nQ 23.390625 41.5 23.921875 41.5 \r\nQ 29.546875 41.5 34.03125 44.421875 \r\nQ 38.53125 47.359375 38.53125 53.46875 \r\nQ 38.53125 58.296875 35.25 61.46875 \r\nQ 31.984375 64.65625 26.8125 64.65625 \r\nQ 21.6875 64.65625 18.265625 61.421875 \r\nQ 14.84375 58.203125 13.875 51.765625 \r\nL 5.078125 53.328125 \r\nQ 6.6875 62.15625 12.390625 67.015625 \r\nQ 18.109375 71.875 26.609375 71.875 \r\nQ 32.46875 71.875 37.390625 69.359375 \r\nQ 42.328125 66.84375 44.9375 62.5 \r\nQ 47.5625 58.15625 47.5625 53.265625 \r\nQ 47.5625 48.640625 45.0625 44.828125 \r\nQ 42.578125 41.015625 37.703125 38.765625 \r\nQ 44.046875 37.3125 47.5625 32.6875 \r\nQ 51.078125 28.078125 51.078125 21.140625 \r\nQ 51.078125 11.765625 44.234375 5.25 \r\nQ 37.40625 -1.265625 26.953125 -1.265625 \r\nQ 17.53125 -1.265625 11.296875 4.34375 \r\nQ 5.078125 9.96875 4.203125 18.890625 \r\nz\r\n\" id=\"ArialMT-51\"/>\r\n       </defs>\r\n       <use xlink:href=\"#ArialMT-51\"/>\r\n      </g>\r\n     </g>\r\n    </g>\r\n    <g id=\"xtick_4\">\r\n     <g id=\"line2d_4\">\r\n      <path clip-path=\"url(#p5b371d65c1)\" d=\"M 152.171577 224.64 \r\nL 152.171577 7.2 \r\n\" style=\"fill:none;stroke:#ffffff;stroke-linecap:round;\"/>\r\n     </g>\r\n     <g id=\"text_4\">\r\n      <!-- 4 -->\r\n      <g style=\"fill:#262626;\" transform=\"translate(149.113061 242.013594)scale(0.11 -0.11)\">\r\n       <defs>\r\n        <path d=\"M 32.328125 0 \r\nL 32.328125 17.140625 \r\nL 1.265625 17.140625 \r\nL 1.265625 25.203125 \r\nL 33.9375 71.578125 \r\nL 41.109375 71.578125 \r\nL 41.109375 25.203125 \r\nL 50.78125 25.203125 \r\nL 50.78125 17.140625 \r\nL 41.109375 17.140625 \r\nL 41.109375 0 \r\nz\r\nM 32.328125 25.203125 \r\nL 32.328125 57.46875 \r\nL 9.90625 25.203125 \r\nz\r\n\" id=\"ArialMT-52\"/>\r\n       </defs>\r\n       <use xlink:href=\"#ArialMT-52\"/>\r\n      </g>\r\n     </g>\r\n    </g>\r\n    <g id=\"xtick_5\">\r\n     <g id=\"line2d_5\">\r\n      <path clip-path=\"url(#p5b371d65c1)\" d=\"M 190.217031 224.64 \r\nL 190.217031 7.2 \r\n\" style=\"fill:none;stroke:#ffffff;stroke-linecap:round;\"/>\r\n     </g>\r\n     <g id=\"text_5\">\r\n      <!-- 5 -->\r\n      <g style=\"fill:#262626;\" transform=\"translate(187.158516 242.013594)scale(0.11 -0.11)\">\r\n       <defs>\r\n        <path d=\"M 4.15625 18.75 \r\nL 13.375 19.53125 \r\nQ 14.40625 12.796875 18.140625 9.390625 \r\nQ 21.875 6 27.15625 6 \r\nQ 33.5 6 37.890625 10.78125 \r\nQ 42.28125 15.578125 42.28125 23.484375 \r\nQ 42.28125 31 38.0625 35.34375 \r\nQ 33.84375 39.703125 27 39.703125 \r\nQ 22.75 39.703125 19.328125 37.765625 \r\nQ 15.921875 35.84375 13.96875 32.765625 \r\nL 5.71875 33.84375 \r\nL 12.640625 70.609375 \r\nL 48.25 70.609375 \r\nL 48.25 62.203125 \r\nL 19.671875 62.203125 \r\nL 15.828125 42.96875 \r\nQ 22.265625 47.46875 29.34375 47.46875 \r\nQ 38.71875 47.46875 45.15625 40.96875 \r\nQ 51.609375 34.46875 51.609375 24.265625 \r\nQ 51.609375 14.546875 45.953125 7.46875 \r\nQ 39.0625 -1.21875 27.15625 -1.21875 \r\nQ 17.390625 -1.21875 11.203125 4.25 \r\nQ 5.03125 9.71875 4.15625 18.75 \r\nz\r\n\" id=\"ArialMT-53\"/>\r\n       </defs>\r\n       <use xlink:href=\"#ArialMT-53\"/>\r\n      </g>\r\n     </g>\r\n    </g>\r\n    <g id=\"xtick_6\">\r\n     <g id=\"line2d_6\">\r\n      <path clip-path=\"url(#p5b371d65c1)\" d=\"M 228.262486 224.64 \r\nL 228.262486 7.2 \r\n\" style=\"fill:none;stroke:#ffffff;stroke-linecap:round;\"/>\r\n     </g>\r\n     <g id=\"text_6\">\r\n      <!-- 6 -->\r\n      <g style=\"fill:#262626;\" transform=\"translate(225.20397 242.013594)scale(0.11 -0.11)\">\r\n       <defs>\r\n        <path d=\"M 49.75 54.046875 \r\nL 41.015625 53.375 \r\nQ 39.84375 58.546875 37.703125 60.890625 \r\nQ 34.125 64.65625 28.90625 64.65625 \r\nQ 24.703125 64.65625 21.53125 62.3125 \r\nQ 17.390625 59.28125 14.984375 53.46875 \r\nQ 12.59375 47.65625 12.5 36.921875 \r\nQ 15.671875 41.75 20.265625 44.09375 \r\nQ 24.859375 46.4375 29.890625 46.4375 \r\nQ 38.671875 46.4375 44.84375 39.96875 \r\nQ 51.03125 33.5 51.03125 23.25 \r\nQ 51.03125 16.5 48.125 10.71875 \r\nQ 45.21875 4.9375 40.140625 1.859375 \r\nQ 35.0625 -1.21875 28.609375 -1.21875 \r\nQ 17.625 -1.21875 10.6875 6.859375 \r\nQ 3.765625 14.9375 3.765625 33.5 \r\nQ 3.765625 54.25 11.421875 63.671875 \r\nQ 18.109375 71.875 29.4375 71.875 \r\nQ 37.890625 71.875 43.28125 67.140625 \r\nQ 48.6875 62.40625 49.75 54.046875 \r\nz\r\nM 13.875 23.1875 \r\nQ 13.875 18.65625 15.796875 14.5 \r\nQ 17.71875 10.359375 21.1875 8.171875 \r\nQ 24.65625 6 28.46875 6 \r\nQ 34.03125 6 38.03125 10.484375 \r\nQ 42.046875 14.984375 42.046875 22.703125 \r\nQ 42.046875 30.125 38.078125 34.390625 \r\nQ 34.125 38.671875 28.125 38.671875 \r\nQ 22.171875 38.671875 18.015625 34.390625 \r\nQ 13.875 30.125 13.875 23.1875 \r\nz\r\n\" id=\"ArialMT-54\"/>\r\n       </defs>\r\n       <use xlink:href=\"#ArialMT-54\"/>\r\n      </g>\r\n     </g>\r\n    </g>\r\n    <g id=\"xtick_7\">\r\n     <g id=\"line2d_7\">\r\n      <path clip-path=\"url(#p5b371d65c1)\" d=\"M 266.30794 224.64 \r\nL 266.30794 7.2 \r\n\" style=\"fill:none;stroke:#ffffff;stroke-linecap:round;\"/>\r\n     </g>\r\n     <g id=\"text_7\">\r\n      <!-- 7 -->\r\n      <g style=\"fill:#262626;\" transform=\"translate(263.249425 242.013594)scale(0.11 -0.11)\">\r\n       <defs>\r\n        <path d=\"M 4.734375 62.203125 \r\nL 4.734375 70.65625 \r\nL 51.078125 70.65625 \r\nL 51.078125 63.8125 \r\nQ 44.234375 56.546875 37.515625 44.484375 \r\nQ 30.8125 32.421875 27.15625 19.671875 \r\nQ 24.515625 10.6875 23.78125 0 \r\nL 14.75 0 \r\nQ 14.890625 8.453125 18.0625 20.40625 \r\nQ 21.234375 32.375 27.171875 43.484375 \r\nQ 33.109375 54.59375 39.796875 62.203125 \r\nz\r\n\" id=\"ArialMT-55\"/>\r\n       </defs>\r\n       <use xlink:href=\"#ArialMT-55\"/>\r\n      </g>\r\n     </g>\r\n    </g>\r\n    <g id=\"xtick_8\">\r\n     <g id=\"line2d_8\">\r\n      <path clip-path=\"url(#p5b371d65c1)\" d=\"M 304.353395 224.64 \r\nL 304.353395 7.2 \r\n\" style=\"fill:none;stroke:#ffffff;stroke-linecap:round;\"/>\r\n     </g>\r\n     <g id=\"text_8\">\r\n      <!-- 8 -->\r\n      <g style=\"fill:#262626;\" transform=\"translate(301.294879 242.013594)scale(0.11 -0.11)\">\r\n       <defs>\r\n        <path d=\"M 17.671875 38.8125 \r\nQ 12.203125 40.828125 9.5625 44.53125 \r\nQ 6.9375 48.25 6.9375 53.421875 \r\nQ 6.9375 61.234375 12.546875 66.546875 \r\nQ 18.171875 71.875 27.484375 71.875 \r\nQ 36.859375 71.875 42.578125 66.421875 \r\nQ 48.296875 60.984375 48.296875 53.171875 \r\nQ 48.296875 48.1875 45.671875 44.5 \r\nQ 43.0625 40.828125 37.75 38.8125 \r\nQ 44.34375 36.671875 47.78125 31.875 \r\nQ 51.21875 27.09375 51.21875 20.453125 \r\nQ 51.21875 11.28125 44.71875 5.03125 \r\nQ 38.234375 -1.21875 27.640625 -1.21875 \r\nQ 17.046875 -1.21875 10.546875 5.046875 \r\nQ 4.046875 11.328125 4.046875 20.703125 \r\nQ 4.046875 27.6875 7.59375 32.390625 \r\nQ 11.140625 37.109375 17.671875 38.8125 \r\nz\r\nM 15.921875 53.71875 \r\nQ 15.921875 48.640625 19.1875 45.40625 \r\nQ 22.46875 42.1875 27.6875 42.1875 \r\nQ 32.765625 42.1875 36.015625 45.375 \r\nQ 39.265625 48.578125 39.265625 53.21875 \r\nQ 39.265625 58.0625 35.90625 61.359375 \r\nQ 32.5625 64.65625 27.59375 64.65625 \r\nQ 22.5625 64.65625 19.234375 61.421875 \r\nQ 15.921875 58.203125 15.921875 53.71875 \r\nz\r\nM 13.09375 20.65625 \r\nQ 13.09375 16.890625 14.875 13.375 \r\nQ 16.65625 9.859375 20.171875 7.921875 \r\nQ 23.6875 6 27.734375 6 \r\nQ 34.03125 6 38.125 10.046875 \r\nQ 42.234375 14.109375 42.234375 20.359375 \r\nQ 42.234375 26.703125 38.015625 30.859375 \r\nQ 33.796875 35.015625 27.4375 35.015625 \r\nQ 21.234375 35.015625 17.15625 30.90625 \r\nQ 13.09375 26.8125 13.09375 20.65625 \r\nz\r\n\" id=\"ArialMT-56\"/>\r\n       </defs>\r\n       <use xlink:href=\"#ArialMT-56\"/>\r\n      </g>\r\n     </g>\r\n    </g>\r\n    <g id=\"xtick_9\">\r\n     <g id=\"line2d_9\">\r\n      <path clip-path=\"url(#p5b371d65c1)\" d=\"M 342.398849 224.64 \r\nL 342.398849 7.2 \r\n\" style=\"fill:none;stroke:#ffffff;stroke-linecap:round;\"/>\r\n     </g>\r\n     <g id=\"text_9\">\r\n      <!-- 9 -->\r\n      <g style=\"fill:#262626;\" transform=\"translate(339.340334 242.013594)scale(0.11 -0.11)\">\r\n       <defs>\r\n        <path d=\"M 5.46875 16.546875 \r\nL 13.921875 17.328125 \r\nQ 14.984375 11.375 18.015625 8.6875 \r\nQ 21.046875 6 25.78125 6 \r\nQ 29.828125 6 32.875 7.859375 \r\nQ 35.9375 9.71875 37.890625 12.8125 \r\nQ 39.84375 15.921875 41.15625 21.1875 \r\nQ 42.484375 26.46875 42.484375 31.9375 \r\nQ 42.484375 32.515625 42.4375 33.6875 \r\nQ 39.796875 29.5 35.234375 26.875 \r\nQ 30.671875 24.265625 25.34375 24.265625 \r\nQ 16.453125 24.265625 10.296875 30.703125 \r\nQ 4.15625 37.15625 4.15625 47.703125 \r\nQ 4.15625 58.59375 10.578125 65.234375 \r\nQ 17 71.875 26.65625 71.875 \r\nQ 33.640625 71.875 39.421875 68.109375 \r\nQ 45.21875 64.359375 48.21875 57.390625 \r\nQ 51.21875 50.4375 51.21875 37.25 \r\nQ 51.21875 23.53125 48.234375 15.40625 \r\nQ 45.265625 7.28125 39.375 3.03125 \r\nQ 33.5 -1.21875 25.59375 -1.21875 \r\nQ 17.1875 -1.21875 11.859375 3.4375 \r\nQ 6.546875 8.109375 5.46875 16.546875 \r\nz\r\nM 41.453125 48.140625 \r\nQ 41.453125 55.71875 37.421875 60.15625 \r\nQ 33.40625 64.59375 27.734375 64.59375 \r\nQ 21.875 64.59375 17.53125 59.8125 \r\nQ 13.1875 55.03125 13.1875 47.40625 \r\nQ 13.1875 40.578125 17.3125 36.296875 \r\nQ 21.4375 32.03125 27.484375 32.03125 \r\nQ 33.59375 32.03125 37.515625 36.296875 \r\nQ 41.453125 40.578125 41.453125 48.140625 \r\nz\r\n\" id=\"ArialMT-57\"/>\r\n       </defs>\r\n       <use xlink:href=\"#ArialMT-57\"/>\r\n      </g>\r\n     </g>\r\n    </g>\r\n   </g>\r\n   <g id=\"matplotlib.axis_2\">\r\n    <g id=\"ytick_1\">\r\n     <g id=\"line2d_10\">\r\n      <path clip-path=\"url(#p5b371d65c1)\" d=\"M 22.817031 214.756364 \r\nL 357.617031 214.756364 \r\n\" style=\"fill:none;stroke:#ffffff;stroke-linecap:round;\"/>\r\n     </g>\r\n     <g id=\"text_10\">\r\n      <!-- 1 -->\r\n      <g style=\"fill:#262626;\" transform=\"translate(7.2 218.693161)scale(0.11 -0.11)\">\r\n       <use xlink:href=\"#ArialMT-49\"/>\r\n      </g>\r\n     </g>\r\n    </g>\r\n    <g id=\"ytick_2\">\r\n     <g id=\"line2d_11\">\r\n      <path clip-path=\"url(#p5b371d65c1)\" d=\"M 22.817031 190.047273 \r\nL 357.617031 190.047273 \r\n\" style=\"fill:none;stroke:#ffffff;stroke-linecap:round;\"/>\r\n     </g>\r\n     <g id=\"text_11\">\r\n      <!-- 2 -->\r\n      <g style=\"fill:#262626;\" transform=\"translate(7.2 193.98407)scale(0.11 -0.11)\">\r\n       <use xlink:href=\"#ArialMT-50\"/>\r\n      </g>\r\n     </g>\r\n    </g>\r\n    <g id=\"ytick_3\">\r\n     <g id=\"line2d_12\">\r\n      <path clip-path=\"url(#p5b371d65c1)\" d=\"M 22.817031 165.338182 \r\nL 357.617031 165.338182 \r\n\" style=\"fill:none;stroke:#ffffff;stroke-linecap:round;\"/>\r\n     </g>\r\n     <g id=\"text_12\">\r\n      <!-- 3 -->\r\n      <g style=\"fill:#262626;\" transform=\"translate(7.2 169.274979)scale(0.11 -0.11)\">\r\n       <use xlink:href=\"#ArialMT-51\"/>\r\n      </g>\r\n     </g>\r\n    </g>\r\n    <g id=\"ytick_4\">\r\n     <g id=\"line2d_13\">\r\n      <path clip-path=\"url(#p5b371d65c1)\" d=\"M 22.817031 140.629091 \r\nL 357.617031 140.629091 \r\n\" style=\"fill:none;stroke:#ffffff;stroke-linecap:round;\"/>\r\n     </g>\r\n     <g id=\"text_13\">\r\n      <!-- 4 -->\r\n      <g style=\"fill:#262626;\" transform=\"translate(7.2 144.565888)scale(0.11 -0.11)\">\r\n       <use xlink:href=\"#ArialMT-52\"/>\r\n      </g>\r\n     </g>\r\n    </g>\r\n    <g id=\"ytick_5\">\r\n     <g id=\"line2d_14\">\r\n      <path clip-path=\"url(#p5b371d65c1)\" d=\"M 22.817031 115.92 \r\nL 357.617031 115.92 \r\n\" style=\"fill:none;stroke:#ffffff;stroke-linecap:round;\"/>\r\n     </g>\r\n     <g id=\"text_14\">\r\n      <!-- 5 -->\r\n      <g style=\"fill:#262626;\" transform=\"translate(7.2 119.856797)scale(0.11 -0.11)\">\r\n       <use xlink:href=\"#ArialMT-53\"/>\r\n      </g>\r\n     </g>\r\n    </g>\r\n    <g id=\"ytick_6\">\r\n     <g id=\"line2d_15\">\r\n      <path clip-path=\"url(#p5b371d65c1)\" d=\"M 22.817031 91.210909 \r\nL 357.617031 91.210909 \r\n\" style=\"fill:none;stroke:#ffffff;stroke-linecap:round;\"/>\r\n     </g>\r\n     <g id=\"text_15\">\r\n      <!-- 6 -->\r\n      <g style=\"fill:#262626;\" transform=\"translate(7.2 95.147706)scale(0.11 -0.11)\">\r\n       <use xlink:href=\"#ArialMT-54\"/>\r\n      </g>\r\n     </g>\r\n    </g>\r\n    <g id=\"ytick_7\">\r\n     <g id=\"line2d_16\">\r\n      <path clip-path=\"url(#p5b371d65c1)\" d=\"M 22.817031 66.501818 \r\nL 357.617031 66.501818 \r\n\" style=\"fill:none;stroke:#ffffff;stroke-linecap:round;\"/>\r\n     </g>\r\n     <g id=\"text_16\">\r\n      <!-- 7 -->\r\n      <g style=\"fill:#262626;\" transform=\"translate(7.2 70.438615)scale(0.11 -0.11)\">\r\n       <use xlink:href=\"#ArialMT-55\"/>\r\n      </g>\r\n     </g>\r\n    </g>\r\n    <g id=\"ytick_8\">\r\n     <g id=\"line2d_17\">\r\n      <path clip-path=\"url(#p5b371d65c1)\" d=\"M 22.817031 41.792727 \r\nL 357.617031 41.792727 \r\n\" style=\"fill:none;stroke:#ffffff;stroke-linecap:round;\"/>\r\n     </g>\r\n     <g id=\"text_17\">\r\n      <!-- 8 -->\r\n      <g style=\"fill:#262626;\" transform=\"translate(7.2 45.729524)scale(0.11 -0.11)\">\r\n       <use xlink:href=\"#ArialMT-56\"/>\r\n      </g>\r\n     </g>\r\n    </g>\r\n    <g id=\"ytick_9\">\r\n     <g id=\"line2d_18\">\r\n      <path clip-path=\"url(#p5b371d65c1)\" d=\"M 22.817031 17.083636 \r\nL 357.617031 17.083636 \r\n\" style=\"fill:none;stroke:#ffffff;stroke-linecap:round;\"/>\r\n     </g>\r\n     <g id=\"text_18\">\r\n      <!-- 9 -->\r\n      <g style=\"fill:#262626;\" transform=\"translate(7.2 21.020433)scale(0.11 -0.11)\">\r\n       <use xlink:href=\"#ArialMT-57\"/>\r\n      </g>\r\n     </g>\r\n    </g>\r\n   </g>\r\n   <g id=\"line2d_19\">\r\n    <path clip-path=\"url(#p5b371d65c1)\" d=\"M 38.035213 214.756364 \r\nL 76.080668 190.047273 \r\nL 114.126122 165.338182 \r\nL 152.171577 140.629091 \r\nL 190.217031 115.92 \r\nL 228.262486 91.210909 \r\nL 266.30794 66.501818 \r\nL 304.353395 41.792727 \r\nL 342.398849 17.083636 \r\n\" style=\"fill:none;stroke:#4c72b0;stroke-linecap:round;stroke-width:1.5;\"/>\r\n   </g>\r\n   <g id=\"patch_3\">\r\n    <path d=\"M 22.817031 224.64 \r\nL 22.817031 7.2 \r\n\" style=\"fill:none;stroke:#ffffff;stroke-linecap:square;stroke-linejoin:miter;stroke-width:1.25;\"/>\r\n   </g>\r\n   <g id=\"patch_4\">\r\n    <path d=\"M 357.617031 224.64 \r\nL 357.617031 7.2 \r\n\" style=\"fill:none;stroke:#ffffff;stroke-linecap:square;stroke-linejoin:miter;stroke-width:1.25;\"/>\r\n   </g>\r\n   <g id=\"patch_5\">\r\n    <path d=\"M 22.817031 224.64 \r\nL 357.617031 224.64 \r\n\" style=\"fill:none;stroke:#ffffff;stroke-linecap:square;stroke-linejoin:miter;stroke-width:1.25;\"/>\r\n   </g>\r\n   <g id=\"patch_6\">\r\n    <path d=\"M 22.817031 7.2 \r\nL 357.617031 7.2 \r\n\" style=\"fill:none;stroke:#ffffff;stroke-linecap:square;stroke-linejoin:miter;stroke-width:1.25;\"/>\r\n   </g>\r\n  </g>\r\n </g>\r\n <defs>\r\n  <clipPath id=\"p5b371d65c1\">\r\n   <rect height=\"217.44\" width=\"334.8\" x=\"22.817031\" y=\"7.2\"/>\r\n  </clipPath>\r\n </defs>\r\n</svg>\r\n",
      "image/png": "[encoded data removed]"
     },
     "metadata": {}
    }
   ],
   "source": [
    "# import the libraries and give them some shorter names\n",
    "import matplotlib.pyplot as plt\n",
    "import seaborn as sns\n",
    "\n",
    "# setup the seaborn library\n",
    "sns.set()\n",
    "\n",
    "# create the same plot as in the previous example\n",
    "x = range(1, 10)\n",
    "plt.plot(x, x)\n"
   ]
  },
  {
   "source": [
    "# Bsp Scipy"
   ],
   "cell_type": "markdown",
   "metadata": {}
  },
  {
   "cell_type": "code",
   "execution_count": 8,
   "metadata": {},
   "outputs": [
    {
     "output_type": "execute_result",
     "data": {
      "text/plain": [
       "Ttest_indResult(statistic=9.281138146360542, pvalue=2.7794419042727725e-08)"
      ]
     },
     "metadata": {},
     "execution_count": 8
    }
   ],
   "source": [
    "# import the package stats from the library scipy\n",
    "from scipy import stats\n",
    "\n",
    "# create two numerical arrays\n",
    "x = [12, 10, 11, 13, 14, 10, 13, 13, 22]\n",
    "y = [1, 4, 2, 3, 5, 2, 1, 0, 0, 1, 2]\n",
    "\n",
    "# perform a two sample t-test, to test if the samples have different means\n",
    "stats.ttest_ind(x,y)"
   ]
  },
  {
   "source": [
    "# Bsp. Scitkit-Learn"
   ],
   "cell_type": "markdown",
   "metadata": {}
  },
  {
   "cell_type": "code",
   "execution_count": 9,
   "metadata": {},
   "outputs": [
    {
     "output_type": "execute_result",
     "data": {
      "text/plain": [
       "array([-1.,  2.])"
      ]
     },
     "metadata": {},
     "execution_count": 9
    }
   ],
   "source": [
    "# import the packages\n",
    "import numpy as np\n",
    "from sklearn.linear_model import LinearRegression\n",
    "\n",
    "# create some dummy dependent and independent variable\n",
    "X = np.array([[1, 1], [1, 2], [2, 2], [2, 3]])\n",
    "y = - 1 * X[:,0] + 2 * X[:,1]\n",
    "\n",
    "# estimate a linear regression and print out the coefficients\n",
    "reg = LinearRegression().fit(X, y)\n",
    "reg.coef_"
   ]
  },
  {
   "source": [
    "# Aufgabe 2.1 Grundbegriffe\n",
    "\n",
    "## 1.    Wie viele Merkmale besitzt der Datensatz?  \n",
    "## 2.    Wie groß ist die Stichprobengröße des Datensatzes?"
   ],
   "cell_type": "markdown",
   "metadata": {}
  },
  {
   "cell_type": "code",
   "execution_count": 32,
   "metadata": {},
   "outputs": [
    {
     "output_type": "execute_result",
     "data": {
      "text/plain": [
       "(423448, 15)"
      ]
     },
     "metadata": {},
     "execution_count": 32
    }
   ],
   "source": [
    "import pandas as pd \n",
    "df = pd.read_csv(\"../data/Library_Usage.csv\")\n",
    "df.shape"
   ]
  },
  {
   "source": [
    "## 3.    Wer oder was sind die Merkmalsträger?"
   ],
   "cell_type": "markdown",
   "metadata": {}
  },
  {
   "cell_type": "code",
   "execution_count": 33,
   "metadata": {},
   "outputs": [
    {
     "output_type": "execute_result",
     "data": {
      "text/plain": [
       "Index(['Patron Type Code', 'Patron Type Definition', 'Total Checkouts',\n",
       "       'Total Renewals', 'Age Range', 'Home Library Code',\n",
       "       'Home Library Definition', 'Circulation Active Month',\n",
       "       'Circulation Active Year', 'Notice Preference Code',\n",
       "       'Notice Preference Definition', 'Provided Email Address',\n",
       "       'Year Patron Registered', 'Outside of County', 'Supervisor District'],\n",
       "      dtype='object')"
      ]
     },
     "metadata": {},
     "execution_count": 33
    }
   ],
   "source": [
    "df.columns\n"
   ]
  },
  {
   "cell_type": "code",
   "execution_count": 34,
   "metadata": {},
   "outputs": [
    {
     "output_type": "execute_result",
     "data": {
      "text/plain": [
       "Patron Type Code                  int64\n",
       "Patron Type Definition           object\n",
       "Total Checkouts                   int64\n",
       "Total Renewals                    int64\n",
       "Age Range                        object\n",
       "Home Library Code                object\n",
       "Home Library Definition          object\n",
       "Circulation Active Month         object\n",
       "Circulation Active Year          object\n",
       "Notice Preference Code           object\n",
       "Notice Preference Definition     object\n",
       "Provided Email Address             bool\n",
       "Year Patron Registered            int64\n",
       "Outside of County                  bool\n",
       "Supervisor District             float64\n",
       "dtype: object"
      ]
     },
     "metadata": {},
     "execution_count": 34
    }
   ],
   "source": [
    "df.dtypes # Hier kriege ich die Spalten und Informationen zum Content"
   ]
  },
  {
   "cell_type": "code",
   "execution_count": 49,
   "metadata": {},
   "outputs": [
    {
     "output_type": "execute_result",
     "data": {
      "text/plain": [
       "423448"
      ]
     },
     "metadata": {},
     "execution_count": 49
    }
   ],
   "source": [
    "len(df)"
   ]
  },
  {
   "source": [
    "## 4.    Von wann bis wann wurden die Daten erhoben?"
   ],
   "cell_type": "markdown",
   "metadata": {}
  },
  {
   "cell_type": "code",
   "execution_count": 37,
   "metadata": {},
   "outputs": [
    {
     "output_type": "execute_result",
     "data": {
      "text/plain": [
       "array(['None', '2016', '2014', '2015', '2012', '2013', '2011', '2009',\n",
       "       '2010', '2007', '2006', '2008', '2005', '2004', '2003'],\n",
       "      dtype=object)"
      ]
     },
     "metadata": {},
     "execution_count": 37
    }
   ],
   "source": [
    "df['Circulation Active Year'].unique()"
   ]
  },
  {
   "cell_type": "code",
   "execution_count": 46,
   "metadata": {},
   "outputs": [
    {
     "output_type": "execute_result",
     "data": {
      "text/plain": [
       "                                                    Circulation Active Year\n",
       "Circulation Active Month                                                   \n",
       "April                     2016201620162016201620162016201620162016201620...\n",
       "February                  2016201620162016201620162016201620162016201620...\n",
       "January                   2016201620162016201620162016201620162016201620...\n",
       "July                      2016201620162016201620162016201620162016201620...\n",
       "June                      2016201620162016201620162016201620162016201620...\n",
       "March                     2016201620162016201620162016201620162016201620...\n",
       "May                       2016201620162016201620162016201620162016201620..."
      ],
      "text/html": "<div>\n<style scoped>\n    .dataframe tbody tr th:only-of-type {\n        vertical-align: middle;\n    }\n\n    .dataframe tbody tr th {\n        vertical-align: top;\n    }\n\n    .dataframe thead th {\n        text-align: right;\n    }\n</style>\n<table border=\"1\" class=\"dataframe\">\n  <thead>\n    <tr style=\"text-align: right;\">\n      <th></th>\n      <th>Circulation Active Year</th>\n    </tr>\n    <tr>\n      <th>Circulation Active Month</th>\n      <th></th>\n    </tr>\n  </thead>\n  <tbody>\n    <tr>\n      <th>April</th>\n      <td>2016201620162016201620162016201620162016201620...</td>\n    </tr>\n    <tr>\n      <th>February</th>\n      <td>2016201620162016201620162016201620162016201620...</td>\n    </tr>\n    <tr>\n      <th>January</th>\n      <td>2016201620162016201620162016201620162016201620...</td>\n    </tr>\n    <tr>\n      <th>July</th>\n      <td>2016201620162016201620162016201620162016201620...</td>\n    </tr>\n    <tr>\n      <th>June</th>\n      <td>2016201620162016201620162016201620162016201620...</td>\n    </tr>\n    <tr>\n      <th>March</th>\n      <td>2016201620162016201620162016201620162016201620...</td>\n    </tr>\n    <tr>\n      <th>May</th>\n      <td>2016201620162016201620162016201620162016201620...</td>\n    </tr>\n  </tbody>\n</table>\n</div>"
     },
     "metadata": {},
     "execution_count": 46
    }
   ],
   "source": [
    "df[df['Circulation Active Year'] == \"2016\"][[\"Circulation Active Month\", \"Circulation Active Year\"]].groupby(\"Circulation Active Month\").sum()\n",
    "\n",
    "#Neueste Daten vom Juli 2016"
   ]
  },
  {
   "cell_type": "code",
   "execution_count": 47,
   "metadata": {},
   "outputs": [
    {
     "output_type": "execute_result",
     "data": {
      "text/plain": [
       "                           Circulation Active Year\n",
       "Circulation Active Month                          \n",
       "December                  200320032003200320032003"
      ],
      "text/html": "<div>\n<style scoped>\n    .dataframe tbody tr th:only-of-type {\n        vertical-align: middle;\n    }\n\n    .dataframe tbody tr th {\n        vertical-align: top;\n    }\n\n    .dataframe thead th {\n        text-align: right;\n    }\n</style>\n<table border=\"1\" class=\"dataframe\">\n  <thead>\n    <tr style=\"text-align: right;\">\n      <th></th>\n      <th>Circulation Active Year</th>\n    </tr>\n    <tr>\n      <th>Circulation Active Month</th>\n      <th></th>\n    </tr>\n  </thead>\n  <tbody>\n    <tr>\n      <th>December</th>\n      <td>200320032003200320032003</td>\n    </tr>\n  </tbody>\n</table>\n</div>"
     },
     "metadata": {},
     "execution_count": 47
    }
   ],
   "source": [
    "df[df['Circulation Active Year'] == \"2003\"][[\"Circulation Active Month\", \"Circulation Active Year\"]].groupby(\"Circulation Active Month\").sum()\n",
    "\n",
    "# 2003 nur Daten vom Dezember"
   ]
  },
  {
   "source": [
    "## 5.    Wie lässt sich die Grundgesamtheit beschreiben? Handelt es sich um eine Vollerhebung?\n",
    "\n",
    "Grundgesamtheit sind alle Ausleiher der SFL, da es durch das BIbliothekssystem erstellte Zahlen sind, kann ich vermuten, dass es eine Vollerhebung ist.  \n",
    "\n",
    "## 6.    Welche Merkmale sind stetig? Welche diskret?\n",
    "\n",
    "Stetig sind nur:\n",
    " Total Checkouts                   int64\n",
    " Total Renewals                    int64\n",
    "\n",
    "\n",
    "## 7.    Welchem Skalenniveau entsprechen die einzelnen Merkmale (Nominal-, Ordinal- oder Metrische Skala)?\n",
    "\n",
    "Metrisch:  \n",
    " Total Checkouts                   int64\n",
    " Total Renewals                    int64\n",
    " Circulation Active Year          object\n",
    " Year Patron Registered            int64\n",
    "\n",
    "Ordinal:  \n",
    " Age Range                        object\n",
    "\n",
    "Nominal:  \n",
    " der Rest ...\n",
    "\n",
    " ## 8.    Enthält der Datensatz fehlende Werte?"
   ],
   "cell_type": "markdown",
   "metadata": {}
  },
  {
   "cell_type": "code",
   "execution_count": 51,
   "metadata": {},
   "outputs": [
    {
     "output_type": "execute_result",
     "data": {
      "text/plain": [
       "Patron Type Code                     0\n",
       "Patron Type Definition               0\n",
       "Total Checkouts                      0\n",
       "Total Renewals                       0\n",
       "Age Range                          215\n",
       "Home Library Code                   40\n",
       "Home Library Definition              0\n",
       "Circulation Active Month             0\n",
       "Circulation Active Year              0\n",
       "Notice Preference Code               0\n",
       "Notice Preference Definition         0\n",
       "Provided Email Address               0\n",
       "Year Patron Registered               0\n",
       "Outside of County                    0\n",
       "Supervisor District             110310\n",
       "dtype: int64"
      ]
     },
     "metadata": {},
     "execution_count": 51
    }
   ],
   "source": [
    "df.isna().sum()"
   ]
  },
  {
   "source": [
    "## 9.    Handelt es sich um Querschnitts-, Längsschnitss- oder Paneldaten?\n",
    "\n",
    "Querschnitt"
   ],
   "cell_type": "markdown",
   "metadata": {}
  },
  {
   "source": [
    "# Aufgabe 2.2. Skalenniveau und Datentyp"
   ],
   "cell_type": "markdown",
   "metadata": {}
  },
  {
   "cell_type": "code",
   "execution_count": 27,
   "metadata": {},
   "outputs": [
    {
     "output_type": "stream",
     "name": "stdout",
     "text": [
      "  month  temp  below_zero\n0   Jan    -5        True\n1   Feb     2       False\n2   Mar     3       False\n"
     ]
    }
   ],
   "source": [
    "import pandas as pd\n",
    "data = {'month': ['Jan', 'Feb', 'Mar'],\n",
    "        'temp': [-5, 2, 3],\n",
    "         'below_zero': [True, False, False]}\n",
    "df = pd.DataFrame(data)\n",
    "print(df)"
   ]
  },
  {
   "source": [
    "## Welches Skalenniveau besitzen die Variablen im obigen Beispiel?\n",
    "\n",
    "Month = Nominal  \n",
    "Temp = Intervall  \n",
    "Below_zero = Nominal\n",
    "\n",
    "## Sind die Variablen stetig oder diskret?\n",
    "\n",
    "Month = diskret  \n",
    "Temp = stetig  \n",
    "Below_zero = diskret\n",
    "\n",
    "## Was ist der Datentyp jeder einzelnen Spalte?"
   ],
   "cell_type": "markdown",
   "metadata": {}
  },
  {
   "cell_type": "code",
   "execution_count": 14,
   "metadata": {},
   "outputs": [
    {
     "output_type": "execute_result",
     "data": {
      "text/plain": [
       "month         object\n",
       "temp           int64\n",
       "below_zero      bool\n",
       "dtype: object"
      ]
     },
     "metadata": {},
     "execution_count": 14
    }
   ],
   "source": [
    "df.dtypes"
   ]
  },
  {
   "source": [
    "## Erweitere das Python-Dictionary und\n",
    "\n",
    "- erstelle eine neue Zeile mit den Werten ('Apr', 5, False)\n",
    "- erstelle eine neue Spalte year mit den Werten (2020, 2020, 2020, 2020)"
   ],
   "cell_type": "markdown",
   "metadata": {}
  },
  {
   "cell_type": "code",
   "execution_count": 28,
   "metadata": {},
   "outputs": [
    {
     "output_type": "execute_result",
     "data": {
      "text/plain": [
       "  month  temp  below_zero\n",
       "0   Jan    -5        True\n",
       "1   Feb     2       False\n",
       "2   Mar     3       False\n",
       "3   Apr     5       False"
      ],
      "text/html": "<div>\n<style scoped>\n    .dataframe tbody tr th:only-of-type {\n        vertical-align: middle;\n    }\n\n    .dataframe tbody tr th {\n        vertical-align: top;\n    }\n\n    .dataframe thead th {\n        text-align: right;\n    }\n</style>\n<table border=\"1\" class=\"dataframe\">\n  <thead>\n    <tr style=\"text-align: right;\">\n      <th></th>\n      <th>month</th>\n      <th>temp</th>\n      <th>below_zero</th>\n    </tr>\n  </thead>\n  <tbody>\n    <tr>\n      <th>0</th>\n      <td>Jan</td>\n      <td>-5</td>\n      <td>True</td>\n    </tr>\n    <tr>\n      <th>1</th>\n      <td>Feb</td>\n      <td>2</td>\n      <td>False</td>\n    </tr>\n    <tr>\n      <th>2</th>\n      <td>Mar</td>\n      <td>3</td>\n      <td>False</td>\n    </tr>\n    <tr>\n      <th>3</th>\n      <td>Apr</td>\n      <td>5</td>\n      <td>False</td>\n    </tr>\n  </tbody>\n</table>\n</div>"
     },
     "metadata": {},
     "execution_count": 28
    }
   ],
   "source": [
    "add = ['Apr', 5, False]\n",
    "\n",
    "#append geht nicht, weil meine Daten keinen Index haben\n",
    "# df.append(data, ignore_index=True, sort=True)\n",
    "\n",
    "df.loc[len(df.index)]=add\n",
    "# Loc fügt bei Labels oder array an\n",
    "df"
   ]
  },
  {
   "cell_type": "code",
   "execution_count": 30,
   "metadata": {},
   "outputs": [
    {
     "output_type": "execute_result",
     "data": {
      "text/plain": [
       "  month  temp  below_zero  Year\n",
       "0   Jan    -5        True  2020\n",
       "1   Feb     2       False  2020\n",
       "2   Mar     3       False  2020\n",
       "3   Apr     5       False  2020"
      ],
      "text/html": "<div>\n<style scoped>\n    .dataframe tbody tr th:only-of-type {\n        vertical-align: middle;\n    }\n\n    .dataframe tbody tr th {\n        vertical-align: top;\n    }\n\n    .dataframe thead th {\n        text-align: right;\n    }\n</style>\n<table border=\"1\" class=\"dataframe\">\n  <thead>\n    <tr style=\"text-align: right;\">\n      <th></th>\n      <th>month</th>\n      <th>temp</th>\n      <th>below_zero</th>\n      <th>Year</th>\n    </tr>\n  </thead>\n  <tbody>\n    <tr>\n      <th>0</th>\n      <td>Jan</td>\n      <td>-5</td>\n      <td>True</td>\n      <td>2020</td>\n    </tr>\n    <tr>\n      <th>1</th>\n      <td>Feb</td>\n      <td>2</td>\n      <td>False</td>\n      <td>2020</td>\n    </tr>\n    <tr>\n      <th>2</th>\n      <td>Mar</td>\n      <td>3</td>\n      <td>False</td>\n      <td>2020</td>\n    </tr>\n    <tr>\n      <th>3</th>\n      <td>Apr</td>\n      <td>5</td>\n      <td>False</td>\n      <td>2020</td>\n    </tr>\n  </tbody>\n</table>\n</div>"
     },
     "metadata": {},
     "execution_count": 30
    }
   ],
   "source": [
    "year = [2020, 2020, 2020, 2020]\n",
    "\n",
    "df.assign(Year=year)  \n",
    "# neue Spalte anhängen, in Klammer Definition des Spaltentitels und Inhalt)"
   ]
  },
  {
   "source": [
    "## Back to Library Usage Data"
   ],
   "cell_type": "markdown",
   "metadata": {}
  },
  {
   "cell_type": "code",
   "execution_count": 43,
   "metadata": {},
   "outputs": [],
   "source": [
    "import pandas as pd\n",
    "df = pd.read_csv(\"../data/Library_Usage.csv\")\n"
   ]
  },
  {
   "source": [
    "# Exkurs: Datenrundreise "
   ],
   "cell_type": "markdown",
   "metadata": {}
  },
  {
   "cell_type": "code",
   "execution_count": 44,
   "metadata": {},
   "outputs": [],
   "source": [
    "import pandas as pd\n",
    "df_small = pd.read_csv(\"../data/Library_Usage_Small.csv\")"
   ]
  },
  {
   "cell_type": "code",
   "execution_count": 46,
   "metadata": {},
   "outputs": [],
   "source": [
    "# schreibe es in Json-Datei\n",
    "df_small.to_json(\"../data/Library_Usage_Small.json\")\n"
   ]
  },
  {
   "cell_type": "code",
   "execution_count": 47,
   "metadata": {},
   "outputs": [
    {
     "output_type": "execute_result",
     "data": {
      "text/plain": [
       "    Patron Type Code Patron Type Definition  Total Checkouts  Total Renewals  \\\n",
       "0                  1               JUVENILE              518               8   \n",
       "1                  1               JUVENILE               38               0   \n",
       "2                  0                  ADULT               38               4   \n",
       "3                  0                  ADULT               48              48   \n",
       "4                  1               JUVENILE               28              13   \n",
       "5                  1               JUVENILE                1               0   \n",
       "6                  1               JUVENILE              293              11   \n",
       "7                  1               JUVENILE              900               6   \n",
       "8                  1               JUVENILE             1569             801   \n",
       "9                  1               JUVENILE               45               0   \n",
       "10                 1               JUVENILE                0               0   \n",
       "11                 1               JUVENILE               73               8   \n",
       "12                 1               JUVENILE               12               0   \n",
       "13                 2            YOUNG ADULT               26               3   \n",
       "14                 0                  ADULT                0               0   \n",
       "15                 3                 SENIOR               18               6   \n",
       "16                 1               JUVENILE              603               0   \n",
       "17                 1               JUVENILE                0               0   \n",
       "18                 1               JUVENILE                7               0   \n",
       "19                 3                 SENIOR                0               0   \n",
       "\n",
       "            Age Range Home Library Code      Home Library Definition  \\\n",
       "0      10 to 19 years                V3            Visitacion Valley   \n",
       "1        0 to 9 years                P1                         Park   \n",
       "2      10 to 19 years                N4       Noe Valley/Sally Brunn   \n",
       "3      20 to 24 years                O7                       Ortega   \n",
       "4        0 to 9 years                E9                    Excelsior   \n",
       "5      10 to 19 years                M4                       Merced   \n",
       "6        0 to 9 years                M6                      Mission   \n",
       "7        0 to 9 years                V3            Visitacion Valley   \n",
       "8      10 to 19 years                W4             Western Addition   \n",
       "9        0 to 9 years                A5                         Anza   \n",
       "10       0 to 9 years                S7                       Sunset   \n",
       "11       0 to 9 years                P3                     Parkside   \n",
       "12       0 to 9 years                 X                 Main Library   \n",
       "13     10 to 19 years                M4                       Merced   \n",
       "14     10 to 19 years                M4                       Merced   \n",
       "15  75 years and over                W2                  West Portal   \n",
       "16       0 to 9 years                 X                 Main Library   \n",
       "17       0 to 9 years                A5                         Anza   \n",
       "18       0 to 9 years                B2  Bayview/Linda Brooks-Burton   \n",
       "19  75 years and over                S7                       Sunset   \n",
       "\n",
       "   Circulation Active Month Circulation Active Year Notice Preference Code  \\\n",
       "0                      July                    2016                      p   \n",
       "1                      June                    2016                      z   \n",
       "2                  November                    2008                      z   \n",
       "3                  February                    2013                      p   \n",
       "4                      June                    2016                      z   \n",
       "5                       May                    2016                      z   \n",
       "6                      June                    2016                      z   \n",
       "7                      June                    2016                      a   \n",
       "8                      July                    2016                      z   \n",
       "9                      June                    2016                      z   \n",
       "10                     None                    None                      p   \n",
       "11                     July                    2016                      z   \n",
       "12                  October                    2015                      z   \n",
       "13                 November                    2015                      z   \n",
       "14                     None                    None                      z   \n",
       "15                     June                    2015                      p   \n",
       "16                     July                    2016                      a   \n",
       "17                     None                    None                      z   \n",
       "18                 December                    2013                      p   \n",
       "19                     None                    None                      z   \n",
       "\n",
       "   Notice Preference Definition  Provided Email Address  \\\n",
       "0                         phone                   False   \n",
       "1                         email                    True   \n",
       "2                         email                    True   \n",
       "3                         phone                   False   \n",
       "4                         email                    True   \n",
       "5                         email                    True   \n",
       "6                         email                    True   \n",
       "7                         print                   False   \n",
       "8                         email                    True   \n",
       "9                         email                    True   \n",
       "10                        phone                   False   \n",
       "11                        email                    True   \n",
       "12                        email                    True   \n",
       "13                        email                    True   \n",
       "14                        email                    True   \n",
       "15                        phone                   False   \n",
       "16                        print                   False   \n",
       "17                        email                    True   \n",
       "18                        phone                   False   \n",
       "19                        email                    True   \n",
       "\n",
       "    Year Patron Registered  Outside of County  Supervisor District  \n",
       "0                     2010              False                 10.0  \n",
       "1                     2015              False                  4.0  \n",
       "2                     2003              False                  8.0  \n",
       "3                     2004              False                 10.0  \n",
       "4                     2014              False                 11.0  \n",
       "5                     2016              False                 11.0  \n",
       "6                     2014              False                  8.0  \n",
       "7                     2011              False                 10.0  \n",
       "8                     2009              False                  8.0  \n",
       "9                     2015              False                  1.0  \n",
       "10                    2015              False                  7.0  \n",
       "11                    2015              False                  4.0  \n",
       "12                    2015              False                  6.0  \n",
       "13                    2009              False                  NaN  \n",
       "14                    2015               True                  NaN  \n",
       "15                    2003              False                  7.0  \n",
       "16                    2012              False                 11.0  \n",
       "17                    2015              False                  1.0  \n",
       "18                    2013              False                 10.0  \n",
       "19                    2008               True                  NaN  "
      ],
      "text/html": "<div>\n<style scoped>\n    .dataframe tbody tr th:only-of-type {\n        vertical-align: middle;\n    }\n\n    .dataframe tbody tr th {\n        vertical-align: top;\n    }\n\n    .dataframe thead th {\n        text-align: right;\n    }\n</style>\n<table border=\"1\" class=\"dataframe\">\n  <thead>\n    <tr style=\"text-align: right;\">\n      <th></th>\n      <th>Patron Type Code</th>\n      <th>Patron Type Definition</th>\n      <th>Total Checkouts</th>\n      <th>Total Renewals</th>\n      <th>Age Range</th>\n      <th>Home Library Code</th>\n      <th>Home Library Definition</th>\n      <th>Circulation Active Month</th>\n      <th>Circulation Active Year</th>\n      <th>Notice Preference Code</th>\n      <th>Notice Preference Definition</th>\n      <th>Provided Email Address</th>\n      <th>Year Patron Registered</th>\n      <th>Outside of County</th>\n      <th>Supervisor District</th>\n    </tr>\n  </thead>\n  <tbody>\n    <tr>\n      <th>0</th>\n      <td>1</td>\n      <td>JUVENILE</td>\n      <td>518</td>\n      <td>8</td>\n      <td>10 to 19 years</td>\n      <td>V3</td>\n      <td>Visitacion Valley</td>\n      <td>July</td>\n      <td>2016</td>\n      <td>p</td>\n      <td>phone</td>\n      <td>False</td>\n      <td>2010</td>\n      <td>False</td>\n      <td>10.0</td>\n    </tr>\n    <tr>\n      <th>1</th>\n      <td>1</td>\n      <td>JUVENILE</td>\n      <td>38</td>\n      <td>0</td>\n      <td>0 to 9 years</td>\n      <td>P1</td>\n      <td>Park</td>\n      <td>June</td>\n      <td>2016</td>\n      <td>z</td>\n      <td>email</td>\n      <td>True</td>\n      <td>2015</td>\n      <td>False</td>\n      <td>4.0</td>\n    </tr>\n    <tr>\n      <th>2</th>\n      <td>0</td>\n      <td>ADULT</td>\n      <td>38</td>\n      <td>4</td>\n      <td>10 to 19 years</td>\n      <td>N4</td>\n      <td>Noe Valley/Sally Brunn</td>\n      <td>November</td>\n      <td>2008</td>\n      <td>z</td>\n      <td>email</td>\n      <td>True</td>\n      <td>2003</td>\n      <td>False</td>\n      <td>8.0</td>\n    </tr>\n    <tr>\n      <th>3</th>\n      <td>0</td>\n      <td>ADULT</td>\n      <td>48</td>\n      <td>48</td>\n      <td>20 to 24 years</td>\n      <td>O7</td>\n      <td>Ortega</td>\n      <td>February</td>\n      <td>2013</td>\n      <td>p</td>\n      <td>phone</td>\n      <td>False</td>\n      <td>2004</td>\n      <td>False</td>\n      <td>10.0</td>\n    </tr>\n    <tr>\n      <th>4</th>\n      <td>1</td>\n      <td>JUVENILE</td>\n      <td>28</td>\n      <td>13</td>\n      <td>0 to 9 years</td>\n      <td>E9</td>\n      <td>Excelsior</td>\n      <td>June</td>\n      <td>2016</td>\n      <td>z</td>\n      <td>email</td>\n      <td>True</td>\n      <td>2014</td>\n      <td>False</td>\n      <td>11.0</td>\n    </tr>\n    <tr>\n      <th>5</th>\n      <td>1</td>\n      <td>JUVENILE</td>\n      <td>1</td>\n      <td>0</td>\n      <td>10 to 19 years</td>\n      <td>M4</td>\n      <td>Merced</td>\n      <td>May</td>\n      <td>2016</td>\n      <td>z</td>\n      <td>email</td>\n      <td>True</td>\n      <td>2016</td>\n      <td>False</td>\n      <td>11.0</td>\n    </tr>\n    <tr>\n      <th>6</th>\n      <td>1</td>\n      <td>JUVENILE</td>\n      <td>293</td>\n      <td>11</td>\n      <td>0 to 9 years</td>\n      <td>M6</td>\n      <td>Mission</td>\n      <td>June</td>\n      <td>2016</td>\n      <td>z</td>\n      <td>email</td>\n      <td>True</td>\n      <td>2014</td>\n      <td>False</td>\n      <td>8.0</td>\n    </tr>\n    <tr>\n      <th>7</th>\n      <td>1</td>\n      <td>JUVENILE</td>\n      <td>900</td>\n      <td>6</td>\n      <td>0 to 9 years</td>\n      <td>V3</td>\n      <td>Visitacion Valley</td>\n      <td>June</td>\n      <td>2016</td>\n      <td>a</td>\n      <td>print</td>\n      <td>False</td>\n      <td>2011</td>\n      <td>False</td>\n      <td>10.0</td>\n    </tr>\n    <tr>\n      <th>8</th>\n      <td>1</td>\n      <td>JUVENILE</td>\n      <td>1569</td>\n      <td>801</td>\n      <td>10 to 19 years</td>\n      <td>W4</td>\n      <td>Western Addition</td>\n      <td>July</td>\n      <td>2016</td>\n      <td>z</td>\n      <td>email</td>\n      <td>True</td>\n      <td>2009</td>\n      <td>False</td>\n      <td>8.0</td>\n    </tr>\n    <tr>\n      <th>9</th>\n      <td>1</td>\n      <td>JUVENILE</td>\n      <td>45</td>\n      <td>0</td>\n      <td>0 to 9 years</td>\n      <td>A5</td>\n      <td>Anza</td>\n      <td>June</td>\n      <td>2016</td>\n      <td>z</td>\n      <td>email</td>\n      <td>True</td>\n      <td>2015</td>\n      <td>False</td>\n      <td>1.0</td>\n    </tr>\n    <tr>\n      <th>10</th>\n      <td>1</td>\n      <td>JUVENILE</td>\n      <td>0</td>\n      <td>0</td>\n      <td>0 to 9 years</td>\n      <td>S7</td>\n      <td>Sunset</td>\n      <td>None</td>\n      <td>None</td>\n      <td>p</td>\n      <td>phone</td>\n      <td>False</td>\n      <td>2015</td>\n      <td>False</td>\n      <td>7.0</td>\n    </tr>\n    <tr>\n      <th>11</th>\n      <td>1</td>\n      <td>JUVENILE</td>\n      <td>73</td>\n      <td>8</td>\n      <td>0 to 9 years</td>\n      <td>P3</td>\n      <td>Parkside</td>\n      <td>July</td>\n      <td>2016</td>\n      <td>z</td>\n      <td>email</td>\n      <td>True</td>\n      <td>2015</td>\n      <td>False</td>\n      <td>4.0</td>\n    </tr>\n    <tr>\n      <th>12</th>\n      <td>1</td>\n      <td>JUVENILE</td>\n      <td>12</td>\n      <td>0</td>\n      <td>0 to 9 years</td>\n      <td>X</td>\n      <td>Main Library</td>\n      <td>October</td>\n      <td>2015</td>\n      <td>z</td>\n      <td>email</td>\n      <td>True</td>\n      <td>2015</td>\n      <td>False</td>\n      <td>6.0</td>\n    </tr>\n    <tr>\n      <th>13</th>\n      <td>2</td>\n      <td>YOUNG ADULT</td>\n      <td>26</td>\n      <td>3</td>\n      <td>10 to 19 years</td>\n      <td>M4</td>\n      <td>Merced</td>\n      <td>November</td>\n      <td>2015</td>\n      <td>z</td>\n      <td>email</td>\n      <td>True</td>\n      <td>2009</td>\n      <td>False</td>\n      <td>NaN</td>\n    </tr>\n    <tr>\n      <th>14</th>\n      <td>0</td>\n      <td>ADULT</td>\n      <td>0</td>\n      <td>0</td>\n      <td>10 to 19 years</td>\n      <td>M4</td>\n      <td>Merced</td>\n      <td>None</td>\n      <td>None</td>\n      <td>z</td>\n      <td>email</td>\n      <td>True</td>\n      <td>2015</td>\n      <td>True</td>\n      <td>NaN</td>\n    </tr>\n    <tr>\n      <th>15</th>\n      <td>3</td>\n      <td>SENIOR</td>\n      <td>18</td>\n      <td>6</td>\n      <td>75 years and over</td>\n      <td>W2</td>\n      <td>West Portal</td>\n      <td>June</td>\n      <td>2015</td>\n      <td>p</td>\n      <td>phone</td>\n      <td>False</td>\n      <td>2003</td>\n      <td>False</td>\n      <td>7.0</td>\n    </tr>\n    <tr>\n      <th>16</th>\n      <td>1</td>\n      <td>JUVENILE</td>\n      <td>603</td>\n      <td>0</td>\n      <td>0 to 9 years</td>\n      <td>X</td>\n      <td>Main Library</td>\n      <td>July</td>\n      <td>2016</td>\n      <td>a</td>\n      <td>print</td>\n      <td>False</td>\n      <td>2012</td>\n      <td>False</td>\n      <td>11.0</td>\n    </tr>\n    <tr>\n      <th>17</th>\n      <td>1</td>\n      <td>JUVENILE</td>\n      <td>0</td>\n      <td>0</td>\n      <td>0 to 9 years</td>\n      <td>A5</td>\n      <td>Anza</td>\n      <td>None</td>\n      <td>None</td>\n      <td>z</td>\n      <td>email</td>\n      <td>True</td>\n      <td>2015</td>\n      <td>False</td>\n      <td>1.0</td>\n    </tr>\n    <tr>\n      <th>18</th>\n      <td>1</td>\n      <td>JUVENILE</td>\n      <td>7</td>\n      <td>0</td>\n      <td>0 to 9 years</td>\n      <td>B2</td>\n      <td>Bayview/Linda Brooks-Burton</td>\n      <td>December</td>\n      <td>2013</td>\n      <td>p</td>\n      <td>phone</td>\n      <td>False</td>\n      <td>2013</td>\n      <td>False</td>\n      <td>10.0</td>\n    </tr>\n    <tr>\n      <th>19</th>\n      <td>3</td>\n      <td>SENIOR</td>\n      <td>0</td>\n      <td>0</td>\n      <td>75 years and over</td>\n      <td>S7</td>\n      <td>Sunset</td>\n      <td>None</td>\n      <td>None</td>\n      <td>z</td>\n      <td>email</td>\n      <td>True</td>\n      <td>2008</td>\n      <td>True</td>\n      <td>NaN</td>\n    </tr>\n  </tbody>\n</table>\n</div>"
     },
     "metadata": {},
     "execution_count": 47
    }
   ],
   "source": [
    "df_small = pd.read_json(\"../data/Library_Usage_Small.json\")\n",
    "df_small"
   ]
  },
  {
   "source": [
    "df_small.to_html(\"../data/Library_Usage_Small.html\")"
   ],
   "cell_type": "code",
   "metadata": {},
   "execution_count": 48,
   "outputs": []
  },
  {
   "cell_type": "code",
   "execution_count": 49,
   "metadata": {},
   "outputs": [],
   "source": [
    "dt_small = pd.read_html(\"../data/Library_Usage_Small.html\")"
   ]
  },
  {
   "cell_type": "code",
   "execution_count": 50,
   "metadata": {},
   "outputs": [
    {
     "output_type": "execute_result",
     "data": {
      "text/plain": [
       "    Patron Type Code Patron Type Definition  Total Checkouts  Total Renewals  \\\n",
       "0                  1               JUVENILE              518               8   \n",
       "1                  1               JUVENILE               38               0   \n",
       "2                  0                  ADULT               38               4   \n",
       "3                  0                  ADULT               48              48   \n",
       "4                  1               JUVENILE               28              13   \n",
       "5                  1               JUVENILE                1               0   \n",
       "6                  1               JUVENILE              293              11   \n",
       "7                  1               JUVENILE              900               6   \n",
       "8                  1               JUVENILE             1569             801   \n",
       "9                  1               JUVENILE               45               0   \n",
       "10                 1               JUVENILE                0               0   \n",
       "11                 1               JUVENILE               73               8   \n",
       "12                 1               JUVENILE               12               0   \n",
       "13                 2            YOUNG ADULT               26               3   \n",
       "14                 0                  ADULT                0               0   \n",
       "15                 3                 SENIOR               18               6   \n",
       "16                 1               JUVENILE              603               0   \n",
       "17                 1               JUVENILE                0               0   \n",
       "18                 1               JUVENILE                7               0   \n",
       "19                 3                 SENIOR                0               0   \n",
       "\n",
       "            Age Range Home Library Code      Home Library Definition  \\\n",
       "0      10 to 19 years                V3            Visitacion Valley   \n",
       "1        0 to 9 years                P1                         Park   \n",
       "2      10 to 19 years                N4       Noe Valley/Sally Brunn   \n",
       "3      20 to 24 years                O7                       Ortega   \n",
       "4        0 to 9 years                E9                    Excelsior   \n",
       "5      10 to 19 years                M4                       Merced   \n",
       "6        0 to 9 years                M6                      Mission   \n",
       "7        0 to 9 years                V3            Visitacion Valley   \n",
       "8      10 to 19 years                W4             Western Addition   \n",
       "9        0 to 9 years                A5                         Anza   \n",
       "10       0 to 9 years                S7                       Sunset   \n",
       "11       0 to 9 years                P3                     Parkside   \n",
       "12       0 to 9 years                 X                 Main Library   \n",
       "13     10 to 19 years                M4                       Merced   \n",
       "14     10 to 19 years                M4                       Merced   \n",
       "15  75 years and over                W2                  West Portal   \n",
       "16       0 to 9 years                 X                 Main Library   \n",
       "17       0 to 9 years                A5                         Anza   \n",
       "18       0 to 9 years                B2  Bayview/Linda Brooks-Burton   \n",
       "19  75 years and over                S7                       Sunset   \n",
       "\n",
       "   Circulation Active Month Circulation Active Year Notice Preference Code  \\\n",
       "0                      July                    2016                      p   \n",
       "1                      June                    2016                      z   \n",
       "2                  November                    2008                      z   \n",
       "3                  February                    2013                      p   \n",
       "4                      June                    2016                      z   \n",
       "5                       May                    2016                      z   \n",
       "6                      June                    2016                      z   \n",
       "7                      June                    2016                      a   \n",
       "8                      July                    2016                      z   \n",
       "9                      June                    2016                      z   \n",
       "10                     None                    None                      p   \n",
       "11                     July                    2016                      z   \n",
       "12                  October                    2015                      z   \n",
       "13                 November                    2015                      z   \n",
       "14                     None                    None                      z   \n",
       "15                     June                    2015                      p   \n",
       "16                     July                    2016                      a   \n",
       "17                     None                    None                      z   \n",
       "18                 December                    2013                      p   \n",
       "19                     None                    None                      z   \n",
       "\n",
       "   Notice Preference Definition  Provided Email Address  \\\n",
       "0                         phone                   False   \n",
       "1                         email                    True   \n",
       "2                         email                    True   \n",
       "3                         phone                   False   \n",
       "4                         email                    True   \n",
       "5                         email                    True   \n",
       "6                         email                    True   \n",
       "7                         print                   False   \n",
       "8                         email                    True   \n",
       "9                         email                    True   \n",
       "10                        phone                   False   \n",
       "11                        email                    True   \n",
       "12                        email                    True   \n",
       "13                        email                    True   \n",
       "14                        email                    True   \n",
       "15                        phone                   False   \n",
       "16                        print                   False   \n",
       "17                        email                    True   \n",
       "18                        phone                   False   \n",
       "19                        email                    True   \n",
       "\n",
       "    Year Patron Registered  Outside of County  Supervisor District  \n",
       "0                     2010              False                 10.0  \n",
       "1                     2015              False                  4.0  \n",
       "2                     2003              False                  8.0  \n",
       "3                     2004              False                 10.0  \n",
       "4                     2014              False                 11.0  \n",
       "5                     2016              False                 11.0  \n",
       "6                     2014              False                  8.0  \n",
       "7                     2011              False                 10.0  \n",
       "8                     2009              False                  8.0  \n",
       "9                     2015              False                  1.0  \n",
       "10                    2015              False                  7.0  \n",
       "11                    2015              False                  4.0  \n",
       "12                    2015              False                  6.0  \n",
       "13                    2009              False                  NaN  \n",
       "14                    2015               True                  NaN  \n",
       "15                    2003              False                  7.0  \n",
       "16                    2012              False                 11.0  \n",
       "17                    2015              False                  1.0  \n",
       "18                    2013              False                 10.0  \n",
       "19                    2008               True                  NaN  "
      ],
      "text/html": "<div>\n<style scoped>\n    .dataframe tbody tr th:only-of-type {\n        vertical-align: middle;\n    }\n\n    .dataframe tbody tr th {\n        vertical-align: top;\n    }\n\n    .dataframe thead th {\n        text-align: right;\n    }\n</style>\n<table border=\"1\" class=\"dataframe\">\n  <thead>\n    <tr style=\"text-align: right;\">\n      <th></th>\n      <th>Patron Type Code</th>\n      <th>Patron Type Definition</th>\n      <th>Total Checkouts</th>\n      <th>Total Renewals</th>\n      <th>Age Range</th>\n      <th>Home Library Code</th>\n      <th>Home Library Definition</th>\n      <th>Circulation Active Month</th>\n      <th>Circulation Active Year</th>\n      <th>Notice Preference Code</th>\n      <th>Notice Preference Definition</th>\n      <th>Provided Email Address</th>\n      <th>Year Patron Registered</th>\n      <th>Outside of County</th>\n      <th>Supervisor District</th>\n    </tr>\n  </thead>\n  <tbody>\n    <tr>\n      <th>0</th>\n      <td>1</td>\n      <td>JUVENILE</td>\n      <td>518</td>\n      <td>8</td>\n      <td>10 to 19 years</td>\n      <td>V3</td>\n      <td>Visitacion Valley</td>\n      <td>July</td>\n      <td>2016</td>\n      <td>p</td>\n      <td>phone</td>\n      <td>False</td>\n      <td>2010</td>\n      <td>False</td>\n      <td>10.0</td>\n    </tr>\n    <tr>\n      <th>1</th>\n      <td>1</td>\n      <td>JUVENILE</td>\n      <td>38</td>\n      <td>0</td>\n      <td>0 to 9 years</td>\n      <td>P1</td>\n      <td>Park</td>\n      <td>June</td>\n      <td>2016</td>\n      <td>z</td>\n      <td>email</td>\n      <td>True</td>\n      <td>2015</td>\n      <td>False</td>\n      <td>4.0</td>\n    </tr>\n    <tr>\n      <th>2</th>\n      <td>0</td>\n      <td>ADULT</td>\n      <td>38</td>\n      <td>4</td>\n      <td>10 to 19 years</td>\n      <td>N4</td>\n      <td>Noe Valley/Sally Brunn</td>\n      <td>November</td>\n      <td>2008</td>\n      <td>z</td>\n      <td>email</td>\n      <td>True</td>\n      <td>2003</td>\n      <td>False</td>\n      <td>8.0</td>\n    </tr>\n    <tr>\n      <th>3</th>\n      <td>0</td>\n      <td>ADULT</td>\n      <td>48</td>\n      <td>48</td>\n      <td>20 to 24 years</td>\n      <td>O7</td>\n      <td>Ortega</td>\n      <td>February</td>\n      <td>2013</td>\n      <td>p</td>\n      <td>phone</td>\n      <td>False</td>\n      <td>2004</td>\n      <td>False</td>\n      <td>10.0</td>\n    </tr>\n    <tr>\n      <th>4</th>\n      <td>1</td>\n      <td>JUVENILE</td>\n      <td>28</td>\n      <td>13</td>\n      <td>0 to 9 years</td>\n      <td>E9</td>\n      <td>Excelsior</td>\n      <td>June</td>\n      <td>2016</td>\n      <td>z</td>\n      <td>email</td>\n      <td>True</td>\n      <td>2014</td>\n      <td>False</td>\n      <td>11.0</td>\n    </tr>\n    <tr>\n      <th>5</th>\n      <td>1</td>\n      <td>JUVENILE</td>\n      <td>1</td>\n      <td>0</td>\n      <td>10 to 19 years</td>\n      <td>M4</td>\n      <td>Merced</td>\n      <td>May</td>\n      <td>2016</td>\n      <td>z</td>\n      <td>email</td>\n      <td>True</td>\n      <td>2016</td>\n      <td>False</td>\n      <td>11.0</td>\n    </tr>\n    <tr>\n      <th>6</th>\n      <td>1</td>\n      <td>JUVENILE</td>\n      <td>293</td>\n      <td>11</td>\n      <td>0 to 9 years</td>\n      <td>M6</td>\n      <td>Mission</td>\n      <td>June</td>\n      <td>2016</td>\n      <td>z</td>\n      <td>email</td>\n      <td>True</td>\n      <td>2014</td>\n      <td>False</td>\n      <td>8.0</td>\n    </tr>\n    <tr>\n      <th>7</th>\n      <td>1</td>\n      <td>JUVENILE</td>\n      <td>900</td>\n      <td>6</td>\n      <td>0 to 9 years</td>\n      <td>V3</td>\n      <td>Visitacion Valley</td>\n      <td>June</td>\n      <td>2016</td>\n      <td>a</td>\n      <td>print</td>\n      <td>False</td>\n      <td>2011</td>\n      <td>False</td>\n      <td>10.0</td>\n    </tr>\n    <tr>\n      <th>8</th>\n      <td>1</td>\n      <td>JUVENILE</td>\n      <td>1569</td>\n      <td>801</td>\n      <td>10 to 19 years</td>\n      <td>W4</td>\n      <td>Western Addition</td>\n      <td>July</td>\n      <td>2016</td>\n      <td>z</td>\n      <td>email</td>\n      <td>True</td>\n      <td>2009</td>\n      <td>False</td>\n      <td>8.0</td>\n    </tr>\n    <tr>\n      <th>9</th>\n      <td>1</td>\n      <td>JUVENILE</td>\n      <td>45</td>\n      <td>0</td>\n      <td>0 to 9 years</td>\n      <td>A5</td>\n      <td>Anza</td>\n      <td>June</td>\n      <td>2016</td>\n      <td>z</td>\n      <td>email</td>\n      <td>True</td>\n      <td>2015</td>\n      <td>False</td>\n      <td>1.0</td>\n    </tr>\n    <tr>\n      <th>10</th>\n      <td>1</td>\n      <td>JUVENILE</td>\n      <td>0</td>\n      <td>0</td>\n      <td>0 to 9 years</td>\n      <td>S7</td>\n      <td>Sunset</td>\n      <td>None</td>\n      <td>None</td>\n      <td>p</td>\n      <td>phone</td>\n      <td>False</td>\n      <td>2015</td>\n      <td>False</td>\n      <td>7.0</td>\n    </tr>\n    <tr>\n      <th>11</th>\n      <td>1</td>\n      <td>JUVENILE</td>\n      <td>73</td>\n      <td>8</td>\n      <td>0 to 9 years</td>\n      <td>P3</td>\n      <td>Parkside</td>\n      <td>July</td>\n      <td>2016</td>\n      <td>z</td>\n      <td>email</td>\n      <td>True</td>\n      <td>2015</td>\n      <td>False</td>\n      <td>4.0</td>\n    </tr>\n    <tr>\n      <th>12</th>\n      <td>1</td>\n      <td>JUVENILE</td>\n      <td>12</td>\n      <td>0</td>\n      <td>0 to 9 years</td>\n      <td>X</td>\n      <td>Main Library</td>\n      <td>October</td>\n      <td>2015</td>\n      <td>z</td>\n      <td>email</td>\n      <td>True</td>\n      <td>2015</td>\n      <td>False</td>\n      <td>6.0</td>\n    </tr>\n    <tr>\n      <th>13</th>\n      <td>2</td>\n      <td>YOUNG ADULT</td>\n      <td>26</td>\n      <td>3</td>\n      <td>10 to 19 years</td>\n      <td>M4</td>\n      <td>Merced</td>\n      <td>November</td>\n      <td>2015</td>\n      <td>z</td>\n      <td>email</td>\n      <td>True</td>\n      <td>2009</td>\n      <td>False</td>\n      <td>NaN</td>\n    </tr>\n    <tr>\n      <th>14</th>\n      <td>0</td>\n      <td>ADULT</td>\n      <td>0</td>\n      <td>0</td>\n      <td>10 to 19 years</td>\n      <td>M4</td>\n      <td>Merced</td>\n      <td>None</td>\n      <td>None</td>\n      <td>z</td>\n      <td>email</td>\n      <td>True</td>\n      <td>2015</td>\n      <td>True</td>\n      <td>NaN</td>\n    </tr>\n    <tr>\n      <th>15</th>\n      <td>3</td>\n      <td>SENIOR</td>\n      <td>18</td>\n      <td>6</td>\n      <td>75 years and over</td>\n      <td>W2</td>\n      <td>West Portal</td>\n      <td>June</td>\n      <td>2015</td>\n      <td>p</td>\n      <td>phone</td>\n      <td>False</td>\n      <td>2003</td>\n      <td>False</td>\n      <td>7.0</td>\n    </tr>\n    <tr>\n      <th>16</th>\n      <td>1</td>\n      <td>JUVENILE</td>\n      <td>603</td>\n      <td>0</td>\n      <td>0 to 9 years</td>\n      <td>X</td>\n      <td>Main Library</td>\n      <td>July</td>\n      <td>2016</td>\n      <td>a</td>\n      <td>print</td>\n      <td>False</td>\n      <td>2012</td>\n      <td>False</td>\n      <td>11.0</td>\n    </tr>\n    <tr>\n      <th>17</th>\n      <td>1</td>\n      <td>JUVENILE</td>\n      <td>0</td>\n      <td>0</td>\n      <td>0 to 9 years</td>\n      <td>A5</td>\n      <td>Anza</td>\n      <td>None</td>\n      <td>None</td>\n      <td>z</td>\n      <td>email</td>\n      <td>True</td>\n      <td>2015</td>\n      <td>False</td>\n      <td>1.0</td>\n    </tr>\n    <tr>\n      <th>18</th>\n      <td>1</td>\n      <td>JUVENILE</td>\n      <td>7</td>\n      <td>0</td>\n      <td>0 to 9 years</td>\n      <td>B2</td>\n      <td>Bayview/Linda Brooks-Burton</td>\n      <td>December</td>\n      <td>2013</td>\n      <td>p</td>\n      <td>phone</td>\n      <td>False</td>\n      <td>2013</td>\n      <td>False</td>\n      <td>10.0</td>\n    </tr>\n    <tr>\n      <th>19</th>\n      <td>3</td>\n      <td>SENIOR</td>\n      <td>0</td>\n      <td>0</td>\n      <td>75 years and over</td>\n      <td>S7</td>\n      <td>Sunset</td>\n      <td>None</td>\n      <td>None</td>\n      <td>z</td>\n      <td>email</td>\n      <td>True</td>\n      <td>2008</td>\n      <td>True</td>\n      <td>NaN</td>\n    </tr>\n  </tbody>\n</table>\n</div>"
     },
     "metadata": {},
     "execution_count": 50
    }
   ],
   "source": [
    "df_small"
   ]
  },
  {
   "cell_type": "code",
   "execution_count": 56,
   "metadata": {},
   "outputs": [],
   "source": [
    "writer = ('../data/Library_Usage_Small.xlsx')\n",
    "\n",
    "df_small.to_excel(writer, index = False)\n",
    "# okay, das war beim ersten Durchlauf komplett anders ... "
   ]
  },
  {
   "cell_type": "code",
   "execution_count": 58,
   "metadata": {},
   "outputs": [
    {
     "output_type": "execute_result",
     "data": {
      "text/plain": [
       "    Patron Type Code Patron Type Definition  Total Checkouts  Total Renewals  \\\n",
       "0                  1               JUVENILE              518               8   \n",
       "1                  1               JUVENILE               38               0   \n",
       "2                  0                  ADULT               38               4   \n",
       "3                  0                  ADULT               48              48   \n",
       "4                  1               JUVENILE               28              13   \n",
       "5                  1               JUVENILE                1               0   \n",
       "6                  1               JUVENILE              293              11   \n",
       "7                  1               JUVENILE              900               6   \n",
       "8                  1               JUVENILE             1569             801   \n",
       "9                  1               JUVENILE               45               0   \n",
       "10                 1               JUVENILE                0               0   \n",
       "11                 1               JUVENILE               73               8   \n",
       "12                 1               JUVENILE               12               0   \n",
       "13                 2            YOUNG ADULT               26               3   \n",
       "14                 0                  ADULT                0               0   \n",
       "15                 3                 SENIOR               18               6   \n",
       "16                 1               JUVENILE              603               0   \n",
       "17                 1               JUVENILE                0               0   \n",
       "18                 1               JUVENILE                7               0   \n",
       "19                 3                 SENIOR                0               0   \n",
       "\n",
       "            Age Range Home Library Code      Home Library Definition  \\\n",
       "0      10 to 19 years                V3            Visitacion Valley   \n",
       "1        0 to 9 years                P1                         Park   \n",
       "2      10 to 19 years                N4       Noe Valley/Sally Brunn   \n",
       "3      20 to 24 years                O7                       Ortega   \n",
       "4        0 to 9 years                E9                    Excelsior   \n",
       "5      10 to 19 years                M4                       Merced   \n",
       "6        0 to 9 years                M6                      Mission   \n",
       "7        0 to 9 years                V3            Visitacion Valley   \n",
       "8      10 to 19 years                W4             Western Addition   \n",
       "9        0 to 9 years                A5                         Anza   \n",
       "10       0 to 9 years                S7                       Sunset   \n",
       "11       0 to 9 years                P3                     Parkside   \n",
       "12       0 to 9 years                 X                 Main Library   \n",
       "13     10 to 19 years                M4                       Merced   \n",
       "14     10 to 19 years                M4                       Merced   \n",
       "15  75 years and over                W2                  West Portal   \n",
       "16       0 to 9 years                 X                 Main Library   \n",
       "17       0 to 9 years                A5                         Anza   \n",
       "18       0 to 9 years                B2  Bayview/Linda Brooks-Burton   \n",
       "19  75 years and over                S7                       Sunset   \n",
       "\n",
       "   Circulation Active Month Circulation Active Year Notice Preference Code  \\\n",
       "0                      July                    2016                      p   \n",
       "1                      June                    2016                      z   \n",
       "2                  November                    2008                      z   \n",
       "3                  February                    2013                      p   \n",
       "4                      June                    2016                      z   \n",
       "5                       May                    2016                      z   \n",
       "6                      June                    2016                      z   \n",
       "7                      June                    2016                      a   \n",
       "8                      July                    2016                      z   \n",
       "9                      June                    2016                      z   \n",
       "10                     None                    None                      p   \n",
       "11                     July                    2016                      z   \n",
       "12                  October                    2015                      z   \n",
       "13                 November                    2015                      z   \n",
       "14                     None                    None                      z   \n",
       "15                     June                    2015                      p   \n",
       "16                     July                    2016                      a   \n",
       "17                     None                    None                      z   \n",
       "18                 December                    2013                      p   \n",
       "19                     None                    None                      z   \n",
       "\n",
       "   Notice Preference Definition  Provided Email Address  \\\n",
       "0                         phone                   False   \n",
       "1                         email                    True   \n",
       "2                         email                    True   \n",
       "3                         phone                   False   \n",
       "4                         email                    True   \n",
       "5                         email                    True   \n",
       "6                         email                    True   \n",
       "7                         print                   False   \n",
       "8                         email                    True   \n",
       "9                         email                    True   \n",
       "10                        phone                   False   \n",
       "11                        email                    True   \n",
       "12                        email                    True   \n",
       "13                        email                    True   \n",
       "14                        email                    True   \n",
       "15                        phone                   False   \n",
       "16                        print                   False   \n",
       "17                        email                    True   \n",
       "18                        phone                   False   \n",
       "19                        email                    True   \n",
       "\n",
       "    Year Patron Registered  Outside of County  Supervisor District  \n",
       "0                     2010              False                 10.0  \n",
       "1                     2015              False                  4.0  \n",
       "2                     2003              False                  8.0  \n",
       "3                     2004              False                 10.0  \n",
       "4                     2014              False                 11.0  \n",
       "5                     2016              False                 11.0  \n",
       "6                     2014              False                  8.0  \n",
       "7                     2011              False                 10.0  \n",
       "8                     2009              False                  8.0  \n",
       "9                     2015              False                  1.0  \n",
       "10                    2015              False                  7.0  \n",
       "11                    2015              False                  4.0  \n",
       "12                    2015              False                  6.0  \n",
       "13                    2009              False                  NaN  \n",
       "14                    2015               True                  NaN  \n",
       "15                    2003              False                  7.0  \n",
       "16                    2012              False                 11.0  \n",
       "17                    2015              False                  1.0  \n",
       "18                    2013              False                 10.0  \n",
       "19                    2008               True                  NaN  "
      ],
      "text/html": "<div>\n<style scoped>\n    .dataframe tbody tr th:only-of-type {\n        vertical-align: middle;\n    }\n\n    .dataframe tbody tr th {\n        vertical-align: top;\n    }\n\n    .dataframe thead th {\n        text-align: right;\n    }\n</style>\n<table border=\"1\" class=\"dataframe\">\n  <thead>\n    <tr style=\"text-align: right;\">\n      <th></th>\n      <th>Patron Type Code</th>\n      <th>Patron Type Definition</th>\n      <th>Total Checkouts</th>\n      <th>Total Renewals</th>\n      <th>Age Range</th>\n      <th>Home Library Code</th>\n      <th>Home Library Definition</th>\n      <th>Circulation Active Month</th>\n      <th>Circulation Active Year</th>\n      <th>Notice Preference Code</th>\n      <th>Notice Preference Definition</th>\n      <th>Provided Email Address</th>\n      <th>Year Patron Registered</th>\n      <th>Outside of County</th>\n      <th>Supervisor District</th>\n    </tr>\n  </thead>\n  <tbody>\n    <tr>\n      <th>0</th>\n      <td>1</td>\n      <td>JUVENILE</td>\n      <td>518</td>\n      <td>8</td>\n      <td>10 to 19 years</td>\n      <td>V3</td>\n      <td>Visitacion Valley</td>\n      <td>July</td>\n      <td>2016</td>\n      <td>p</td>\n      <td>phone</td>\n      <td>False</td>\n      <td>2010</td>\n      <td>False</td>\n      <td>10.0</td>\n    </tr>\n    <tr>\n      <th>1</th>\n      <td>1</td>\n      <td>JUVENILE</td>\n      <td>38</td>\n      <td>0</td>\n      <td>0 to 9 years</td>\n      <td>P1</td>\n      <td>Park</td>\n      <td>June</td>\n      <td>2016</td>\n      <td>z</td>\n      <td>email</td>\n      <td>True</td>\n      <td>2015</td>\n      <td>False</td>\n      <td>4.0</td>\n    </tr>\n    <tr>\n      <th>2</th>\n      <td>0</td>\n      <td>ADULT</td>\n      <td>38</td>\n      <td>4</td>\n      <td>10 to 19 years</td>\n      <td>N4</td>\n      <td>Noe Valley/Sally Brunn</td>\n      <td>November</td>\n      <td>2008</td>\n      <td>z</td>\n      <td>email</td>\n      <td>True</td>\n      <td>2003</td>\n      <td>False</td>\n      <td>8.0</td>\n    </tr>\n    <tr>\n      <th>3</th>\n      <td>0</td>\n      <td>ADULT</td>\n      <td>48</td>\n      <td>48</td>\n      <td>20 to 24 years</td>\n      <td>O7</td>\n      <td>Ortega</td>\n      <td>February</td>\n      <td>2013</td>\n      <td>p</td>\n      <td>phone</td>\n      <td>False</td>\n      <td>2004</td>\n      <td>False</td>\n      <td>10.0</td>\n    </tr>\n    <tr>\n      <th>4</th>\n      <td>1</td>\n      <td>JUVENILE</td>\n      <td>28</td>\n      <td>13</td>\n      <td>0 to 9 years</td>\n      <td>E9</td>\n      <td>Excelsior</td>\n      <td>June</td>\n      <td>2016</td>\n      <td>z</td>\n      <td>email</td>\n      <td>True</td>\n      <td>2014</td>\n      <td>False</td>\n      <td>11.0</td>\n    </tr>\n    <tr>\n      <th>5</th>\n      <td>1</td>\n      <td>JUVENILE</td>\n      <td>1</td>\n      <td>0</td>\n      <td>10 to 19 years</td>\n      <td>M4</td>\n      <td>Merced</td>\n      <td>May</td>\n      <td>2016</td>\n      <td>z</td>\n      <td>email</td>\n      <td>True</td>\n      <td>2016</td>\n      <td>False</td>\n      <td>11.0</td>\n    </tr>\n    <tr>\n      <th>6</th>\n      <td>1</td>\n      <td>JUVENILE</td>\n      <td>293</td>\n      <td>11</td>\n      <td>0 to 9 years</td>\n      <td>M6</td>\n      <td>Mission</td>\n      <td>June</td>\n      <td>2016</td>\n      <td>z</td>\n      <td>email</td>\n      <td>True</td>\n      <td>2014</td>\n      <td>False</td>\n      <td>8.0</td>\n    </tr>\n    <tr>\n      <th>7</th>\n      <td>1</td>\n      <td>JUVENILE</td>\n      <td>900</td>\n      <td>6</td>\n      <td>0 to 9 years</td>\n      <td>V3</td>\n      <td>Visitacion Valley</td>\n      <td>June</td>\n      <td>2016</td>\n      <td>a</td>\n      <td>print</td>\n      <td>False</td>\n      <td>2011</td>\n      <td>False</td>\n      <td>10.0</td>\n    </tr>\n    <tr>\n      <th>8</th>\n      <td>1</td>\n      <td>JUVENILE</td>\n      <td>1569</td>\n      <td>801</td>\n      <td>10 to 19 years</td>\n      <td>W4</td>\n      <td>Western Addition</td>\n      <td>July</td>\n      <td>2016</td>\n      <td>z</td>\n      <td>email</td>\n      <td>True</td>\n      <td>2009</td>\n      <td>False</td>\n      <td>8.0</td>\n    </tr>\n    <tr>\n      <th>9</th>\n      <td>1</td>\n      <td>JUVENILE</td>\n      <td>45</td>\n      <td>0</td>\n      <td>0 to 9 years</td>\n      <td>A5</td>\n      <td>Anza</td>\n      <td>June</td>\n      <td>2016</td>\n      <td>z</td>\n      <td>email</td>\n      <td>True</td>\n      <td>2015</td>\n      <td>False</td>\n      <td>1.0</td>\n    </tr>\n    <tr>\n      <th>10</th>\n      <td>1</td>\n      <td>JUVENILE</td>\n      <td>0</td>\n      <td>0</td>\n      <td>0 to 9 years</td>\n      <td>S7</td>\n      <td>Sunset</td>\n      <td>None</td>\n      <td>None</td>\n      <td>p</td>\n      <td>phone</td>\n      <td>False</td>\n      <td>2015</td>\n      <td>False</td>\n      <td>7.0</td>\n    </tr>\n    <tr>\n      <th>11</th>\n      <td>1</td>\n      <td>JUVENILE</td>\n      <td>73</td>\n      <td>8</td>\n      <td>0 to 9 years</td>\n      <td>P3</td>\n      <td>Parkside</td>\n      <td>July</td>\n      <td>2016</td>\n      <td>z</td>\n      <td>email</td>\n      <td>True</td>\n      <td>2015</td>\n      <td>False</td>\n      <td>4.0</td>\n    </tr>\n    <tr>\n      <th>12</th>\n      <td>1</td>\n      <td>JUVENILE</td>\n      <td>12</td>\n      <td>0</td>\n      <td>0 to 9 years</td>\n      <td>X</td>\n      <td>Main Library</td>\n      <td>October</td>\n      <td>2015</td>\n      <td>z</td>\n      <td>email</td>\n      <td>True</td>\n      <td>2015</td>\n      <td>False</td>\n      <td>6.0</td>\n    </tr>\n    <tr>\n      <th>13</th>\n      <td>2</td>\n      <td>YOUNG ADULT</td>\n      <td>26</td>\n      <td>3</td>\n      <td>10 to 19 years</td>\n      <td>M4</td>\n      <td>Merced</td>\n      <td>November</td>\n      <td>2015</td>\n      <td>z</td>\n      <td>email</td>\n      <td>True</td>\n      <td>2009</td>\n      <td>False</td>\n      <td>NaN</td>\n    </tr>\n    <tr>\n      <th>14</th>\n      <td>0</td>\n      <td>ADULT</td>\n      <td>0</td>\n      <td>0</td>\n      <td>10 to 19 years</td>\n      <td>M4</td>\n      <td>Merced</td>\n      <td>None</td>\n      <td>None</td>\n      <td>z</td>\n      <td>email</td>\n      <td>True</td>\n      <td>2015</td>\n      <td>True</td>\n      <td>NaN</td>\n    </tr>\n    <tr>\n      <th>15</th>\n      <td>3</td>\n      <td>SENIOR</td>\n      <td>18</td>\n      <td>6</td>\n      <td>75 years and over</td>\n      <td>W2</td>\n      <td>West Portal</td>\n      <td>June</td>\n      <td>2015</td>\n      <td>p</td>\n      <td>phone</td>\n      <td>False</td>\n      <td>2003</td>\n      <td>False</td>\n      <td>7.0</td>\n    </tr>\n    <tr>\n      <th>16</th>\n      <td>1</td>\n      <td>JUVENILE</td>\n      <td>603</td>\n      <td>0</td>\n      <td>0 to 9 years</td>\n      <td>X</td>\n      <td>Main Library</td>\n      <td>July</td>\n      <td>2016</td>\n      <td>a</td>\n      <td>print</td>\n      <td>False</td>\n      <td>2012</td>\n      <td>False</td>\n      <td>11.0</td>\n    </tr>\n    <tr>\n      <th>17</th>\n      <td>1</td>\n      <td>JUVENILE</td>\n      <td>0</td>\n      <td>0</td>\n      <td>0 to 9 years</td>\n      <td>A5</td>\n      <td>Anza</td>\n      <td>None</td>\n      <td>None</td>\n      <td>z</td>\n      <td>email</td>\n      <td>True</td>\n      <td>2015</td>\n      <td>False</td>\n      <td>1.0</td>\n    </tr>\n    <tr>\n      <th>18</th>\n      <td>1</td>\n      <td>JUVENILE</td>\n      <td>7</td>\n      <td>0</td>\n      <td>0 to 9 years</td>\n      <td>B2</td>\n      <td>Bayview/Linda Brooks-Burton</td>\n      <td>December</td>\n      <td>2013</td>\n      <td>p</td>\n      <td>phone</td>\n      <td>False</td>\n      <td>2013</td>\n      <td>False</td>\n      <td>10.0</td>\n    </tr>\n    <tr>\n      <th>19</th>\n      <td>3</td>\n      <td>SENIOR</td>\n      <td>0</td>\n      <td>0</td>\n      <td>75 years and over</td>\n      <td>S7</td>\n      <td>Sunset</td>\n      <td>None</td>\n      <td>None</td>\n      <td>z</td>\n      <td>email</td>\n      <td>True</td>\n      <td>2008</td>\n      <td>True</td>\n      <td>NaN</td>\n    </tr>\n  </tbody>\n</table>\n</div>"
     },
     "metadata": {},
     "execution_count": 58
    }
   ],
   "source": [
    "df_small = pd.read_excel('../data/Library_Usage_Small.xlsx', engine='openpyxl')\n",
    "df_small"
   ]
  },
  {
   "cell_type": "code",
   "execution_count": 60,
   "metadata": {},
   "outputs": [],
   "source": [
    "df_small.to_csv('../data/Library_Usage_Small_new.csv')"
   ]
  },
  {
   "cell_type": "code",
   "execution_count": 62,
   "metadata": {},
   "outputs": [],
   "source": [
    "df_final = pd.read_csv('../data/Library_Usage_Small_new.csv')"
   ]
  },
  {
   "cell_type": "code",
   "execution_count": 63,
   "metadata": {},
   "outputs": [
    {
     "output_type": "execute_result",
     "data": {
      "text/plain": [
       "    Unnamed: 0  Patron Type Code Patron Type Definition  Total Checkouts  \\\n",
       "0            0                 1               JUVENILE              518   \n",
       "1            1                 1               JUVENILE               38   \n",
       "2            2                 0                  ADULT               38   \n",
       "3            3                 0                  ADULT               48   \n",
       "4            4                 1               JUVENILE               28   \n",
       "5            5                 1               JUVENILE                1   \n",
       "6            6                 1               JUVENILE              293   \n",
       "7            7                 1               JUVENILE              900   \n",
       "8            8                 1               JUVENILE             1569   \n",
       "9            9                 1               JUVENILE               45   \n",
       "10          10                 1               JUVENILE                0   \n",
       "11          11                 1               JUVENILE               73   \n",
       "12          12                 1               JUVENILE               12   \n",
       "13          13                 2            YOUNG ADULT               26   \n",
       "14          14                 0                  ADULT                0   \n",
       "15          15                 3                 SENIOR               18   \n",
       "16          16                 1               JUVENILE              603   \n",
       "17          17                 1               JUVENILE                0   \n",
       "18          18                 1               JUVENILE                7   \n",
       "19          19                 3                 SENIOR                0   \n",
       "\n",
       "    Total Renewals          Age Range Home Library Code  \\\n",
       "0                8     10 to 19 years                V3   \n",
       "1                0       0 to 9 years                P1   \n",
       "2                4     10 to 19 years                N4   \n",
       "3               48     20 to 24 years                O7   \n",
       "4               13       0 to 9 years                E9   \n",
       "5                0     10 to 19 years                M4   \n",
       "6               11       0 to 9 years                M6   \n",
       "7                6       0 to 9 years                V3   \n",
       "8              801     10 to 19 years                W4   \n",
       "9                0       0 to 9 years                A5   \n",
       "10               0       0 to 9 years                S7   \n",
       "11               8       0 to 9 years                P3   \n",
       "12               0       0 to 9 years                 X   \n",
       "13               3     10 to 19 years                M4   \n",
       "14               0     10 to 19 years                M4   \n",
       "15               6  75 years and over                W2   \n",
       "16               0       0 to 9 years                 X   \n",
       "17               0       0 to 9 years                A5   \n",
       "18               0       0 to 9 years                B2   \n",
       "19               0  75 years and over                S7   \n",
       "\n",
       "        Home Library Definition Circulation Active Month  \\\n",
       "0             Visitacion Valley                     July   \n",
       "1                          Park                     June   \n",
       "2        Noe Valley/Sally Brunn                 November   \n",
       "3                        Ortega                 February   \n",
       "4                     Excelsior                     June   \n",
       "5                        Merced                      May   \n",
       "6                       Mission                     June   \n",
       "7             Visitacion Valley                     June   \n",
       "8              Western Addition                     July   \n",
       "9                          Anza                     June   \n",
       "10                       Sunset                     None   \n",
       "11                     Parkside                     July   \n",
       "12                 Main Library                  October   \n",
       "13                       Merced                 November   \n",
       "14                       Merced                     None   \n",
       "15                  West Portal                     June   \n",
       "16                 Main Library                     July   \n",
       "17                         Anza                     None   \n",
       "18  Bayview/Linda Brooks-Burton                 December   \n",
       "19                       Sunset                     None   \n",
       "\n",
       "   Circulation Active Year Notice Preference Code  \\\n",
       "0                     2016                      p   \n",
       "1                     2016                      z   \n",
       "2                     2008                      z   \n",
       "3                     2013                      p   \n",
       "4                     2016                      z   \n",
       "5                     2016                      z   \n",
       "6                     2016                      z   \n",
       "7                     2016                      a   \n",
       "8                     2016                      z   \n",
       "9                     2016                      z   \n",
       "10                    None                      p   \n",
       "11                    2016                      z   \n",
       "12                    2015                      z   \n",
       "13                    2015                      z   \n",
       "14                    None                      z   \n",
       "15                    2015                      p   \n",
       "16                    2016                      a   \n",
       "17                    None                      z   \n",
       "18                    2013                      p   \n",
       "19                    None                      z   \n",
       "\n",
       "   Notice Preference Definition  Provided Email Address  \\\n",
       "0                         phone                   False   \n",
       "1                         email                    True   \n",
       "2                         email                    True   \n",
       "3                         phone                   False   \n",
       "4                         email                    True   \n",
       "5                         email                    True   \n",
       "6                         email                    True   \n",
       "7                         print                   False   \n",
       "8                         email                    True   \n",
       "9                         email                    True   \n",
       "10                        phone                   False   \n",
       "11                        email                    True   \n",
       "12                        email                    True   \n",
       "13                        email                    True   \n",
       "14                        email                    True   \n",
       "15                        phone                   False   \n",
       "16                        print                   False   \n",
       "17                        email                    True   \n",
       "18                        phone                   False   \n",
       "19                        email                    True   \n",
       "\n",
       "    Year Patron Registered  Outside of County  Supervisor District  \n",
       "0                     2010              False                 10.0  \n",
       "1                     2015              False                  4.0  \n",
       "2                     2003              False                  8.0  \n",
       "3                     2004              False                 10.0  \n",
       "4                     2014              False                 11.0  \n",
       "5                     2016              False                 11.0  \n",
       "6                     2014              False                  8.0  \n",
       "7                     2011              False                 10.0  \n",
       "8                     2009              False                  8.0  \n",
       "9                     2015              False                  1.0  \n",
       "10                    2015              False                  7.0  \n",
       "11                    2015              False                  4.0  \n",
       "12                    2015              False                  6.0  \n",
       "13                    2009              False                  NaN  \n",
       "14                    2015               True                  NaN  \n",
       "15                    2003              False                  7.0  \n",
       "16                    2012              False                 11.0  \n",
       "17                    2015              False                  1.0  \n",
       "18                    2013              False                 10.0  \n",
       "19                    2008               True                  NaN  "
      ],
      "text/html": "<div>\n<style scoped>\n    .dataframe tbody tr th:only-of-type {\n        vertical-align: middle;\n    }\n\n    .dataframe tbody tr th {\n        vertical-align: top;\n    }\n\n    .dataframe thead th {\n        text-align: right;\n    }\n</style>\n<table border=\"1\" class=\"dataframe\">\n  <thead>\n    <tr style=\"text-align: right;\">\n      <th></th>\n      <th>Unnamed: 0</th>\n      <th>Patron Type Code</th>\n      <th>Patron Type Definition</th>\n      <th>Total Checkouts</th>\n      <th>Total Renewals</th>\n      <th>Age Range</th>\n      <th>Home Library Code</th>\n      <th>Home Library Definition</th>\n      <th>Circulation Active Month</th>\n      <th>Circulation Active Year</th>\n      <th>Notice Preference Code</th>\n      <th>Notice Preference Definition</th>\n      <th>Provided Email Address</th>\n      <th>Year Patron Registered</th>\n      <th>Outside of County</th>\n      <th>Supervisor District</th>\n    </tr>\n  </thead>\n  <tbody>\n    <tr>\n      <th>0</th>\n      <td>0</td>\n      <td>1</td>\n      <td>JUVENILE</td>\n      <td>518</td>\n      <td>8</td>\n      <td>10 to 19 years</td>\n      <td>V3</td>\n      <td>Visitacion Valley</td>\n      <td>July</td>\n      <td>2016</td>\n      <td>p</td>\n      <td>phone</td>\n      <td>False</td>\n      <td>2010</td>\n      <td>False</td>\n      <td>10.0</td>\n    </tr>\n    <tr>\n      <th>1</th>\n      <td>1</td>\n      <td>1</td>\n      <td>JUVENILE</td>\n      <td>38</td>\n      <td>0</td>\n      <td>0 to 9 years</td>\n      <td>P1</td>\n      <td>Park</td>\n      <td>June</td>\n      <td>2016</td>\n      <td>z</td>\n      <td>email</td>\n      <td>True</td>\n      <td>2015</td>\n      <td>False</td>\n      <td>4.0</td>\n    </tr>\n    <tr>\n      <th>2</th>\n      <td>2</td>\n      <td>0</td>\n      <td>ADULT</td>\n      <td>38</td>\n      <td>4</td>\n      <td>10 to 19 years</td>\n      <td>N4</td>\n      <td>Noe Valley/Sally Brunn</td>\n      <td>November</td>\n      <td>2008</td>\n      <td>z</td>\n      <td>email</td>\n      <td>True</td>\n      <td>2003</td>\n      <td>False</td>\n      <td>8.0</td>\n    </tr>\n    <tr>\n      <th>3</th>\n      <td>3</td>\n      <td>0</td>\n      <td>ADULT</td>\n      <td>48</td>\n      <td>48</td>\n      <td>20 to 24 years</td>\n      <td>O7</td>\n      <td>Ortega</td>\n      <td>February</td>\n      <td>2013</td>\n      <td>p</td>\n      <td>phone</td>\n      <td>False</td>\n      <td>2004</td>\n      <td>False</td>\n      <td>10.0</td>\n    </tr>\n    <tr>\n      <th>4</th>\n      <td>4</td>\n      <td>1</td>\n      <td>JUVENILE</td>\n      <td>28</td>\n      <td>13</td>\n      <td>0 to 9 years</td>\n      <td>E9</td>\n      <td>Excelsior</td>\n      <td>June</td>\n      <td>2016</td>\n      <td>z</td>\n      <td>email</td>\n      <td>True</td>\n      <td>2014</td>\n      <td>False</td>\n      <td>11.0</td>\n    </tr>\n    <tr>\n      <th>5</th>\n      <td>5</td>\n      <td>1</td>\n      <td>JUVENILE</td>\n      <td>1</td>\n      <td>0</td>\n      <td>10 to 19 years</td>\n      <td>M4</td>\n      <td>Merced</td>\n      <td>May</td>\n      <td>2016</td>\n      <td>z</td>\n      <td>email</td>\n      <td>True</td>\n      <td>2016</td>\n      <td>False</td>\n      <td>11.0</td>\n    </tr>\n    <tr>\n      <th>6</th>\n      <td>6</td>\n      <td>1</td>\n      <td>JUVENILE</td>\n      <td>293</td>\n      <td>11</td>\n      <td>0 to 9 years</td>\n      <td>M6</td>\n      <td>Mission</td>\n      <td>June</td>\n      <td>2016</td>\n      <td>z</td>\n      <td>email</td>\n      <td>True</td>\n      <td>2014</td>\n      <td>False</td>\n      <td>8.0</td>\n    </tr>\n    <tr>\n      <th>7</th>\n      <td>7</td>\n      <td>1</td>\n      <td>JUVENILE</td>\n      <td>900</td>\n      <td>6</td>\n      <td>0 to 9 years</td>\n      <td>V3</td>\n      <td>Visitacion Valley</td>\n      <td>June</td>\n      <td>2016</td>\n      <td>a</td>\n      <td>print</td>\n      <td>False</td>\n      <td>2011</td>\n      <td>False</td>\n      <td>10.0</td>\n    </tr>\n    <tr>\n      <th>8</th>\n      <td>8</td>\n      <td>1</td>\n      <td>JUVENILE</td>\n      <td>1569</td>\n      <td>801</td>\n      <td>10 to 19 years</td>\n      <td>W4</td>\n      <td>Western Addition</td>\n      <td>July</td>\n      <td>2016</td>\n      <td>z</td>\n      <td>email</td>\n      <td>True</td>\n      <td>2009</td>\n      <td>False</td>\n      <td>8.0</td>\n    </tr>\n    <tr>\n      <th>9</th>\n      <td>9</td>\n      <td>1</td>\n      <td>JUVENILE</td>\n      <td>45</td>\n      <td>0</td>\n      <td>0 to 9 years</td>\n      <td>A5</td>\n      <td>Anza</td>\n      <td>June</td>\n      <td>2016</td>\n      <td>z</td>\n      <td>email</td>\n      <td>True</td>\n      <td>2015</td>\n      <td>False</td>\n      <td>1.0</td>\n    </tr>\n    <tr>\n      <th>10</th>\n      <td>10</td>\n      <td>1</td>\n      <td>JUVENILE</td>\n      <td>0</td>\n      <td>0</td>\n      <td>0 to 9 years</td>\n      <td>S7</td>\n      <td>Sunset</td>\n      <td>None</td>\n      <td>None</td>\n      <td>p</td>\n      <td>phone</td>\n      <td>False</td>\n      <td>2015</td>\n      <td>False</td>\n      <td>7.0</td>\n    </tr>\n    <tr>\n      <th>11</th>\n      <td>11</td>\n      <td>1</td>\n      <td>JUVENILE</td>\n      <td>73</td>\n      <td>8</td>\n      <td>0 to 9 years</td>\n      <td>P3</td>\n      <td>Parkside</td>\n      <td>July</td>\n      <td>2016</td>\n      <td>z</td>\n      <td>email</td>\n      <td>True</td>\n      <td>2015</td>\n      <td>False</td>\n      <td>4.0</td>\n    </tr>\n    <tr>\n      <th>12</th>\n      <td>12</td>\n      <td>1</td>\n      <td>JUVENILE</td>\n      <td>12</td>\n      <td>0</td>\n      <td>0 to 9 years</td>\n      <td>X</td>\n      <td>Main Library</td>\n      <td>October</td>\n      <td>2015</td>\n      <td>z</td>\n      <td>email</td>\n      <td>True</td>\n      <td>2015</td>\n      <td>False</td>\n      <td>6.0</td>\n    </tr>\n    <tr>\n      <th>13</th>\n      <td>13</td>\n      <td>2</td>\n      <td>YOUNG ADULT</td>\n      <td>26</td>\n      <td>3</td>\n      <td>10 to 19 years</td>\n      <td>M4</td>\n      <td>Merced</td>\n      <td>November</td>\n      <td>2015</td>\n      <td>z</td>\n      <td>email</td>\n      <td>True</td>\n      <td>2009</td>\n      <td>False</td>\n      <td>NaN</td>\n    </tr>\n    <tr>\n      <th>14</th>\n      <td>14</td>\n      <td>0</td>\n      <td>ADULT</td>\n      <td>0</td>\n      <td>0</td>\n      <td>10 to 19 years</td>\n      <td>M4</td>\n      <td>Merced</td>\n      <td>None</td>\n      <td>None</td>\n      <td>z</td>\n      <td>email</td>\n      <td>True</td>\n      <td>2015</td>\n      <td>True</td>\n      <td>NaN</td>\n    </tr>\n    <tr>\n      <th>15</th>\n      <td>15</td>\n      <td>3</td>\n      <td>SENIOR</td>\n      <td>18</td>\n      <td>6</td>\n      <td>75 years and over</td>\n      <td>W2</td>\n      <td>West Portal</td>\n      <td>June</td>\n      <td>2015</td>\n      <td>p</td>\n      <td>phone</td>\n      <td>False</td>\n      <td>2003</td>\n      <td>False</td>\n      <td>7.0</td>\n    </tr>\n    <tr>\n      <th>16</th>\n      <td>16</td>\n      <td>1</td>\n      <td>JUVENILE</td>\n      <td>603</td>\n      <td>0</td>\n      <td>0 to 9 years</td>\n      <td>X</td>\n      <td>Main Library</td>\n      <td>July</td>\n      <td>2016</td>\n      <td>a</td>\n      <td>print</td>\n      <td>False</td>\n      <td>2012</td>\n      <td>False</td>\n      <td>11.0</td>\n    </tr>\n    <tr>\n      <th>17</th>\n      <td>17</td>\n      <td>1</td>\n      <td>JUVENILE</td>\n      <td>0</td>\n      <td>0</td>\n      <td>0 to 9 years</td>\n      <td>A5</td>\n      <td>Anza</td>\n      <td>None</td>\n      <td>None</td>\n      <td>z</td>\n      <td>email</td>\n      <td>True</td>\n      <td>2015</td>\n      <td>False</td>\n      <td>1.0</td>\n    </tr>\n    <tr>\n      <th>18</th>\n      <td>18</td>\n      <td>1</td>\n      <td>JUVENILE</td>\n      <td>7</td>\n      <td>0</td>\n      <td>0 to 9 years</td>\n      <td>B2</td>\n      <td>Bayview/Linda Brooks-Burton</td>\n      <td>December</td>\n      <td>2013</td>\n      <td>p</td>\n      <td>phone</td>\n      <td>False</td>\n      <td>2013</td>\n      <td>False</td>\n      <td>10.0</td>\n    </tr>\n    <tr>\n      <th>19</th>\n      <td>19</td>\n      <td>3</td>\n      <td>SENIOR</td>\n      <td>0</td>\n      <td>0</td>\n      <td>75 years and over</td>\n      <td>S7</td>\n      <td>Sunset</td>\n      <td>None</td>\n      <td>None</td>\n      <td>z</td>\n      <td>email</td>\n      <td>True</td>\n      <td>2008</td>\n      <td>True</td>\n      <td>NaN</td>\n    </tr>\n  </tbody>\n</table>\n</div>"
     },
     "metadata": {},
     "execution_count": 63
    }
   ],
   "source": [
    "df_final\n",
    "# über Excel wird eine Spalte vorne mit der Zeilenzählung angehängt, wichtig, wenn ich Formate ändere und den Code ablege mit ggf. gezieltem Ansteuern von Spalten über Position"
   ]
  },
  {
   "source": [
    "## Exkurs Ende ...\n",
    "\n",
    "# Arbeit mit Spalten"
   ],
   "cell_type": "markdown",
   "metadata": {}
  },
  {
   "cell_type": "code",
   "execution_count": 65,
   "metadata": {},
   "outputs": [
    {
     "output_type": "stream",
     "name": "stdout",
     "text": [
      "0          0\n1         22\n2          0\n3          0\n4         11\n          ..\n423443    13\n423444    11\n423445    58\n423446     0\n423447     0\nName: Total Renewals, Length: 423448, dtype: int64\n        Total Renewals  Total Checkouts\n0                    0                0\n1                   22               31\n2                    0                0\n3                    0                0\n4                   11              126\n...                ...              ...\n423443              13              291\n423444              11               15\n423445              58              208\n423446               0               26\n423447               0                0\n\n[423448 rows x 2 columns]\n"
     ]
    }
   ],
   "source": [
    "x = df['Total Renewals']\n",
    "df[['Total Renewals', 'Total Checkouts']]\n",
    "column_names = ['Total Renewals', 'Total Checkouts'] # auxiliary variable\n",
    "subset = df[column_names]\n",
    "print(x)\n",
    "print(subset)"
   ]
  },
  {
   "cell_type": "code",
   "execution_count": 66,
   "metadata": {},
   "outputs": [],
   "source": [
    "df['dummy_variable'] = 5"
   ]
  },
  {
   "cell_type": "code",
   "execution_count": 68,
   "metadata": {},
   "outputs": [
    {
     "output_type": "execute_result",
     "data": {
      "text/plain": [
       "0         5\n",
       "1         5\n",
       "2         5\n",
       "3         5\n",
       "4         5\n",
       "         ..\n",
       "423443    5\n",
       "423444    5\n",
       "423445    5\n",
       "423446    5\n",
       "423447    5\n",
       "Name: dummy_variable, Length: 423448, dtype: int64"
      ]
     },
     "metadata": {},
     "execution_count": 68
    }
   ],
   "source": [
    "df['dummy_variable']"
   ]
  },
  {
   "cell_type": "code",
   "execution_count": 69,
   "metadata": {},
   "outputs": [],
   "source": [
    "import numpy as np\n",
    "\n",
    "df['is_adult'] = df['Patron Type Definition'] == 'ADULT'\n",
    "df['log_renewals'] = np.log(df['Total Renewals'] + 1)  \n",
    "# Veränderung wird direkt in neue Spalte geschrieben"
   ]
  },
  {
   "source": [
    "# Fallstudie 2.5 Feature Engineering\n",
    "\n",
    "Neue Variable Membership Duration zu erstellen\n",
    "\n",
    "Die \"Formel\" dafür \n",
    "\n",
    ">'Membership Duration' = ('Circulation Active Year' - 'Year Patron Registered')*12 + 'Circulation Active Month'\n",
    "\n",
    "[Ich rechne das jetzt so, obwohl ich persönlich die Addition der Monate nicht machen würde, weil es m.E. das Ergebnis ungenau macht, da ich vom \"Registrierungsjahr\" keine Monatsangabe habe]"
   ],
   "cell_type": "markdown",
   "metadata": {}
  },
  {
   "cell_type": "code",
   "execution_count": 6,
   "metadata": {},
   "outputs": [
    {
     "output_type": "execute_result",
     "data": {
      "text/plain": [
       "0            NaN\n",
       "1         2016.0\n",
       "2            NaN\n",
       "3            NaN\n",
       "4         2016.0\n",
       "           ...  \n",
       "423443    2015.0\n",
       "423444    2016.0\n",
       "423445    2016.0\n",
       "423446    2015.0\n",
       "423447       NaN\n",
       "Name: Circulation Active Year, Length: 423448, dtype: float64"
      ]
     },
     "metadata": {},
     "execution_count": 6
    }
   ],
   "source": [
    "a = pd.to_numeric(df['Circulation Active Year'], errors='coerce')\n",
    "\n",
    "# das Verändert mir die Angaben in dieser Spalten zu Zahlen, damit ich rechnen kann \n",
    "# funktioniert nur, wenn ich es in neue Variable schreibe\n",
    "a"
   ]
  },
  {
   "cell_type": "code",
   "execution_count": 7,
   "metadata": {},
   "outputs": [
    {
     "output_type": "execute_result",
     "data": {
      "text/plain": [
       "0         NaN\n",
       "1         4.0\n",
       "2         NaN\n",
       "3         NaN\n",
       "4         1.0\n",
       "         ... \n",
       "423443    3.0\n",
       "423444    7.0\n",
       "423445    7.0\n",
       "423446    4.0\n",
       "423447    NaN\n",
       "Name: Circulation Active Month, Length: 423448, dtype: float64"
      ]
     },
     "metadata": {},
     "execution_count": 7
    }
   ],
   "source": [
    "c_series = pd.to_datetime(\n",
    "    df['Circulation Active Month'],\n",
    "    errors='coerce',\n",
    "    format=\"%B\"\n",
    ")\n",
    "\n",
    "c = c_series.dt.month\n",
    "#df['Circulation Active Month']\n",
    "c"
   ]
  },
  {
   "cell_type": "code",
   "execution_count": 8,
   "metadata": {},
   "outputs": [
    {
     "output_type": "execute_result",
     "data": {
      "text/plain": [
       "0         2014\n",
       "1         2010\n",
       "2         2016\n",
       "3         2015\n",
       "4         2003\n",
       "          ... \n",
       "423443    2009\n",
       "423444    2016\n",
       "423445    2014\n",
       "423446    2003\n",
       "423447    2015\n",
       "Name: Year Patron Registered, Length: 423448, dtype: int64"
      ]
     },
     "metadata": {},
     "execution_count": 8
    }
   ],
   "source": [
    "b = df['Year Patron Registered']\n",
    "b"
   ]
  },
  {
   "cell_type": "code",
   "execution_count": 9,
   "metadata": {},
   "outputs": [],
   "source": [
    "df['Membership Duration'] = ((a - b)*12 + c)"
   ]
  },
  {
   "cell_type": "code",
   "execution_count": 10,
   "metadata": {},
   "outputs": [
    {
     "output_type": "execute_result",
     "data": {
      "text/plain": [
       "0           NaN\n",
       "1          76.0\n",
       "2           NaN\n",
       "3           NaN\n",
       "4         157.0\n",
       "          ...  \n",
       "423443     75.0\n",
       "423444      7.0\n",
       "423445     31.0\n",
       "423446    148.0\n",
       "423447      NaN\n",
       "Name: Membership Duration, Length: 423448, dtype: float64"
      ]
     },
     "metadata": {},
     "execution_count": 10
    }
   ],
   "source": [
    "df['Membership Duration']"
   ]
  },
  {
   "cell_type": "code",
   "execution_count": 11,
   "metadata": {},
   "outputs": [
    {
     "output_type": "execute_result",
     "data": {
      "text/plain": [
       "0           0.0\n",
       "1          76.0\n",
       "2           0.0\n",
       "3           0.0\n",
       "4         157.0\n",
       "          ...  \n",
       "423443     75.0\n",
       "423444      7.0\n",
       "423445     31.0\n",
       "423446    148.0\n",
       "423447      0.0\n",
       "Name: Membership Duration, Length: 423448, dtype: float64"
      ]
     },
     "metadata": {},
     "execution_count": 11
    }
   ],
   "source": [
    "df['Membership Duration'].fillna(0)\n",
    "# ersetzt die NaN-Werte durch 0"
   ]
  },
  {
   "source": [
    "# Auswahl von Zeilen"
   ],
   "cell_type": "markdown",
   "metadata": {}
  },
  {
   "cell_type": "code",
   "execution_count": 1,
   "metadata": {},
   "outputs": [
    {
     "output_type": "execute_result",
     "data": {
      "text/plain": [
       "        Patron Type Code Patron Type Definition  Total Checkouts  \\\n",
       "851                    9                SPECIAL            18064   \n",
       "1963                   0                  ADULT            10521   \n",
       "3499                   0                  ADULT            12740   \n",
       "20042                  3                 SENIOR            16060   \n",
       "31315                  0                  ADULT            13784   \n",
       "39585                  0                  ADULT            11086   \n",
       "57239                  0                  ADULT            10906   \n",
       "86662                  3                 SENIOR            11748   \n",
       "117628                 0                  ADULT            11817   \n",
       "120604                 3                 SENIOR            10108   \n",
       "129341                 3                 SENIOR            12757   \n",
       "138351                 0                  ADULT            10809   \n",
       "145600                 3                 SENIOR            11871   \n",
       "146615                 0                  ADULT            24093   \n",
       "156806                 0                  ADULT            17308   \n",
       "163893                 3                 SENIOR            25223   \n",
       "176606                 0                  ADULT            10371   \n",
       "200204                 3                 SENIOR            18397   \n",
       "216300                 0                  ADULT            12950   \n",
       "222889                 3                 SENIOR            14502   \n",
       "227568                 3                 SENIOR            11147   \n",
       "231807                 3                 SENIOR            11896   \n",
       "237668                 0                  ADULT            15505   \n",
       "255021                 3                 SENIOR            11102   \n",
       "278408                 3                 SENIOR            11366   \n",
       "288655                 0                  ADULT            15598   \n",
       "290980                 0                  ADULT            12733   \n",
       "293371                 0                  ADULT            35907   \n",
       "294129                 0                  ADULT            10863   \n",
       "330536                 3                 SENIOR            10637   \n",
       "401287                 5                  STAFF            13362   \n",
       "\n",
       "        Total Renewals          Age Range Home Library Code  \\\n",
       "851               2268     60 to 64 years                 X   \n",
       "1963               621     60 to 64 years                 X   \n",
       "3499              2209     45 to 54 years                C2   \n",
       "20042               66     65 to 74 years                C2   \n",
       "31315               74     60 to 64 years                M4   \n",
       "39585             1083     35 to 44 years                C2   \n",
       "57239             1421     45 to 54 years                P1   \n",
       "86662              963     65 to 74 years                 X   \n",
       "117628            2859     45 to 54 years                S7   \n",
       "120604              59     65 to 74 years                 X   \n",
       "129341             500     65 to 74 years                R3   \n",
       "138351              24     20 to 24 years                S7   \n",
       "145600              50     65 to 74 years                M4   \n",
       "146615             383     45 to 54 years                 X   \n",
       "156806             257     60 to 64 years                 X   \n",
       "163893             448     65 to 74 years                 X   \n",
       "176606            1345     55 to 59 years                S7   \n",
       "200204               6     65 to 74 years                 X   \n",
       "216300            1548     60 to 64 years                O7   \n",
       "222889            3517     65 to 74 years                E7   \n",
       "227568             123     65 to 74 years                M6   \n",
       "231807            1408     65 to 74 years                E7   \n",
       "237668             294     60 to 64 years                 X   \n",
       "255021            2652     65 to 74 years                 X   \n",
       "278408              62     65 to 74 years                 X   \n",
       "288655             228     55 to 59 years                 X   \n",
       "290980              60     45 to 54 years                 X   \n",
       "293371             116     35 to 44 years                V3   \n",
       "294129              57     45 to 54 years                M6   \n",
       "330536             148  75 years and over                C2   \n",
       "401287            1926       0 to 9 years                 X   \n",
       "\n",
       "                   Home Library Definition Circulation Active Month  \\\n",
       "851                           Main Library                     July   \n",
       "1963                          Main Library                     July   \n",
       "3499                             Chinatown                     July   \n",
       "20042                            Chinatown                     July   \n",
       "31315                               Merced                     June   \n",
       "39585                            Chinatown                     July   \n",
       "57239                                 Park                     July   \n",
       "86662                         Main Library                     July   \n",
       "117628                              Sunset                     July   \n",
       "120604                        Main Library                 November   \n",
       "129341                            Richmond                     July   \n",
       "138351                              Sunset                     July   \n",
       "145600                              Merced                     July   \n",
       "146615                        Main Library                     July   \n",
       "156806                        Main Library                     July   \n",
       "163893                        Main Library                     July   \n",
       "176606                              Sunset                     July   \n",
       "200204                        Main Library                     July   \n",
       "216300                              Ortega                     July   \n",
       "222889  Eureka Valley/Harvey Milk Memorial                     July   \n",
       "227568                             Mission                     July   \n",
       "231807  Eureka Valley/Harvey Milk Memorial                     July   \n",
       "237668                        Main Library                     July   \n",
       "255021                        Main Library                     July   \n",
       "278408                        Main Library                     July   \n",
       "288655                        Main Library                     July   \n",
       "290980                        Main Library                     July   \n",
       "293371                   Visitacion Valley                     July   \n",
       "294129                             Mission                     July   \n",
       "330536                           Chinatown                  January   \n",
       "401287                        Main Library                     July   \n",
       "\n",
       "       Circulation Active Year Notice Preference Code  \\\n",
       "851                       2016                      p   \n",
       "1963                      2016                      p   \n",
       "3499                      2016                      z   \n",
       "20042                     2016                      a   \n",
       "31315                     2016                      z   \n",
       "39585                     2016                      p   \n",
       "57239                     2016                      z   \n",
       "86662                     2016                      z   \n",
       "117628                    2016                      z   \n",
       "120604                    2013                      p   \n",
       "129341                    2016                      p   \n",
       "138351                    2016                      z   \n",
       "145600                    2016                      z   \n",
       "146615                    2016                      p   \n",
       "156806                    2016                      z   \n",
       "163893                    2016                      p   \n",
       "176606                    2016                      z   \n",
       "200204                    2016                      z   \n",
       "216300                    2016                      z   \n",
       "222889                    2016                      z   \n",
       "227568                    2016                      a   \n",
       "231807                    2016                      z   \n",
       "237668                    2016                      p   \n",
       "255021                    2016                      z   \n",
       "278408                    2016                      z   \n",
       "288655                    2016                      p   \n",
       "290980                    2016                      z   \n",
       "293371                    2016                      p   \n",
       "294129                    2016                      p   \n",
       "330536                    2015                      p   \n",
       "401287                    2016                      z   \n",
       "\n",
       "       Notice Preference Definition  Provided Email Address  \\\n",
       "851                           phone                   False   \n",
       "1963                          phone                   False   \n",
       "3499                          email                    True   \n",
       "20042                         print                   False   \n",
       "31315                         email                    True   \n",
       "39585                         phone                   False   \n",
       "57239                         email                    True   \n",
       "86662                         email                    True   \n",
       "117628                        email                    True   \n",
       "120604                        phone                   False   \n",
       "129341                        phone                   False   \n",
       "138351                        email                    True   \n",
       "145600                        email                    True   \n",
       "146615                        phone                    True   \n",
       "156806                        email                    True   \n",
       "163893                        phone                   False   \n",
       "176606                        email                    True   \n",
       "200204                        email                    True   \n",
       "216300                        email                    True   \n",
       "222889                        email                    True   \n",
       "227568                        print                   False   \n",
       "231807                        email                    True   \n",
       "237668                        phone                   False   \n",
       "255021                        email                    True   \n",
       "278408                        email                    True   \n",
       "288655                        phone                   False   \n",
       "290980                        email                    True   \n",
       "293371                        phone                   False   \n",
       "294129                        phone                   False   \n",
       "330536                        phone                   False   \n",
       "401287                        email                    True   \n",
       "\n",
       "        Year Patron Registered  Outside of County  Supervisor District  \n",
       "851                       2003              False                  NaN  \n",
       "1963                      2003              False                  6.0  \n",
       "3499                      2003              False                  3.0  \n",
       "20042                     2003              False                  3.0  \n",
       "31315                     2003              False                 11.0  \n",
       "39585                     2003              False                  3.0  \n",
       "57239                     2003              False                  8.0  \n",
       "86662                     2003              False                  5.0  \n",
       "117628                    2003              False                  4.0  \n",
       "120604                    2003              False                  6.0  \n",
       "129341                    2004              False                  NaN  \n",
       "138351                    2010              False                  4.0  \n",
       "145600                    2003              False                  7.0  \n",
       "146615                    2003              False                  4.0  \n",
       "156806                    2003              False                  6.0  \n",
       "163893                    2006              False                  9.0  \n",
       "176606                    2003              False                  4.0  \n",
       "200204                    2005              False                  NaN  \n",
       "216300                    2003              False                  4.0  \n",
       "222889                    2006              False                  8.0  \n",
       "227568                    2003              False                  NaN  \n",
       "231807                    2003              False                  8.0  \n",
       "237668                    2004              False                  6.0  \n",
       "255021                    2003              False                  NaN  \n",
       "278408                    2003              False                  8.0  \n",
       "288655                    2003              False                 11.0  \n",
       "290980                    2003              False                  8.0  \n",
       "293371                    2003              False                  NaN  \n",
       "294129                    2003              False                  6.0  \n",
       "330536                    2003              False                  3.0  \n",
       "401287                    2004               True                  NaN  "
      ],
      "text/html": "<div>\n<style scoped>\n    .dataframe tbody tr th:only-of-type {\n        vertical-align: middle;\n    }\n\n    .dataframe tbody tr th {\n        vertical-align: top;\n    }\n\n    .dataframe thead th {\n        text-align: right;\n    }\n</style>\n<table border=\"1\" class=\"dataframe\">\n  <thead>\n    <tr style=\"text-align: right;\">\n      <th></th>\n      <th>Patron Type Code</th>\n      <th>Patron Type Definition</th>\n      <th>Total Checkouts</th>\n      <th>Total Renewals</th>\n      <th>Age Range</th>\n      <th>Home Library Code</th>\n      <th>Home Library Definition</th>\n      <th>Circulation Active Month</th>\n      <th>Circulation Active Year</th>\n      <th>Notice Preference Code</th>\n      <th>Notice Preference Definition</th>\n      <th>Provided Email Address</th>\n      <th>Year Patron Registered</th>\n      <th>Outside of County</th>\n      <th>Supervisor District</th>\n    </tr>\n  </thead>\n  <tbody>\n    <tr>\n      <th>851</th>\n      <td>9</td>\n      <td>SPECIAL</td>\n      <td>18064</td>\n      <td>2268</td>\n      <td>60 to 64 years</td>\n      <td>X</td>\n      <td>Main Library</td>\n      <td>July</td>\n      <td>2016</td>\n      <td>p</td>\n      <td>phone</td>\n      <td>False</td>\n      <td>2003</td>\n      <td>False</td>\n      <td>NaN</td>\n    </tr>\n    <tr>\n      <th>1963</th>\n      <td>0</td>\n      <td>ADULT</td>\n      <td>10521</td>\n      <td>621</td>\n      <td>60 to 64 years</td>\n      <td>X</td>\n      <td>Main Library</td>\n      <td>July</td>\n      <td>2016</td>\n      <td>p</td>\n      <td>phone</td>\n      <td>False</td>\n      <td>2003</td>\n      <td>False</td>\n      <td>6.0</td>\n    </tr>\n    <tr>\n      <th>3499</th>\n      <td>0</td>\n      <td>ADULT</td>\n      <td>12740</td>\n      <td>2209</td>\n      <td>45 to 54 years</td>\n      <td>C2</td>\n      <td>Chinatown</td>\n      <td>July</td>\n      <td>2016</td>\n      <td>z</td>\n      <td>email</td>\n      <td>True</td>\n      <td>2003</td>\n      <td>False</td>\n      <td>3.0</td>\n    </tr>\n    <tr>\n      <th>20042</th>\n      <td>3</td>\n      <td>SENIOR</td>\n      <td>16060</td>\n      <td>66</td>\n      <td>65 to 74 years</td>\n      <td>C2</td>\n      <td>Chinatown</td>\n      <td>July</td>\n      <td>2016</td>\n      <td>a</td>\n      <td>print</td>\n      <td>False</td>\n      <td>2003</td>\n      <td>False</td>\n      <td>3.0</td>\n    </tr>\n    <tr>\n      <th>31315</th>\n      <td>0</td>\n      <td>ADULT</td>\n      <td>13784</td>\n      <td>74</td>\n      <td>60 to 64 years</td>\n      <td>M4</td>\n      <td>Merced</td>\n      <td>June</td>\n      <td>2016</td>\n      <td>z</td>\n      <td>email</td>\n      <td>True</td>\n      <td>2003</td>\n      <td>False</td>\n      <td>11.0</td>\n    </tr>\n    <tr>\n      <th>39585</th>\n      <td>0</td>\n      <td>ADULT</td>\n      <td>11086</td>\n      <td>1083</td>\n      <td>35 to 44 years</td>\n      <td>C2</td>\n      <td>Chinatown</td>\n      <td>July</td>\n      <td>2016</td>\n      <td>p</td>\n      <td>phone</td>\n      <td>False</td>\n      <td>2003</td>\n      <td>False</td>\n      <td>3.0</td>\n    </tr>\n    <tr>\n      <th>57239</th>\n      <td>0</td>\n      <td>ADULT</td>\n      <td>10906</td>\n      <td>1421</td>\n      <td>45 to 54 years</td>\n      <td>P1</td>\n      <td>Park</td>\n      <td>July</td>\n      <td>2016</td>\n      <td>z</td>\n      <td>email</td>\n      <td>True</td>\n      <td>2003</td>\n      <td>False</td>\n      <td>8.0</td>\n    </tr>\n    <tr>\n      <th>86662</th>\n      <td>3</td>\n      <td>SENIOR</td>\n      <td>11748</td>\n      <td>963</td>\n      <td>65 to 74 years</td>\n      <td>X</td>\n      <td>Main Library</td>\n      <td>July</td>\n      <td>2016</td>\n      <td>z</td>\n      <td>email</td>\n      <td>True</td>\n      <td>2003</td>\n      <td>False</td>\n      <td>5.0</td>\n    </tr>\n    <tr>\n      <th>117628</th>\n      <td>0</td>\n      <td>ADULT</td>\n      <td>11817</td>\n      <td>2859</td>\n      <td>45 to 54 years</td>\n      <td>S7</td>\n      <td>Sunset</td>\n      <td>July</td>\n      <td>2016</td>\n      <td>z</td>\n      <td>email</td>\n      <td>True</td>\n      <td>2003</td>\n      <td>False</td>\n      <td>4.0</td>\n    </tr>\n    <tr>\n      <th>120604</th>\n      <td>3</td>\n      <td>SENIOR</td>\n      <td>10108</td>\n      <td>59</td>\n      <td>65 to 74 years</td>\n      <td>X</td>\n      <td>Main Library</td>\n      <td>November</td>\n      <td>2013</td>\n      <td>p</td>\n      <td>phone</td>\n      <td>False</td>\n      <td>2003</td>\n      <td>False</td>\n      <td>6.0</td>\n    </tr>\n    <tr>\n      <th>129341</th>\n      <td>3</td>\n      <td>SENIOR</td>\n      <td>12757</td>\n      <td>500</td>\n      <td>65 to 74 years</td>\n      <td>R3</td>\n      <td>Richmond</td>\n      <td>July</td>\n      <td>2016</td>\n      <td>p</td>\n      <td>phone</td>\n      <td>False</td>\n      <td>2004</td>\n      <td>False</td>\n      <td>NaN</td>\n    </tr>\n    <tr>\n      <th>138351</th>\n      <td>0</td>\n      <td>ADULT</td>\n      <td>10809</td>\n      <td>24</td>\n      <td>20 to 24 years</td>\n      <td>S7</td>\n      <td>Sunset</td>\n      <td>July</td>\n      <td>2016</td>\n      <td>z</td>\n      <td>email</td>\n      <td>True</td>\n      <td>2010</td>\n      <td>False</td>\n      <td>4.0</td>\n    </tr>\n    <tr>\n      <th>145600</th>\n      <td>3</td>\n      <td>SENIOR</td>\n      <td>11871</td>\n      <td>50</td>\n      <td>65 to 74 years</td>\n      <td>M4</td>\n      <td>Merced</td>\n      <td>July</td>\n      <td>2016</td>\n      <td>z</td>\n      <td>email</td>\n      <td>True</td>\n      <td>2003</td>\n      <td>False</td>\n      <td>7.0</td>\n    </tr>\n    <tr>\n      <th>146615</th>\n      <td>0</td>\n      <td>ADULT</td>\n      <td>24093</td>\n      <td>383</td>\n      <td>45 to 54 years</td>\n      <td>X</td>\n      <td>Main Library</td>\n      <td>July</td>\n      <td>2016</td>\n      <td>p</td>\n      <td>phone</td>\n      <td>True</td>\n      <td>2003</td>\n      <td>False</td>\n      <td>4.0</td>\n    </tr>\n    <tr>\n      <th>156806</th>\n      <td>0</td>\n      <td>ADULT</td>\n      <td>17308</td>\n      <td>257</td>\n      <td>60 to 64 years</td>\n      <td>X</td>\n      <td>Main Library</td>\n      <td>July</td>\n      <td>2016</td>\n      <td>z</td>\n      <td>email</td>\n      <td>True</td>\n      <td>2003</td>\n      <td>False</td>\n      <td>6.0</td>\n    </tr>\n    <tr>\n      <th>163893</th>\n      <td>3</td>\n      <td>SENIOR</td>\n      <td>25223</td>\n      <td>448</td>\n      <td>65 to 74 years</td>\n      <td>X</td>\n      <td>Main Library</td>\n      <td>July</td>\n      <td>2016</td>\n      <td>p</td>\n      <td>phone</td>\n      <td>False</td>\n      <td>2006</td>\n      <td>False</td>\n      <td>9.0</td>\n    </tr>\n    <tr>\n      <th>176606</th>\n      <td>0</td>\n      <td>ADULT</td>\n      <td>10371</td>\n      <td>1345</td>\n      <td>55 to 59 years</td>\n      <td>S7</td>\n      <td>Sunset</td>\n      <td>July</td>\n      <td>2016</td>\n      <td>z</td>\n      <td>email</td>\n      <td>True</td>\n      <td>2003</td>\n      <td>False</td>\n      <td>4.0</td>\n    </tr>\n    <tr>\n      <th>200204</th>\n      <td>3</td>\n      <td>SENIOR</td>\n      <td>18397</td>\n      <td>6</td>\n      <td>65 to 74 years</td>\n      <td>X</td>\n      <td>Main Library</td>\n      <td>July</td>\n      <td>2016</td>\n      <td>z</td>\n      <td>email</td>\n      <td>True</td>\n      <td>2005</td>\n      <td>False</td>\n      <td>NaN</td>\n    </tr>\n    <tr>\n      <th>216300</th>\n      <td>0</td>\n      <td>ADULT</td>\n      <td>12950</td>\n      <td>1548</td>\n      <td>60 to 64 years</td>\n      <td>O7</td>\n      <td>Ortega</td>\n      <td>July</td>\n      <td>2016</td>\n      <td>z</td>\n      <td>email</td>\n      <td>True</td>\n      <td>2003</td>\n      <td>False</td>\n      <td>4.0</td>\n    </tr>\n    <tr>\n      <th>222889</th>\n      <td>3</td>\n      <td>SENIOR</td>\n      <td>14502</td>\n      <td>3517</td>\n      <td>65 to 74 years</td>\n      <td>E7</td>\n      <td>Eureka Valley/Harvey Milk Memorial</td>\n      <td>July</td>\n      <td>2016</td>\n      <td>z</td>\n      <td>email</td>\n      <td>True</td>\n      <td>2006</td>\n      <td>False</td>\n      <td>8.0</td>\n    </tr>\n    <tr>\n      <th>227568</th>\n      <td>3</td>\n      <td>SENIOR</td>\n      <td>11147</td>\n      <td>123</td>\n      <td>65 to 74 years</td>\n      <td>M6</td>\n      <td>Mission</td>\n      <td>July</td>\n      <td>2016</td>\n      <td>a</td>\n      <td>print</td>\n      <td>False</td>\n      <td>2003</td>\n      <td>False</td>\n      <td>NaN</td>\n    </tr>\n    <tr>\n      <th>231807</th>\n      <td>3</td>\n      <td>SENIOR</td>\n      <td>11896</td>\n      <td>1408</td>\n      <td>65 to 74 years</td>\n      <td>E7</td>\n      <td>Eureka Valley/Harvey Milk Memorial</td>\n      <td>July</td>\n      <td>2016</td>\n      <td>z</td>\n      <td>email</td>\n      <td>True</td>\n      <td>2003</td>\n      <td>False</td>\n      <td>8.0</td>\n    </tr>\n    <tr>\n      <th>237668</th>\n      <td>0</td>\n      <td>ADULT</td>\n      <td>15505</td>\n      <td>294</td>\n      <td>60 to 64 years</td>\n      <td>X</td>\n      <td>Main Library</td>\n      <td>July</td>\n      <td>2016</td>\n      <td>p</td>\n      <td>phone</td>\n      <td>False</td>\n      <td>2004</td>\n      <td>False</td>\n      <td>6.0</td>\n    </tr>\n    <tr>\n      <th>255021</th>\n      <td>3</td>\n      <td>SENIOR</td>\n      <td>11102</td>\n      <td>2652</td>\n      <td>65 to 74 years</td>\n      <td>X</td>\n      <td>Main Library</td>\n      <td>July</td>\n      <td>2016</td>\n      <td>z</td>\n      <td>email</td>\n      <td>True</td>\n      <td>2003</td>\n      <td>False</td>\n      <td>NaN</td>\n    </tr>\n    <tr>\n      <th>278408</th>\n      <td>3</td>\n      <td>SENIOR</td>\n      <td>11366</td>\n      <td>62</td>\n      <td>65 to 74 years</td>\n      <td>X</td>\n      <td>Main Library</td>\n      <td>July</td>\n      <td>2016</td>\n      <td>z</td>\n      <td>email</td>\n      <td>True</td>\n      <td>2003</td>\n      <td>False</td>\n      <td>8.0</td>\n    </tr>\n    <tr>\n      <th>288655</th>\n      <td>0</td>\n      <td>ADULT</td>\n      <td>15598</td>\n      <td>228</td>\n      <td>55 to 59 years</td>\n      <td>X</td>\n      <td>Main Library</td>\n      <td>July</td>\n      <td>2016</td>\n      <td>p</td>\n      <td>phone</td>\n      <td>False</td>\n      <td>2003</td>\n      <td>False</td>\n      <td>11.0</td>\n    </tr>\n    <tr>\n      <th>290980</th>\n      <td>0</td>\n      <td>ADULT</td>\n      <td>12733</td>\n      <td>60</td>\n      <td>45 to 54 years</td>\n      <td>X</td>\n      <td>Main Library</td>\n      <td>July</td>\n      <td>2016</td>\n      <td>z</td>\n      <td>email</td>\n      <td>True</td>\n      <td>2003</td>\n      <td>False</td>\n      <td>8.0</td>\n    </tr>\n    <tr>\n      <th>293371</th>\n      <td>0</td>\n      <td>ADULT</td>\n      <td>35907</td>\n      <td>116</td>\n      <td>35 to 44 years</td>\n      <td>V3</td>\n      <td>Visitacion Valley</td>\n      <td>July</td>\n      <td>2016</td>\n      <td>p</td>\n      <td>phone</td>\n      <td>False</td>\n      <td>2003</td>\n      <td>False</td>\n      <td>NaN</td>\n    </tr>\n    <tr>\n      <th>294129</th>\n      <td>0</td>\n      <td>ADULT</td>\n      <td>10863</td>\n      <td>57</td>\n      <td>45 to 54 years</td>\n      <td>M6</td>\n      <td>Mission</td>\n      <td>July</td>\n      <td>2016</td>\n      <td>p</td>\n      <td>phone</td>\n      <td>False</td>\n      <td>2003</td>\n      <td>False</td>\n      <td>6.0</td>\n    </tr>\n    <tr>\n      <th>330536</th>\n      <td>3</td>\n      <td>SENIOR</td>\n      <td>10637</td>\n      <td>148</td>\n      <td>75 years and over</td>\n      <td>C2</td>\n      <td>Chinatown</td>\n      <td>January</td>\n      <td>2015</td>\n      <td>p</td>\n      <td>phone</td>\n      <td>False</td>\n      <td>2003</td>\n      <td>False</td>\n      <td>3.0</td>\n    </tr>\n    <tr>\n      <th>401287</th>\n      <td>5</td>\n      <td>STAFF</td>\n      <td>13362</td>\n      <td>1926</td>\n      <td>0 to 9 years</td>\n      <td>X</td>\n      <td>Main Library</td>\n      <td>July</td>\n      <td>2016</td>\n      <td>z</td>\n      <td>email</td>\n      <td>True</td>\n      <td>2004</td>\n      <td>True</td>\n      <td>NaN</td>\n    </tr>\n  </tbody>\n</table>\n</div>"
     },
     "metadata": {},
     "execution_count": 1
    }
   ],
   "source": [
    "import pandas as pd\n",
    "df = pd.read_csv(\"../data/Library_Usage.csv\")\n",
    "df.loc[df['Total Checkouts'] > 10000]"
   ]
  },
  {
   "cell_type": "code",
   "execution_count": 87,
   "metadata": {},
   "outputs": [
    {
     "output_type": "execute_result",
     "data": {
      "text/plain": [
       "        Patron Type Code Patron Type Definition  Total Checkouts  \\\n",
       "851                    9                SPECIAL            18064   \n",
       "1963                   0                  ADULT            10521   \n",
       "3499                   0                  ADULT            12740   \n",
       "20042                  3                 SENIOR            16060   \n",
       "31315                  0                  ADULT            13784   \n",
       "39585                  0                  ADULT            11086   \n",
       "57239                  0                  ADULT            10906   \n",
       "86662                  3                 SENIOR            11748   \n",
       "117628                 0                  ADULT            11817   \n",
       "120604                 3                 SENIOR            10108   \n",
       "129341                 3                 SENIOR            12757   \n",
       "138351                 0                  ADULT            10809   \n",
       "145600                 3                 SENIOR            11871   \n",
       "146615                 0                  ADULT            24093   \n",
       "156806                 0                  ADULT            17308   \n",
       "163893                 3                 SENIOR            25223   \n",
       "176606                 0                  ADULT            10371   \n",
       "200204                 3                 SENIOR            18397   \n",
       "216300                 0                  ADULT            12950   \n",
       "222889                 3                 SENIOR            14502   \n",
       "227568                 3                 SENIOR            11147   \n",
       "231807                 3                 SENIOR            11896   \n",
       "237668                 0                  ADULT            15505   \n",
       "255021                 3                 SENIOR            11102   \n",
       "278408                 3                 SENIOR            11366   \n",
       "288655                 0                  ADULT            15598   \n",
       "290980                 0                  ADULT            12733   \n",
       "293371                 0                  ADULT            35907   \n",
       "294129                 0                  ADULT            10863   \n",
       "330536                 3                 SENIOR            10637   \n",
       "401287                 5                  STAFF            13362   \n",
       "\n",
       "        Total Renewals          Age Range Home Library Code  \\\n",
       "851               2268     60 to 64 years                 X   \n",
       "1963               621     60 to 64 years                 X   \n",
       "3499              2209     45 to 54 years                C2   \n",
       "20042               66     65 to 74 years                C2   \n",
       "31315               74     60 to 64 years                M4   \n",
       "39585             1083     35 to 44 years                C2   \n",
       "57239             1421     45 to 54 years                P1   \n",
       "86662              963     65 to 74 years                 X   \n",
       "117628            2859     45 to 54 years                S7   \n",
       "120604              59     65 to 74 years                 X   \n",
       "129341             500     65 to 74 years                R3   \n",
       "138351              24     20 to 24 years                S7   \n",
       "145600              50     65 to 74 years                M4   \n",
       "146615             383     45 to 54 years                 X   \n",
       "156806             257     60 to 64 years                 X   \n",
       "163893             448     65 to 74 years                 X   \n",
       "176606            1345     55 to 59 years                S7   \n",
       "200204               6     65 to 74 years                 X   \n",
       "216300            1548     60 to 64 years                O7   \n",
       "222889            3517     65 to 74 years                E7   \n",
       "227568             123     65 to 74 years                M6   \n",
       "231807            1408     65 to 74 years                E7   \n",
       "237668             294     60 to 64 years                 X   \n",
       "255021            2652     65 to 74 years                 X   \n",
       "278408              62     65 to 74 years                 X   \n",
       "288655             228     55 to 59 years                 X   \n",
       "290980              60     45 to 54 years                 X   \n",
       "293371             116     35 to 44 years                V3   \n",
       "294129              57     45 to 54 years                M6   \n",
       "330536             148  75 years and over                C2   \n",
       "401287            1926       0 to 9 years                 X   \n",
       "\n",
       "                   Home Library Definition Circulation Active Month  \\\n",
       "851                           Main Library                     July   \n",
       "1963                          Main Library                     July   \n",
       "3499                             Chinatown                     July   \n",
       "20042                            Chinatown                     July   \n",
       "31315                               Merced                     June   \n",
       "39585                            Chinatown                     July   \n",
       "57239                                 Park                     July   \n",
       "86662                         Main Library                     July   \n",
       "117628                              Sunset                     July   \n",
       "120604                        Main Library                 November   \n",
       "129341                            Richmond                     July   \n",
       "138351                              Sunset                     July   \n",
       "145600                              Merced                     July   \n",
       "146615                        Main Library                     July   \n",
       "156806                        Main Library                     July   \n",
       "163893                        Main Library                     July   \n",
       "176606                              Sunset                     July   \n",
       "200204                        Main Library                     July   \n",
       "216300                              Ortega                     July   \n",
       "222889  Eureka Valley/Harvey Milk Memorial                     July   \n",
       "227568                             Mission                     July   \n",
       "231807  Eureka Valley/Harvey Milk Memorial                     July   \n",
       "237668                        Main Library                     July   \n",
       "255021                        Main Library                     July   \n",
       "278408                        Main Library                     July   \n",
       "288655                        Main Library                     July   \n",
       "290980                        Main Library                     July   \n",
       "293371                   Visitacion Valley                     July   \n",
       "294129                             Mission                     July   \n",
       "330536                           Chinatown                  January   \n",
       "401287                        Main Library                     July   \n",
       "\n",
       "       Circulation Active Year Notice Preference Code  \\\n",
       "851                       2016                      p   \n",
       "1963                      2016                      p   \n",
       "3499                      2016                      z   \n",
       "20042                     2016                      a   \n",
       "31315                     2016                      z   \n",
       "39585                     2016                      p   \n",
       "57239                     2016                      z   \n",
       "86662                     2016                      z   \n",
       "117628                    2016                      z   \n",
       "120604                    2013                      p   \n",
       "129341                    2016                      p   \n",
       "138351                    2016                      z   \n",
       "145600                    2016                      z   \n",
       "146615                    2016                      p   \n",
       "156806                    2016                      z   \n",
       "163893                    2016                      p   \n",
       "176606                    2016                      z   \n",
       "200204                    2016                      z   \n",
       "216300                    2016                      z   \n",
       "222889                    2016                      z   \n",
       "227568                    2016                      a   \n",
       "231807                    2016                      z   \n",
       "237668                    2016                      p   \n",
       "255021                    2016                      z   \n",
       "278408                    2016                      z   \n",
       "288655                    2016                      p   \n",
       "290980                    2016                      z   \n",
       "293371                    2016                      p   \n",
       "294129                    2016                      p   \n",
       "330536                    2015                      p   \n",
       "401287                    2016                      z   \n",
       "\n",
       "       Notice Preference Definition  Provided Email Address  \\\n",
       "851                           phone                   False   \n",
       "1963                          phone                   False   \n",
       "3499                          email                    True   \n",
       "20042                         print                   False   \n",
       "31315                         email                    True   \n",
       "39585                         phone                   False   \n",
       "57239                         email                    True   \n",
       "86662                         email                    True   \n",
       "117628                        email                    True   \n",
       "120604                        phone                   False   \n",
       "129341                        phone                   False   \n",
       "138351                        email                    True   \n",
       "145600                        email                    True   \n",
       "146615                        phone                    True   \n",
       "156806                        email                    True   \n",
       "163893                        phone                   False   \n",
       "176606                        email                    True   \n",
       "200204                        email                    True   \n",
       "216300                        email                    True   \n",
       "222889                        email                    True   \n",
       "227568                        print                   False   \n",
       "231807                        email                    True   \n",
       "237668                        phone                   False   \n",
       "255021                        email                    True   \n",
       "278408                        email                    True   \n",
       "288655                        phone                   False   \n",
       "290980                        email                    True   \n",
       "293371                        phone                   False   \n",
       "294129                        phone                   False   \n",
       "330536                        phone                   False   \n",
       "401287                        email                    True   \n",
       "\n",
       "        Year Patron Registered  Outside of County  Supervisor District  \n",
       "851                       2003              False                  NaN  \n",
       "1963                      2003              False                  6.0  \n",
       "3499                      2003              False                  3.0  \n",
       "20042                     2003              False                  3.0  \n",
       "31315                     2003              False                 11.0  \n",
       "39585                     2003              False                  3.0  \n",
       "57239                     2003              False                  8.0  \n",
       "86662                     2003              False                  5.0  \n",
       "117628                    2003              False                  4.0  \n",
       "120604                    2003              False                  6.0  \n",
       "129341                    2004              False                  NaN  \n",
       "138351                    2010              False                  4.0  \n",
       "145600                    2003              False                  7.0  \n",
       "146615                    2003              False                  4.0  \n",
       "156806                    2003              False                  6.0  \n",
       "163893                    2006              False                  9.0  \n",
       "176606                    2003              False                  4.0  \n",
       "200204                    2005              False                  NaN  \n",
       "216300                    2003              False                  4.0  \n",
       "222889                    2006              False                  8.0  \n",
       "227568                    2003              False                  NaN  \n",
       "231807                    2003              False                  8.0  \n",
       "237668                    2004              False                  6.0  \n",
       "255021                    2003              False                  NaN  \n",
       "278408                    2003              False                  8.0  \n",
       "288655                    2003              False                 11.0  \n",
       "290980                    2003              False                  8.0  \n",
       "293371                    2003              False                  NaN  \n",
       "294129                    2003              False                  6.0  \n",
       "330536                    2003              False                  3.0  \n",
       "401287                    2004               True                  NaN  "
      ],
      "text/html": "<div>\n<style scoped>\n    .dataframe tbody tr th:only-of-type {\n        vertical-align: middle;\n    }\n\n    .dataframe tbody tr th {\n        vertical-align: top;\n    }\n\n    .dataframe thead th {\n        text-align: right;\n    }\n</style>\n<table border=\"1\" class=\"dataframe\">\n  <thead>\n    <tr style=\"text-align: right;\">\n      <th></th>\n      <th>Patron Type Code</th>\n      <th>Patron Type Definition</th>\n      <th>Total Checkouts</th>\n      <th>Total Renewals</th>\n      <th>Age Range</th>\n      <th>Home Library Code</th>\n      <th>Home Library Definition</th>\n      <th>Circulation Active Month</th>\n      <th>Circulation Active Year</th>\n      <th>Notice Preference Code</th>\n      <th>Notice Preference Definition</th>\n      <th>Provided Email Address</th>\n      <th>Year Patron Registered</th>\n      <th>Outside of County</th>\n      <th>Supervisor District</th>\n    </tr>\n  </thead>\n  <tbody>\n    <tr>\n      <th>851</th>\n      <td>9</td>\n      <td>SPECIAL</td>\n      <td>18064</td>\n      <td>2268</td>\n      <td>60 to 64 years</td>\n      <td>X</td>\n      <td>Main Library</td>\n      <td>July</td>\n      <td>2016</td>\n      <td>p</td>\n      <td>phone</td>\n      <td>False</td>\n      <td>2003</td>\n      <td>False</td>\n      <td>NaN</td>\n    </tr>\n    <tr>\n      <th>1963</th>\n      <td>0</td>\n      <td>ADULT</td>\n      <td>10521</td>\n      <td>621</td>\n      <td>60 to 64 years</td>\n      <td>X</td>\n      <td>Main Library</td>\n      <td>July</td>\n      <td>2016</td>\n      <td>p</td>\n      <td>phone</td>\n      <td>False</td>\n      <td>2003</td>\n      <td>False</td>\n      <td>6.0</td>\n    </tr>\n    <tr>\n      <th>3499</th>\n      <td>0</td>\n      <td>ADULT</td>\n      <td>12740</td>\n      <td>2209</td>\n      <td>45 to 54 years</td>\n      <td>C2</td>\n      <td>Chinatown</td>\n      <td>July</td>\n      <td>2016</td>\n      <td>z</td>\n      <td>email</td>\n      <td>True</td>\n      <td>2003</td>\n      <td>False</td>\n      <td>3.0</td>\n    </tr>\n    <tr>\n      <th>20042</th>\n      <td>3</td>\n      <td>SENIOR</td>\n      <td>16060</td>\n      <td>66</td>\n      <td>65 to 74 years</td>\n      <td>C2</td>\n      <td>Chinatown</td>\n      <td>July</td>\n      <td>2016</td>\n      <td>a</td>\n      <td>print</td>\n      <td>False</td>\n      <td>2003</td>\n      <td>False</td>\n      <td>3.0</td>\n    </tr>\n    <tr>\n      <th>31315</th>\n      <td>0</td>\n      <td>ADULT</td>\n      <td>13784</td>\n      <td>74</td>\n      <td>60 to 64 years</td>\n      <td>M4</td>\n      <td>Merced</td>\n      <td>June</td>\n      <td>2016</td>\n      <td>z</td>\n      <td>email</td>\n      <td>True</td>\n      <td>2003</td>\n      <td>False</td>\n      <td>11.0</td>\n    </tr>\n    <tr>\n      <th>39585</th>\n      <td>0</td>\n      <td>ADULT</td>\n      <td>11086</td>\n      <td>1083</td>\n      <td>35 to 44 years</td>\n      <td>C2</td>\n      <td>Chinatown</td>\n      <td>July</td>\n      <td>2016</td>\n      <td>p</td>\n      <td>phone</td>\n      <td>False</td>\n      <td>2003</td>\n      <td>False</td>\n      <td>3.0</td>\n    </tr>\n    <tr>\n      <th>57239</th>\n      <td>0</td>\n      <td>ADULT</td>\n      <td>10906</td>\n      <td>1421</td>\n      <td>45 to 54 years</td>\n      <td>P1</td>\n      <td>Park</td>\n      <td>July</td>\n      <td>2016</td>\n      <td>z</td>\n      <td>email</td>\n      <td>True</td>\n      <td>2003</td>\n      <td>False</td>\n      <td>8.0</td>\n    </tr>\n    <tr>\n      <th>86662</th>\n      <td>3</td>\n      <td>SENIOR</td>\n      <td>11748</td>\n      <td>963</td>\n      <td>65 to 74 years</td>\n      <td>X</td>\n      <td>Main Library</td>\n      <td>July</td>\n      <td>2016</td>\n      <td>z</td>\n      <td>email</td>\n      <td>True</td>\n      <td>2003</td>\n      <td>False</td>\n      <td>5.0</td>\n    </tr>\n    <tr>\n      <th>117628</th>\n      <td>0</td>\n      <td>ADULT</td>\n      <td>11817</td>\n      <td>2859</td>\n      <td>45 to 54 years</td>\n      <td>S7</td>\n      <td>Sunset</td>\n      <td>July</td>\n      <td>2016</td>\n      <td>z</td>\n      <td>email</td>\n      <td>True</td>\n      <td>2003</td>\n      <td>False</td>\n      <td>4.0</td>\n    </tr>\n    <tr>\n      <th>120604</th>\n      <td>3</td>\n      <td>SENIOR</td>\n      <td>10108</td>\n      <td>59</td>\n      <td>65 to 74 years</td>\n      <td>X</td>\n      <td>Main Library</td>\n      <td>November</td>\n      <td>2013</td>\n      <td>p</td>\n      <td>phone</td>\n      <td>False</td>\n      <td>2003</td>\n      <td>False</td>\n      <td>6.0</td>\n    </tr>\n    <tr>\n      <th>129341</th>\n      <td>3</td>\n      <td>SENIOR</td>\n      <td>12757</td>\n      <td>500</td>\n      <td>65 to 74 years</td>\n      <td>R3</td>\n      <td>Richmond</td>\n      <td>July</td>\n      <td>2016</td>\n      <td>p</td>\n      <td>phone</td>\n      <td>False</td>\n      <td>2004</td>\n      <td>False</td>\n      <td>NaN</td>\n    </tr>\n    <tr>\n      <th>138351</th>\n      <td>0</td>\n      <td>ADULT</td>\n      <td>10809</td>\n      <td>24</td>\n      <td>20 to 24 years</td>\n      <td>S7</td>\n      <td>Sunset</td>\n      <td>July</td>\n      <td>2016</td>\n      <td>z</td>\n      <td>email</td>\n      <td>True</td>\n      <td>2010</td>\n      <td>False</td>\n      <td>4.0</td>\n    </tr>\n    <tr>\n      <th>145600</th>\n      <td>3</td>\n      <td>SENIOR</td>\n      <td>11871</td>\n      <td>50</td>\n      <td>65 to 74 years</td>\n      <td>M4</td>\n      <td>Merced</td>\n      <td>July</td>\n      <td>2016</td>\n      <td>z</td>\n      <td>email</td>\n      <td>True</td>\n      <td>2003</td>\n      <td>False</td>\n      <td>7.0</td>\n    </tr>\n    <tr>\n      <th>146615</th>\n      <td>0</td>\n      <td>ADULT</td>\n      <td>24093</td>\n      <td>383</td>\n      <td>45 to 54 years</td>\n      <td>X</td>\n      <td>Main Library</td>\n      <td>July</td>\n      <td>2016</td>\n      <td>p</td>\n      <td>phone</td>\n      <td>True</td>\n      <td>2003</td>\n      <td>False</td>\n      <td>4.0</td>\n    </tr>\n    <tr>\n      <th>156806</th>\n      <td>0</td>\n      <td>ADULT</td>\n      <td>17308</td>\n      <td>257</td>\n      <td>60 to 64 years</td>\n      <td>X</td>\n      <td>Main Library</td>\n      <td>July</td>\n      <td>2016</td>\n      <td>z</td>\n      <td>email</td>\n      <td>True</td>\n      <td>2003</td>\n      <td>False</td>\n      <td>6.0</td>\n    </tr>\n    <tr>\n      <th>163893</th>\n      <td>3</td>\n      <td>SENIOR</td>\n      <td>25223</td>\n      <td>448</td>\n      <td>65 to 74 years</td>\n      <td>X</td>\n      <td>Main Library</td>\n      <td>July</td>\n      <td>2016</td>\n      <td>p</td>\n      <td>phone</td>\n      <td>False</td>\n      <td>2006</td>\n      <td>False</td>\n      <td>9.0</td>\n    </tr>\n    <tr>\n      <th>176606</th>\n      <td>0</td>\n      <td>ADULT</td>\n      <td>10371</td>\n      <td>1345</td>\n      <td>55 to 59 years</td>\n      <td>S7</td>\n      <td>Sunset</td>\n      <td>July</td>\n      <td>2016</td>\n      <td>z</td>\n      <td>email</td>\n      <td>True</td>\n      <td>2003</td>\n      <td>False</td>\n      <td>4.0</td>\n    </tr>\n    <tr>\n      <th>200204</th>\n      <td>3</td>\n      <td>SENIOR</td>\n      <td>18397</td>\n      <td>6</td>\n      <td>65 to 74 years</td>\n      <td>X</td>\n      <td>Main Library</td>\n      <td>July</td>\n      <td>2016</td>\n      <td>z</td>\n      <td>email</td>\n      <td>True</td>\n      <td>2005</td>\n      <td>False</td>\n      <td>NaN</td>\n    </tr>\n    <tr>\n      <th>216300</th>\n      <td>0</td>\n      <td>ADULT</td>\n      <td>12950</td>\n      <td>1548</td>\n      <td>60 to 64 years</td>\n      <td>O7</td>\n      <td>Ortega</td>\n      <td>July</td>\n      <td>2016</td>\n      <td>z</td>\n      <td>email</td>\n      <td>True</td>\n      <td>2003</td>\n      <td>False</td>\n      <td>4.0</td>\n    </tr>\n    <tr>\n      <th>222889</th>\n      <td>3</td>\n      <td>SENIOR</td>\n      <td>14502</td>\n      <td>3517</td>\n      <td>65 to 74 years</td>\n      <td>E7</td>\n      <td>Eureka Valley/Harvey Milk Memorial</td>\n      <td>July</td>\n      <td>2016</td>\n      <td>z</td>\n      <td>email</td>\n      <td>True</td>\n      <td>2006</td>\n      <td>False</td>\n      <td>8.0</td>\n    </tr>\n    <tr>\n      <th>227568</th>\n      <td>3</td>\n      <td>SENIOR</td>\n      <td>11147</td>\n      <td>123</td>\n      <td>65 to 74 years</td>\n      <td>M6</td>\n      <td>Mission</td>\n      <td>July</td>\n      <td>2016</td>\n      <td>a</td>\n      <td>print</td>\n      <td>False</td>\n      <td>2003</td>\n      <td>False</td>\n      <td>NaN</td>\n    </tr>\n    <tr>\n      <th>231807</th>\n      <td>3</td>\n      <td>SENIOR</td>\n      <td>11896</td>\n      <td>1408</td>\n      <td>65 to 74 years</td>\n      <td>E7</td>\n      <td>Eureka Valley/Harvey Milk Memorial</td>\n      <td>July</td>\n      <td>2016</td>\n      <td>z</td>\n      <td>email</td>\n      <td>True</td>\n      <td>2003</td>\n      <td>False</td>\n      <td>8.0</td>\n    </tr>\n    <tr>\n      <th>237668</th>\n      <td>0</td>\n      <td>ADULT</td>\n      <td>15505</td>\n      <td>294</td>\n      <td>60 to 64 years</td>\n      <td>X</td>\n      <td>Main Library</td>\n      <td>July</td>\n      <td>2016</td>\n      <td>p</td>\n      <td>phone</td>\n      <td>False</td>\n      <td>2004</td>\n      <td>False</td>\n      <td>6.0</td>\n    </tr>\n    <tr>\n      <th>255021</th>\n      <td>3</td>\n      <td>SENIOR</td>\n      <td>11102</td>\n      <td>2652</td>\n      <td>65 to 74 years</td>\n      <td>X</td>\n      <td>Main Library</td>\n      <td>July</td>\n      <td>2016</td>\n      <td>z</td>\n      <td>email</td>\n      <td>True</td>\n      <td>2003</td>\n      <td>False</td>\n      <td>NaN</td>\n    </tr>\n    <tr>\n      <th>278408</th>\n      <td>3</td>\n      <td>SENIOR</td>\n      <td>11366</td>\n      <td>62</td>\n      <td>65 to 74 years</td>\n      <td>X</td>\n      <td>Main Library</td>\n      <td>July</td>\n      <td>2016</td>\n      <td>z</td>\n      <td>email</td>\n      <td>True</td>\n      <td>2003</td>\n      <td>False</td>\n      <td>8.0</td>\n    </tr>\n    <tr>\n      <th>288655</th>\n      <td>0</td>\n      <td>ADULT</td>\n      <td>15598</td>\n      <td>228</td>\n      <td>55 to 59 years</td>\n      <td>X</td>\n      <td>Main Library</td>\n      <td>July</td>\n      <td>2016</td>\n      <td>p</td>\n      <td>phone</td>\n      <td>False</td>\n      <td>2003</td>\n      <td>False</td>\n      <td>11.0</td>\n    </tr>\n    <tr>\n      <th>290980</th>\n      <td>0</td>\n      <td>ADULT</td>\n      <td>12733</td>\n      <td>60</td>\n      <td>45 to 54 years</td>\n      <td>X</td>\n      <td>Main Library</td>\n      <td>July</td>\n      <td>2016</td>\n      <td>z</td>\n      <td>email</td>\n      <td>True</td>\n      <td>2003</td>\n      <td>False</td>\n      <td>8.0</td>\n    </tr>\n    <tr>\n      <th>293371</th>\n      <td>0</td>\n      <td>ADULT</td>\n      <td>35907</td>\n      <td>116</td>\n      <td>35 to 44 years</td>\n      <td>V3</td>\n      <td>Visitacion Valley</td>\n      <td>July</td>\n      <td>2016</td>\n      <td>p</td>\n      <td>phone</td>\n      <td>False</td>\n      <td>2003</td>\n      <td>False</td>\n      <td>NaN</td>\n    </tr>\n    <tr>\n      <th>294129</th>\n      <td>0</td>\n      <td>ADULT</td>\n      <td>10863</td>\n      <td>57</td>\n      <td>45 to 54 years</td>\n      <td>M6</td>\n      <td>Mission</td>\n      <td>July</td>\n      <td>2016</td>\n      <td>p</td>\n      <td>phone</td>\n      <td>False</td>\n      <td>2003</td>\n      <td>False</td>\n      <td>6.0</td>\n    </tr>\n    <tr>\n      <th>330536</th>\n      <td>3</td>\n      <td>SENIOR</td>\n      <td>10637</td>\n      <td>148</td>\n      <td>75 years and over</td>\n      <td>C2</td>\n      <td>Chinatown</td>\n      <td>January</td>\n      <td>2015</td>\n      <td>p</td>\n      <td>phone</td>\n      <td>False</td>\n      <td>2003</td>\n      <td>False</td>\n      <td>3.0</td>\n    </tr>\n    <tr>\n      <th>401287</th>\n      <td>5</td>\n      <td>STAFF</td>\n      <td>13362</td>\n      <td>1926</td>\n      <td>0 to 9 years</td>\n      <td>X</td>\n      <td>Main Library</td>\n      <td>July</td>\n      <td>2016</td>\n      <td>z</td>\n      <td>email</td>\n      <td>True</td>\n      <td>2004</td>\n      <td>True</td>\n      <td>NaN</td>\n    </tr>\n  </tbody>\n</table>\n</div>"
     },
     "metadata": {},
     "execution_count": 87
    }
   ],
   "source": [
    "# Alternative Methode: Filter in eine Variable und dann aufrufen\n",
    "row_filter = df['Total Checkouts'] > 10000\n",
    "df.loc[row_filter]"
   ]
  },
  {
   "cell_type": "code",
   "execution_count": 90,
   "metadata": {},
   "outputs": [
    {
     "output_type": "execute_result",
     "data": {
      "text/plain": [
       "True"
      ]
     },
     "metadata": {},
     "execution_count": 90
    }
   ],
   "source": [
    "# So kann ich auch mehrere Werte ganz übersichtlich abfragen und kombinieren, hier aber nur, dass beide Filter das gleiche abfragen...\n",
    "\n",
    "filter1 = (df['Total Checkouts'] >= 20) & (df['Total Checkouts'] <= 80)\n",
    "filter2 =  df['Total Checkouts'].between(20, 80)\n",
    "all(filter1 == filter2)\n"
   ]
  },
  {
   "source": [
    "# Aufgabe 2.6. Filtern\n",
    "\n",
    "1. Filtere den Datensatz nach Kindern unter 10 Jahren. Wie viele Einträge erhältst Du?"
   ],
   "cell_type": "markdown",
   "metadata": {}
  },
  {
   "cell_type": "code",
   "execution_count": 2,
   "metadata": {},
   "outputs": [
    {
     "output_type": "execute_result",
     "data": {
      "text/plain": [
       "array(['20 to 24 years', '25 to 34 years', '45 to 54 years',\n",
       "       '65 to 74 years', '60 to 64 years', '35 to 44 years', nan,\n",
       "       '55 to 59 years', '10 to 19 years', '0 to 9 years',\n",
       "       '75 years and over'], dtype=object)"
      ]
     },
     "metadata": {},
     "execution_count": 2
    }
   ],
   "source": [
    "df['Age Range'].unique()"
   ]
  },
  {
   "cell_type": "code",
   "execution_count": 3,
   "metadata": {},
   "outputs": [
    {
     "output_type": "execute_result",
     "data": {
      "text/plain": [
       "(38242, 15)"
      ]
     },
     "metadata": {},
     "execution_count": 3
    }
   ],
   "source": [
    "df[df['Age Range'] == \"0 to 9 years\"].shape"
   ]
  },
  {
   "source": [
    "2. Gibt es Personen mit mehr als 20000 Ausleihen?"
   ],
   "cell_type": "markdown",
   "metadata": {}
  },
  {
   "cell_type": "code",
   "execution_count": 4,
   "metadata": {},
   "outputs": [
    {
     "output_type": "execute_result",
     "data": {
      "text/plain": [
       "(3, 15)"
      ]
     },
     "metadata": {},
     "execution_count": 4
    }
   ],
   "source": [
    "df[df['Total Checkouts'] >= 20000].shape"
   ]
  },
  {
   "source": [
    "3. Wie viele Personen stammen aus dem Norden San Franciscos (Supervisor Districts 1, 2 und 3)? Nutze die Funktion Series.isin()."
   ],
   "cell_type": "markdown",
   "metadata": {}
  },
  {
   "cell_type": "code",
   "execution_count": 5,
   "metadata": {},
   "outputs": [
    {
     "output_type": "execute_result",
     "data": {
      "text/plain": [
       "False    353357\n",
       "True      70091\n",
       "Name: Supervisor District, dtype: int64"
      ]
     },
     "metadata": {},
     "execution_count": 5
    }
   ],
   "source": [
    "s = df['Supervisor District']\n",
    "s_north = s.isin(['1', '2', '3'])  # Frage Serienwerte ab und gibt mir True/False zurück\n",
    "s_north.value_counts()  # Alle bei denen \"True\" steht, kommen aus diesen Distrikten"
   ]
  },
  {
   "source": [
    "4. Wie viele Prozent der Beobachtungen haben eine Membership Duration von Null Monaten?"
   ],
   "cell_type": "markdown",
   "metadata": {}
  },
  {
   "cell_type": "code",
   "execution_count": 18,
   "metadata": {},
   "outputs": [
    {
     "output_type": "execute_result",
     "data": {
      "text/plain": [
       "355544"
      ]
     },
     "metadata": {},
     "execution_count": 18
    }
   ],
   "source": [
    "df['Membership Duration'].count()\n",
    "#355544 von 423448"
   ]
  },
  {
   "cell_type": "code",
   "execution_count": 19,
   "metadata": {},
   "outputs": [
    {
     "output_type": "execute_result",
     "data": {
      "text/plain": [
       "16.035971358938998"
      ]
     },
     "metadata": {},
     "execution_count": 19
    }
   ],
   "source": [
    "df['Membership Duration'].isnull().sum() * 100 / len(df['Membership Duration'])"
   ]
  },
  {
   "source": [
    "# Fehlende Werte"
   ],
   "cell_type": "markdown",
   "metadata": {}
  },
  {
   "cell_type": "code",
   "execution_count": 20,
   "metadata": {},
   "outputs": [
    {
     "output_type": "execute_result",
     "data": {
      "text/plain": [
       "0            NaN\n",
       "1         2016.0\n",
       "2            NaN\n",
       "3            NaN\n",
       "4         2016.0\n",
       "           ...  \n",
       "423443    2015.0\n",
       "423444    2016.0\n",
       "423445    2016.0\n",
       "423446    2015.0\n",
       "423447       NaN\n",
       "Name: Circulation Active Year, Length: 423448, dtype: float64"
      ]
     },
     "metadata": {},
     "execution_count": 20
    }
   ],
   "source": [
    "# direkt beim Einlesen der Datei \"beheben\"\n",
    "df = pd.read_csv(\"../data/Library_Usage.csv\", na_values=\"None\")\n",
    "df['Circulation Active Year']\n",
    "\n",
    "#alternative NACH dem Einlesen umwandeln\n",
    "# df['Circulation Active Year'] = pd.to_numeric(df['Circulation Active Year'], errors='coerce')"
   ]
  },
  {
   "source": [
    "# Aufgabe 2.7 Datentypen\n",
    "\n",
    "Was unterscheidet den Wert None vom Wert \"None\"? Was den Wert 5 vom Wert \"5\"? Was den Wert \"NaN\" vom Wert NaN? Ist True und \"True\" das gleiche?\n",
    "\n",
    "> None ist tatsächlich fehlender Wert und von Pandas erkannt, \"None\" ist es als Objekt-Inhalt angesprochen"
   ],
   "cell_type": "markdown",
   "metadata": {}
  },
  {
   "cell_type": "code",
   "execution_count": 21,
   "metadata": {},
   "outputs": [
    {
     "output_type": "execute_result",
     "data": {
      "text/plain": [
       "        Patron Type Code Patron Type Definition  Total Checkouts  \\\n",
       "30                     0                  ADULT                2   \n",
       "37                     0                  ADULT                0   \n",
       "42                     0                  ADULT                4   \n",
       "201                    0                  ADULT               23   \n",
       "221                    0                  ADULT                2   \n",
       "...                  ...                    ...              ...   \n",
       "300360                 0                  ADULT                2   \n",
       "301301                 0                  ADULT                0   \n",
       "302058                 0                  ADULT                0   \n",
       "302082                 0                  ADULT                9   \n",
       "304824                 1               JUVENILE               36   \n",
       "\n",
       "        Total Renewals Age Range Home Library Code  \\\n",
       "30                   0       NaN                M2   \n",
       "37                   0       NaN                 X   \n",
       "42                   0       NaN                P9   \n",
       "201                  2       NaN                 X   \n",
       "221                  0       NaN                N6   \n",
       "...                ...       ...               ...   \n",
       "300360               2       NaN                G6   \n",
       "301301               0       NaN                W2   \n",
       "302058               0       NaN                I5   \n",
       "302082              18       NaN                 X   \n",
       "304824               0       NaN                B2   \n",
       "\n",
       "            Home Library Definition Circulation Active Month  \\\n",
       "30                           Marina                September   \n",
       "37                     Main Library                      NaN   \n",
       "42                         Presidio                     July   \n",
       "201                    Main Library                   August   \n",
       "221                     North Beach                   August   \n",
       "...                             ...                      ...   \n",
       "300360           Golden Gate Valley                September   \n",
       "301301                  West Portal                      NaN   \n",
       "302058                    Ingleside                      NaN   \n",
       "302082                 Main Library                     June   \n",
       "304824  Bayview/Linda Brooks-Burton                September   \n",
       "\n",
       "        Circulation Active Year Notice Preference Code  \\\n",
       "30                       2013.0                      z   \n",
       "37                          NaN                      z   \n",
       "42                       2013.0                      z   \n",
       "201                      2015.0                      z   \n",
       "221                      2014.0                      z   \n",
       "...                         ...                    ...   \n",
       "300360                   2014.0                      z   \n",
       "301301                      NaN                      p   \n",
       "302058                      NaN                      z   \n",
       "302082                   2014.0                      z   \n",
       "304824                   2013.0                      p   \n",
       "\n",
       "       Notice Preference Definition  Provided Email Address  \\\n",
       "30                            email                    True   \n",
       "37                            email                    True   \n",
       "42                            email                    True   \n",
       "201                           email                    True   \n",
       "221                           email                    True   \n",
       "...                             ...                     ...   \n",
       "300360                        email                    True   \n",
       "301301                        phone                   False   \n",
       "302058                        email                    True   \n",
       "302082                        email                    True   \n",
       "304824                        phone                   False   \n",
       "\n",
       "        Year Patron Registered  Outside of County  Supervisor District  \n",
       "30                        2013              False                  3.0  \n",
       "37                        2014              False                  3.0  \n",
       "42                        2013              False                  2.0  \n",
       "201                       2013               True                  NaN  \n",
       "221                       2014              False                  3.0  \n",
       "...                        ...                ...                  ...  \n",
       "300360                    2014              False                  2.0  \n",
       "301301                    2013               True                  NaN  \n",
       "302058                    2013              False                 11.0  \n",
       "302082                    2014               True                  NaN  \n",
       "304824                    2013              False                  NaN  \n",
       "\n",
       "[215 rows x 15 columns]"
      ],
      "text/html": "<div>\n<style scoped>\n    .dataframe tbody tr th:only-of-type {\n        vertical-align: middle;\n    }\n\n    .dataframe tbody tr th {\n        vertical-align: top;\n    }\n\n    .dataframe thead th {\n        text-align: right;\n    }\n</style>\n<table border=\"1\" class=\"dataframe\">\n  <thead>\n    <tr style=\"text-align: right;\">\n      <th></th>\n      <th>Patron Type Code</th>\n      <th>Patron Type Definition</th>\n      <th>Total Checkouts</th>\n      <th>Total Renewals</th>\n      <th>Age Range</th>\n      <th>Home Library Code</th>\n      <th>Home Library Definition</th>\n      <th>Circulation Active Month</th>\n      <th>Circulation Active Year</th>\n      <th>Notice Preference Code</th>\n      <th>Notice Preference Definition</th>\n      <th>Provided Email Address</th>\n      <th>Year Patron Registered</th>\n      <th>Outside of County</th>\n      <th>Supervisor District</th>\n    </tr>\n  </thead>\n  <tbody>\n    <tr>\n      <th>30</th>\n      <td>0</td>\n      <td>ADULT</td>\n      <td>2</td>\n      <td>0</td>\n      <td>NaN</td>\n      <td>M2</td>\n      <td>Marina</td>\n      <td>September</td>\n      <td>2013.0</td>\n      <td>z</td>\n      <td>email</td>\n      <td>True</td>\n      <td>2013</td>\n      <td>False</td>\n      <td>3.0</td>\n    </tr>\n    <tr>\n      <th>37</th>\n      <td>0</td>\n      <td>ADULT</td>\n      <td>0</td>\n      <td>0</td>\n      <td>NaN</td>\n      <td>X</td>\n      <td>Main Library</td>\n      <td>NaN</td>\n      <td>NaN</td>\n      <td>z</td>\n      <td>email</td>\n      <td>True</td>\n      <td>2014</td>\n      <td>False</td>\n      <td>3.0</td>\n    </tr>\n    <tr>\n      <th>42</th>\n      <td>0</td>\n      <td>ADULT</td>\n      <td>4</td>\n      <td>0</td>\n      <td>NaN</td>\n      <td>P9</td>\n      <td>Presidio</td>\n      <td>July</td>\n      <td>2013.0</td>\n      <td>z</td>\n      <td>email</td>\n      <td>True</td>\n      <td>2013</td>\n      <td>False</td>\n      <td>2.0</td>\n    </tr>\n    <tr>\n      <th>201</th>\n      <td>0</td>\n      <td>ADULT</td>\n      <td>23</td>\n      <td>2</td>\n      <td>NaN</td>\n      <td>X</td>\n      <td>Main Library</td>\n      <td>August</td>\n      <td>2015.0</td>\n      <td>z</td>\n      <td>email</td>\n      <td>True</td>\n      <td>2013</td>\n      <td>True</td>\n      <td>NaN</td>\n    </tr>\n    <tr>\n      <th>221</th>\n      <td>0</td>\n      <td>ADULT</td>\n      <td>2</td>\n      <td>0</td>\n      <td>NaN</td>\n      <td>N6</td>\n      <td>North Beach</td>\n      <td>August</td>\n      <td>2014.0</td>\n      <td>z</td>\n      <td>email</td>\n      <td>True</td>\n      <td>2014</td>\n      <td>False</td>\n      <td>3.0</td>\n    </tr>\n    <tr>\n      <th>...</th>\n      <td>...</td>\n      <td>...</td>\n      <td>...</td>\n      <td>...</td>\n      <td>...</td>\n      <td>...</td>\n      <td>...</td>\n      <td>...</td>\n      <td>...</td>\n      <td>...</td>\n      <td>...</td>\n      <td>...</td>\n      <td>...</td>\n      <td>...</td>\n      <td>...</td>\n    </tr>\n    <tr>\n      <th>300360</th>\n      <td>0</td>\n      <td>ADULT</td>\n      <td>2</td>\n      <td>2</td>\n      <td>NaN</td>\n      <td>G6</td>\n      <td>Golden Gate Valley</td>\n      <td>September</td>\n      <td>2014.0</td>\n      <td>z</td>\n      <td>email</td>\n      <td>True</td>\n      <td>2014</td>\n      <td>False</td>\n      <td>2.0</td>\n    </tr>\n    <tr>\n      <th>301301</th>\n      <td>0</td>\n      <td>ADULT</td>\n      <td>0</td>\n      <td>0</td>\n      <td>NaN</td>\n      <td>W2</td>\n      <td>West Portal</td>\n      <td>NaN</td>\n      <td>NaN</td>\n      <td>p</td>\n      <td>phone</td>\n      <td>False</td>\n      <td>2013</td>\n      <td>True</td>\n      <td>NaN</td>\n    </tr>\n    <tr>\n      <th>302058</th>\n      <td>0</td>\n      <td>ADULT</td>\n      <td>0</td>\n      <td>0</td>\n      <td>NaN</td>\n      <td>I5</td>\n      <td>Ingleside</td>\n      <td>NaN</td>\n      <td>NaN</td>\n      <td>z</td>\n      <td>email</td>\n      <td>True</td>\n      <td>2013</td>\n      <td>False</td>\n      <td>11.0</td>\n    </tr>\n    <tr>\n      <th>302082</th>\n      <td>0</td>\n      <td>ADULT</td>\n      <td>9</td>\n      <td>18</td>\n      <td>NaN</td>\n      <td>X</td>\n      <td>Main Library</td>\n      <td>June</td>\n      <td>2014.0</td>\n      <td>z</td>\n      <td>email</td>\n      <td>True</td>\n      <td>2014</td>\n      <td>True</td>\n      <td>NaN</td>\n    </tr>\n    <tr>\n      <th>304824</th>\n      <td>1</td>\n      <td>JUVENILE</td>\n      <td>36</td>\n      <td>0</td>\n      <td>NaN</td>\n      <td>B2</td>\n      <td>Bayview/Linda Brooks-Burton</td>\n      <td>September</td>\n      <td>2013.0</td>\n      <td>p</td>\n      <td>phone</td>\n      <td>False</td>\n      <td>2013</td>\n      <td>False</td>\n      <td>NaN</td>\n    </tr>\n  </tbody>\n</table>\n<p>215 rows × 15 columns</p>\n</div>"
     },
     "metadata": {},
     "execution_count": 21
    }
   ],
   "source": [
    "df[df['Age Range'].isna()] # gibt mir die Zeilen, in denen Werte fehlen"
   ]
  },
  {
   "cell_type": "code",
   "execution_count": 22,
   "metadata": {},
   "outputs": [
    {
     "output_type": "execute_result",
     "data": {
      "text/plain": [
       "        Patron Type Code Patron Type Definition  Total Checkouts  \\\n",
       "0                      0                  ADULT                0   \n",
       "1                      0                  ADULT               31   \n",
       "2                      0                  ADULT                0   \n",
       "3                      0                  ADULT                0   \n",
       "4                      0                  ADULT              126   \n",
       "...                  ...                    ...              ...   \n",
       "423443                 0                  ADULT              291   \n",
       "423444                 0                  ADULT               15   \n",
       "423445                 5                  STAFF              208   \n",
       "423446                 0                  ADULT               26   \n",
       "423447                 1               JUVENILE                0   \n",
       "\n",
       "        Total Renewals       Age Range Home Library Code  \\\n",
       "0                    0  20 to 24 years                P1   \n",
       "1                   22  25 to 34 years                S7   \n",
       "2                    0  45 to 54 years                P1   \n",
       "3                    0  25 to 34 years                 X   \n",
       "4                   11  45 to 54 years                M2   \n",
       "...                ...             ...               ...   \n",
       "423443              13  10 to 19 years                P5   \n",
       "423444              11  60 to 64 years                M8   \n",
       "423445              58    0 to 9 years                B4   \n",
       "423446               0  10 to 19 years                M6   \n",
       "423447               0    0 to 9 years                E7   \n",
       "\n",
       "                   Home Library Definition Circulation Active Month  \\\n",
       "0                                     Park                      NaN   \n",
       "1                                   Sunset                    April   \n",
       "2                                     Park                      NaN   \n",
       "3                             Main Library                      NaN   \n",
       "4                                   Marina                  January   \n",
       "...                                    ...                      ...   \n",
       "423443                             Portola                    March   \n",
       "423444                         Mission Bay                     July   \n",
       "423445                      Bernal Heights                     July   \n",
       "423446                             Mission                    April   \n",
       "423447  Eureka Valley/Harvey Milk Memorial                      NaN   \n",
       "\n",
       "        Circulation Active Year Notice Preference Code  \\\n",
       "0                           NaN                      z   \n",
       "1                        2016.0                      z   \n",
       "2                           NaN                      a   \n",
       "3                           NaN                      z   \n",
       "4                        2016.0                      z   \n",
       "...                         ...                    ...   \n",
       "423443                   2015.0                      p   \n",
       "423444                   2016.0                      z   \n",
       "423445                   2016.0                      z   \n",
       "423446                   2015.0                      z   \n",
       "423447                      NaN                      a   \n",
       "\n",
       "       Notice Preference Definition  Provided Email Address  \\\n",
       "0                             email                    True   \n",
       "1                             email                    True   \n",
       "2                             print                   False   \n",
       "3                             email                    True   \n",
       "4                             email                    True   \n",
       "...                             ...                     ...   \n",
       "423443                        phone                   False   \n",
       "423444                        email                    True   \n",
       "423445                        email                    True   \n",
       "423446                        email                    True   \n",
       "423447                        print                   False   \n",
       "\n",
       "        Year Patron Registered  Outside of County  Supervisor District  \n",
       "0                         2014              False                  5.0  \n",
       "1                         2010              False                  4.0  \n",
       "2                         2016               True                  NaN  \n",
       "3                         2015              False                  3.0  \n",
       "4                         2003              False                  2.0  \n",
       "...                        ...                ...                  ...  \n",
       "423443                    2009              False                  9.0  \n",
       "423444                    2016              False                  6.0  \n",
       "423445                    2014              False                  9.0  \n",
       "423446                    2003              False                  9.0  \n",
       "423447                    2015              False                  8.0  \n",
       "\n",
       "[423233 rows x 15 columns]"
      ],
      "text/html": "<div>\n<style scoped>\n    .dataframe tbody tr th:only-of-type {\n        vertical-align: middle;\n    }\n\n    .dataframe tbody tr th {\n        vertical-align: top;\n    }\n\n    .dataframe thead th {\n        text-align: right;\n    }\n</style>\n<table border=\"1\" class=\"dataframe\">\n  <thead>\n    <tr style=\"text-align: right;\">\n      <th></th>\n      <th>Patron Type Code</th>\n      <th>Patron Type Definition</th>\n      <th>Total Checkouts</th>\n      <th>Total Renewals</th>\n      <th>Age Range</th>\n      <th>Home Library Code</th>\n      <th>Home Library Definition</th>\n      <th>Circulation Active Month</th>\n      <th>Circulation Active Year</th>\n      <th>Notice Preference Code</th>\n      <th>Notice Preference Definition</th>\n      <th>Provided Email Address</th>\n      <th>Year Patron Registered</th>\n      <th>Outside of County</th>\n      <th>Supervisor District</th>\n    </tr>\n  </thead>\n  <tbody>\n    <tr>\n      <th>0</th>\n      <td>0</td>\n      <td>ADULT</td>\n      <td>0</td>\n      <td>0</td>\n      <td>20 to 24 years</td>\n      <td>P1</td>\n      <td>Park</td>\n      <td>NaN</td>\n      <td>NaN</td>\n      <td>z</td>\n      <td>email</td>\n      <td>True</td>\n      <td>2014</td>\n      <td>False</td>\n      <td>5.0</td>\n    </tr>\n    <tr>\n      <th>1</th>\n      <td>0</td>\n      <td>ADULT</td>\n      <td>31</td>\n      <td>22</td>\n      <td>25 to 34 years</td>\n      <td>S7</td>\n      <td>Sunset</td>\n      <td>April</td>\n      <td>2016.0</td>\n      <td>z</td>\n      <td>email</td>\n      <td>True</td>\n      <td>2010</td>\n      <td>False</td>\n      <td>4.0</td>\n    </tr>\n    <tr>\n      <th>2</th>\n      <td>0</td>\n      <td>ADULT</td>\n      <td>0</td>\n      <td>0</td>\n      <td>45 to 54 years</td>\n      <td>P1</td>\n      <td>Park</td>\n      <td>NaN</td>\n      <td>NaN</td>\n      <td>a</td>\n      <td>print</td>\n      <td>False</td>\n      <td>2016</td>\n      <td>True</td>\n      <td>NaN</td>\n    </tr>\n    <tr>\n      <th>3</th>\n      <td>0</td>\n      <td>ADULT</td>\n      <td>0</td>\n      <td>0</td>\n      <td>25 to 34 years</td>\n      <td>X</td>\n      <td>Main Library</td>\n      <td>NaN</td>\n      <td>NaN</td>\n      <td>z</td>\n      <td>email</td>\n      <td>True</td>\n      <td>2015</td>\n      <td>False</td>\n      <td>3.0</td>\n    </tr>\n    <tr>\n      <th>4</th>\n      <td>0</td>\n      <td>ADULT</td>\n      <td>126</td>\n      <td>11</td>\n      <td>45 to 54 years</td>\n      <td>M2</td>\n      <td>Marina</td>\n      <td>January</td>\n      <td>2016.0</td>\n      <td>z</td>\n      <td>email</td>\n      <td>True</td>\n      <td>2003</td>\n      <td>False</td>\n      <td>2.0</td>\n    </tr>\n    <tr>\n      <th>...</th>\n      <td>...</td>\n      <td>...</td>\n      <td>...</td>\n      <td>...</td>\n      <td>...</td>\n      <td>...</td>\n      <td>...</td>\n      <td>...</td>\n      <td>...</td>\n      <td>...</td>\n      <td>...</td>\n      <td>...</td>\n      <td>...</td>\n      <td>...</td>\n      <td>...</td>\n    </tr>\n    <tr>\n      <th>423443</th>\n      <td>0</td>\n      <td>ADULT</td>\n      <td>291</td>\n      <td>13</td>\n      <td>10 to 19 years</td>\n      <td>P5</td>\n      <td>Portola</td>\n      <td>March</td>\n      <td>2015.0</td>\n      <td>p</td>\n      <td>phone</td>\n      <td>False</td>\n      <td>2009</td>\n      <td>False</td>\n      <td>9.0</td>\n    </tr>\n    <tr>\n      <th>423444</th>\n      <td>0</td>\n      <td>ADULT</td>\n      <td>15</td>\n      <td>11</td>\n      <td>60 to 64 years</td>\n      <td>M8</td>\n      <td>Mission Bay</td>\n      <td>July</td>\n      <td>2016.0</td>\n      <td>z</td>\n      <td>email</td>\n      <td>True</td>\n      <td>2016</td>\n      <td>False</td>\n      <td>6.0</td>\n    </tr>\n    <tr>\n      <th>423445</th>\n      <td>5</td>\n      <td>STAFF</td>\n      <td>208</td>\n      <td>58</td>\n      <td>0 to 9 years</td>\n      <td>B4</td>\n      <td>Bernal Heights</td>\n      <td>July</td>\n      <td>2016.0</td>\n      <td>z</td>\n      <td>email</td>\n      <td>True</td>\n      <td>2014</td>\n      <td>False</td>\n      <td>9.0</td>\n    </tr>\n    <tr>\n      <th>423446</th>\n      <td>0</td>\n      <td>ADULT</td>\n      <td>26</td>\n      <td>0</td>\n      <td>10 to 19 years</td>\n      <td>M6</td>\n      <td>Mission</td>\n      <td>April</td>\n      <td>2015.0</td>\n      <td>z</td>\n      <td>email</td>\n      <td>True</td>\n      <td>2003</td>\n      <td>False</td>\n      <td>9.0</td>\n    </tr>\n    <tr>\n      <th>423447</th>\n      <td>1</td>\n      <td>JUVENILE</td>\n      <td>0</td>\n      <td>0</td>\n      <td>0 to 9 years</td>\n      <td>E7</td>\n      <td>Eureka Valley/Harvey Milk Memorial</td>\n      <td>NaN</td>\n      <td>NaN</td>\n      <td>a</td>\n      <td>print</td>\n      <td>False</td>\n      <td>2015</td>\n      <td>False</td>\n      <td>8.0</td>\n    </tr>\n  </tbody>\n</table>\n<p>423233 rows × 15 columns</p>\n</div>"
     },
     "metadata": {},
     "execution_count": 22
    }
   ],
   "source": [
    "df[df['Age Range'].notna()] # gibt mir die Zeilen MIT Werten"
   ]
  },
  {
   "cell_type": "code",
   "execution_count": 23,
   "metadata": {},
   "outputs": [
    {
     "output_type": "execute_result",
     "data": {
      "text/plain": [
       "Patron Type Code                     0\n",
       "Patron Type Definition               0\n",
       "Total Checkouts                      0\n",
       "Total Renewals                       0\n",
       "Age Range                          215\n",
       "Home Library Code                   40\n",
       "Home Library Definition              0\n",
       "Circulation Active Month         67904\n",
       "Circulation Active Year          67904\n",
       "Notice Preference Code               0\n",
       "Notice Preference Definition         0\n",
       "Provided Email Address               0\n",
       "Year Patron Registered               0\n",
       "Outside of County                    0\n",
       "Supervisor District             110310\n",
       "dtype: int64"
      ]
     },
     "metadata": {},
     "execution_count": 23
    }
   ],
   "source": [
    "df.isna().sum() #so kriege ich leere Zeilen gezählt und Überblick über mein Dataframe"
   ]
  },
  {
   "cell_type": "code",
   "execution_count": 24,
   "metadata": {},
   "outputs": [
    {
     "output_type": "execute_result",
     "data": {
      "text/plain": [
       "0         20 to 24 years\n",
       "1         25 to 34 years\n",
       "2         45 to 54 years\n",
       "3         25 to 34 years\n",
       "4         45 to 54 years\n",
       "               ...      \n",
       "423443    10 to 19 years\n",
       "423444    60 to 64 years\n",
       "423445      0 to 9 years\n",
       "423446    10 to 19 years\n",
       "423447      0 to 9 years\n",
       "Name: Age Range, Length: 423448, dtype: object"
      ]
     },
     "metadata": {},
     "execution_count": 24
    }
   ],
   "source": [
    "df['Age Range'].fillna(\"keine Angabe\") # ersetzt \n"
   ]
  },
  {
   "source": [
    "# 2.9. Nützliche Funktionen\n"
   ],
   "cell_type": "markdown",
   "metadata": {}
  },
  {
   "cell_type": "code",
   "execution_count": 29,
   "metadata": {},
   "outputs": [
    {
     "output_type": "stream",
     "name": "stdout",
     "text": [
      "<class 'pandas.core.frame.DataFrame'>\nRangeIndex: 423448 entries, 0 to 423447\nData columns (total 15 columns):\n #   Column                        Non-Null Count   Dtype  \n---  ------                        --------------   -----  \n 0   Patron Type Code              423448 non-null  int64  \n 1   Patron Type Definition        423448 non-null  object \n 2   Total Checkouts               423448 non-null  int64  \n 3   Total Renewals                423448 non-null  int64  \n 4   Age Range                     423233 non-null  object \n 5   Home Library Code             423408 non-null  object \n 6   Home Library Definition       423448 non-null  object \n 7   Circulation Active Month      355544 non-null  object \n 8   Circulation Active Year       355544 non-null  float64\n 9   Notice Preference Code        423448 non-null  object \n 10  Notice Preference Definition  423448 non-null  object \n 11  Provided Email Address        423448 non-null  bool   \n 12  Year Patron Registered        423448 non-null  int64  \n 13  Outside of County             423448 non-null  bool   \n 14  Supervisor District           313138 non-null  float64\ndtypes: bool(2), float64(2), int64(4), object(7)\nmemory usage: 42.8+ MB\n"
     ]
    }
   ],
   "source": [
    "df.info()"
   ]
  },
  {
   "cell_type": "code",
   "execution_count": 30,
   "metadata": {},
   "outputs": [
    {
     "output_type": "execute_result",
     "data": {
      "text/plain": [
       "       Patron Type Code  Total Checkouts  Total Renewals  \\\n",
       "count     423448.000000    423448.000000   423448.000000   \n",
       "mean           1.036765       161.982097       59.657327   \n",
       "std            4.188198       453.703678      225.009917   \n",
       "min            0.000000         0.000000        0.000000   \n",
       "25%            0.000000         2.000000        0.000000   \n",
       "50%            0.000000        19.000000        2.000000   \n",
       "75%            1.000000       113.000000       27.000000   \n",
       "max          104.000000     35907.000000     8965.000000   \n",
       "\n",
       "       Circulation Active Year  Year Patron Registered  Supervisor District  \n",
       "count            355544.000000           423448.000000        313138.000000  \n",
       "mean               2014.724943             2010.348917             6.288240  \n",
       "std                   1.567938                4.357374             3.123634  \n",
       "min                2003.000000             2003.000000             1.000000  \n",
       "25%                2014.000000             2007.000000             4.000000  \n",
       "50%                2015.000000             2012.000000             6.000000  \n",
       "75%                2016.000000             2014.000000             9.000000  \n",
       "max                2016.000000             2016.000000            11.000000  "
      ],
      "text/html": "<div>\n<style scoped>\n    .dataframe tbody tr th:only-of-type {\n        vertical-align: middle;\n    }\n\n    .dataframe tbody tr th {\n        vertical-align: top;\n    }\n\n    .dataframe thead th {\n        text-align: right;\n    }\n</style>\n<table border=\"1\" class=\"dataframe\">\n  <thead>\n    <tr style=\"text-align: right;\">\n      <th></th>\n      <th>Patron Type Code</th>\n      <th>Total Checkouts</th>\n      <th>Total Renewals</th>\n      <th>Circulation Active Year</th>\n      <th>Year Patron Registered</th>\n      <th>Supervisor District</th>\n    </tr>\n  </thead>\n  <tbody>\n    <tr>\n      <th>count</th>\n      <td>423448.000000</td>\n      <td>423448.000000</td>\n      <td>423448.000000</td>\n      <td>355544.000000</td>\n      <td>423448.000000</td>\n      <td>313138.000000</td>\n    </tr>\n    <tr>\n      <th>mean</th>\n      <td>1.036765</td>\n      <td>161.982097</td>\n      <td>59.657327</td>\n      <td>2014.724943</td>\n      <td>2010.348917</td>\n      <td>6.288240</td>\n    </tr>\n    <tr>\n      <th>std</th>\n      <td>4.188198</td>\n      <td>453.703678</td>\n      <td>225.009917</td>\n      <td>1.567938</td>\n      <td>4.357374</td>\n      <td>3.123634</td>\n    </tr>\n    <tr>\n      <th>min</th>\n      <td>0.000000</td>\n      <td>0.000000</td>\n      <td>0.000000</td>\n      <td>2003.000000</td>\n      <td>2003.000000</td>\n      <td>1.000000</td>\n    </tr>\n    <tr>\n      <th>25%</th>\n      <td>0.000000</td>\n      <td>2.000000</td>\n      <td>0.000000</td>\n      <td>2014.000000</td>\n      <td>2007.000000</td>\n      <td>4.000000</td>\n    </tr>\n    <tr>\n      <th>50%</th>\n      <td>0.000000</td>\n      <td>19.000000</td>\n      <td>2.000000</td>\n      <td>2015.000000</td>\n      <td>2012.000000</td>\n      <td>6.000000</td>\n    </tr>\n    <tr>\n      <th>75%</th>\n      <td>1.000000</td>\n      <td>113.000000</td>\n      <td>27.000000</td>\n      <td>2016.000000</td>\n      <td>2014.000000</td>\n      <td>9.000000</td>\n    </tr>\n    <tr>\n      <th>max</th>\n      <td>104.000000</td>\n      <td>35907.000000</td>\n      <td>8965.000000</td>\n      <td>2016.000000</td>\n      <td>2016.000000</td>\n      <td>11.000000</td>\n    </tr>\n  </tbody>\n</table>\n</div>"
     },
     "metadata": {},
     "execution_count": 30
    }
   ],
   "source": [
    "df.describe()"
   ]
  },
  {
   "cell_type": "code",
   "execution_count": 31,
   "metadata": {},
   "outputs": [
    {
     "output_type": "execute_result",
     "data": {
      "text/plain": [
       "        Patron Type Code Patron Type Definition  Total Checkouts  \\\n",
       "count      423448.000000                 423448    423448.000000   \n",
       "unique               NaN                     18              NaN   \n",
       "top                  NaN                  ADULT              NaN   \n",
       "freq                 NaN                 272251              NaN   \n",
       "mean            1.036765                    NaN       161.982097   \n",
       "std             4.188198                    NaN       453.703678   \n",
       "min             0.000000                    NaN         0.000000   \n",
       "25%             0.000000                    NaN         2.000000   \n",
       "50%             0.000000                    NaN        19.000000   \n",
       "75%             1.000000                    NaN       113.000000   \n",
       "max           104.000000                    NaN     35907.000000   \n",
       "\n",
       "        Total Renewals       Age Range Home Library Code  \\\n",
       "count    423448.000000          423233            423408   \n",
       "unique             NaN              10                79   \n",
       "top                NaN  25 to 34 years                 X   \n",
       "freq               NaN           91083            124814   \n",
       "mean         59.657327             NaN               NaN   \n",
       "std         225.009917             NaN               NaN   \n",
       "min           0.000000             NaN               NaN   \n",
       "25%           0.000000             NaN               NaN   \n",
       "50%           2.000000             NaN               NaN   \n",
       "75%          27.000000             NaN               NaN   \n",
       "max        8965.000000             NaN               NaN   \n",
       "\n",
       "       Home Library Definition Circulation Active Month  \\\n",
       "count                   423448                   355544   \n",
       "unique                      35                       12   \n",
       "top               Main Library                     July   \n",
       "freq                    124814                    91566   \n",
       "mean                       NaN                      NaN   \n",
       "std                        NaN                      NaN   \n",
       "min                        NaN                      NaN   \n",
       "25%                        NaN                      NaN   \n",
       "50%                        NaN                      NaN   \n",
       "75%                        NaN                      NaN   \n",
       "max                        NaN                      NaN   \n",
       "\n",
       "        Circulation Active Year Notice Preference Code  \\\n",
       "count             355544.000000                 423448   \n",
       "unique                      NaN                      4   \n",
       "top                         NaN                      z   \n",
       "freq                        NaN                 323937   \n",
       "mean                2014.724943                    NaN   \n",
       "std                    1.567938                    NaN   \n",
       "min                 2003.000000                    NaN   \n",
       "25%                 2014.000000                    NaN   \n",
       "50%                 2015.000000                    NaN   \n",
       "75%                 2016.000000                    NaN   \n",
       "max                 2016.000000                    NaN   \n",
       "\n",
       "       Notice Preference Definition Provided Email Address  \\\n",
       "count                        423448                 423448   \n",
       "unique                            4                      2   \n",
       "top                           email                   True   \n",
       "freq                         323937                 336420   \n",
       "mean                            NaN                    NaN   \n",
       "std                             NaN                    NaN   \n",
       "min                             NaN                    NaN   \n",
       "25%                             NaN                    NaN   \n",
       "50%                             NaN                    NaN   \n",
       "75%                             NaN                    NaN   \n",
       "max                             NaN                    NaN   \n",
       "\n",
       "        Year Patron Registered Outside of County  Supervisor District  \n",
       "count            423448.000000            423448        313138.000000  \n",
       "unique                     NaN                 2                  NaN  \n",
       "top                        NaN             False                  NaN  \n",
       "freq                       NaN            359628                  NaN  \n",
       "mean               2010.348917               NaN             6.288240  \n",
       "std                   4.357374               NaN             3.123634  \n",
       "min                2003.000000               NaN             1.000000  \n",
       "25%                2007.000000               NaN             4.000000  \n",
       "50%                2012.000000               NaN             6.000000  \n",
       "75%                2014.000000               NaN             9.000000  \n",
       "max                2016.000000               NaN            11.000000  "
      ],
      "text/html": "<div>\n<style scoped>\n    .dataframe tbody tr th:only-of-type {\n        vertical-align: middle;\n    }\n\n    .dataframe tbody tr th {\n        vertical-align: top;\n    }\n\n    .dataframe thead th {\n        text-align: right;\n    }\n</style>\n<table border=\"1\" class=\"dataframe\">\n  <thead>\n    <tr style=\"text-align: right;\">\n      <th></th>\n      <th>Patron Type Code</th>\n      <th>Patron Type Definition</th>\n      <th>Total Checkouts</th>\n      <th>Total Renewals</th>\n      <th>Age Range</th>\n      <th>Home Library Code</th>\n      <th>Home Library Definition</th>\n      <th>Circulation Active Month</th>\n      <th>Circulation Active Year</th>\n      <th>Notice Preference Code</th>\n      <th>Notice Preference Definition</th>\n      <th>Provided Email Address</th>\n      <th>Year Patron Registered</th>\n      <th>Outside of County</th>\n      <th>Supervisor District</th>\n    </tr>\n  </thead>\n  <tbody>\n    <tr>\n      <th>count</th>\n      <td>423448.000000</td>\n      <td>423448</td>\n      <td>423448.000000</td>\n      <td>423448.000000</td>\n      <td>423233</td>\n      <td>423408</td>\n      <td>423448</td>\n      <td>355544</td>\n      <td>355544.000000</td>\n      <td>423448</td>\n      <td>423448</td>\n      <td>423448</td>\n      <td>423448.000000</td>\n      <td>423448</td>\n      <td>313138.000000</td>\n    </tr>\n    <tr>\n      <th>unique</th>\n      <td>NaN</td>\n      <td>18</td>\n      <td>NaN</td>\n      <td>NaN</td>\n      <td>10</td>\n      <td>79</td>\n      <td>35</td>\n      <td>12</td>\n      <td>NaN</td>\n      <td>4</td>\n      <td>4</td>\n      <td>2</td>\n      <td>NaN</td>\n      <td>2</td>\n      <td>NaN</td>\n    </tr>\n    <tr>\n      <th>top</th>\n      <td>NaN</td>\n      <td>ADULT</td>\n      <td>NaN</td>\n      <td>NaN</td>\n      <td>25 to 34 years</td>\n      <td>X</td>\n      <td>Main Library</td>\n      <td>July</td>\n      <td>NaN</td>\n      <td>z</td>\n      <td>email</td>\n      <td>True</td>\n      <td>NaN</td>\n      <td>False</td>\n      <td>NaN</td>\n    </tr>\n    <tr>\n      <th>freq</th>\n      <td>NaN</td>\n      <td>272251</td>\n      <td>NaN</td>\n      <td>NaN</td>\n      <td>91083</td>\n      <td>124814</td>\n      <td>124814</td>\n      <td>91566</td>\n      <td>NaN</td>\n      <td>323937</td>\n      <td>323937</td>\n      <td>336420</td>\n      <td>NaN</td>\n      <td>359628</td>\n      <td>NaN</td>\n    </tr>\n    <tr>\n      <th>mean</th>\n      <td>1.036765</td>\n      <td>NaN</td>\n      <td>161.982097</td>\n      <td>59.657327</td>\n      <td>NaN</td>\n      <td>NaN</td>\n      <td>NaN</td>\n      <td>NaN</td>\n      <td>2014.724943</td>\n      <td>NaN</td>\n      <td>NaN</td>\n      <td>NaN</td>\n      <td>2010.348917</td>\n      <td>NaN</td>\n      <td>6.288240</td>\n    </tr>\n    <tr>\n      <th>std</th>\n      <td>4.188198</td>\n      <td>NaN</td>\n      <td>453.703678</td>\n      <td>225.009917</td>\n      <td>NaN</td>\n      <td>NaN</td>\n      <td>NaN</td>\n      <td>NaN</td>\n      <td>1.567938</td>\n      <td>NaN</td>\n      <td>NaN</td>\n      <td>NaN</td>\n      <td>4.357374</td>\n      <td>NaN</td>\n      <td>3.123634</td>\n    </tr>\n    <tr>\n      <th>min</th>\n      <td>0.000000</td>\n      <td>NaN</td>\n      <td>0.000000</td>\n      <td>0.000000</td>\n      <td>NaN</td>\n      <td>NaN</td>\n      <td>NaN</td>\n      <td>NaN</td>\n      <td>2003.000000</td>\n      <td>NaN</td>\n      <td>NaN</td>\n      <td>NaN</td>\n      <td>2003.000000</td>\n      <td>NaN</td>\n      <td>1.000000</td>\n    </tr>\n    <tr>\n      <th>25%</th>\n      <td>0.000000</td>\n      <td>NaN</td>\n      <td>2.000000</td>\n      <td>0.000000</td>\n      <td>NaN</td>\n      <td>NaN</td>\n      <td>NaN</td>\n      <td>NaN</td>\n      <td>2014.000000</td>\n      <td>NaN</td>\n      <td>NaN</td>\n      <td>NaN</td>\n      <td>2007.000000</td>\n      <td>NaN</td>\n      <td>4.000000</td>\n    </tr>\n    <tr>\n      <th>50%</th>\n      <td>0.000000</td>\n      <td>NaN</td>\n      <td>19.000000</td>\n      <td>2.000000</td>\n      <td>NaN</td>\n      <td>NaN</td>\n      <td>NaN</td>\n      <td>NaN</td>\n      <td>2015.000000</td>\n      <td>NaN</td>\n      <td>NaN</td>\n      <td>NaN</td>\n      <td>2012.000000</td>\n      <td>NaN</td>\n      <td>6.000000</td>\n    </tr>\n    <tr>\n      <th>75%</th>\n      <td>1.000000</td>\n      <td>NaN</td>\n      <td>113.000000</td>\n      <td>27.000000</td>\n      <td>NaN</td>\n      <td>NaN</td>\n      <td>NaN</td>\n      <td>NaN</td>\n      <td>2016.000000</td>\n      <td>NaN</td>\n      <td>NaN</td>\n      <td>NaN</td>\n      <td>2014.000000</td>\n      <td>NaN</td>\n      <td>9.000000</td>\n    </tr>\n    <tr>\n      <th>max</th>\n      <td>104.000000</td>\n      <td>NaN</td>\n      <td>35907.000000</td>\n      <td>8965.000000</td>\n      <td>NaN</td>\n      <td>NaN</td>\n      <td>NaN</td>\n      <td>NaN</td>\n      <td>2016.000000</td>\n      <td>NaN</td>\n      <td>NaN</td>\n      <td>NaN</td>\n      <td>2016.000000</td>\n      <td>NaN</td>\n      <td>11.000000</td>\n    </tr>\n  </tbody>\n</table>\n</div>"
     },
     "metadata": {},
     "execution_count": 31
    }
   ],
   "source": [
    "df.describe(include='all')"
   ]
  },
  {
   "cell_type": "code",
   "execution_count": null,
   "metadata": {},
   "outputs": [],
   "source": []
  }
 ]
}